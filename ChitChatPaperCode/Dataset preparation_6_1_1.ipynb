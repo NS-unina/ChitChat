{
 "cells": [
  {
   "cell_type": "markdown",
   "metadata": {},
   "source": [
    "# Adapting Vulnerable C++ Code Samples from doss1232/vulnerable-code Dataset"
   ]
  },
  {
   "cell_type": "code",
   "execution_count": 34,
   "metadata": {
    "colab": {
     "base_uri": "https://localhost:8080/"
    },
    "id": "GewAdTNuXHI2",
    "outputId": "0f85c851-bd75-44d7-c1d8-72405149d17b"
   },
   "outputs": [
    {
     "name": "stderr",
     "output_type": "stream",
     "text": [
      "huggingface/tokenizers: The current process just got forked, after parallelism has already been used. Disabling parallelism to avoid deadlocks...\n",
      "To disable this warning, you can either:\n",
      "\t- Avoid using `tokenizers` before the fork if possible\n",
      "\t- Explicitly set the environment variable TOKENIZERS_PARALLELISM=(true | false)\n",
      "huggingface/tokenizers: The current process just got forked, after parallelism has already been used. Disabling parallelism to avoid deadlocks...\n",
      "To disable this warning, you can either:\n",
      "\t- Avoid using `tokenizers` before the fork if possible\n",
      "\t- Explicitly set the environment variable TOKENIZERS_PARALLELISM=(true | false)\n"
     ]
    }
   ],
   "source": [
    "!pip install -q datasets\n",
    "!pip install -q datasets matplotlib\n"
   ]
  },
  {
   "cell_type": "code",
   "execution_count": 9,
   "metadata": {
    "colab": {
     "base_uri": "https://localhost:8080/",
     "height": 289,
     "referenced_widgets": [
      "e57ba7e0d3374e3bbae175d3aa9f91da",
      "93160c69f8304c57a85cdf9c782ac8c9",
      "e87c1e8065744b89bfc51f5a30ceabf1",
      "389de3a4a6ed4661bcae51f34d842bd2",
      "c3f8b39746474c0f872f28da894f7f6e",
      "e0946381895648a789a9a02e372cc3a1",
      "9cfbbc47530440e7827a96c74fd02df0",
      "d1ac1f8229074a7c8ad1155fad32c578",
      "b3d4cd09e38a4682be0dfc867de2e181",
      "dbeb2dc826a843389973fc6f3b7f08b1",
      "818aef75acda4f8dbdcc4addc1e74e1b",
      "15db92c01f6e42aeb0afc5ec975135a5",
      "dd3da799d4b44208aba7be99ce2987bf",
      "812948df071b4f8e8a4ddb03c6d351f9",
      "27b133a4aba04935907931506d0bd498",
      "59f524c69db44ca8969fe1f8f4cb0905",
      "20cf337d33b24337bea56af53d27d880",
      "4ff9c7d77e8245a882a8d9147ff9d21e",
      "4d31d7dd04a446c6b24936d6d548e903",
      "cc0c5363648e4409a5a9b8cac17ac748",
      "658def59d6bc48a999b744cdfc210270",
      "9aeba54383ec4e0f8cb223300f7931eb"
     ]
    },
    "id": "Qjec4R5jWlxr",
    "outputId": "f3a93b15-2cc5-44bc-f422-874983024f72"
   },
   "outputs": [
    {
     "data": {
      "text/plain": [
       "DatasetDict({\n",
       "    train: Dataset({\n",
       "        features: ['vulnerability', 'question', 'rejected'],\n",
       "        num_rows: 4656\n",
       "    })\n",
       "})"
      ]
     },
     "execution_count": 9,
     "metadata": {},
     "output_type": "execute_result"
    }
   ],
   "source": [
    "from datasets import load_dataset\n",
    "\n",
    "raw_datasets = load_dataset(\"doss1232/vulnerable-code\")\n",
    "raw_datasets"
   ]
  },
  {
   "cell_type": "code",
   "execution_count": 10,
   "metadata": {
    "colab": {
     "base_uri": "https://localhost:8080/",
     "height": 153,
     "referenced_widgets": [
      "77094ff1698a4424ab03aee0516be436",
      "269111dc0ef541519aee1991cadc4bf2",
      "6637da53c61446ca82032da411b45d7b",
      "a3ae43b47d5c42309d22becda96bb571",
      "c91673a1663b4ce583d25bb36b9b4b54",
      "d4f2ed996dcb408698b1bf71b65bd875",
      "3e4a068362e041e99cadc65f8e5605fe",
      "4fc01d5e09844fe3928c1423fae66cec",
      "b4bd0001ee3b4bb3ba18c98cf718ee2b",
      "0bc437441818496cb9c4b58c71a30404",
      "8b706338a7674057ab61ff2f8cea0dfe"
     ]
    },
    "id": "6QODSYShvag2",
    "outputId": "5252a903-eed5-4f3d-85cc-c79aacea6f91"
   },
   "outputs": [
    {
     "data": {
      "text/plain": [
       "DatasetDict({\n",
       "    train: Dataset({\n",
       "        features: ['vulnerability', 'question', 'rejected'],\n",
       "        num_rows: 1303\n",
       "    })\n",
       "})"
      ]
     },
     "execution_count": 10,
     "metadata": {},
     "output_type": "execute_result"
    }
   ],
   "source": [
    "raw_datasets = raw_datasets.filter(lambda x: 'overflow' in x[\"vulnerability\"])\n",
    "raw_datasets"
   ]
  },
  {
   "cell_type": "code",
   "execution_count": 11,
   "metadata": {
    "id": "2sPvcjpuvr1J"
   },
   "outputs": [],
   "source": [
    "import re\n",
    "\n",
    "def create_cleaned_code_column(example):\n",
    "    formatted_code = example[\"rejected\"]\n",
    "    pattern = r\"```(\\w+\\+{0,2})\\s([\\s\\S]*?)```\"\n",
    "    match_code = re.search(pattern, formatted_code)\n",
    "    match_code_raw = None\n",
    "    language = None\n",
    "    if match_code:\n",
    "          language = match_code.group(1)\n",
    "          match_code_raw = match_code.group(2)\n",
    "\n",
    "    return {\"cleaned_code\": match_code_raw,'language':language}"
   ]
  },
  {
   "cell_type": "code",
   "execution_count": 12,
   "metadata": {
    "colab": {
     "base_uri": "https://localhost:8080/",
     "height": 49,
     "referenced_widgets": [
      "ac2942b948e740dab1b7f6f8191766dd",
      "01f33683ee19428db2b7510d0ba4fefb",
      "0cefd1dadc894518bcffdf7631b42c80",
      "3036ed9039944acd8cfb12b5dd2f4f0e",
      "bcc963caa3ac4e9ea3423c9006480fc5",
      "9680705e00f04d2fbe22f0d6ca22a87d",
      "a94649cd228746fbbc2c4054d2d9f978",
      "2e711f0d65a143b89cd28a5a76b31381",
      "d3920370ef494eec989c1043c1538f27",
      "718126e7703c4cab9550757ac584db4a",
      "4aa7f5586d1843d7b84c160c49decee7"
     ]
    },
    "id": "aIdsOhXPxFOa",
    "outputId": "52db0243-2a5d-42c1-f942-3b402d36ccf0"
   },
   "outputs": [],
   "source": [
    "raw_datasets = raw_datasets.map(create_cleaned_code_column)\n"
   ]
  },
  {
   "cell_type": "code",
   "execution_count": 13,
   "metadata": {
    "colab": {
     "base_uri": "https://localhost:8080/"
    },
    "id": "c5z6GwztxMrQ",
    "outputId": "3f3ec005-c3f6-4582-c7f5-2472c9f2efa7"
   },
   "outputs": [
    {
     "name": "stdout",
     "output_type": "stream",
     "text": [
      "['#include <cstring>\\n\\nvoid copyString(char* dest, const char* src) {\\n    while (*src != \\'\\\\0\\') {\\n        *dest = *src;\\n        dest++;妆;\\n        src++;\\n    }\\n}\\n\\nint main() {\\n    char source[10] = \"Hello!\";\\n    char destination[5];\\n    copyString(destination, source);\\n    return 0;\\n}\\n']\n"
     ]
    }
   ],
   "source": [
    "print(raw_datasets['train'][:1]['cleaned_code'])"
   ]
  },
  {
   "cell_type": "code",
   "execution_count": 14,
   "metadata": {
    "id": "FzK12oOdxvan"
   },
   "outputs": [],
   "source": [
    "def remove_non_ascii(example):\n",
    "    code = example[\"cleaned_code\"]\n",
    "    return {\"cleaned_code\":re.sub(r'[^\\x00-\\x7F]+', '', code)}  # Remove all non ASCII"
   ]
  },
  {
   "cell_type": "code",
   "execution_count": 15,
   "metadata": {
    "colab": {
     "base_uri": "https://localhost:8080/",
     "height": 153,
     "referenced_widgets": [
      "10253611180147bab1d184c2b5bc2c70",
      "c673c28a30244df8ad6b3799a89aed55",
      "172c1c4a84704a68bc292a4305cd129a",
      "0b8984bbcb3f4e74abc9a989588d94c1",
      "a7a98fa7babf4f7b80107e945334d45a",
      "408eb24814d649cabd034d76ff7bdd99",
      "5e953657bc8746cbad61331d827432bc",
      "d7a80e674ab64082b0cc0f0a71d72f02",
      "c112842c95e84a509672e97408537826",
      "63bac263dabb4eb9b175b53c39e21c50",
      "d01ad95beb8749698e6b8cf93978689e"
     ]
    },
    "id": "1aLqZU-IyI2q",
    "outputId": "cf0acd85-757a-491a-b9e1-b14004ff2d7b"
   },
   "outputs": [
    {
     "data": {
      "text/plain": [
       "DatasetDict({\n",
       "    train: Dataset({\n",
       "        features: ['vulnerability', 'question', 'rejected', 'cleaned_code', 'language'],\n",
       "        num_rows: 1247\n",
       "    })\n",
       "})"
      ]
     },
     "execution_count": 15,
     "metadata": {},
     "output_type": "execute_result"
    }
   ],
   "source": [
    "raw_datasets = raw_datasets.filter(lambda x: x[\"cleaned_code\"] is not None)\n",
    "raw_datasets"
   ]
  },
  {
   "cell_type": "code",
   "execution_count": 16,
   "metadata": {
    "colab": {
     "base_uri": "https://localhost:8080/",
     "height": 153,
     "referenced_widgets": [
      "0211587799344f0ba65635e9deb4c4fb",
      "97e5e9f4e1ea4321a77fc03b4038a4d2",
      "456695d5c8c94b339145f40073e7fd99",
      "bb10c066de054205b840923d95db6f5e",
      "c85952a476b04e6b900c30b64aa1cb13",
      "b09b393ac7244211a95051a6455a60e6",
      "d8e4ad8c47464ca09d598510cde28214",
      "550327cf884a48db91c44d997bd36645",
      "c3170dc7f0f14649adfd2b8e43f3494a",
      "5a1729b7acb9414a90185a430450a5db",
      "89115cebb69544bd8808ceaace826686"
     ]
    },
    "id": "PErpS10_yAqY",
    "outputId": "d69243c3-dc1c-4199-d563-cc9dc27561e1"
   },
   "outputs": [
    {
     "data": {
      "text/plain": [
       "DatasetDict({\n",
       "    train: Dataset({\n",
       "        features: ['vulnerability', 'question', 'rejected', 'cleaned_code', 'language'],\n",
       "        num_rows: 1247\n",
       "    })\n",
       "})"
      ]
     },
     "execution_count": 16,
     "metadata": {},
     "output_type": "execute_result"
    }
   ],
   "source": [
    "raw_datasets = raw_datasets.map(remove_non_ascii)\n",
    "raw_datasets"
   ]
  },
  {
   "cell_type": "code",
   "execution_count": 17,
   "metadata": {
    "colab": {
     "base_uri": "https://localhost:8080/"
    },
    "id": "Ar6rp2hJyPT6",
    "outputId": "71f2b4ed-cb19-424e-bc59-6d59ae091ea8"
   },
   "outputs": [
    {
     "name": "stdout",
     "output_type": "stream",
     "text": [
      "#include <cstring>\n",
      "\n",
      "void copyString(char* dest, const char* src) {\n",
      "    while (*src != '\\0') {\n",
      "        *dest = *src;\n",
      "        dest++;;\n",
      "        src++;\n",
      "    }\n",
      "}\n",
      "\n",
      "int main() {\n",
      "    char source[10] = \"Hello!\";\n",
      "    char destination[5];\n",
      "    copyString(destination, source);\n",
      "    return 0;\n",
      "}\n",
      "\n"
     ]
    }
   ],
   "source": [
    "print(raw_datasets['train'][0]['cleaned_code'])"
   ]
  },
  {
   "cell_type": "code",
   "execution_count": 21,
   "metadata": {
    "colab": {
     "base_uri": "https://localhost:8080/",
     "height": 531
    },
    "id": "-hX2NWeaIXs4",
    "outputId": "257a09af-f595-4153-8b1f-19b4b3f841e7"
   },
   "outputs": [
    {
     "data": {
      "image/png": "[encoded data removed]",
      "text/plain": [
       "<Figure size 1000x500 with 1 Axes>"
      ]
     },
     "metadata": {},
     "output_type": "display_data"
    }
   ],
   "source": [
    "import datasets\n",
    "import matplotlib.pyplot as plt\n",
    "from collections import Counter\n",
    "\n",
    "\n",
    "# Estrai la colonna 'language'\n",
    "languages = raw_datasets[\"train\"][\"language\"]  # Modifica 'train' se il dataset ha altre suddivisioni\n",
    "\n",
    "# Conta le occorrenze di ogni linguaggio\n",
    "language_counts = Counter(languages)\n",
    "\n",
    "# Estrai nomi e conteggi\n",
    "labels, values = zip(*language_counts.items())\n",
    "\n",
    "# Crea l'istogramma\n",
    "plt.figure(figsize=(10, 5))\n",
    "plt.bar(labels, values, color=\"skyblue\")\n",
    "plt.xlabel(\"Programming Language\")\n",
    "plt.ylabel(\"Occurrences\")\n",
    "plt.title(\"Distribution of vulnerable languages\")\n",
    "plt.xticks(rotation=45)\n",
    "plt.savefig('language_distribution_from_original_dataset.png')\n",
    "plt.show()\n"
   ]
  },
  {
   "cell_type": "code",
   "execution_count": 45,
   "metadata": {
    "colab": {
     "base_uri": "https://localhost:8080/",
     "height": 49,
     "referenced_widgets": [
      "a2176306cf404e67b1c0c65fe56619c1",
      "aa093f32cbfe48ad9b56e7d623d0dcda",
      "cebc8b1ad82242988bbc5c956109c39f",
      "301c41803eb241188e851b1c50f9852f",
      "6e96b8f1b52e436cba8dd30878483f44",
      "fc4880f22014439ebe7f1e11436de4cb",
      "14d4a764fb8a4245aa7197a4a2fb9594",
      "9d556f96608a4199b913127ec3625a34",
      "116be59b369d4dbb9f54f7b834a7f7b6",
      "8ab7ebf1513640dea2d6e0d73911574f",
      "d558a6b5281549bc809beba12632a6a1"
     ]
    },
    "id": "cKiZjsECJsTC",
    "outputId": "d919c340-2e8d-4f4c-c9b3-5c34ea7e575f"
   },
   "outputs": [],
   "source": [
    "cpp_dataset = raw_datasets.filter(lambda x: 'c++' in x[\"language\"])"
   ]
  },
  {
   "cell_type": "code",
   "execution_count": 46,
   "metadata": {
    "colab": {
     "base_uri": "https://localhost:8080/"
    },
    "id": "TVgAT75gOSvq",
    "outputId": "83688f95-3157-4354-9475-a24136d85e8f"
   },
   "outputs": [
    {
     "name": "stdout",
     "output_type": "stream",
     "text": [
      "#include <cstring>\n",
      "\n",
      "void copyString(char* dest, const char* src) {\n",
      "    while (*src != '\\0') {\n",
      "        *dest = *src;\n",
      "        dest++;;\n",
      "        src++;\n",
      "    }\n",
      "}\n",
      "\n",
      "int main() {\n",
      "    char source[10] = \"Hello!\";\n",
      "    char destination[5];\n",
      "    copyString(destination, source);\n",
      "    return 0;\n",
      "}\n",
      "\n"
     ]
    }
   ],
   "source": [
    "print(cpp_dataset['train'][0]['cleaned_code'])"
   ]
  },
  {
   "cell_type": "markdown",
   "metadata": {},
   "source": [
    "# Dataset Agumentation"
   ]
  },
  {
   "cell_type": "code",
   "execution_count": 47,
   "metadata": {
    "id": "rXuzaQb0ZR-e"
   },
   "outputs": [
    {
     "name": "stderr",
     "output_type": "stream",
     "text": [
      "huggingface/tokenizers: The current process just got forked, after parallelism has already been used. Disabling parallelism to avoid deadlocks...\n",
      "To disable this warning, you can either:\n",
      "\t- Avoid using `tokenizers` before the fork if possible\n",
      "\t- Explicitly set the environment variable TOKENIZERS_PARALLELISM=(true | false)\n",
      "huggingface/tokenizers: The current process just got forked, after parallelism has already been used. Disabling parallelism to avoid deadlocks...\n",
      "To disable this warning, you can either:\n",
      "\t- Avoid using `tokenizers` before the fork if possible\n",
      "\t- Explicitly set the environment variable TOKENIZERS_PARALLELISM=(true | false)\n",
      "huggingface/tokenizers: The current process just got forked, after parallelism has already been used. Disabling parallelism to avoid deadlocks...\n",
      "To disable this warning, you can either:\n",
      "\t- Avoid using `tokenizers` before the fork if possible\n",
      "\t- Explicitly set the environment variable TOKENIZERS_PARALLELISM=(true | false)\n",
      "huggingface/tokenizers: The current process just got forked, after parallelism has already been used. Disabling parallelism to avoid deadlocks...\n",
      "To disable this warning, you can either:\n",
      "\t- Avoid using `tokenizers` before the fork if possible\n",
      "\t- Explicitly set the environment variable TOKENIZERS_PARALLELISM=(true | false)\n",
      "huggingface/tokenizers: The current process just got forked, after parallelism has already been used. Disabling parallelism to avoid deadlocks...\n",
      "To disable this warning, you can either:\n",
      "\t- Avoid using `tokenizers` before the fork if possible\n",
      "\t- Explicitly set the environment variable TOKENIZERS_PARALLELISM=(true | false)\n",
      "huggingface/tokenizers: The current process just got forked, after parallelism has already been used. Disabling parallelism to avoid deadlocks...\n",
      "To disable this warning, you can either:\n",
      "\t- Avoid using `tokenizers` before the fork if possible\n",
      "\t- Explicitly set the environment variable TOKENIZERS_PARALLELISM=(true | false)\n",
      "huggingface/tokenizers: The current process just got forked, after parallelism has already been used. Disabling parallelism to avoid deadlocks...\n",
      "To disable this warning, you can either:\n",
      "\t- Avoid using `tokenizers` before the fork if possible\n",
      "\t- Explicitly set the environment variable TOKENIZERS_PARALLELISM=(true | false)\n",
      "huggingface/tokenizers: The current process just got forked, after parallelism has already been used. Disabling parallelism to avoid deadlocks...\n",
      "To disable this warning, you can either:\n",
      "\t- Avoid using `tokenizers` before the fork if possible\n",
      "\t- Explicitly set the environment variable TOKENIZERS_PARALLELISM=(true | false)\n",
      "huggingface/tokenizers: The current process just got forked, after parallelism has already been used. Disabling parallelism to avoid deadlocks...\n",
      "To disable this warning, you can either:\n",
      "\t- Avoid using `tokenizers` before the fork if possible\n",
      "\t- Explicitly set the environment variable TOKENIZERS_PARALLELISM=(true | false)\n",
      "huggingface/tokenizers: The current process just got forked, after parallelism has already been used. Disabling parallelism to avoid deadlocks...\n",
      "To disable this warning, you can either:\n",
      "\t- Avoid using `tokenizers` before the fork if possible\n",
      "\t- Explicitly set the environment variable TOKENIZERS_PARALLELISM=(true | false)\n",
      "huggingface/tokenizers: The current process just got forked, after parallelism has already been used. Disabling parallelism to avoid deadlocks...\n",
      "To disable this warning, you can either:\n",
      "\t- Avoid using `tokenizers` before the fork if possible\n",
      "\t- Explicitly set the environment variable TOKENIZERS_PARALLELISM=(true | false)\n"
     ]
    }
   ],
   "source": [
    "!pip install -Uqqq pip --progress-bar off\n",
    "!pip install -qqq torch --progress-bar off\n",
    "!pip install -qqq transformers==4.46.1 --progress-bar off\n",
    "!pip install -qqq datasets --progress-bar off\n",
    "!pip install -qqq accelerate --progress-bar off\n",
    "!pip install -qqq bitsandbytes --progress-bar off\n",
    "!pip install -qqq peft --progress-bar off\n",
    "!pip install -qqq trl --progress-bar off\n",
    "!pip install -qqq colored --progress-bar off\n",
    "!pip install -Uqqq --progress-bar off pyyaml\n",
    "!pip install -Uqqq --progress-bar off scikit-learn huggingface_hub evaluate"
   ]
  },
  {
   "cell_type": "code",
   "execution_count": 48,
   "metadata": {
    "colab": {
     "base_uri": "https://localhost:8080/",
     "height": 86,
     "referenced_widgets": [
      "8f12ee74156a4afebca6e2a6358abea7",
      "6446fb720fff4de58cdf1ff1901f7521",
      "6103ba60a81f49de96095e5f69897965",
      "22813f12d9994ec3ba86e8688954aa64",
      "24b9bf3725354724b748477dfe8ffc33",
      "8dfb62e5b1f245f2a7b1a00c8d2e3f94",
      "9507bd01c78945cea331c3127dd196f4",
      "e81af02cc85b4be4a168ceb158fce142",
      "7db395a7d92c491da1de2c5417c8b72e",
      "447c691fce6d456bba2bdcbfc353e8a4",
      "2bebc4e3ab414dc1a8d456e5f0089316"
     ]
    },
    "id": "um-qU7AmDV_m",
    "outputId": "44f7bd58-29ff-452b-dbba-36ffb5fc9ae7"
   },
   "outputs": [
    {
     "name": "stderr",
     "output_type": "stream",
     "text": [
      "huggingface/tokenizers: The current process just got forked, after parallelism has already been used. Disabling parallelism to avoid deadlocks...\n",
      "To disable this warning, you can either:\n",
      "\t- Avoid using `tokenizers` before the fork if possible\n",
      "\t- Explicitly set the environment variable TOKENIZERS_PARALLELISM=(true | false)\n"
     ]
    }
   ],
   "source": [
    "import logging\n",
    "import os\n",
    "import re\n",
    "import random\n",
    "from textwrap import dedent\n",
    "from typing import Dict, List\n",
    "import yaml\n",
    "import matplotlib as mpl\n",
    "import matplotlib.colors as colors\n",
    "import matplotlib.pyplot as plt\n",
    "import numpy as np\n",
    "import pandas as pd\n",
    "import seaborn as sns\n",
    "import torch\n",
    "from colored import Back, Fore, Style\n",
    "from datasets import Dataset, load_dataset, concatenate_datasets\n",
    "from matplotlib.ticker import PercentFormatter\n",
    "from peft import (\n",
    "    LoraConfig,\n",
    "    PeftModel,\n",
    "    TaskType,\n",
    "    get_peft_model,\n",
    "    prepare_model_for_kbit_training,\n",
    ")\n",
    "from sklearn.model_selection import train_test_split\n",
    "from torch.utils.data import DataLoader\n",
    "from tqdm import tqdm\n",
    "from transformers import (\n",
    "    AutoModelForCausalLM,\n",
    "    AutoTokenizer,\n",
    "    BitsAndBytesConfig,\n",
    "    pipeline,\n",
    ")\n",
    "from trl import DataCollatorForCompletionOnlyLM, SFTConfig, SFTTrainer\n",
    "\n",
    "from huggingface_hub import login\n",
    "!pip install -q -U huggingface_hub\n",
    "from huggingface_hub import login\n",
    "dir_path = \"/home/jovyan\"\n",
    "current_folder_name=\"llama-chat-paper\"\n",
    "\n",
    "with open(f'{dir_path}/hf.txt', 'r') as file:\n",
    "    hf_token = file.read()\n",
    "\n",
    "login(token=hf_token)\n",
    "\n",
    "%matplotlib inline\n",
    "%config InlineBackend.figure_format='retina'\n",
    "\n",
    "COLORS = [\"#bae1ff\", \"#ffb3ba\", \"#ffdfba\", \"#ffffba\", \"#baffc9\"]\n",
    "\n",
    "sns.set(style=\"whitegrid\", palette=\"muted\", font_scale=1.2)\n",
    "sns.set_palette(sns.color_palette(COLORS))\n",
    "\n",
    "cmap = colors.LinearSegmentedColormap.from_list(\"custom_cmap\", COLORS[:2])\n",
    "\n",
    "MY_STYLE = {\n",
    "    \"figure.facecolor\": \"black\",\n",
    "    \"axes.facecolor\": \"black\",\n",
    "    \"axes.edgecolor\": \"white\",\n",
    "    \"axes.labelcolor\": \"white\",\n",
    "    \"axes.linewidth\": 0.5,\n",
    "    \"text.color\": \"white\",\n",
    "    \"xtick.color\": \"white\",\n",
    "    \"ytick.color\": \"white\",\n",
    "    \"grid.color\": \"gray\",\n",
    "    \"grid.linestyle\": \"--\",\n",
    "    \"grid.linewidth\": 0.5,\n",
    "    \"axes.grid\": True,\n",
    "    \"xtick.labelsize\": \"medium\",\n",
    "    \"ytick.labelsize\": \"medium\",\n",
    "    \"axes.titlesize\": \"large\",\n",
    "    \"axes.labelsize\": \"large\",\n",
    "    \"lines.color\": COLORS[0],\n",
    "    \"patch.edgecolor\": \"white\",\n",
    "}\n",
    "\n",
    "mpl.rcParams.update(MY_STYLE)\n",
    "\n",
    "SEED = 42\n",
    "\n",
    "\n",
    "def seed_everything(seed: int):\n",
    "    random.seed(seed)\n",
    "    np.random.seed(seed)\n",
    "    torch.manual_seed(seed)\n",
    "\n",
    "\n",
    "seed_everything(SEED)\n",
    "PAD_TOKEN = \"<|pad|>\"\n",
    "model_name=\"Qwen/Qwen2.5-Coder-32B-Instruct\""
   ]
  },
  {
   "cell_type": "code",
   "execution_count": 20,
   "metadata": {
    "colab": {
     "base_uri": "https://localhost:8080/",
     "height": 418,
     "referenced_widgets": [
      "c76a08d0b4224bff8a2fadf483f12910",
      "75811ee3c0294969a2b37b353ba0bae8",
      "b54625a413ef469da2b65f6b01bfc021",
      "4a7f5ab442aa43d2aea5ce18ea6c2ebb",
      "1bc108621e1640e4984c4f6a8a5f7e1c",
      "2318c2417c5c4c8da3988f74a48f9d11",
      "76dbf6d3e1fb4317bd17e09d23536f4c",
      "75318631574245d3a7cd0985c93c5235",
      "a655a455865749c5bb2a69b0b057709c",
      "04c66059d130463394f4b7fec70d9d78",
      "cc5bf9b62c0a4587a2471942b4ac14be",
      "6be814c0f94748d982efd58dd6e05fb8",
      "c20c4516551b4d12964fc74d0a11d040",
      "8c6192e56a904f9cad609d1ee034e8ae",
      "8a69481eeccc41569dfb7b301bbbe79d",
      "a4f0e4d471184ccc951671941918bcbc",
      "e71c293113e14f69a9eb84d9fee97a66",
      "56307840d0d24e1bb8b33ce96f995ace",
      "fc7c3927f1c44733a77a85dbd9ff5cae",
      "d907ec9f08224c378e643825102a8b93",
      "74854f19aedd48d093f7cb759f8136f5",
      "86a4e9349f78477ba1a47076f9b3457c",
      "b08aa5cdc7a04581821a8b2c8efbb07c",
      "3308c109987347cbbca6f2b66bb4dd2b",
      "162447921dfb44e88c586ebdcad50d4a",
      "e4361b8dd7e147feb5897cce67a955b0",
      "3b74e2553fed4269ae3ded2984fe38cd",
      "50f2092802eb490ea505e2f3f7d70da6",
      "0aa3bd4cc80b4f2680e24dcfb3053bb8",
      "d3d781b71513440f8b89b06d206eb965",
      "d7e9caa443694f608d1d4f4c89ed12b8",
      "395b83c008ab4642a39f9dd09fc4d95d",
      "e0f8f0e8966d4ac999d14109ec3e4248",
      "357103c993fe4f408020d4ee3aa30991",
      "7538c92bb5e84efc8cbd980021805353",
      "2add69de9cdd4f82ad569f33f4cbb184",
      "df6f4b6b644c4d7f93b8ea8e60224a6d",
      "84a831258bd147e5a16eec04895e86e5",
      "0a8b7a9697474c2e86502500ff161ca6",
      "700e2feb63454a42afad8660e5c18f00",
      "b084297744aa489c8d6f4949a3253c9f",
      "dafbf165d76a4e0f8748576e87cf954e",
      "51c2cd252cf5443c849009cf8bb5824d",
      "6ca1b93fb08949dca4de9034666375fa",
      "77cbfa2e1ada431eb17905e5fc445f03",
      "53569d6d1d124002ab8c4d5fb4029f1e",
      "59bb6f35d5f84f3b874c16755db65ec2",
      "037c4db88a704063b97e2ba340f55198",
      "d0cf9ac4767545af8d0d071a65f9600f",
      "09ebed37c39a4edcbd369e388958e396",
      "0f93c9a441e04543bad00f056bb94545",
      "c0747b2ffec74bee9e319604a6e0dc0d",
      "217b29458415424e8a41be2d1cd5358b",
      "923e0c72651f4115bf3ee12b10df0478",
      "d016d9bdeff54fbaac4346aed069c3ad",
      "d8555455c4d24156868f3ac5ca5111bc",
      "0b8e9b46b9a842038445044dd30febe2",
      "fc4a0ad6b5154d2c81b0c6b8143dc628",
      "bababf12983b4147a1e0c2ccdeaac141",
      "40d5d47fa353448e960b9dcfc97b831e",
      "b675df4ec3ad40e29f04645d843f3553",
      "bf58d5324cd74bf6827b33ad6f1babd9",
      "e09ae2ca606e4db19f52890136684c41",
      "f9fdf6c1bdfd408cbf5cca33ff7d8aed",
      "722d70c818c446878ee793a132431a28",
      "1bdefc44e2a34e72b0dd2f829fc04912",
      "7bff42e666aa42c5857940975e923a09",
      "e4e26b7095d84eeca16cea3513caa42a",
      "a3a848b8c61e45f5828a4de5795fa437",
      "c0dc623b272a4513a6cd5b35ed2db729",
      "615621631cb44cbd8f0785d3b17e0d42",
      "cb899d40195d46d2abc8ccedfead9ea0",
      "3343a2be097148fe9001a79283375bec",
      "98606ac3665949bab93e23ff9e96a6c7",
      "1940fd13f5094580a75f5349abd43315",
      "1a6232ca8435401ca3a0d2d7d54ce855",
      "05aeb1d49b944ec6b87c8a6fc4cf110f",
      "bc793e84a67e4171ae643d980fb3a4a8",
      "94c9e9f624ea4974b77ced7775668f6b",
      "f5596dbd847149bc8fd11664e9c7cce8",
      "a315d3ea63b5406fb59e5b2b89338657",
      "f68f4bae209e40b79586121eedcfea7b",
      "d6d5dbecc6e64c06880e39c6a88c66dc",
      "3b6abbc5b1c04975abad529cc096c554",
      "b267f6893bbd44cf95a72e72faf6489a",
      "41aef900502c4652be6ed4f9d7769270",
      "18d17e4b90184c68a483265cac3efddb",
      "ee605d08dbb3412a87091c87fe7628ab",
      "0056f9fcf65a4929b215c97dc34e4d5d",
      "1a80019e1b4e4191a856958d2a00190e",
      "813a6d1761a84ce0af064e7bed54543b",
      "ec044741f0b5469eaa41145e9870b5c2",
      "b7cacba95a52478ba175432cb92a33b1",
      "4ff42c42752d4af58fb92f6542fd85e8",
      "45f82699de0d427a87299864ab459483",
      "0a219f96ad5e46c8a8d338179b65815f",
      "80562ae75a274165b756f1465967ac93",
      "5dd3ba764b724acf993e8aea3a6ebfa4",
      "fa4ce34da1a24b55ad2bc85cbc0a41e4",
      "2bbc8e194c934b64af6eb256aec68f52",
      "71869752af5d4ebe9e7e211325e8d695",
      "9c1918d23451413dade358ca0f2f9ee3",
      "6171531e2830414c878c77fa73eddd3d",
      "753f166767f54802b43457590a0c84ba",
      "0fdaf9f331724b80bb4d36cb4136c34a",
      "9b26732a494e42e5b813852236ff0c3b",
      "932d1d9e27914c9eb3c1b78ed903feac",
      "b1809ce6d1384de5861e66013f3019f5",
      "0160161700ac4c9883f18e6561dbfa7f",
      "0d5d255953cf40fba605d2504fc389d1",
      "9418f4c18f2a4d9c8c8344cce722ef17",
      "a7147daf5892484f9f87bf5a1a0a86f5",
      "7ef9a4763bbc48ebbf9b50170cc2354e",
      "32bed1769e344a0faa1c2b8b974de52a",
      "aab7d0e5a27044e0a2f4a7c44ebf0c79",
      "3e5dbed3f42e44d4bfc0e8837bb101c8",
      "fc492d02f3b7475f8ca572ac881840db",
      "2f0a4df7d5ac43dd9ba962dea7348fd3",
      "31dcfa2ea65841f49410d196cf1576a2",
      "238fcbbec3e24b3db1cd69176110efc5",
      "8e852c8efd0a4f56bb29bb22fb19262f",
      "c30de2c1c8914ca2a5821b5ba17b16c0",
      "bf6879a67749413faa8f5dd206703b75",
      "3e3dd42d718f4125acde384acc437770",
      "bb778516de414d41a762244d9ae3f605",
      "b32e2968061a4324ab6a2e54452085f2",
      "36b630b562684b7cad03b21cdb5f002d",
      "52aae2542362430f835d3344b004ea93",
      "4ef83a382bf445138cab5eab2db7cca1",
      "81126e5a8bc947e3aabf5af599484cc1",
      "4479f6b43fdc4a20bdb801b7c1822c16",
      "cfeb396412744761af413db2625f76a7"
     ]
    },
    "id": "L3IegSXuDb2T",
    "outputId": "40b3442d-1343-4ae1-cae6-34d136352eee"
   },
   "outputs": [
    {
     "data": {
      "application/vnd.jupyter.widget-view+json": {
       "model_id": "88ccb5236cdb458880d0c76e727f841f",
       "version_major": 2,
       "version_minor": 0
      },
      "text/plain": [
       "tokenizer_config.json:   0%|          | 0.00/7.30k [00:00<?, ?B/s]"
      ]
     },
     "metadata": {},
     "output_type": "display_data"
    },
    {
     "data": {
      "application/vnd.jupyter.widget-view+json": {
       "model_id": "61cad6e92c4549a5badb95044d162ccd",
       "version_major": 2,
       "version_minor": 0
      },
      "text/plain": [
       "vocab.json:   0%|          | 0.00/2.78M [00:00<?, ?B/s]"
      ]
     },
     "metadata": {},
     "output_type": "display_data"
    },
    {
     "data": {
      "application/vnd.jupyter.widget-view+json": {
       "model_id": "fdb8892570b04effa60b767697c46004",
       "version_major": 2,
       "version_minor": 0
      },
      "text/plain": [
       "merges.txt:   0%|          | 0.00/1.67M [00:00<?, ?B/s]"
      ]
     },
     "metadata": {},
     "output_type": "display_data"
    },
    {
     "data": {
      "application/vnd.jupyter.widget-view+json": {
       "model_id": "5da509a42a47463eb5c7b3b258c27681",
       "version_major": 2,
       "version_minor": 0
      },
      "text/plain": [
       "tokenizer.json:   0%|          | 0.00/7.03M [00:00<?, ?B/s]"
      ]
     },
     "metadata": {},
     "output_type": "display_data"
    },
    {
     "data": {
      "application/vnd.jupyter.widget-view+json": {
       "model_id": "782ec574b7194db69bf2fe79ba1f346a",
       "version_major": 2,
       "version_minor": 0
      },
      "text/plain": [
       "config.json:   0%|          | 0.00/663 [00:00<?, ?B/s]"
      ]
     },
     "metadata": {},
     "output_type": "display_data"
    },
    {
     "data": {
      "application/vnd.jupyter.widget-view+json": {
       "model_id": "233cc99cfd5e4ce184070fc272387eb7",
       "version_major": 2,
       "version_minor": 0
      },
      "text/plain": [
       "model.safetensors.index.json:   0%|          | 0.00/63.2k [00:00<?, ?B/s]"
      ]
     },
     "metadata": {},
     "output_type": "display_data"
    },
    {
     "data": {
      "application/vnd.jupyter.widget-view+json": {
       "model_id": "fa5208074e0949f58dac3a5b43280538",
       "version_major": 2,
       "version_minor": 0
      },
      "text/plain": [
       "Downloading shards:   0%|          | 0/14 [00:00<?, ?it/s]"
      ]
     },
     "metadata": {},
     "output_type": "display_data"
    },
    {
     "data": {
      "application/vnd.jupyter.widget-view+json": {
       "model_id": "b2c80b11656e4f79b528cbd63f33963e",
       "version_major": 2,
       "version_minor": 0
      },
      "text/plain": [
       "model-00001-of-00014.safetensors:   0%|          | 0.00/4.89G [00:00<?, ?B/s]"
      ]
     },
     "metadata": {},
     "output_type": "display_data"
    },
    {
     "data": {
      "application/vnd.jupyter.widget-view+json": {
       "model_id": "d5769956671249b19c893e717b1dcd0c",
       "version_major": 2,
       "version_minor": 0
      },
      "text/plain": [
       "model-00002-of-00014.safetensors:   0%|          | 0.00/4.88G [00:00<?, ?B/s]"
      ]
     },
     "metadata": {},
     "output_type": "display_data"
    },
    {
     "data": {
      "application/vnd.jupyter.widget-view+json": {
       "model_id": "3c22e72cf29c4b1bab525bc84fc7e4c9",
       "version_major": 2,
       "version_minor": 0
      },
      "text/plain": [
       "model-00003-of-00014.safetensors:   0%|          | 0.00/4.88G [00:00<?, ?B/s]"
      ]
     },
     "metadata": {},
     "output_type": "display_data"
    },
    {
     "data": {
      "application/vnd.jupyter.widget-view+json": {
       "model_id": "2b64890ad86f4a4991a6196c7545926f",
       "version_major": 2,
       "version_minor": 0
      },
      "text/plain": [
       "model-00004-of-00014.safetensors:   0%|          | 0.00/4.88G [00:00<?, ?B/s]"
      ]
     },
     "metadata": {},
     "output_type": "display_data"
    },
    {
     "data": {
      "application/vnd.jupyter.widget-view+json": {
       "model_id": "46a3b069a77a401d8346b13d914d5940",
       "version_major": 2,
       "version_minor": 0
      },
      "text/plain": [
       "model-00005-of-00014.safetensors:   0%|          | 0.00/4.88G [00:00<?, ?B/s]"
      ]
     },
     "metadata": {},
     "output_type": "display_data"
    },
    {
     "data": {
      "application/vnd.jupyter.widget-view+json": {
       "model_id": "59003e7d6be544e287998b728fb372c9",
       "version_major": 2,
       "version_minor": 0
      },
      "text/plain": [
       "model-00006-of-00014.safetensors:   0%|          | 0.00/4.88G [00:00<?, ?B/s]"
      ]
     },
     "metadata": {},
     "output_type": "display_data"
    },
    {
     "data": {
      "application/vnd.jupyter.widget-view+json": {
       "model_id": "0dd1b97a5f69400a8f1b7585604ac181",
       "version_major": 2,
       "version_minor": 0
      },
      "text/plain": [
       "model-00007-of-00014.safetensors:   0%|          | 0.00/4.88G [00:00<?, ?B/s]"
      ]
     },
     "metadata": {},
     "output_type": "display_data"
    },
    {
     "data": {
      "application/vnd.jupyter.widget-view+json": {
       "model_id": "fecfa211d5ec49ea87d5a07e418daa8d",
       "version_major": 2,
       "version_minor": 0
      },
      "text/plain": [
       "model-00008-of-00014.safetensors:   0%|          | 0.00/4.88G [00:00<?, ?B/s]"
      ]
     },
     "metadata": {},
     "output_type": "display_data"
    },
    {
     "data": {
      "application/vnd.jupyter.widget-view+json": {
       "model_id": "b20bc673662b400b885180a00d6700d5",
       "version_major": 2,
       "version_minor": 0
      },
      "text/plain": [
       "model-00009-of-00014.safetensors:   0%|          | 0.00/4.88G [00:00<?, ?B/s]"
      ]
     },
     "metadata": {},
     "output_type": "display_data"
    },
    {
     "data": {
      "application/vnd.jupyter.widget-view+json": {
       "model_id": "56c6975a29874d228ed63035d6432db0",
       "version_major": 2,
       "version_minor": 0
      },
      "text/plain": [
       "model-00010-of-00014.safetensors:   0%|          | 0.00/4.88G [00:00<?, ?B/s]"
      ]
     },
     "metadata": {},
     "output_type": "display_data"
    },
    {
     "data": {
      "application/vnd.jupyter.widget-view+json": {
       "model_id": "5ecf830c38ad42a69d0191935bd927a5",
       "version_major": 2,
       "version_minor": 0
      },
      "text/plain": [
       "model-00011-of-00014.safetensors:   0%|          | 0.00/4.88G [00:00<?, ?B/s]"
      ]
     },
     "metadata": {},
     "output_type": "display_data"
    },
    {
     "data": {
      "application/vnd.jupyter.widget-view+json": {
       "model_id": "6b52277d4584423d86add90e694cd76a",
       "version_major": 2,
       "version_minor": 0
      },
      "text/plain": [
       "model-00012-of-00014.safetensors:   0%|          | 0.00/4.88G [00:00<?, ?B/s]"
      ]
     },
     "metadata": {},
     "output_type": "display_data"
    },
    {
     "data": {
      "application/vnd.jupyter.widget-view+json": {
       "model_id": "830496f244254062a817bde31082493b",
       "version_major": 2,
       "version_minor": 0
      },
      "text/plain": [
       "model-00013-of-00014.safetensors:   0%|          | 0.00/4.88G [00:00<?, ?B/s]"
      ]
     },
     "metadata": {},
     "output_type": "display_data"
    },
    {
     "data": {
      "application/vnd.jupyter.widget-view+json": {
       "model_id": "00744a15f4dd49a1a033d5a95f310737",
       "version_major": 2,
       "version_minor": 0
      },
      "text/plain": [
       "model-00014-of-00014.safetensors:   0%|          | 0.00/2.12G [00:00<?, ?B/s]"
      ]
     },
     "metadata": {},
     "output_type": "display_data"
    },
    {
     "data": {
      "application/vnd.jupyter.widget-view+json": {
       "model_id": "d5052fda7e214072b6c158b7a1fedffe",
       "version_major": 2,
       "version_minor": 0
      },
      "text/plain": [
       "Loading checkpoint shards:   0%|          | 0/14 [00:00<?, ?it/s]"
      ]
     },
     "metadata": {},
     "output_type": "display_data"
    },
    {
     "data": {
      "application/vnd.jupyter.widget-view+json": {
       "model_id": "c4c5af3dfa2a4de4933aa0e9674e0ebf",
       "version_major": 2,
       "version_minor": 0
      },
      "text/plain": [
       "generation_config.json:   0%|          | 0.00/243 [00:00<?, ?B/s]"
      ]
     },
     "metadata": {},
     "output_type": "display_data"
    },
    {
     "data": {
      "text/plain": [
       "Embedding(151672, 5120)"
      ]
     },
     "execution_count": 20,
     "metadata": {},
     "output_type": "execute_result"
    }
   ],
   "source": [
    "tokenizer = AutoTokenizer.from_pretrained(model_name, use_fast=True)\n",
    "tokenizer.add_special_tokens({\"pad_token\": PAD_TOKEN})\n",
    "tokenizer.padding_side = \"right\"\n",
    "\n",
    "\n",
    "bnb_config = BitsAndBytesConfig(\n",
    "    load_in_4bit=True,\n",
    "    bnb_4bit_quant_type=\"nf4\",\n",
    "    bnb_4bit_compute_dtype=\"float16\",\n",
    "    bnb_4bit_use_double_quant=True,\n",
    ")\n",
    "\n",
    "# Carica il modello\n",
    "model = AutoModelForCausalLM.from_pretrained(\n",
    "    model_name,\n",
    "    quantization_config=bnb_config,\n",
    "    device_map={\"\": 0},\n",
    "    trust_remote_code=True\n",
    ")\n",
    "\n",
    "model.config.use_cache = False\n",
    "model.config.pretraining_tp = 1\n",
    "\n",
    "model.resize_token_embeddings(len(tokenizer), pad_to_multiple_of=8)"
   ]
  },
  {
   "cell_type": "code",
   "execution_count": 21,
   "metadata": {
    "colab": {
     "base_uri": "https://localhost:8080/"
    },
    "id": "j2eL50NqHKyA",
    "outputId": "1ebce311-c992-4c80-deb7-446d4519e7a0"
   },
   "outputs": [
    {
     "data": {
      "text/plain": [
       "(None, None)"
      ]
     },
     "execution_count": 21,
     "metadata": {},
     "output_type": "execute_result"
    }
   ],
   "source": [
    "tokenizer.bos_token, tokenizer.bos_token_id"
   ]
  },
  {
   "cell_type": "code",
   "execution_count": 22,
   "metadata": {
    "colab": {
     "base_uri": "https://localhost:8080/"
    },
    "id": "XJrf2CWPHbVr",
    "outputId": "f5c8eb86-9ead-4546-a639-18e6adc0b706"
   },
   "outputs": [
    {
     "data": {
      "text/plain": [
       "('<|im_end|>', 151645)"
      ]
     },
     "execution_count": 22,
     "metadata": {},
     "output_type": "execute_result"
    }
   ],
   "source": [
    "tokenizer.eos_token, tokenizer.eos_token_id"
   ]
  },
  {
   "cell_type": "code",
   "execution_count": 23,
   "metadata": {
    "colab": {
     "base_uri": "https://localhost:8080/"
    },
    "id": "CMCIAGyHHcaP",
    "outputId": "40a7fbb0-539e-4ab3-edd0-701e565c6b84"
   },
   "outputs": [
    {
     "data": {
      "text/plain": [
       "('<|pad|>', 151665)"
      ]
     },
     "execution_count": 23,
     "metadata": {},
     "output_type": "execute_result"
    }
   ],
   "source": [
    "tokenizer.pad_token, tokenizer.pad_token_id"
   ]
  },
  {
   "cell_type": "code",
   "execution_count": 24,
   "metadata": {
    "colab": {
     "base_uri": "https://localhost:8080/"
    },
    "id": "O8Q_gCjYHfTH",
    "outputId": "46349b1a-7fcb-4e09-cd7a-aedcf0390f61"
   },
   "outputs": [
    {
     "data": {
      "text/plain": [
       "151665"
      ]
     },
     "execution_count": 24,
     "metadata": {},
     "output_type": "execute_result"
    }
   ],
   "source": [
    "tokenizer.convert_tokens_to_ids(PAD_TOKEN)"
   ]
  },
  {
   "cell_type": "code",
   "execution_count": 25,
   "metadata": {
    "colab": {
     "base_uri": "https://localhost:8080/",
     "height": 424
    },
    "id": "lgoxn39UHjtp",
    "outputId": "24ac1df5-eda0-4645-a778-ab7dcf72d52a"
   },
   "outputs": [
    {
     "data": {
      "text/html": [
       "<div>\n",
       "<style scoped>\n",
       "    .dataframe tbody tr th:only-of-type {\n",
       "        vertical-align: middle;\n",
       "    }\n",
       "\n",
       "    .dataframe tbody tr th {\n",
       "        vertical-align: top;\n",
       "    }\n",
       "\n",
       "    .dataframe thead th {\n",
       "        text-align: right;\n",
       "    }\n",
       "</style>\n",
       "<table border=\"1\" class=\"dataframe\">\n",
       "  <thead>\n",
       "    <tr style=\"text-align: right;\">\n",
       "      <th></th>\n",
       "      <th>vulnerability</th>\n",
       "      <th>question</th>\n",
       "      <th>rejected</th>\n",
       "      <th>cleaned_code</th>\n",
       "      <th>language</th>\n",
       "    </tr>\n",
       "  </thead>\n",
       "  <tbody>\n",
       "    <tr>\n",
       "      <th>0</th>\n",
       "      <td>Improper memory management in C++ can lead to ...</td>\n",
       "      <td>Write a c++ code that defines a function named...</td>\n",
       "      <td>```c++\\n#include &lt;cstring&gt;\\n\\nvoid copyString(...</td>\n",
       "      <td>#include &lt;cstring&gt;\\n\\nvoid copyString(char* de...</td>\n",
       "      <td>c++</td>\n",
       "    </tr>\n",
       "    <tr>\n",
       "      <th>1</th>\n",
       "      <td>Inadequate memory management can lead to buffe...</td>\n",
       "      <td>Write a c++ code that includes iostream and st...</td>\n",
       "      <td>```c++\\n#include &lt;iostream&gt;\\n#include &lt;string....</td>\n",
       "      <td>#include &lt;iostream&gt;\\n#include &lt;string.h&gt;\\n\\nvo...</td>\n",
       "      <td>c++</td>\n",
       "    </tr>\n",
       "    <tr>\n",
       "      <th>2</th>\n",
       "      <td>Buffer overflow vulnerability in C++ can occur...</td>\n",
       "      <td>Write a c++ code that includes iostream and st...</td>\n",
       "      <td>```c++\\n#include &lt;iostream&gt;\\n#include &lt;string....</td>\n",
       "      <td>#include &lt;iostream&gt;\\n#include &lt;string.h&gt;\\n\\nvo...</td>\n",
       "      <td>c++</td>\n",
       "    </tr>\n",
       "    <tr>\n",
       "      <th>3</th>\n",
       "      <td>Buffer overflow vulnerability due to incorrect...</td>\n",
       "      <td>Write a c++ code that includes iostream and cs...</td>\n",
       "      <td>```c++\\n#include &lt;iostream&gt;\\n#include &lt;cstring...</td>\n",
       "      <td>#include &lt;iostream&gt;\\n#include &lt;cstring&gt;\\n\\nint...</td>\n",
       "      <td>c++</td>\n",
       "    </tr>\n",
       "    <tr>\n",
       "      <th>4</th>\n",
       "      <td>Buffer overflow vulnerability in C++ that can ...</td>\n",
       "      <td>Write a c++ code that includes iostream and st...</td>\n",
       "      <td>```c++\\n#include &lt;iostream&gt;\\n#include &lt;string....</td>\n",
       "      <td>#include &lt;iostream&gt;\\n#include &lt;string.h&gt;\\n\\nvo...</td>\n",
       "      <td>c++</td>\n",
       "    </tr>\n",
       "    <tr>\n",
       "      <th>...</th>\n",
       "      <td>...</td>\n",
       "      <td>...</td>\n",
       "      <td>...</td>\n",
       "      <td>...</td>\n",
       "      <td>...</td>\n",
       "    </tr>\n",
       "    <tr>\n",
       "      <th>396</th>\n",
       "      <td>The use of `strcpy` function in C++ can lead t...</td>\n",
       "      <td>Write a c++ code that includes the necessary l...</td>\n",
       "      <td>```c++\\n#include &lt;cstring&gt;\\n\\nvoid copyString(...</td>\n",
       "      <td>#include &lt;cstring&gt;\\n\\nvoid copyString(char* so...</td>\n",
       "      <td>c++</td>\n",
       "    </tr>\n",
       "    <tr>\n",
       "      <th>397</th>\n",
       "      <td>Potential buffer overflow vulnerability in C++...</td>\n",
       "      <td>Write a c++ code that includes two functions. ...</td>\n",
       "      <td>```c++\\n#include &lt;iostream&gt;\\n#include &lt;string&gt;...</td>\n",
       "      <td>#include &lt;iostream&gt;\\n#include &lt;string&gt;\\n\\nvoid...</td>\n",
       "      <td>c++</td>\n",
       "    </tr>\n",
       "    <tr>\n",
       "      <th>398</th>\n",
       "      <td>Potential buffer overflow vulnerability in the...</td>\n",
       "      <td>Write a c++ code that includes iostream and cs...</td>\n",
       "      <td>```c++\\n#include &lt;iostream&gt;\\n#include &lt;cstring...</td>\n",
       "      <td>#include &lt;iostream&gt;\\n#include &lt;cstring&gt;\\n\\nvoi...</td>\n",
       "      <td>c++</td>\n",
       "    </tr>\n",
       "    <tr>\n",
       "      <th>399</th>\n",
       "      <td>Buffer overflow vulnerability in C++ can occur...</td>\n",
       "      <td>Write a c++ code that includes iostream and st...</td>\n",
       "      <td>```c++\\n#include &lt;iostream&gt;\\n#include &lt;string....</td>\n",
       "      <td>#include &lt;iostream&gt;\\n#include &lt;string.h&gt;\\n\\nvo...</td>\n",
       "      <td>c++</td>\n",
       "    </tr>\n",
       "    <tr>\n",
       "      <th>400</th>\n",
       "      <td>Potential buffer overflow when copying user in...</td>\n",
       "      <td>Write a c++ code that includes iostream and st...</td>\n",
       "      <td>```c++\\n#include &lt;iostream&gt;\\n#include &lt;string....</td>\n",
       "      <td>#include &lt;iostream&gt;\\n#include &lt;string.h&gt;\\n\\nvo...</td>\n",
       "      <td>c++</td>\n",
       "    </tr>\n",
       "  </tbody>\n",
       "</table>\n",
       "<p>401 rows × 5 columns</p>\n",
       "</div>"
      ],
      "text/plain": [
       "                                         vulnerability  \\\n",
       "0    Improper memory management in C++ can lead to ...   \n",
       "1    Inadequate memory management can lead to buffe...   \n",
       "2    Buffer overflow vulnerability in C++ can occur...   \n",
       "3    Buffer overflow vulnerability due to incorrect...   \n",
       "4    Buffer overflow vulnerability in C++ that can ...   \n",
       "..                                                 ...   \n",
       "396  The use of `strcpy` function in C++ can lead t...   \n",
       "397  Potential buffer overflow vulnerability in C++...   \n",
       "398  Potential buffer overflow vulnerability in the...   \n",
       "399  Buffer overflow vulnerability in C++ can occur...   \n",
       "400  Potential buffer overflow when copying user in...   \n",
       "\n",
       "                                              question  \\\n",
       "0    Write a c++ code that defines a function named...   \n",
       "1    Write a c++ code that includes iostream and st...   \n",
       "2    Write a c++ code that includes iostream and st...   \n",
       "3    Write a c++ code that includes iostream and cs...   \n",
       "4    Write a c++ code that includes iostream and st...   \n",
       "..                                                 ...   \n",
       "396  Write a c++ code that includes the necessary l...   \n",
       "397  Write a c++ code that includes two functions. ...   \n",
       "398  Write a c++ code that includes iostream and cs...   \n",
       "399  Write a c++ code that includes iostream and st...   \n",
       "400  Write a c++ code that includes iostream and st...   \n",
       "\n",
       "                                              rejected  \\\n",
       "0    ```c++\\n#include <cstring>\\n\\nvoid copyString(...   \n",
       "1    ```c++\\n#include <iostream>\\n#include <string....   \n",
       "2    ```c++\\n#include <iostream>\\n#include <string....   \n",
       "3    ```c++\\n#include <iostream>\\n#include <cstring...   \n",
       "4    ```c++\\n#include <iostream>\\n#include <string....   \n",
       "..                                                 ...   \n",
       "396  ```c++\\n#include <cstring>\\n\\nvoid copyString(...   \n",
       "397  ```c++\\n#include <iostream>\\n#include <string>...   \n",
       "398  ```c++\\n#include <iostream>\\n#include <cstring...   \n",
       "399  ```c++\\n#include <iostream>\\n#include <string....   \n",
       "400  ```c++\\n#include <iostream>\\n#include <string....   \n",
       "\n",
       "                                          cleaned_code language  \n",
       "0    #include <cstring>\\n\\nvoid copyString(char* de...      c++  \n",
       "1    #include <iostream>\\n#include <string.h>\\n\\nvo...      c++  \n",
       "2    #include <iostream>\\n#include <string.h>\\n\\nvo...      c++  \n",
       "3    #include <iostream>\\n#include <cstring>\\n\\nint...      c++  \n",
       "4    #include <iostream>\\n#include <string.h>\\n\\nvo...      c++  \n",
       "..                                                 ...      ...  \n",
       "396  #include <cstring>\\n\\nvoid copyString(char* so...      c++  \n",
       "397  #include <iostream>\\n#include <string>\\n\\nvoid...      c++  \n",
       "398  #include <iostream>\\n#include <cstring>\\n\\nvoi...      c++  \n",
       "399  #include <iostream>\\n#include <string.h>\\n\\nvo...      c++  \n",
       "400  #include <iostream>\\n#include <string.h>\\n\\nvo...      c++  \n",
       "\n",
       "[401 rows x 5 columns]"
      ]
     },
     "execution_count": 25,
     "metadata": {},
     "output_type": "execute_result"
    }
   ],
   "source": [
    "pd_cpp_df = cpp_dataset['train'].to_pandas()\n",
    "pd_cpp_df"
   ]
  },
  {
   "cell_type": "code",
   "execution_count": 26,
   "metadata": {
    "id": "E6IPB8E6H5ef"
   },
   "outputs": [],
   "source": [
    "def create_test_prompt(row: dict):\n",
    "    prompt = dedent(\n",
    "        f\"\"\"\n",
    "  {row[\"cleaned_code\"]}\n",
    "    \"\"\"\n",
    "    )\n",
    "    messages = [\n",
    "        {\n",
    "            \"role\": \"system\",\n",
    "            \"content\": \"\"\"\n",
    "You are an expert in generating vulnerable code.\n",
    "Your task is to modify the given vulnerable function by replacing the static parameter that causes a buffer overflow with a parameter received from the argv vector. Ensure that the vulnerability remains present.\n",
    "The final code should maintain the original logic while making the buffer overflow dependent on user input from argv.\n",
    "Follow a step by step reasoning to update the provided code.\n",
    "Step 1. Vulnerable function identification: Identify the function vulnerbale to buffer overflow\n",
    "Step 2. Identify the root parent chain of function and the source parameter that will be update with controlled user input data\n",
    "Step 3. Update the code\n",
    "\"\"\",\n",
    "        },\n",
    "        {\"role\": \"user\", \"content\": \"\"\"\n",
    "#include <iostream>\n",
    "#include <string.h>\n",
    "\n",
    "void func(char* input) {\n",
    "    char buffer[10];\n",
    "    strcpy(buffer, input);\n",
    "}\n",
    "\n",
    "int main() {\n",
    "    char large_input[20] = \"This is a large input\";\n",
    "    func(large_input);\n",
    "    return 0;\n",
    "}\n",
    "\"\"\"},\n",
    "        {\"role\": \"assistent\", \"content\": \"\"\"\n",
    "Step-by-Step Reasoning and Code Update\n",
    "Step 1: Vulnerable Function Identification\n",
    "The function func(char* input) is vulnerable to a buffer overflow. The vulnerability arises because the strcpy function is used to copy the contents of input into a fixed-size buffer buffer[10] without checking the length of input. This can lead to a buffer overflow if input is larger than 10 bytes.\n",
    "\n",
    "Step 2: Identify the Root Parent Chain and Source Parameter\n",
    "The root parent chain is as follows:\n",
    "\n",
    "main() calls func(char* input).\n",
    "\n",
    "func(char* input) uses strcpy to copy the contents of input into buffer[10].\n",
    "\n",
    "The source parameter that needs to be updated is input in the func(char* input) function. Currently, input is passed from main() as a fixed string large_input[20]. We need to modify this so that input is controlled by user input from argv.\n",
    "\n",
    "Step 3: Update the Code\n",
    "We will modify the code to accept user input from the command line (argv). The user input will be passed to the func(char* input) function, maintaining the buffer overflow vulnerability.\n",
    "```c++\n",
    "#include <iostream>\n",
    "#include <string.h>\n",
    "\n",
    "void func(char* input) {\n",
    "    char buffer[10];\n",
    "    strcpy(buffer, input);  // Buffer overflow vulnerability remains\n",
    "}\n",
    "\n",
    "int main(int argc, char* argv[]) {\n",
    "    if (argc < 2) {\n",
    "        std::cerr << \"Usage: \" << argv[0] << \" <input>\" << std::endl;\n",
    "        return 1;\n",
    "    }\n",
    "\n",
    "    char* user_input = argv[1];  // User input from argv\n",
    "    func(user_input);  // Pass user input to the vulnerable function\n",
    "\n",
    "    return 0;\n",
    "}\n",
    "```\n",
    "\"\"\"},\n",
    "        {\"role\": \"user\", \"content\": \"\"\"\n",
    "#include <cstring>\n",
    "\n",
    "void copyString(char* dest, const char* src) {\n",
    "    while (*src != '\\0') {\n",
    "        *dest = *src;\n",
    "        dest++;;\n",
    "        src++;\n",
    "    }\n",
    "}\n",
    "\n",
    "int main() {\n",
    "    char source[10] = \"Hello!\";\n",
    "    char destination[5];\n",
    "    copyString(destination, source);\n",
    "    return 0;\n",
    "}\n",
    "\"\"\"},\n",
    "        {\"role\": \"assistant\", \"content\": \"\"\"\n",
    "Step-by-Step Reasoning and Code Update\n",
    "\n",
    "Step 1: Vulnerable Function Identification\n",
    "The copyString(char* dest, const char* src) function is vulnerable to buffer overflow. The custom loop copies characters from src to dest without checking the destination buffer's size. If src is longer than the allocated dest buffer, this will overflow the destination buffer.\n",
    "\n",
    "Step 2: Identify the Root Parent Chain and Source Parameter\n",
    "\n",
    "The root parent chain is main() calling copyString(destination, source).\n",
    "\n",
    "The original source parameter is a fixed-size array initialized with \"Hello!\". We replace this with user-controlled input from argv[1] to maintain the vulnerability via external input.\n",
    "\n",
    "Step 3: Update the Code\n",
    "Modify main() to accept command-line arguments and pass argv[1] directly to copyString(). This ensures the buffer overflow depends on user input.\n",
    "```c++\n",
    "#include <cstring>\n",
    "#include <iostream>\n",
    "\n",
    "void copyString(char* dest, const char* src) {\n",
    "    while (*src != '\\0') {\n",
    "        *dest = *src;\n",
    "        dest++;\n",
    "        src++;\n",
    "    }\n",
    "}\n",
    "\n",
    "int main(int argc, char** argv) {\n",
    "    if (argc < 2) {\n",
    "        std::cerr << \"Usage: \" << argv[0] << \" <input>\" << std::endl;\n",
    "        return 1;\n",
    "    }\n",
    "\n",
    "    char destination[5];\n",
    "    copyString(destination, argv[1]); // Buffer overflow via argv[1]\n",
    "\n",
    "    return 0;\n",
    "}\n",
    "```\n",
    "\"\"\"},\n",
    "        {\"role\": \"user\", \"content\": prompt},\n",
    "    ]\n",
    "    return tokenizer.apply_chat_template(messages, tokenize=False,add_generation_prompt=True)\n",
    "\n",
    "\n",
    "\n"
   ]
  },
  {
   "cell_type": "code",
   "execution_count": 27,
   "metadata": {
    "colab": {
     "base_uri": "https://localhost:8080/"
    },
    "id": "-n6lVyXyJMJy",
    "outputId": "3de71ef9-1294-4cfc-a9ba-14ff475be15e",
    "scrolled": true
   },
   "outputs": [
    {
     "name": "stdout",
     "output_type": "stream",
     "text": [
      "<|im_start|>system\n",
      "\n",
      "You are an expert in generating vulnerable code.\n",
      "Your task is to modify the given vulnerable function by replacing the static parameter that causes a buffer overflow with a parameter received from the argv vector. Ensure that the vulnerability remains present.\n",
      "The final code should maintain the original logic while making the buffer overflow dependent on user input from argv.\n",
      "Follow a step by step reasoning to update the provided code.\n",
      "Step 1. Vulnerable function identification: Identify the function vulnerbale to buffer overflow\n",
      "Step 2. Identify the root parent chain of function and the source parameter that will be update with controlled user input data\n",
      "Step 3. Update the code\n",
      "<|im_end|>\n",
      "<|im_start|>user\n",
      "\n",
      "#include <iostream>\n",
      "#include <string.h>\n",
      "\n",
      "void func(char* input) {\n",
      "    char buffer[10];\n",
      "    strcpy(buffer, input);\n",
      "}\n",
      "\n",
      "int main() {\n",
      "    char large_input[20] = \"This is a large input\";\n",
      "    func(large_input);\n",
      "    return 0;\n",
      "}\n",
      "<|im_end|>\n",
      "<|im_start|>user\n",
      "\n",
      "#include <cstring>\n",
      "\n",
      "void copyString(char* dest, const char* src) {\n",
      "    while (*src != '\u0000') {\n",
      "        *dest = *src;\n",
      "        dest++;;\n",
      "        src++;\n",
      "    }\n",
      "}\n",
      "\n",
      "int main() {\n",
      "    char source[10] = \"Hello!\";\n",
      "    char destination[5];\n",
      "    copyString(destination, source);\n",
      "    return 0;\n",
      "}\n",
      "<|im_end|>\n",
      "<|im_start|>assistant\n",
      "\n",
      "Step-by-Step Reasoning and Code Update\n",
      "\n",
      "Step 1: Vulnerable Function Identification\n",
      "The copyString(char* dest, const char* src) function is vulnerable to buffer overflow. The custom loop copies characters from src to dest without checking the destination buffer's size. If src is longer than the allocated dest buffer, this will overflow the destination buffer.\n",
      "\n",
      "Step 2: Identify the Root Parent Chain and Source Parameter\n",
      "\n",
      "The root parent chain is main() calling copyString(destination, source).\n",
      "\n",
      "The original source parameter is a fixed-size array initialized with \"Hello!\". We replace this with user-controlled input from argv[1] to maintain the vulnerability via external input.\n",
      "\n",
      "Step 3: Update the Code\n",
      "Modify main() to accept command-line arguments and pass argv[1] directly to copyString(). This ensures the buffer overflow depends on user input.\n",
      "```c++\n",
      "#include <cstring>\n",
      "#include <iostream>\n",
      "\n",
      "void copyString(char* dest, const char* src) {\n",
      "    while (*src != '\u0000') {\n",
      "        *dest = *src;\n",
      "        dest++;\n",
      "        src++;\n",
      "    }\n",
      "}\n",
      "\n",
      "int main(int argc, char** argv) {\n",
      "    if (argc < 2) {\n",
      "        std::cerr << \"Usage: \" << argv[0] << \" <input>\" << std::endl;\n",
      "        return 1;\n",
      "    }\n",
      "\n",
      "    char destination[5];\n",
      "    copyString(destination, argv[1]); // Buffer overflow via argv[1]\n",
      "\n",
      "    return 0;\n",
      "}\n",
      "```\n",
      "<|im_end|>\n",
      "<|im_start|>user\n",
      "\n",
      "  #include <cstring>\n",
      "\n",
      "void copyString(char* dest, const char* src) {\n",
      "    while (*src != '\\0') {\n",
      "        *dest = *src;\n",
      "        dest++;;\n",
      "        src++;\n",
      "    }\n",
      "}\n",
      "\n",
      "int main() {\n",
      "    char source[10] = \"Hello!\";\n",
      "    char destination[5];\n",
      "    copyString(destination, source);\n",
      "    return 0;\n",
      "}\n",
      "\n",
      "<|im_end|>\n",
      "<|im_start|>assistant\n",
      "\n"
     ]
    }
   ],
   "source": [
    "row =  cpp_dataset['train'][0]\n",
    "prompt = create_test_prompt(row)\n",
    "print(prompt)"
   ]
  },
  {
   "cell_type": "code",
   "execution_count": 28,
   "metadata": {
    "id": "7ntzNSL9Jvqc"
   },
   "outputs": [],
   "source": [
    "pipe = pipeline(\n",
    "    task=\"text-generation\",\n",
    "    model=model,\n",
    "    tokenizer=tokenizer,\n",
    "    max_new_tokens=100000,\n",
    "    return_full_text=False,\n",
    ")"
   ]
  },
  {
   "cell_type": "code",
   "execution_count": 29,
   "metadata": {
    "colab": {
     "base_uri": "https://localhost:8080/"
    },
    "id": "9h44SpViJrME",
    "outputId": "dddec69e-bce4-4686-dd5d-a9c4f4a0dac3"
   },
   "outputs": [
    {
     "name": "stdout",
     "output_type": "stream",
     "text": [
      "CPU times: user 58.6 s, sys: 568 ms, total: 59.2 s\n",
      "Wall time: 59.2 s\n"
     ]
    }
   ],
   "source": [
    "%%time\n",
    "outputs = pipe(prompt)\n"
   ]
  },
  {
   "cell_type": "code",
   "execution_count": 30,
   "metadata": {
    "id": "iKKGmc6_J_2S"
   },
   "outputs": [],
   "source": [
    "import re\n",
    "def get_new_code(example):\n",
    "    formatted_code = example[\"generated_text\"]\n",
    "    pattern = r\"```(\\w+\\+{0,2})\\s([\\s\\S]*?)```\"\n",
    "    match_code = re.search(pattern, formatted_code)\n",
    "    match_code_raw = None\n",
    "    language = None\n",
    "    if match_code:\n",
    "          language = match_code.group(1)\n",
    "          match_code_raw = match_code.group(2)\n",
    "\n",
    "    return {\"new_code\": match_code_raw,'language':language}"
   ]
  },
  {
   "cell_type": "code",
   "execution_count": 31,
   "metadata": {
    "colab": {
     "base_uri": "https://localhost:8080/"
    },
    "id": "yDErQ8adJ-8K",
    "outputId": "4ba89e9d-b5dd-480d-da1e-eaf1c184cc53"
   },
   "outputs": [
    {
     "name": "stdout",
     "output_type": "stream",
     "text": [
      "#include <cstring>\n",
      "#include <iostream>\n",
      "\n",
      "void copyString(char* dest, const char* src) {\n",
      "    while (*src!= '\\0') {\n",
      "        *dest = *src;\n",
      "        dest++;\n",
      "        src++;\n",
      "    }\n",
      "}\n",
      "\n",
      "int main(int argc, char** argv) {\n",
      "    if (argc < 2) {\n",
      "        std::cerr << \"Usage: \" << argv[0] << \" <input>\" << std::endl;\n",
      "        return 1;\n",
      "    }\n",
      "\n",
      "    char destination[5];\n",
      "    copyString(destination, argv[1]); // Buffer overflow via argv[1]\n",
      "\n",
      "    return 0;\n",
      "}\n",
      "\n"
     ]
    }
   ],
   "source": [
    "print(get_new_code(outputs[0])['new_code'])"
   ]
  },
  {
   "cell_type": "code",
   "execution_count": 32,
   "metadata": {
    "colab": {
     "base_uri": "https://localhost:8080/"
    },
    "id": "8UVFJASkTpt8",
    "outputId": "918975c9-ce8a-4e2e-f0f5-3f3e251f1234"
   },
   "outputs": [
    {
     "name": "stderr",
     "output_type": "stream",
     "text": [
      "huggingface/tokenizers: The current process just got forked, after parallelism has already been used. Disabling parallelism to avoid deadlocks...\n",
      "To disable this warning, you can either:\n",
      "\t- Avoid using `tokenizers` before the fork if possible\n",
      "\t- Explicitly set the environment variable TOKENIZERS_PARALLELISM=(true | false)\n"
     ]
    },
    {
     "name": "stdout",
     "output_type": "stream",
     "text": [
      "Requirement already satisfied: tqdm in /opt/conda/lib/python3.11/site-packages (4.66.5)\n"
     ]
    }
   ],
   "source": [
    "!pip install tqdm\n",
    "from tqdm import tqdm"
   ]
  },
  {
   "cell_type": "code",
   "execution_count": 33,
   "metadata": {
    "colab": {
     "base_uri": "https://localhost:8080/"
    },
    "id": "oSlixJuqSPhp",
    "outputId": "ca453ca4-84e5-42b6-c432-68a9670a5674",
    "scrolled": true
   },
   "outputs": [
    {
     "name": "stderr",
     "output_type": "stream",
     "text": [
      "  0%|          | 0/401 [00:00<?, ?it/s]"
     ]
    },
    {
     "name": "stdout",
     "output_type": "stream",
     "text": [
      "Processing element 0\n"
     ]
    },
    {
     "name": "stderr",
     "output_type": "stream",
     "text": [
      "  0%|          | 1/401 [00:50<5:35:02, 50.26s/it]"
     ]
    },
    {
     "name": "stdout",
     "output_type": "stream",
     "text": [
      "Processing element 1\n"
     ]
    },
    {
     "name": "stderr",
     "output_type": "stream",
     "text": [
      "  0%|          | 2/401 [01:50<6:13:39, 56.19s/it]"
     ]
    },
    {
     "name": "stdout",
     "output_type": "stream",
     "text": [
      "Processing element 2\n"
     ]
    },
    {
     "name": "stderr",
     "output_type": "stream",
     "text": [
      "  1%|          | 3/401 [02:54<6:36:52, 59.83s/it]"
     ]
    },
    {
     "name": "stdout",
     "output_type": "stream",
     "text": [
      "Processing element 3\n"
     ]
    },
    {
     "name": "stderr",
     "output_type": "stream",
     "text": [
      "  1%|          | 4/401 [03:56<6:41:39, 60.70s/it]"
     ]
    },
    {
     "name": "stdout",
     "output_type": "stream",
     "text": [
      "Processing element 4\n"
     ]
    },
    {
     "name": "stderr",
     "output_type": "stream",
     "text": [
      "  1%|          | 5/401 [04:58<6:43:14, 61.10s/it]"
     ]
    },
    {
     "name": "stdout",
     "output_type": "stream",
     "text": [
      "Processing element 5\n"
     ]
    },
    {
     "name": "stderr",
     "output_type": "stream",
     "text": [
      "  1%|▏         | 6/401 [06:13<7:13:23, 65.83s/it]"
     ]
    },
    {
     "name": "stdout",
     "output_type": "stream",
     "text": [
      "Processing element 6\n"
     ]
    },
    {
     "name": "stderr",
     "output_type": "stream",
     "text": [
      "  2%|▏         | 7/401 [07:24<7:22:12, 67.34s/it]"
     ]
    },
    {
     "name": "stdout",
     "output_type": "stream",
     "text": [
      "Processing element 7\n"
     ]
    },
    {
     "name": "stderr",
     "output_type": "stream",
     "text": [
      "  2%|▏         | 8/401 [08:34<7:27:49, 68.37s/it]"
     ]
    },
    {
     "name": "stdout",
     "output_type": "stream",
     "text": [
      "Processing element 8\n"
     ]
    },
    {
     "name": "stderr",
     "output_type": "stream",
     "text": [
      "  2%|▏         | 9/401 [09:42<7:24:59, 68.11s/it]You seem to be using the pipelines sequentially on GPU. In order to maximize efficiency please use a dataset\n"
     ]
    },
    {
     "name": "stdout",
     "output_type": "stream",
     "text": [
      "Processing element 9\n"
     ]
    },
    {
     "name": "stderr",
     "output_type": "stream",
     "text": [
      "  2%|▏         | 10/401 [10:36<6:55:36, 63.78s/it]"
     ]
    },
    {
     "name": "stdout",
     "output_type": "stream",
     "text": [
      "Processing element 10\n"
     ]
    },
    {
     "name": "stderr",
     "output_type": "stream",
     "text": [
      "  3%|▎         | 11/401 [11:27<6:29:06, 59.86s/it]"
     ]
    },
    {
     "name": "stdout",
     "output_type": "stream",
     "text": [
      "Processing element 11\n"
     ]
    },
    {
     "name": "stderr",
     "output_type": "stream",
     "text": [
      "  3%|▎         | 12/401 [12:25<6:25:27, 59.45s/it]"
     ]
    },
    {
     "name": "stdout",
     "output_type": "stream",
     "text": [
      "Processing element 12\n"
     ]
    },
    {
     "name": "stderr",
     "output_type": "stream",
     "text": [
      "  3%|▎         | 13/401 [13:24<6:23:55, 59.37s/it]"
     ]
    },
    {
     "name": "stdout",
     "output_type": "stream",
     "text": [
      "Processing element 13\n"
     ]
    },
    {
     "name": "stderr",
     "output_type": "stream",
     "text": [
      "  3%|▎         | 14/401 [14:27<6:29:59, 60.46s/it]"
     ]
    },
    {
     "name": "stdout",
     "output_type": "stream",
     "text": [
      "Processing element 14\n"
     ]
    },
    {
     "name": "stderr",
     "output_type": "stream",
     "text": [
      "  4%|▎         | 15/401 [15:17<6:08:04, 57.21s/it]"
     ]
    },
    {
     "name": "stdout",
     "output_type": "stream",
     "text": [
      "Processing element 15\n"
     ]
    },
    {
     "name": "stderr",
     "output_type": "stream",
     "text": [
      "  4%|▍         | 16/401 [16:21<6:20:39, 59.32s/it]"
     ]
    },
    {
     "name": "stdout",
     "output_type": "stream",
     "text": [
      "Processing element 16\n"
     ]
    },
    {
     "name": "stderr",
     "output_type": "stream",
     "text": [
      "  4%|▍         | 17/401 [17:17<6:12:03, 58.13s/it]"
     ]
    },
    {
     "name": "stdout",
     "output_type": "stream",
     "text": [
      "Processing element 17\n"
     ]
    },
    {
     "name": "stderr",
     "output_type": "stream",
     "text": [
      "  4%|▍         | 18/401 [18:17<6:14:27, 58.66s/it]"
     ]
    },
    {
     "name": "stdout",
     "output_type": "stream",
     "text": [
      "Processing element 18\n"
     ]
    },
    {
     "name": "stderr",
     "output_type": "stream",
     "text": [
      "  5%|▍         | 19/401 [19:22<6:25:41, 60.58s/it]"
     ]
    },
    {
     "name": "stdout",
     "output_type": "stream",
     "text": [
      "Processing element 19\n"
     ]
    },
    {
     "name": "stderr",
     "output_type": "stream",
     "text": [
      "  5%|▍         | 20/401 [20:28<6:34:58, 62.20s/it]"
     ]
    },
    {
     "name": "stdout",
     "output_type": "stream",
     "text": [
      "Processing element 20\n"
     ]
    },
    {
     "name": "stderr",
     "output_type": "stream",
     "text": [
      "  5%|▌         | 21/401 [21:36<6:46:36, 64.20s/it]"
     ]
    },
    {
     "name": "stdout",
     "output_type": "stream",
     "text": [
      "Processing element 21\n"
     ]
    },
    {
     "name": "stderr",
     "output_type": "stream",
     "text": [
      "  5%|▌         | 22/401 [22:35<6:35:39, 62.64s/it]"
     ]
    },
    {
     "name": "stdout",
     "output_type": "stream",
     "text": [
      "Processing element 22\n"
     ]
    },
    {
     "name": "stderr",
     "output_type": "stream",
     "text": [
      "  6%|▌         | 23/401 [23:44<6:46:10, 64.47s/it]"
     ]
    },
    {
     "name": "stdout",
     "output_type": "stream",
     "text": [
      "Processing element 23\n"
     ]
    },
    {
     "name": "stderr",
     "output_type": "stream",
     "text": [
      "  6%|▌         | 24/401 [24:49<6:45:47, 64.58s/it]"
     ]
    },
    {
     "name": "stdout",
     "output_type": "stream",
     "text": [
      "Processing element 24\n"
     ]
    },
    {
     "name": "stderr",
     "output_type": "stream",
     "text": [
      "  6%|▌         | 25/401 [25:56<6:50:03, 65.44s/it]"
     ]
    },
    {
     "name": "stdout",
     "output_type": "stream",
     "text": [
      "Processing element 25\n"
     ]
    },
    {
     "name": "stderr",
     "output_type": "stream",
     "text": [
      "  6%|▋         | 26/401 [26:58<6:40:49, 64.13s/it]"
     ]
    },
    {
     "name": "stdout",
     "output_type": "stream",
     "text": [
      "Processing element 26\n"
     ]
    },
    {
     "name": "stderr",
     "output_type": "stream",
     "text": [
      "  7%|▋         | 27/401 [28:07<6:49:01, 65.62s/it]"
     ]
    },
    {
     "name": "stdout",
     "output_type": "stream",
     "text": [
      "Processing element 27\n"
     ]
    },
    {
     "name": "stderr",
     "output_type": "stream",
     "text": [
      "  7%|▋         | 28/401 [28:57<6:19:37, 61.07s/it]"
     ]
    },
    {
     "name": "stdout",
     "output_type": "stream",
     "text": [
      "Processing element 28\n"
     ]
    },
    {
     "name": "stderr",
     "output_type": "stream",
     "text": [
      "  7%|▋         | 29/401 [30:02<6:25:43, 62.22s/it]"
     ]
    },
    {
     "name": "stdout",
     "output_type": "stream",
     "text": [
      "Processing element 29\n"
     ]
    },
    {
     "name": "stderr",
     "output_type": "stream",
     "text": [
      "  7%|▋         | 30/401 [31:19<6:51:22, 66.53s/it]"
     ]
    },
    {
     "name": "stdout",
     "output_type": "stream",
     "text": [
      "Processing element 30\n"
     ]
    },
    {
     "name": "stderr",
     "output_type": "stream",
     "text": [
      "  8%|▊         | 31/401 [32:27<6:53:52, 67.12s/it]"
     ]
    },
    {
     "name": "stdout",
     "output_type": "stream",
     "text": [
      "Processing element 31\n"
     ]
    },
    {
     "name": "stderr",
     "output_type": "stream",
     "text": [
      "  8%|▊         | 32/401 [33:28<6:41:35, 65.30s/it]"
     ]
    },
    {
     "name": "stdout",
     "output_type": "stream",
     "text": [
      "Processing element 32\n"
     ]
    },
    {
     "name": "stderr",
     "output_type": "stream",
     "text": [
      "  8%|▊         | 33/401 [34:40<6:53:15, 67.38s/it]"
     ]
    },
    {
     "name": "stdout",
     "output_type": "stream",
     "text": [
      "Processing element 33\n"
     ]
    },
    {
     "name": "stderr",
     "output_type": "stream",
     "text": [
      "  8%|▊         | 34/401 [35:52<7:00:03, 68.67s/it]"
     ]
    },
    {
     "name": "stdout",
     "output_type": "stream",
     "text": [
      "Processing element 34\n"
     ]
    },
    {
     "name": "stderr",
     "output_type": "stream",
     "text": [
      "  9%|▊         | 35/401 [37:08<7:13:01, 70.99s/it]"
     ]
    },
    {
     "name": "stdout",
     "output_type": "stream",
     "text": [
      "Processing element 35\n"
     ]
    },
    {
     "name": "stderr",
     "output_type": "stream",
     "text": [
      "  9%|▉         | 36/401 [38:20<7:13:27, 71.25s/it]"
     ]
    },
    {
     "name": "stdout",
     "output_type": "stream",
     "text": [
      "Processing element 36\n"
     ]
    },
    {
     "name": "stderr",
     "output_type": "stream",
     "text": [
      "  9%|▉         | 37/401 [39:29<7:07:41, 70.50s/it]"
     ]
    },
    {
     "name": "stdout",
     "output_type": "stream",
     "text": [
      "Processing element 37\n"
     ]
    },
    {
     "name": "stderr",
     "output_type": "stream",
     "text": [
      "  9%|▉         | 38/401 [40:42<7:11:45, 71.37s/it]"
     ]
    },
    {
     "name": "stdout",
     "output_type": "stream",
     "text": [
      "Processing element 38\n"
     ]
    },
    {
     "name": "stderr",
     "output_type": "stream",
     "text": [
      " 10%|▉         | 39/401 [41:50<7:04:07, 70.30s/it]"
     ]
    },
    {
     "name": "stdout",
     "output_type": "stream",
     "text": [
      "Processing element 39\n"
     ]
    },
    {
     "name": "stderr",
     "output_type": "stream",
     "text": [
      " 10%|▉         | 40/401 [42:49<6:41:52, 66.79s/it]"
     ]
    },
    {
     "name": "stdout",
     "output_type": "stream",
     "text": [
      "Processing element 40\n"
     ]
    },
    {
     "name": "stderr",
     "output_type": "stream",
     "text": [
      " 10%|█         | 41/401 [43:58<6:44:40, 67.45s/it]"
     ]
    },
    {
     "name": "stdout",
     "output_type": "stream",
     "text": [
      "Processing element 41\n"
     ]
    },
    {
     "name": "stderr",
     "output_type": "stream",
     "text": [
      " 10%|█         | 42/401 [44:59<6:32:08, 65.54s/it]"
     ]
    },
    {
     "name": "stdout",
     "output_type": "stream",
     "text": [
      "Processing element 42\n"
     ]
    },
    {
     "name": "stderr",
     "output_type": "stream",
     "text": [
      " 11%|█         | 43/401 [46:04<6:29:52, 65.34s/it]"
     ]
    },
    {
     "name": "stdout",
     "output_type": "stream",
     "text": [
      "Processing element 43\n"
     ]
    },
    {
     "name": "stderr",
     "output_type": "stream",
     "text": [
      " 11%|█         | 44/401 [47:21<6:49:49, 68.88s/it]"
     ]
    },
    {
     "name": "stdout",
     "output_type": "stream",
     "text": [
      "Processing element 44\n"
     ]
    },
    {
     "name": "stderr",
     "output_type": "stream",
     "text": [
      " 11%|█         | 45/401 [48:35<6:57:05, 70.30s/it]"
     ]
    },
    {
     "name": "stdout",
     "output_type": "stream",
     "text": [
      "Processing element 45\n"
     ]
    },
    {
     "name": "stderr",
     "output_type": "stream",
     "text": [
      " 11%|█▏        | 46/401 [49:39<6:45:40, 68.56s/it]"
     ]
    },
    {
     "name": "stdout",
     "output_type": "stream",
     "text": [
      "Processing element 46\n"
     ]
    },
    {
     "name": "stderr",
     "output_type": "stream",
     "text": [
      " 12%|█▏        | 47/401 [50:53<6:54:07, 70.19s/it]"
     ]
    },
    {
     "name": "stdout",
     "output_type": "stream",
     "text": [
      "Processing element 47\n"
     ]
    },
    {
     "name": "stderr",
     "output_type": "stream",
     "text": [
      " 12%|█▏        | 48/401 [51:59<6:44:34, 68.77s/it]"
     ]
    },
    {
     "name": "stdout",
     "output_type": "stream",
     "text": [
      "Processing element 48\n"
     ]
    },
    {
     "name": "stderr",
     "output_type": "stream",
     "text": [
      " 12%|█▏        | 49/401 [53:07<6:42:55, 68.68s/it]"
     ]
    },
    {
     "name": "stdout",
     "output_type": "stream",
     "text": [
      "Processing element 49\n"
     ]
    },
    {
     "name": "stderr",
     "output_type": "stream",
     "text": [
      " 12%|█▏        | 50/401 [54:24<6:56:09, 71.14s/it]"
     ]
    },
    {
     "name": "stdout",
     "output_type": "stream",
     "text": [
      "Processing element 50\n"
     ]
    },
    {
     "name": "stderr",
     "output_type": "stream",
     "text": [
      " 13%|█▎        | 51/401 [55:26<6:39:35, 68.50s/it]"
     ]
    },
    {
     "name": "stdout",
     "output_type": "stream",
     "text": [
      "Processing element 51\n"
     ]
    },
    {
     "name": "stderr",
     "output_type": "stream",
     "text": [
      " 13%|█▎        | 52/401 [56:32<6:33:03, 67.57s/it]"
     ]
    },
    {
     "name": "stdout",
     "output_type": "stream",
     "text": [
      "Processing element 52\n"
     ]
    },
    {
     "name": "stderr",
     "output_type": "stream",
     "text": [
      " 13%|█▎        | 53/401 [57:50<6:50:02, 70.70s/it]"
     ]
    },
    {
     "name": "stdout",
     "output_type": "stream",
     "text": [
      "Processing element 53\n"
     ]
    },
    {
     "name": "stderr",
     "output_type": "stream",
     "text": [
      " 13%|█▎        | 54/401 [59:07<7:00:11, 72.66s/it]"
     ]
    },
    {
     "name": "stdout",
     "output_type": "stream",
     "text": [
      "Processing element 54\n"
     ]
    },
    {
     "name": "stderr",
     "output_type": "stream",
     "text": [
      " 14%|█▎        | 55/401 [1:00:17<6:54:16, 71.84s/it]"
     ]
    },
    {
     "name": "stdout",
     "output_type": "stream",
     "text": [
      "Processing element 55\n"
     ]
    },
    {
     "name": "stderr",
     "output_type": "stream",
     "text": [
      " 14%|█▍        | 56/401 [1:01:28<6:51:26, 71.56s/it]"
     ]
    },
    {
     "name": "stdout",
     "output_type": "stream",
     "text": [
      "Processing element 56\n"
     ]
    },
    {
     "name": "stderr",
     "output_type": "stream",
     "text": [
      " 14%|█▍        | 57/401 [1:02:36<6:43:54, 70.45s/it]"
     ]
    },
    {
     "name": "stdout",
     "output_type": "stream",
     "text": [
      "Processing element 57\n"
     ]
    },
    {
     "name": "stderr",
     "output_type": "stream",
     "text": [
      " 14%|█▍        | 58/401 [1:03:50<6:49:37, 71.66s/it]"
     ]
    },
    {
     "name": "stdout",
     "output_type": "stream",
     "text": [
      "Processing element 58\n"
     ]
    },
    {
     "name": "stderr",
     "output_type": "stream",
     "text": [
      " 15%|█▍        | 59/401 [1:04:50<6:28:56, 68.24s/it]"
     ]
    },
    {
     "name": "stdout",
     "output_type": "stream",
     "text": [
      "Processing element 59\n"
     ]
    },
    {
     "name": "stderr",
     "output_type": "stream",
     "text": [
      " 15%|█▍        | 60/401 [1:05:56<6:22:56, 67.38s/it]"
     ]
    },
    {
     "name": "stdout",
     "output_type": "stream",
     "text": [
      "Processing element 60\n"
     ]
    },
    {
     "name": "stderr",
     "output_type": "stream",
     "text": [
      " 15%|█▌        | 61/401 [1:07:09<6:31:23, 69.07s/it]"
     ]
    },
    {
     "name": "stdout",
     "output_type": "stream",
     "text": [
      "Processing element 61\n"
     ]
    },
    {
     "name": "stderr",
     "output_type": "stream",
     "text": [
      " 15%|█▌        | 62/401 [1:08:37<7:03:05, 74.88s/it]"
     ]
    },
    {
     "name": "stdout",
     "output_type": "stream",
     "text": [
      "Processing element 62\n"
     ]
    },
    {
     "name": "stderr",
     "output_type": "stream",
     "text": [
      " 16%|█▌        | 63/401 [1:09:29<6:22:33, 67.91s/it]"
     ]
    },
    {
     "name": "stdout",
     "output_type": "stream",
     "text": [
      "Processing element 63\n"
     ]
    },
    {
     "name": "stderr",
     "output_type": "stream",
     "text": [
      " 16%|█▌        | 64/401 [1:10:33<6:14:35, 66.69s/it]"
     ]
    },
    {
     "name": "stdout",
     "output_type": "stream",
     "text": [
      "Processing element 64\n"
     ]
    },
    {
     "name": "stderr",
     "output_type": "stream",
     "text": [
      " 16%|█▌        | 65/401 [1:11:39<6:12:17, 66.48s/it]"
     ]
    },
    {
     "name": "stdout",
     "output_type": "stream",
     "text": [
      "Processing element 65\n"
     ]
    },
    {
     "name": "stderr",
     "output_type": "stream",
     "text": [
      " 16%|█▋        | 66/401 [1:12:43<6:07:39, 65.85s/it]"
     ]
    },
    {
     "name": "stdout",
     "output_type": "stream",
     "text": [
      "Processing element 66\n"
     ]
    },
    {
     "name": "stderr",
     "output_type": "stream",
     "text": [
      " 17%|█▋        | 67/401 [1:14:02<6:28:16, 69.75s/it]"
     ]
    },
    {
     "name": "stdout",
     "output_type": "stream",
     "text": [
      "Processing element 67\n"
     ]
    },
    {
     "name": "stderr",
     "output_type": "stream",
     "text": [
      " 17%|█▋        | 68/401 [1:15:03<6:12:43, 67.16s/it]"
     ]
    },
    {
     "name": "stdout",
     "output_type": "stream",
     "text": [
      "Processing element 68\n"
     ]
    },
    {
     "name": "stderr",
     "output_type": "stream",
     "text": [
      " 17%|█▋        | 69/401 [1:16:11<6:13:18, 67.47s/it]"
     ]
    },
    {
     "name": "stdout",
     "output_type": "stream",
     "text": [
      "Processing element 69\n"
     ]
    },
    {
     "name": "stderr",
     "output_type": "stream",
     "text": [
      " 17%|█▋        | 70/401 [1:17:21<6:16:04, 68.17s/it]"
     ]
    },
    {
     "name": "stdout",
     "output_type": "stream",
     "text": [
      "Processing element 70\n"
     ]
    },
    {
     "name": "stderr",
     "output_type": "stream",
     "text": [
      " 18%|█▊        | 71/401 [1:18:28<6:13:15, 67.87s/it]"
     ]
    },
    {
     "name": "stdout",
     "output_type": "stream",
     "text": [
      "Processing element 71\n"
     ]
    },
    {
     "name": "stderr",
     "output_type": "stream",
     "text": [
      " 18%|█▊        | 72/401 [1:19:23<5:50:41, 63.96s/it]"
     ]
    },
    {
     "name": "stdout",
     "output_type": "stream",
     "text": [
      "Processing element 72\n"
     ]
    },
    {
     "name": "stderr",
     "output_type": "stream",
     "text": [
      " 18%|█▊        | 73/401 [1:20:28<5:51:34, 64.31s/it]"
     ]
    },
    {
     "name": "stdout",
     "output_type": "stream",
     "text": [
      "Processing element 73\n"
     ]
    },
    {
     "name": "stderr",
     "output_type": "stream",
     "text": [
      " 18%|█▊        | 74/401 [1:21:38<5:59:12, 65.91s/it]"
     ]
    },
    {
     "name": "stdout",
     "output_type": "stream",
     "text": [
      "Processing element 74\n"
     ]
    },
    {
     "name": "stderr",
     "output_type": "stream",
     "text": [
      " 19%|█▊        | 75/401 [1:22:34<5:42:53, 63.11s/it]"
     ]
    },
    {
     "name": "stdout",
     "output_type": "stream",
     "text": [
      "Processing element 75\n"
     ]
    },
    {
     "name": "stderr",
     "output_type": "stream",
     "text": [
      " 19%|█▉        | 76/401 [1:23:32<5:32:59, 61.48s/it]"
     ]
    },
    {
     "name": "stdout",
     "output_type": "stream",
     "text": [
      "Processing element 76\n"
     ]
    },
    {
     "name": "stderr",
     "output_type": "stream",
     "text": [
      " 19%|█▉        | 77/401 [1:24:50<5:59:03, 66.49s/it]"
     ]
    },
    {
     "name": "stdout",
     "output_type": "stream",
     "text": [
      "Processing element 77\n"
     ]
    },
    {
     "name": "stderr",
     "output_type": "stream",
     "text": [
      " 19%|█▉        | 78/401 [1:25:50<5:47:25, 64.54s/it]"
     ]
    },
    {
     "name": "stdout",
     "output_type": "stream",
     "text": [
      "Processing element 78\n"
     ]
    },
    {
     "name": "stderr",
     "output_type": "stream",
     "text": [
      " 20%|█▉        | 79/401 [1:27:00<5:54:53, 66.13s/it]"
     ]
    },
    {
     "name": "stdout",
     "output_type": "stream",
     "text": [
      "Processing element 79\n"
     ]
    },
    {
     "name": "stderr",
     "output_type": "stream",
     "text": [
      " 20%|█▉        | 80/401 [1:28:05<5:52:06, 65.82s/it]"
     ]
    },
    {
     "name": "stdout",
     "output_type": "stream",
     "text": [
      "Processing element 80\n"
     ]
    },
    {
     "name": "stderr",
     "output_type": "stream",
     "text": [
      " 20%|██        | 81/401 [1:29:21<6:07:51, 68.97s/it]"
     ]
    },
    {
     "name": "stdout",
     "output_type": "stream",
     "text": [
      "Processing element 81\n"
     ]
    },
    {
     "name": "stderr",
     "output_type": "stream",
     "text": [
      " 20%|██        | 82/401 [1:30:31<6:07:13, 69.07s/it]"
     ]
    },
    {
     "name": "stdout",
     "output_type": "stream",
     "text": [
      "Processing element 82\n"
     ]
    },
    {
     "name": "stderr",
     "output_type": "stream",
     "text": [
      " 21%|██        | 83/401 [1:31:44<6:12:49, 70.34s/it]"
     ]
    },
    {
     "name": "stdout",
     "output_type": "stream",
     "text": [
      "Processing element 83\n"
     ]
    },
    {
     "name": "stderr",
     "output_type": "stream",
     "text": [
      " 21%|██        | 84/401 [1:33:26<7:01:51, 79.85s/it]"
     ]
    },
    {
     "name": "stdout",
     "output_type": "stream",
     "text": [
      "Processing element 84\n"
     ]
    },
    {
     "name": "stderr",
     "output_type": "stream",
     "text": [
      " 21%|██        | 85/401 [1:34:27<6:29:58, 74.05s/it]"
     ]
    },
    {
     "name": "stdout",
     "output_type": "stream",
     "text": [
      "Processing element 85\n"
     ]
    },
    {
     "name": "stderr",
     "output_type": "stream",
     "text": [
      " 21%|██▏       | 86/401 [1:35:28<6:08:33, 70.20s/it]"
     ]
    },
    {
     "name": "stdout",
     "output_type": "stream",
     "text": [
      "Processing element 86\n"
     ]
    },
    {
     "name": "stderr",
     "output_type": "stream",
     "text": [
      " 22%|██▏       | 87/401 [1:36:27<5:50:55, 67.06s/it]"
     ]
    },
    {
     "name": "stdout",
     "output_type": "stream",
     "text": [
      "Processing element 87\n"
     ]
    },
    {
     "name": "stderr",
     "output_type": "stream",
     "text": [
      " 22%|██▏       | 88/401 [1:37:18<5:23:46, 62.07s/it]"
     ]
    },
    {
     "name": "stdout",
     "output_type": "stream",
     "text": [
      "Processing element 88\n"
     ]
    },
    {
     "name": "stderr",
     "output_type": "stream",
     "text": [
      " 22%|██▏       | 89/401 [1:38:27<5:33:16, 64.09s/it]"
     ]
    },
    {
     "name": "stdout",
     "output_type": "stream",
     "text": [
      "Processing element 89\n"
     ]
    },
    {
     "name": "stderr",
     "output_type": "stream",
     "text": [
      " 22%|██▏       | 90/401 [1:39:28<5:28:18, 63.34s/it]"
     ]
    },
    {
     "name": "stdout",
     "output_type": "stream",
     "text": [
      "Processing element 90\n"
     ]
    },
    {
     "name": "stderr",
     "output_type": "stream",
     "text": [
      " 23%|██▎       | 91/401 [1:40:34<5:30:59, 64.06s/it]"
     ]
    },
    {
     "name": "stdout",
     "output_type": "stream",
     "text": [
      "Processing element 91\n"
     ]
    },
    {
     "name": "stderr",
     "output_type": "stream",
     "text": [
      " 23%|██▎       | 92/401 [1:41:34<5:23:12, 62.76s/it]"
     ]
    },
    {
     "name": "stdout",
     "output_type": "stream",
     "text": [
      "Processing element 92\n"
     ]
    },
    {
     "name": "stderr",
     "output_type": "stream",
     "text": [
      " 23%|██▎       | 93/401 [1:42:40<5:27:50, 63.87s/it]"
     ]
    },
    {
     "name": "stdout",
     "output_type": "stream",
     "text": [
      "Processing element 93\n"
     ]
    },
    {
     "name": "stderr",
     "output_type": "stream",
     "text": [
      " 23%|██▎       | 94/401 [1:44:01<5:53:12, 69.03s/it]"
     ]
    },
    {
     "name": "stdout",
     "output_type": "stream",
     "text": [
      "Processing element 94\n"
     ]
    },
    {
     "name": "stderr",
     "output_type": "stream",
     "text": [
      " 24%|██▎       | 95/401 [1:45:05<5:44:02, 67.46s/it]"
     ]
    },
    {
     "name": "stdout",
     "output_type": "stream",
     "text": [
      "Processing element 95\n"
     ]
    },
    {
     "name": "stderr",
     "output_type": "stream",
     "text": [
      " 24%|██▍       | 96/401 [1:46:16<5:48:20, 68.53s/it]"
     ]
    },
    {
     "name": "stdout",
     "output_type": "stream",
     "text": [
      "Processing element 96\n"
     ]
    },
    {
     "name": "stderr",
     "output_type": "stream",
     "text": [
      " 24%|██▍       | 97/401 [1:47:19<5:38:14, 66.76s/it]"
     ]
    },
    {
     "name": "stdout",
     "output_type": "stream",
     "text": [
      "Processing element 97\n"
     ]
    },
    {
     "name": "stderr",
     "output_type": "stream",
     "text": [
      " 24%|██▍       | 98/401 [1:48:27<5:39:12, 67.17s/it]"
     ]
    },
    {
     "name": "stdout",
     "output_type": "stream",
     "text": [
      "Processing element 98\n"
     ]
    },
    {
     "name": "stderr",
     "output_type": "stream",
     "text": [
      " 25%|██▍       | 99/401 [1:49:20<5:17:21, 63.05s/it]"
     ]
    },
    {
     "name": "stdout",
     "output_type": "stream",
     "text": [
      "Processing element 99\n"
     ]
    },
    {
     "name": "stderr",
     "output_type": "stream",
     "text": [
      " 25%|██▍       | 100/401 [1:50:29<5:25:12, 64.83s/it]"
     ]
    },
    {
     "name": "stdout",
     "output_type": "stream",
     "text": [
      "Processing element 100\n"
     ]
    },
    {
     "name": "stderr",
     "output_type": "stream",
     "text": [
      " 25%|██▌       | 101/401 [1:51:46<5:41:57, 68.39s/it]"
     ]
    },
    {
     "name": "stdout",
     "output_type": "stream",
     "text": [
      "Processing element 101\n"
     ]
    },
    {
     "name": "stderr",
     "output_type": "stream",
     "text": [
      " 25%|██▌       | 102/401 [1:52:51<5:36:23, 67.50s/it]"
     ]
    },
    {
     "name": "stdout",
     "output_type": "stream",
     "text": [
      "Processing element 102\n"
     ]
    },
    {
     "name": "stderr",
     "output_type": "stream",
     "text": [
      " 26%|██▌       | 103/401 [1:53:47<5:18:08, 64.05s/it]"
     ]
    },
    {
     "name": "stdout",
     "output_type": "stream",
     "text": [
      "Processing element 103\n"
     ]
    },
    {
     "name": "stderr",
     "output_type": "stream",
     "text": [
      " 26%|██▌       | 104/401 [1:54:58<5:26:53, 66.04s/it]"
     ]
    },
    {
     "name": "stdout",
     "output_type": "stream",
     "text": [
      "Processing element 104\n"
     ]
    },
    {
     "name": "stderr",
     "output_type": "stream",
     "text": [
      " 26%|██▌       | 105/401 [1:56:06<5:28:32, 66.60s/it]"
     ]
    },
    {
     "name": "stdout",
     "output_type": "stream",
     "text": [
      "Processing element 105\n"
     ]
    },
    {
     "name": "stderr",
     "output_type": "stream",
     "text": [
      " 26%|██▋       | 106/401 [1:57:19<5:36:10, 68.38s/it]"
     ]
    },
    {
     "name": "stdout",
     "output_type": "stream",
     "text": [
      "Processing element 106\n"
     ]
    },
    {
     "name": "stderr",
     "output_type": "stream",
     "text": [
      " 27%|██▋       | 107/401 [1:58:31<5:40:28, 69.48s/it]"
     ]
    },
    {
     "name": "stdout",
     "output_type": "stream",
     "text": [
      "Processing element 107\n"
     ]
    },
    {
     "name": "stderr",
     "output_type": "stream",
     "text": [
      " 27%|██▋       | 108/401 [1:59:44<5:44:27, 70.54s/it]"
     ]
    },
    {
     "name": "stdout",
     "output_type": "stream",
     "text": [
      "Processing element 108\n"
     ]
    },
    {
     "name": "stderr",
     "output_type": "stream",
     "text": [
      " 27%|██▋       | 109/401 [2:00:48<5:34:07, 68.66s/it]"
     ]
    },
    {
     "name": "stdout",
     "output_type": "stream",
     "text": [
      "Processing element 109\n"
     ]
    },
    {
     "name": "stderr",
     "output_type": "stream",
     "text": [
      " 27%|██▋       | 110/401 [2:01:42<5:11:56, 64.32s/it]"
     ]
    },
    {
     "name": "stdout",
     "output_type": "stream",
     "text": [
      "Processing element 110\n"
     ]
    },
    {
     "name": "stderr",
     "output_type": "stream",
     "text": [
      " 28%|██▊       | 111/401 [2:03:01<5:31:25, 68.57s/it]"
     ]
    },
    {
     "name": "stdout",
     "output_type": "stream",
     "text": [
      "Processing element 111\n"
     ]
    },
    {
     "name": "stderr",
     "output_type": "stream",
     "text": [
      " 28%|██▊       | 112/401 [2:04:14<5:37:33, 70.08s/it]"
     ]
    },
    {
     "name": "stdout",
     "output_type": "stream",
     "text": [
      "Processing element 112\n"
     ]
    },
    {
     "name": "stderr",
     "output_type": "stream",
     "text": [
      " 28%|██▊       | 113/401 [2:05:23<5:35:13, 69.84s/it]"
     ]
    },
    {
     "name": "stdout",
     "output_type": "stream",
     "text": [
      "Processing element 113\n"
     ]
    },
    {
     "name": "stderr",
     "output_type": "stream",
     "text": [
      " 28%|██▊       | 114/401 [2:06:16<5:09:33, 64.72s/it]"
     ]
    },
    {
     "name": "stdout",
     "output_type": "stream",
     "text": [
      "Processing element 114\n"
     ]
    },
    {
     "name": "stderr",
     "output_type": "stream",
     "text": [
      " 29%|██▊       | 115/401 [2:07:21<5:08:39, 64.75s/it]"
     ]
    },
    {
     "name": "stdout",
     "output_type": "stream",
     "text": [
      "Processing element 115\n"
     ]
    },
    {
     "name": "stderr",
     "output_type": "stream",
     "text": [
      " 29%|██▉       | 116/401 [2:08:38<5:24:49, 68.39s/it]"
     ]
    },
    {
     "name": "stdout",
     "output_type": "stream",
     "text": [
      "Processing element 116\n"
     ]
    },
    {
     "name": "stderr",
     "output_type": "stream",
     "text": [
      " 29%|██▉       | 117/401 [2:09:53<5:33:00, 70.35s/it]"
     ]
    },
    {
     "name": "stdout",
     "output_type": "stream",
     "text": [
      "Processing element 117\n"
     ]
    },
    {
     "name": "stderr",
     "output_type": "stream",
     "text": [
      " 29%|██▉       | 118/401 [2:10:54<5:19:14, 67.68s/it]"
     ]
    },
    {
     "name": "stdout",
     "output_type": "stream",
     "text": [
      "Processing element 118\n"
     ]
    },
    {
     "name": "stderr",
     "output_type": "stream",
     "text": [
      " 30%|██▉       | 119/401 [2:11:55<5:08:27, 65.63s/it]"
     ]
    },
    {
     "name": "stdout",
     "output_type": "stream",
     "text": [
      "Processing element 119\n"
     ]
    },
    {
     "name": "stderr",
     "output_type": "stream",
     "text": [
      " 30%|██▉       | 120/401 [2:12:50<4:52:52, 62.53s/it]"
     ]
    },
    {
     "name": "stdout",
     "output_type": "stream",
     "text": [
      "Processing element 120\n"
     ]
    },
    {
     "name": "stderr",
     "output_type": "stream",
     "text": [
      " 30%|███       | 121/401 [2:13:55<4:54:54, 63.19s/it]"
     ]
    },
    {
     "name": "stdout",
     "output_type": "stream",
     "text": [
      "Processing element 121\n"
     ]
    },
    {
     "name": "stderr",
     "output_type": "stream",
     "text": [
      " 30%|███       | 122/401 [2:15:12<5:13:09, 67.35s/it]"
     ]
    },
    {
     "name": "stdout",
     "output_type": "stream",
     "text": [
      "Processing element 122\n"
     ]
    },
    {
     "name": "stderr",
     "output_type": "stream",
     "text": [
      " 31%|███       | 123/401 [2:16:01<4:46:21, 61.80s/it]"
     ]
    },
    {
     "name": "stdout",
     "output_type": "stream",
     "text": [
      "Processing element 123\n"
     ]
    },
    {
     "name": "stderr",
     "output_type": "stream",
     "text": [
      " 31%|███       | 124/401 [2:17:02<4:43:45, 61.46s/it]"
     ]
    },
    {
     "name": "stdout",
     "output_type": "stream",
     "text": [
      "Processing element 124\n"
     ]
    },
    {
     "name": "stderr",
     "output_type": "stream",
     "text": [
      " 31%|███       | 125/401 [2:18:07<4:47:34, 62.51s/it]"
     ]
    },
    {
     "name": "stdout",
     "output_type": "stream",
     "text": [
      "Processing element 125\n"
     ]
    },
    {
     "name": "stderr",
     "output_type": "stream",
     "text": [
      " 31%|███▏      | 126/401 [2:19:09<4:45:38, 62.32s/it]"
     ]
    },
    {
     "name": "stdout",
     "output_type": "stream",
     "text": [
      "Processing element 126\n"
     ]
    },
    {
     "name": "stderr",
     "output_type": "stream",
     "text": [
      " 32%|███▏      | 127/401 [2:20:14<4:49:17, 63.35s/it]"
     ]
    },
    {
     "name": "stdout",
     "output_type": "stream",
     "text": [
      "Processing element 127\n"
     ]
    },
    {
     "name": "stderr",
     "output_type": "stream",
     "text": [
      " 32%|███▏      | 128/401 [2:21:21<4:52:50, 64.36s/it]"
     ]
    },
    {
     "name": "stdout",
     "output_type": "stream",
     "text": [
      "Processing element 128\n"
     ]
    },
    {
     "name": "stderr",
     "output_type": "stream",
     "text": [
      " 32%|███▏      | 129/401 [2:22:28<4:55:20, 65.15s/it]"
     ]
    },
    {
     "name": "stdout",
     "output_type": "stream",
     "text": [
      "Processing element 129\n"
     ]
    },
    {
     "name": "stderr",
     "output_type": "stream",
     "text": [
      " 32%|███▏      | 130/401 [2:23:32<4:52:26, 64.75s/it]"
     ]
    },
    {
     "name": "stdout",
     "output_type": "stream",
     "text": [
      "Processing element 130\n"
     ]
    },
    {
     "name": "stderr",
     "output_type": "stream",
     "text": [
      " 33%|███▎      | 131/401 [2:24:36<4:50:50, 64.63s/it]"
     ]
    },
    {
     "name": "stdout",
     "output_type": "stream",
     "text": [
      "Processing element 131\n"
     ]
    },
    {
     "name": "stderr",
     "output_type": "stream",
     "text": [
      " 33%|███▎      | 132/401 [2:25:25<4:27:50, 59.74s/it]"
     ]
    },
    {
     "name": "stdout",
     "output_type": "stream",
     "text": [
      "Processing element 132\n"
     ]
    },
    {
     "name": "stderr",
     "output_type": "stream",
     "text": [
      " 33%|███▎      | 133/401 [2:26:28<4:32:01, 60.90s/it]"
     ]
    },
    {
     "name": "stdout",
     "output_type": "stream",
     "text": [
      "Processing element 133\n"
     ]
    },
    {
     "name": "stderr",
     "output_type": "stream",
     "text": [
      " 33%|███▎      | 134/401 [2:27:35<4:38:35, 62.61s/it]"
     ]
    },
    {
     "name": "stdout",
     "output_type": "stream",
     "text": [
      "Processing element 134\n"
     ]
    },
    {
     "name": "stderr",
     "output_type": "stream",
     "text": [
      " 34%|███▎      | 135/401 [2:28:59<5:05:46, 68.97s/it]"
     ]
    },
    {
     "name": "stdout",
     "output_type": "stream",
     "text": [
      "Processing element 135\n"
     ]
    },
    {
     "name": "stderr",
     "output_type": "stream",
     "text": [
      " 34%|███▍      | 136/401 [2:30:01<4:56:20, 67.10s/it]"
     ]
    },
    {
     "name": "stdout",
     "output_type": "stream",
     "text": [
      "Processing element 136\n"
     ]
    },
    {
     "name": "stderr",
     "output_type": "stream",
     "text": [
      " 34%|███▍      | 137/401 [2:31:12<4:59:52, 68.15s/it]"
     ]
    },
    {
     "name": "stdout",
     "output_type": "stream",
     "text": [
      "Processing element 137\n"
     ]
    },
    {
     "name": "stderr",
     "output_type": "stream",
     "text": [
      " 34%|███▍      | 138/401 [2:32:18<4:56:31, 67.65s/it]"
     ]
    },
    {
     "name": "stdout",
     "output_type": "stream",
     "text": [
      "Processing element 138\n"
     ]
    },
    {
     "name": "stderr",
     "output_type": "stream",
     "text": [
      " 35%|███▍      | 139/401 [2:33:31<5:01:29, 69.04s/it]"
     ]
    },
    {
     "name": "stdout",
     "output_type": "stream",
     "text": [
      "Processing element 139\n"
     ]
    },
    {
     "name": "stderr",
     "output_type": "stream",
     "text": [
      " 35%|███▍      | 140/401 [2:34:33<4:51:23, 66.98s/it]"
     ]
    },
    {
     "name": "stdout",
     "output_type": "stream",
     "text": [
      "Processing element 140\n"
     ]
    },
    {
     "name": "stderr",
     "output_type": "stream",
     "text": [
      " 35%|███▌      | 141/401 [2:35:44<4:55:31, 68.20s/it]"
     ]
    },
    {
     "name": "stdout",
     "output_type": "stream",
     "text": [
      "Processing element 141\n"
     ]
    },
    {
     "name": "stderr",
     "output_type": "stream",
     "text": [
      " 35%|███▌      | 142/401 [2:36:36<4:33:21, 63.32s/it]"
     ]
    },
    {
     "name": "stdout",
     "output_type": "stream",
     "text": [
      "Processing element 142\n"
     ]
    },
    {
     "name": "stderr",
     "output_type": "stream",
     "text": [
      " 36%|███▌      | 143/401 [2:37:40<4:33:50, 63.68s/it]"
     ]
    },
    {
     "name": "stdout",
     "output_type": "stream",
     "text": [
      "Processing element 143\n"
     ]
    },
    {
     "name": "stderr",
     "output_type": "stream",
     "text": [
      " 36%|███▌      | 144/401 [2:38:46<4:35:41, 64.36s/it]"
     ]
    },
    {
     "name": "stdout",
     "output_type": "stream",
     "text": [
      "Processing element 144\n"
     ]
    },
    {
     "name": "stderr",
     "output_type": "stream",
     "text": [
      " 36%|███▌      | 145/401 [2:39:47<4:30:29, 63.39s/it]"
     ]
    },
    {
     "name": "stdout",
     "output_type": "stream",
     "text": [
      "Processing element 145\n"
     ]
    },
    {
     "name": "stderr",
     "output_type": "stream",
     "text": [
      " 37%|███▋      | 147/401 [2:42:07<4:40:53, 66.35s/it]"
     ]
    },
    {
     "name": "stdout",
     "output_type": "stream",
     "text": [
      "Processing element 147\n"
     ]
    },
    {
     "name": "stderr",
     "output_type": "stream",
     "text": [
      " 37%|███▋      | 148/401 [2:43:14<4:41:00, 66.64s/it]"
     ]
    },
    {
     "name": "stdout",
     "output_type": "stream",
     "text": [
      "Processing element 148\n"
     ]
    },
    {
     "name": "stderr",
     "output_type": "stream",
     "text": [
      " 37%|███▋      | 149/401 [2:44:16<4:33:41, 65.16s/it]"
     ]
    },
    {
     "name": "stdout",
     "output_type": "stream",
     "text": [
      "Processing element 149\n"
     ]
    },
    {
     "name": "stderr",
     "output_type": "stream",
     "text": [
      " 37%|███▋      | 150/401 [2:45:28<4:40:58, 67.17s/it]"
     ]
    },
    {
     "name": "stdout",
     "output_type": "stream",
     "text": [
      "Processing element 150\n"
     ]
    },
    {
     "name": "stderr",
     "output_type": "stream",
     "text": [
      " 38%|███▊      | 151/401 [2:46:35<4:39:25, 67.06s/it]"
     ]
    },
    {
     "name": "stdout",
     "output_type": "stream",
     "text": [
      "Processing element 151\n"
     ]
    },
    {
     "name": "stderr",
     "output_type": "stream",
     "text": [
      " 38%|███▊      | 152/401 [2:47:39<4:34:27, 66.13s/it]"
     ]
    },
    {
     "name": "stdout",
     "output_type": "stream",
     "text": [
      "Processing element 152\n"
     ]
    },
    {
     "name": "stderr",
     "output_type": "stream",
     "text": [
      " 38%|███▊      | 153/401 [2:48:43<4:31:24, 65.66s/it]"
     ]
    },
    {
     "name": "stdout",
     "output_type": "stream",
     "text": [
      "Processing element 153\n"
     ]
    },
    {
     "name": "stderr",
     "output_type": "stream",
     "text": [
      " 38%|███▊      | 154/401 [2:49:37<4:15:12, 62.00s/it]"
     ]
    },
    {
     "name": "stdout",
     "output_type": "stream",
     "text": [
      "Processing element 154\n"
     ]
    },
    {
     "name": "stderr",
     "output_type": "stream",
     "text": [
      " 39%|███▊      | 155/401 [2:50:40<4:15:51, 62.41s/it]"
     ]
    },
    {
     "name": "stdout",
     "output_type": "stream",
     "text": [
      "Processing element 155\n"
     ]
    },
    {
     "name": "stderr",
     "output_type": "stream",
     "text": [
      " 39%|███▉      | 156/401 [2:51:51<4:25:48, 65.10s/it]"
     ]
    },
    {
     "name": "stdout",
     "output_type": "stream",
     "text": [
      "Processing element 156\n"
     ]
    },
    {
     "name": "stderr",
     "output_type": "stream",
     "text": [
      " 39%|███▉      | 157/401 [2:52:58<4:26:01, 65.42s/it]"
     ]
    },
    {
     "name": "stdout",
     "output_type": "stream",
     "text": [
      "Processing element 157\n"
     ]
    },
    {
     "name": "stderr",
     "output_type": "stream",
     "text": [
      " 39%|███▉      | 158/401 [2:53:52<4:11:51, 62.19s/it]"
     ]
    },
    {
     "name": "stdout",
     "output_type": "stream",
     "text": [
      "Processing element 158\n"
     ]
    },
    {
     "name": "stderr",
     "output_type": "stream",
     "text": [
      " 40%|███▉      | 159/401 [2:54:56<4:13:08, 62.76s/it]"
     ]
    },
    {
     "name": "stdout",
     "output_type": "stream",
     "text": [
      "Processing element 159\n"
     ]
    },
    {
     "name": "stderr",
     "output_type": "stream",
     "text": [
      " 40%|███▉      | 160/401 [2:56:09<4:24:18, 65.80s/it]"
     ]
    },
    {
     "name": "stdout",
     "output_type": "stream",
     "text": [
      "Processing element 160\n"
     ]
    },
    {
     "name": "stderr",
     "output_type": "stream",
     "text": [
      " 40%|████      | 161/401 [2:57:12<4:19:03, 64.76s/it]"
     ]
    },
    {
     "name": "stdout",
     "output_type": "stream",
     "text": [
      "Processing element 161\n"
     ]
    },
    {
     "name": "stderr",
     "output_type": "stream",
     "text": [
      " 40%|████      | 162/401 [2:58:22<4:24:24, 66.38s/it]"
     ]
    },
    {
     "name": "stdout",
     "output_type": "stream",
     "text": [
      "Processing element 162\n"
     ]
    },
    {
     "name": "stderr",
     "output_type": "stream",
     "text": [
      " 41%|████      | 163/401 [2:59:26<4:20:54, 65.78s/it]"
     ]
    },
    {
     "name": "stdout",
     "output_type": "stream",
     "text": [
      "Processing element 163\n"
     ]
    },
    {
     "name": "stderr",
     "output_type": "stream",
     "text": [
      " 41%|████      | 164/401 [3:00:49<4:40:35, 71.04s/it]"
     ]
    },
    {
     "name": "stdout",
     "output_type": "stream",
     "text": [
      "Processing element 164\n"
     ]
    },
    {
     "name": "stderr",
     "output_type": "stream",
     "text": [
      " 41%|████      | 165/401 [3:02:05<4:44:56, 72.44s/it]"
     ]
    },
    {
     "name": "stdout",
     "output_type": "stream",
     "text": [
      "Processing element 165\n"
     ]
    },
    {
     "name": "stderr",
     "output_type": "stream",
     "text": [
      " 41%|████▏     | 166/401 [3:03:08<4:32:46, 69.65s/it]"
     ]
    },
    {
     "name": "stdout",
     "output_type": "stream",
     "text": [
      "Processing element 166\n"
     ]
    },
    {
     "name": "stderr",
     "output_type": "stream",
     "text": [
      " 42%|████▏     | 167/401 [3:04:08<4:20:24, 66.77s/it]"
     ]
    },
    {
     "name": "stdout",
     "output_type": "stream",
     "text": [
      "Processing element 167\n"
     ]
    },
    {
     "name": "stderr",
     "output_type": "stream",
     "text": [
      " 42%|████▏     | 168/401 [3:05:21<4:25:51, 68.46s/it]"
     ]
    },
    {
     "name": "stdout",
     "output_type": "stream",
     "text": [
      "Processing element 168\n"
     ]
    },
    {
     "name": "stderr",
     "output_type": "stream",
     "text": [
      " 42%|████▏     | 169/401 [3:06:27<4:22:22, 67.85s/it]"
     ]
    },
    {
     "name": "stdout",
     "output_type": "stream",
     "text": [
      "Processing element 169\n"
     ]
    },
    {
     "name": "stderr",
     "output_type": "stream",
     "text": [
      " 42%|████▏     | 170/401 [3:07:36<4:22:00, 68.05s/it]"
     ]
    },
    {
     "name": "stdout",
     "output_type": "stream",
     "text": [
      "Processing element 170\n"
     ]
    },
    {
     "name": "stderr",
     "output_type": "stream",
     "text": [
      " 43%|████▎     | 171/401 [3:08:42<4:18:32, 67.45s/it]"
     ]
    },
    {
     "name": "stdout",
     "output_type": "stream",
     "text": [
      "Processing element 171\n"
     ]
    },
    {
     "name": "stderr",
     "output_type": "stream",
     "text": [
      " 43%|████▎     | 172/401 [3:09:47<4:14:55, 66.79s/it]"
     ]
    },
    {
     "name": "stdout",
     "output_type": "stream",
     "text": [
      "Processing element 172\n"
     ]
    },
    {
     "name": "stderr",
     "output_type": "stream",
     "text": [
      " 43%|████▎     | 173/401 [3:10:55<4:15:35, 67.26s/it]"
     ]
    },
    {
     "name": "stdout",
     "output_type": "stream",
     "text": [
      "Processing element 173\n"
     ]
    },
    {
     "name": "stderr",
     "output_type": "stream",
     "text": [
      " 43%|████▎     | 174/401 [3:12:09<4:21:42, 69.17s/it]"
     ]
    },
    {
     "name": "stdout",
     "output_type": "stream",
     "text": [
      "Processing element 174\n"
     ]
    },
    {
     "name": "stderr",
     "output_type": "stream",
     "text": [
      " 44%|████▎     | 175/401 [3:13:20<4:22:17, 69.63s/it]"
     ]
    },
    {
     "name": "stdout",
     "output_type": "stream",
     "text": [
      "Processing element 175\n"
     ]
    },
    {
     "name": "stderr",
     "output_type": "stream",
     "text": [
      " 44%|████▍     | 176/401 [3:14:32<4:23:53, 70.37s/it]"
     ]
    },
    {
     "name": "stdout",
     "output_type": "stream",
     "text": [
      "Processing element 176\n"
     ]
    },
    {
     "name": "stderr",
     "output_type": "stream",
     "text": [
      " 44%|████▍     | 177/401 [3:15:44<4:24:26, 70.83s/it]"
     ]
    },
    {
     "name": "stdout",
     "output_type": "stream",
     "text": [
      "Processing element 177\n"
     ]
    },
    {
     "name": "stderr",
     "output_type": "stream",
     "text": [
      " 44%|████▍     | 178/401 [3:16:51<4:19:43, 69.88s/it]"
     ]
    },
    {
     "name": "stdout",
     "output_type": "stream",
     "text": [
      "Processing element 178\n"
     ]
    },
    {
     "name": "stderr",
     "output_type": "stream",
     "text": [
      " 45%|████▍     | 179/401 [3:17:55<4:11:39, 68.01s/it]"
     ]
    },
    {
     "name": "stdout",
     "output_type": "stream",
     "text": [
      "Processing element 179\n"
     ]
    },
    {
     "name": "stderr",
     "output_type": "stream",
     "text": [
      " 45%|████▍     | 180/401 [3:19:02<4:09:14, 67.67s/it]"
     ]
    },
    {
     "name": "stdout",
     "output_type": "stream",
     "text": [
      "Processing element 180\n"
     ]
    },
    {
     "name": "stderr",
     "output_type": "stream",
     "text": [
      " 45%|████▌     | 181/401 [3:20:00<3:57:41, 64.83s/it]"
     ]
    },
    {
     "name": "stdout",
     "output_type": "stream",
     "text": [
      "Processing element 181\n"
     ]
    },
    {
     "name": "stderr",
     "output_type": "stream",
     "text": [
      " 45%|████▌     | 182/401 [3:20:58<3:48:32, 62.62s/it]"
     ]
    },
    {
     "name": "stdout",
     "output_type": "stream",
     "text": [
      "Processing element 182\n"
     ]
    },
    {
     "name": "stderr",
     "output_type": "stream",
     "text": [
      " 46%|████▌     | 183/401 [3:22:04<3:51:42, 63.77s/it]"
     ]
    },
    {
     "name": "stdout",
     "output_type": "stream",
     "text": [
      "Processing element 183\n"
     ]
    },
    {
     "name": "stderr",
     "output_type": "stream",
     "text": [
      " 46%|████▌     | 184/401 [3:23:07<3:49:29, 63.46s/it]"
     ]
    },
    {
     "name": "stdout",
     "output_type": "stream",
     "text": [
      "Processing element 184\n"
     ]
    },
    {
     "name": "stderr",
     "output_type": "stream",
     "text": [
      " 46%|████▌     | 185/401 [3:24:15<3:53:19, 64.81s/it]"
     ]
    },
    {
     "name": "stdout",
     "output_type": "stream",
     "text": [
      "Processing element 185\n"
     ]
    },
    {
     "name": "stderr",
     "output_type": "stream",
     "text": [
      " 46%|████▋     | 186/401 [3:25:06<3:37:51, 60.80s/it]"
     ]
    },
    {
     "name": "stdout",
     "output_type": "stream",
     "text": [
      "Processing element 186\n"
     ]
    },
    {
     "name": "stderr",
     "output_type": "stream",
     "text": [
      " 47%|████▋     | 187/401 [3:26:11<3:41:29, 62.10s/it]"
     ]
    },
    {
     "name": "stdout",
     "output_type": "stream",
     "text": [
      "Processing element 187\n"
     ]
    },
    {
     "name": "stderr",
     "output_type": "stream",
     "text": [
      " 47%|████▋     | 188/401 [3:27:09<3:36:17, 60.93s/it]"
     ]
    },
    {
     "name": "stdout",
     "output_type": "stream",
     "text": [
      "Processing element 188\n"
     ]
    },
    {
     "name": "stderr",
     "output_type": "stream",
     "text": [
      " 47%|████▋     | 189/401 [3:28:24<3:49:52, 65.06s/it]"
     ]
    },
    {
     "name": "stdout",
     "output_type": "stream",
     "text": [
      "Processing element 189\n"
     ]
    },
    {
     "name": "stderr",
     "output_type": "stream",
     "text": [
      " 47%|████▋     | 190/401 [3:29:30<3:50:01, 65.41s/it]"
     ]
    },
    {
     "name": "stdout",
     "output_type": "stream",
     "text": [
      "Processing element 190\n"
     ]
    },
    {
     "name": "stderr",
     "output_type": "stream",
     "text": [
      " 48%|████▊     | 191/401 [3:30:33<3:45:40, 64.48s/it]"
     ]
    },
    {
     "name": "stdout",
     "output_type": "stream",
     "text": [
      "Processing element 191\n"
     ]
    },
    {
     "name": "stderr",
     "output_type": "stream",
     "text": [
      " 48%|████▊     | 192/401 [3:31:35<3:42:41, 63.93s/it]"
     ]
    },
    {
     "name": "stdout",
     "output_type": "stream",
     "text": [
      "Processing element 192\n"
     ]
    },
    {
     "name": "stderr",
     "output_type": "stream",
     "text": [
      " 48%|████▊     | 193/401 [3:32:42<3:44:36, 64.79s/it]"
     ]
    },
    {
     "name": "stdout",
     "output_type": "stream",
     "text": [
      "Processing element 193\n"
     ]
    },
    {
     "name": "stderr",
     "output_type": "stream",
     "text": [
      " 48%|████▊     | 194/401 [3:33:52<3:48:43, 66.30s/it]"
     ]
    },
    {
     "name": "stdout",
     "output_type": "stream",
     "text": [
      "Processing element 194\n"
     ]
    },
    {
     "name": "stderr",
     "output_type": "stream",
     "text": [
      " 49%|████▊     | 195/401 [3:35:02<3:51:15, 67.36s/it]"
     ]
    },
    {
     "name": "stdout",
     "output_type": "stream",
     "text": [
      "Processing element 195\n"
     ]
    },
    {
     "name": "stderr",
     "output_type": "stream",
     "text": [
      " 49%|████▉     | 196/401 [3:36:03<3:44:05, 65.59s/it]"
     ]
    },
    {
     "name": "stdout",
     "output_type": "stream",
     "text": [
      "Processing element 196\n"
     ]
    },
    {
     "name": "stderr",
     "output_type": "stream",
     "text": [
      " 49%|████▉     | 197/401 [3:37:12<3:46:35, 66.64s/it]"
     ]
    },
    {
     "name": "stdout",
     "output_type": "stream",
     "text": [
      "Processing element 197\n"
     ]
    },
    {
     "name": "stderr",
     "output_type": "stream",
     "text": [
      " 49%|████▉     | 198/401 [3:38:19<3:45:32, 66.66s/it]"
     ]
    },
    {
     "name": "stdout",
     "output_type": "stream",
     "text": [
      "Processing element 198\n"
     ]
    },
    {
     "name": "stderr",
     "output_type": "stream",
     "text": [
      " 50%|████▉     | 199/401 [3:39:15<3:33:30, 63.42s/it]"
     ]
    },
    {
     "name": "stdout",
     "output_type": "stream",
     "text": [
      "Processing element 199\n"
     ]
    },
    {
     "name": "stderr",
     "output_type": "stream",
     "text": [
      " 50%|████▉     | 200/401 [3:40:19<3:33:17, 63.67s/it]"
     ]
    },
    {
     "name": "stdout",
     "output_type": "stream",
     "text": [
      "Processing element 200\n"
     ]
    },
    {
     "name": "stderr",
     "output_type": "stream",
     "text": [
      " 50%|█████     | 201/401 [3:41:20<3:29:41, 62.91s/it]"
     ]
    },
    {
     "name": "stdout",
     "output_type": "stream",
     "text": [
      "Processing element 201\n"
     ]
    },
    {
     "name": "stderr",
     "output_type": "stream",
     "text": [
      " 50%|█████     | 202/401 [3:42:27<3:32:47, 64.16s/it]"
     ]
    },
    {
     "name": "stdout",
     "output_type": "stream",
     "text": [
      "Processing element 202\n"
     ]
    },
    {
     "name": "stderr",
     "output_type": "stream",
     "text": [
      " 51%|█████     | 203/401 [3:43:36<3:36:02, 65.46s/it]"
     ]
    },
    {
     "name": "stdout",
     "output_type": "stream",
     "text": [
      "Processing element 203\n"
     ]
    },
    {
     "name": "stderr",
     "output_type": "stream",
     "text": [
      " 51%|█████     | 204/401 [3:44:41<3:34:15, 65.26s/it]"
     ]
    },
    {
     "name": "stdout",
     "output_type": "stream",
     "text": [
      "Processing element 204\n"
     ]
    },
    {
     "name": "stderr",
     "output_type": "stream",
     "text": [
      " 51%|█████     | 205/401 [3:45:45<3:31:50, 64.85s/it]"
     ]
    },
    {
     "name": "stdout",
     "output_type": "stream",
     "text": [
      "Processing element 205\n"
     ]
    },
    {
     "name": "stderr",
     "output_type": "stream",
     "text": [
      " 51%|█████▏    | 206/401 [3:46:36<3:17:20, 60.72s/it]"
     ]
    },
    {
     "name": "stdout",
     "output_type": "stream",
     "text": [
      "Processing element 206\n"
     ]
    },
    {
     "name": "stderr",
     "output_type": "stream",
     "text": [
      " 52%|█████▏    | 207/401 [3:47:31<3:11:34, 59.25s/it]"
     ]
    },
    {
     "name": "stdout",
     "output_type": "stream",
     "text": [
      "Processing element 207\n"
     ]
    },
    {
     "name": "stderr",
     "output_type": "stream",
     "text": [
      " 52%|█████▏    | 208/401 [3:48:33<3:12:50, 59.95s/it]"
     ]
    },
    {
     "name": "stdout",
     "output_type": "stream",
     "text": [
      "Processing element 208\n"
     ]
    },
    {
     "name": "stderr",
     "output_type": "stream",
     "text": [
      " 52%|█████▏    | 209/401 [3:49:37<3:15:39, 61.14s/it]"
     ]
    },
    {
     "name": "stdout",
     "output_type": "stream",
     "text": [
      "Processing element 209\n"
     ]
    },
    {
     "name": "stderr",
     "output_type": "stream",
     "text": [
      " 52%|█████▏    | 210/401 [3:50:34<3:11:00, 60.00s/it]"
     ]
    },
    {
     "name": "stdout",
     "output_type": "stream",
     "text": [
      "Processing element 210\n"
     ]
    },
    {
     "name": "stderr",
     "output_type": "stream",
     "text": [
      " 53%|█████▎    | 211/401 [3:51:33<3:09:02, 59.70s/it]"
     ]
    },
    {
     "name": "stdout",
     "output_type": "stream",
     "text": [
      "Processing element 211\n"
     ]
    },
    {
     "name": "stderr",
     "output_type": "stream",
     "text": [
      " 53%|█████▎    | 212/401 [3:52:43<3:17:42, 62.76s/it]"
     ]
    },
    {
     "name": "stdout",
     "output_type": "stream",
     "text": [
      "Processing element 212\n"
     ]
    },
    {
     "name": "stderr",
     "output_type": "stream",
     "text": [
      " 53%|█████▎    | 213/401 [3:53:51<3:21:33, 64.33s/it]"
     ]
    },
    {
     "name": "stdout",
     "output_type": "stream",
     "text": [
      "Processing element 213\n"
     ]
    },
    {
     "name": "stderr",
     "output_type": "stream",
     "text": [
      " 53%|█████▎    | 214/401 [3:55:05<3:29:03, 67.08s/it]"
     ]
    },
    {
     "name": "stdout",
     "output_type": "stream",
     "text": [
      "Processing element 214\n"
     ]
    },
    {
     "name": "stderr",
     "output_type": "stream",
     "text": [
      " 54%|█████▎    | 215/401 [3:56:18<3:33:29, 68.87s/it]"
     ]
    },
    {
     "name": "stdout",
     "output_type": "stream",
     "text": [
      "Processing element 215\n"
     ]
    },
    {
     "name": "stderr",
     "output_type": "stream",
     "text": [
      " 54%|█████▍    | 216/401 [3:57:31<3:36:22, 70.18s/it]"
     ]
    },
    {
     "name": "stdout",
     "output_type": "stream",
     "text": [
      "Processing element 216\n"
     ]
    },
    {
     "name": "stderr",
     "output_type": "stream",
     "text": [
      " 54%|█████▍    | 217/401 [3:58:40<3:33:50, 69.73s/it]"
     ]
    },
    {
     "name": "stdout",
     "output_type": "stream",
     "text": [
      "Processing element 217\n"
     ]
    },
    {
     "name": "stderr",
     "output_type": "stream",
     "text": [
      " 54%|█████▍    | 218/401 [3:59:51<3:33:46, 70.09s/it]"
     ]
    },
    {
     "name": "stdout",
     "output_type": "stream",
     "text": [
      "Processing element 218\n"
     ]
    },
    {
     "name": "stderr",
     "output_type": "stream",
     "text": [
      " 55%|█████▍    | 219/401 [4:01:05<3:36:25, 71.35s/it]"
     ]
    },
    {
     "name": "stdout",
     "output_type": "stream",
     "text": [
      "Processing element 219\n"
     ]
    },
    {
     "name": "stderr",
     "output_type": "stream",
     "text": [
      " 55%|█████▍    | 220/401 [4:02:00<3:20:10, 66.36s/it]"
     ]
    },
    {
     "name": "stdout",
     "output_type": "stream",
     "text": [
      "Processing element 220\n"
     ]
    },
    {
     "name": "stderr",
     "output_type": "stream",
     "text": [
      " 55%|█████▌    | 221/401 [4:03:08<3:20:52, 66.96s/it]"
     ]
    },
    {
     "name": "stdout",
     "output_type": "stream",
     "text": [
      "Processing element 221\n"
     ]
    },
    {
     "name": "stderr",
     "output_type": "stream",
     "text": [
      " 55%|█████▌    | 222/401 [4:04:05<3:10:54, 63.99s/it]"
     ]
    },
    {
     "name": "stdout",
     "output_type": "stream",
     "text": [
      "Processing element 222\n"
     ]
    },
    {
     "name": "stderr",
     "output_type": "stream",
     "text": [
      " 56%|█████▌    | 223/401 [4:05:15<3:15:35, 65.93s/it]"
     ]
    },
    {
     "name": "stdout",
     "output_type": "stream",
     "text": [
      "Processing element 223\n"
     ]
    },
    {
     "name": "stderr",
     "output_type": "stream",
     "text": [
      " 56%|█████▌    | 224/401 [4:06:25<3:17:57, 67.11s/it]"
     ]
    },
    {
     "name": "stdout",
     "output_type": "stream",
     "text": [
      "Processing element 224\n"
     ]
    },
    {
     "name": "stderr",
     "output_type": "stream",
     "text": [
      " 56%|█████▌    | 225/401 [4:07:35<3:19:03, 67.86s/it]"
     ]
    },
    {
     "name": "stdout",
     "output_type": "stream",
     "text": [
      "Processing element 225\n"
     ]
    },
    {
     "name": "stderr",
     "output_type": "stream",
     "text": [
      " 56%|█████▋    | 226/401 [4:08:31<3:07:15, 64.20s/it]"
     ]
    },
    {
     "name": "stdout",
     "output_type": "stream",
     "text": [
      "Processing element 226\n"
     ]
    },
    {
     "name": "stderr",
     "output_type": "stream",
     "text": [
      " 57%|█████▋    | 227/401 [4:09:31<3:02:52, 63.06s/it]"
     ]
    },
    {
     "name": "stdout",
     "output_type": "stream",
     "text": [
      "Processing element 227\n"
     ]
    },
    {
     "name": "stderr",
     "output_type": "stream",
     "text": [
      " 57%|█████▋    | 228/401 [4:10:31<2:58:47, 62.01s/it]"
     ]
    },
    {
     "name": "stdout",
     "output_type": "stream",
     "text": [
      "Processing element 228\n"
     ]
    },
    {
     "name": "stderr",
     "output_type": "stream",
     "text": [
      " 57%|█████▋    | 229/401 [4:11:39<3:03:15, 63.92s/it]"
     ]
    },
    {
     "name": "stdout",
     "output_type": "stream",
     "text": [
      "Processing element 229\n"
     ]
    },
    {
     "name": "stderr",
     "output_type": "stream",
     "text": [
      " 57%|█████▋    | 230/401 [4:12:49<3:07:05, 65.65s/it]"
     ]
    },
    {
     "name": "stdout",
     "output_type": "stream",
     "text": [
      "Processing element 230\n"
     ]
    },
    {
     "name": "stderr",
     "output_type": "stream",
     "text": [
      " 58%|█████▊    | 231/401 [4:13:47<3:00:10, 63.59s/it]"
     ]
    },
    {
     "name": "stdout",
     "output_type": "stream",
     "text": [
      "Processing element 231\n"
     ]
    },
    {
     "name": "stderr",
     "output_type": "stream",
     "text": [
      " 58%|█████▊    | 232/401 [4:14:53<3:00:28, 64.07s/it]"
     ]
    },
    {
     "name": "stdout",
     "output_type": "stream",
     "text": [
      "Processing element 232\n"
     ]
    },
    {
     "name": "stderr",
     "output_type": "stream",
     "text": [
      " 58%|█████▊    | 233/401 [4:15:56<2:58:32, 63.76s/it]"
     ]
    },
    {
     "name": "stdout",
     "output_type": "stream",
     "text": [
      "Processing element 233\n"
     ]
    },
    {
     "name": "stderr",
     "output_type": "stream",
     "text": [
      " 58%|█████▊    | 234/401 [4:17:07<3:03:57, 66.10s/it]"
     ]
    },
    {
     "name": "stdout",
     "output_type": "stream",
     "text": [
      "Processing element 234\n"
     ]
    },
    {
     "name": "stderr",
     "output_type": "stream",
     "text": [
      " 59%|█████▊    | 235/401 [4:18:09<2:59:41, 64.95s/it]"
     ]
    },
    {
     "name": "stdout",
     "output_type": "stream",
     "text": [
      "Processing element 235\n"
     ]
    },
    {
     "name": "stderr",
     "output_type": "stream",
     "text": [
      " 59%|█████▉    | 236/401 [4:19:19<3:02:33, 66.38s/it]"
     ]
    },
    {
     "name": "stdout",
     "output_type": "stream",
     "text": [
      "Processing element 236\n"
     ]
    },
    {
     "name": "stderr",
     "output_type": "stream",
     "text": [
      " 59%|█████▉    | 237/401 [4:20:24<2:59:59, 65.85s/it]"
     ]
    },
    {
     "name": "stdout",
     "output_type": "stream",
     "text": [
      "Processing element 237\n"
     ]
    },
    {
     "name": "stderr",
     "output_type": "stream",
     "text": [
      " 59%|█████▉    | 238/401 [4:21:34<3:02:15, 67.09s/it]"
     ]
    },
    {
     "name": "stdout",
     "output_type": "stream",
     "text": [
      "Processing element 238\n"
     ]
    },
    {
     "name": "stderr",
     "output_type": "stream",
     "text": [
      " 60%|█████▉    | 239/401 [4:22:42<3:01:55, 67.38s/it]"
     ]
    },
    {
     "name": "stdout",
     "output_type": "stream",
     "text": [
      "Processing element 239\n"
     ]
    },
    {
     "name": "stderr",
     "output_type": "stream",
     "text": [
      " 60%|█████▉    | 240/401 [4:23:43<2:55:58, 65.58s/it]"
     ]
    },
    {
     "name": "stdout",
     "output_type": "stream",
     "text": [
      "Processing element 240\n"
     ]
    },
    {
     "name": "stderr",
     "output_type": "stream",
     "text": [
      " 60%|██████    | 241/401 [4:24:46<2:52:21, 64.63s/it]"
     ]
    },
    {
     "name": "stdout",
     "output_type": "stream",
     "text": [
      "Processing element 241\n"
     ]
    },
    {
     "name": "stderr",
     "output_type": "stream",
     "text": [
      " 60%|██████    | 242/401 [4:26:07<3:04:39, 69.69s/it]"
     ]
    },
    {
     "name": "stdout",
     "output_type": "stream",
     "text": [
      "Processing element 242\n"
     ]
    },
    {
     "name": "stderr",
     "output_type": "stream",
     "text": [
      " 61%|██████    | 243/401 [4:27:22<3:07:35, 71.24s/it]"
     ]
    },
    {
     "name": "stdout",
     "output_type": "stream",
     "text": [
      "Processing element 243\n"
     ]
    },
    {
     "name": "stderr",
     "output_type": "stream",
     "text": [
      " 61%|██████    | 244/401 [4:28:34<3:07:06, 71.50s/it]"
     ]
    },
    {
     "name": "stdout",
     "output_type": "stream",
     "text": [
      "Processing element 244\n"
     ]
    },
    {
     "name": "stderr",
     "output_type": "stream",
     "text": [
      " 61%|██████    | 245/401 [4:29:40<3:01:23, 69.77s/it]"
     ]
    },
    {
     "name": "stdout",
     "output_type": "stream",
     "text": [
      "Processing element 245\n"
     ]
    },
    {
     "name": "stderr",
     "output_type": "stream",
     "text": [
      " 61%|██████▏   | 246/401 [4:30:57<3:05:58, 71.99s/it]"
     ]
    },
    {
     "name": "stdout",
     "output_type": "stream",
     "text": [
      "Processing element 246\n"
     ]
    },
    {
     "name": "stderr",
     "output_type": "stream",
     "text": [
      " 62%|██████▏   | 247/401 [4:32:12<3:06:41, 72.74s/it]"
     ]
    },
    {
     "name": "stdout",
     "output_type": "stream",
     "text": [
      "Processing element 247\n"
     ]
    },
    {
     "name": "stderr",
     "output_type": "stream",
     "text": [
      " 62%|██████▏   | 248/401 [4:33:20<3:02:36, 71.61s/it]"
     ]
    },
    {
     "name": "stdout",
     "output_type": "stream",
     "text": [
      "Processing element 248\n"
     ]
    },
    {
     "name": "stderr",
     "output_type": "stream",
     "text": [
      " 62%|██████▏   | 249/401 [4:34:22<2:54:02, 68.70s/it]"
     ]
    },
    {
     "name": "stdout",
     "output_type": "stream",
     "text": [
      "Processing element 249\n"
     ]
    },
    {
     "name": "stderr",
     "output_type": "stream",
     "text": [
      " 62%|██████▏   | 250/401 [4:35:36<2:56:27, 70.11s/it]"
     ]
    },
    {
     "name": "stdout",
     "output_type": "stream",
     "text": [
      "Processing element 250\n"
     ]
    },
    {
     "name": "stderr",
     "output_type": "stream",
     "text": [
      " 63%|██████▎   | 251/401 [4:37:01<3:06:14, 74.50s/it]"
     ]
    },
    {
     "name": "stdout",
     "output_type": "stream",
     "text": [
      "Processing element 251\n"
     ]
    },
    {
     "name": "stderr",
     "output_type": "stream",
     "text": [
      " 63%|██████▎   | 252/401 [4:38:38<3:21:54, 81.30s/it]"
     ]
    },
    {
     "name": "stdout",
     "output_type": "stream",
     "text": [
      "Processing element 252\n"
     ]
    },
    {
     "name": "stderr",
     "output_type": "stream",
     "text": [
      " 63%|██████▎   | 253/401 [4:39:45<3:10:03, 77.05s/it]"
     ]
    },
    {
     "name": "stdout",
     "output_type": "stream",
     "text": [
      "Processing element 253\n"
     ]
    },
    {
     "name": "stderr",
     "output_type": "stream",
     "text": [
      " 63%|██████▎   | 254/401 [4:40:42<2:54:12, 71.11s/it]"
     ]
    },
    {
     "name": "stdout",
     "output_type": "stream",
     "text": [
      "Processing element 254\n"
     ]
    },
    {
     "name": "stderr",
     "output_type": "stream",
     "text": [
      " 64%|██████▎   | 255/401 [4:41:45<2:47:13, 68.73s/it]"
     ]
    },
    {
     "name": "stdout",
     "output_type": "stream",
     "text": [
      "Processing element 255\n"
     ]
    },
    {
     "name": "stderr",
     "output_type": "stream",
     "text": [
      " 64%|██████▍   | 256/401 [4:42:49<2:42:29, 67.24s/it]"
     ]
    },
    {
     "name": "stdout",
     "output_type": "stream",
     "text": [
      "Processing element 256\n"
     ]
    },
    {
     "name": "stderr",
     "output_type": "stream",
     "text": [
      " 64%|██████▍   | 257/401 [4:43:54<2:39:35, 66.50s/it]"
     ]
    },
    {
     "name": "stdout",
     "output_type": "stream",
     "text": [
      "Processing element 257\n"
     ]
    },
    {
     "name": "stderr",
     "output_type": "stream",
     "text": [
      " 64%|██████▍   | 258/401 [4:44:58<2:37:02, 65.89s/it]"
     ]
    },
    {
     "name": "stdout",
     "output_type": "stream",
     "text": [
      "Processing element 258\n"
     ]
    },
    {
     "name": "stderr",
     "output_type": "stream",
     "text": [
      " 65%|██████▍   | 259/401 [4:46:04<2:36:07, 65.97s/it]"
     ]
    },
    {
     "name": "stdout",
     "output_type": "stream",
     "text": [
      "Processing element 259\n"
     ]
    },
    {
     "name": "stderr",
     "output_type": "stream",
     "text": [
      " 65%|██████▍   | 260/401 [4:47:02<2:28:56, 63.38s/it]"
     ]
    },
    {
     "name": "stdout",
     "output_type": "stream",
     "text": [
      "Processing element 260\n"
     ]
    },
    {
     "name": "stderr",
     "output_type": "stream",
     "text": [
      " 65%|██████▌   | 261/401 [4:47:57<2:21:51, 60.79s/it]"
     ]
    },
    {
     "name": "stdout",
     "output_type": "stream",
     "text": [
      "Processing element 261\n"
     ]
    },
    {
     "name": "stderr",
     "output_type": "stream",
     "text": [
      " 65%|██████▌   | 262/401 [4:49:07<2:27:52, 63.83s/it]"
     ]
    },
    {
     "name": "stdout",
     "output_type": "stream",
     "text": [
      "Processing element 262\n"
     ]
    },
    {
     "name": "stderr",
     "output_type": "stream",
     "text": [
      " 66%|██████▌   | 263/401 [4:50:22<2:34:13, 67.06s/it]"
     ]
    },
    {
     "name": "stdout",
     "output_type": "stream",
     "text": [
      "Processing element 263\n"
     ]
    },
    {
     "name": "stderr",
     "output_type": "stream",
     "text": [
      " 66%|██████▌   | 264/401 [4:51:25<2:30:35, 65.95s/it]"
     ]
    },
    {
     "name": "stdout",
     "output_type": "stream",
     "text": [
      "Processing element 264\n"
     ]
    },
    {
     "name": "stderr",
     "output_type": "stream",
     "text": [
      " 66%|██████▌   | 265/401 [4:52:39<2:34:42, 68.25s/it]"
     ]
    },
    {
     "name": "stdout",
     "output_type": "stream",
     "text": [
      "Processing element 265\n"
     ]
    },
    {
     "name": "stderr",
     "output_type": "stream",
     "text": [
      " 66%|██████▋   | 266/401 [4:53:46<2:32:55, 67.96s/it]"
     ]
    },
    {
     "name": "stdout",
     "output_type": "stream",
     "text": [
      "Processing element 266\n"
     ]
    },
    {
     "name": "stderr",
     "output_type": "stream",
     "text": [
      " 67%|██████▋   | 267/401 [4:54:55<2:32:22, 68.23s/it]"
     ]
    },
    {
     "name": "stdout",
     "output_type": "stream",
     "text": [
      "Processing element 267\n"
     ]
    },
    {
     "name": "stderr",
     "output_type": "stream",
     "text": [
      " 67%|██████▋   | 268/401 [4:55:58<2:27:27, 66.52s/it]"
     ]
    },
    {
     "name": "stdout",
     "output_type": "stream",
     "text": [
      "Processing element 268\n"
     ]
    },
    {
     "name": "stderr",
     "output_type": "stream",
     "text": [
      " 67%|██████▋   | 269/401 [4:57:11<2:31:09, 68.71s/it]"
     ]
    },
    {
     "name": "stdout",
     "output_type": "stream",
     "text": [
      "Processing element 269\n"
     ]
    },
    {
     "name": "stderr",
     "output_type": "stream",
     "text": [
      " 67%|██████▋   | 270/401 [4:58:20<2:30:01, 68.71s/it]"
     ]
    },
    {
     "name": "stdout",
     "output_type": "stream",
     "text": [
      "Processing element 270\n"
     ]
    },
    {
     "name": "stderr",
     "output_type": "stream",
     "text": [
      " 68%|██████▊   | 271/401 [4:59:25<2:26:22, 67.56s/it]"
     ]
    },
    {
     "name": "stdout",
     "output_type": "stream",
     "text": [
      "Processing element 271\n"
     ]
    },
    {
     "name": "stderr",
     "output_type": "stream",
     "text": [
      " 68%|██████▊   | 272/401 [5:00:23<2:19:13, 64.76s/it]"
     ]
    },
    {
     "name": "stdout",
     "output_type": "stream",
     "text": [
      "Processing element 272\n"
     ]
    },
    {
     "name": "stderr",
     "output_type": "stream",
     "text": [
      " 68%|██████▊   | 273/401 [5:01:36<2:23:27, 67.25s/it]"
     ]
    },
    {
     "name": "stdout",
     "output_type": "stream",
     "text": [
      "Processing element 273\n"
     ]
    },
    {
     "name": "stderr",
     "output_type": "stream",
     "text": [
      " 68%|██████▊   | 274/401 [5:02:31<2:14:03, 63.33s/it]"
     ]
    },
    {
     "name": "stdout",
     "output_type": "stream",
     "text": [
      "Processing element 274\n"
     ]
    },
    {
     "name": "stderr",
     "output_type": "stream",
     "text": [
      " 69%|██████▊   | 275/401 [5:03:38<2:15:20, 64.45s/it]"
     ]
    },
    {
     "name": "stdout",
     "output_type": "stream",
     "text": [
      "Processing element 275\n"
     ]
    },
    {
     "name": "stderr",
     "output_type": "stream",
     "text": [
      " 69%|██████▉   | 276/401 [5:04:56<2:22:48, 68.55s/it]"
     ]
    },
    {
     "name": "stdout",
     "output_type": "stream",
     "text": [
      "Processing element 276\n"
     ]
    },
    {
     "name": "stderr",
     "output_type": "stream",
     "text": [
      " 69%|██████▉   | 277/401 [5:06:01<2:19:55, 67.71s/it]"
     ]
    },
    {
     "name": "stdout",
     "output_type": "stream",
     "text": [
      "Processing element 277\n"
     ]
    },
    {
     "name": "stderr",
     "output_type": "stream",
     "text": [
      " 69%|██████▉   | 278/401 [5:06:53<2:08:42, 62.78s/it]"
     ]
    },
    {
     "name": "stdout",
     "output_type": "stream",
     "text": [
      "Processing element 278\n"
     ]
    },
    {
     "name": "stderr",
     "output_type": "stream",
     "text": [
      " 70%|██████▉   | 279/401 [5:08:02<2:11:37, 64.73s/it]"
     ]
    },
    {
     "name": "stdout",
     "output_type": "stream",
     "text": [
      "Processing element 279\n"
     ]
    },
    {
     "name": "stderr",
     "output_type": "stream",
     "text": [
      " 70%|██████▉   | 280/401 [5:09:02<2:07:24, 63.17s/it]"
     ]
    },
    {
     "name": "stdout",
     "output_type": "stream",
     "text": [
      "Processing element 280\n"
     ]
    },
    {
     "name": "stderr",
     "output_type": "stream",
     "text": [
      " 70%|███████   | 281/401 [5:10:06<2:06:53, 63.45s/it]"
     ]
    },
    {
     "name": "stdout",
     "output_type": "stream",
     "text": [
      "Processing element 281\n"
     ]
    },
    {
     "name": "stderr",
     "output_type": "stream",
     "text": [
      " 70%|███████   | 282/401 [5:11:13<2:08:15, 64.67s/it]"
     ]
    },
    {
     "name": "stdout",
     "output_type": "stream",
     "text": [
      "Processing element 282\n"
     ]
    },
    {
     "name": "stderr",
     "output_type": "stream",
     "text": [
      " 71%|███████   | 283/401 [5:12:21<2:08:54, 65.55s/it]"
     ]
    },
    {
     "name": "stdout",
     "output_type": "stream",
     "text": [
      "Processing element 283\n"
     ]
    },
    {
     "name": "stderr",
     "output_type": "stream",
     "text": [
      " 71%|███████   | 284/401 [5:13:19<2:03:22, 63.27s/it]"
     ]
    },
    {
     "name": "stdout",
     "output_type": "stream",
     "text": [
      "Processing element 284\n"
     ]
    },
    {
     "name": "stderr",
     "output_type": "stream",
     "text": [
      " 71%|███████   | 285/401 [5:14:29<2:06:26, 65.40s/it]"
     ]
    },
    {
     "name": "stdout",
     "output_type": "stream",
     "text": [
      "Processing element 285\n"
     ]
    },
    {
     "name": "stderr",
     "output_type": "stream",
     "text": [
      " 71%|███████▏  | 286/401 [5:15:46<2:11:43, 68.73s/it]"
     ]
    },
    {
     "name": "stdout",
     "output_type": "stream",
     "text": [
      "Processing element 286\n"
     ]
    },
    {
     "name": "stderr",
     "output_type": "stream",
     "text": [
      " 72%|███████▏  | 287/401 [5:16:53<2:09:59, 68.41s/it]"
     ]
    },
    {
     "name": "stdout",
     "output_type": "stream",
     "text": [
      "Processing element 287\n"
     ]
    },
    {
     "name": "stderr",
     "output_type": "stream",
     "text": [
      " 72%|███████▏  | 288/401 [5:17:54<2:04:13, 65.96s/it]"
     ]
    },
    {
     "name": "stdout",
     "output_type": "stream",
     "text": [
      "Processing element 288\n"
     ]
    },
    {
     "name": "stderr",
     "output_type": "stream",
     "text": [
      " 72%|███████▏  | 289/401 [5:18:50<1:57:35, 62.99s/it]"
     ]
    },
    {
     "name": "stdout",
     "output_type": "stream",
     "text": [
      "Processing element 289\n"
     ]
    },
    {
     "name": "stderr",
     "output_type": "stream",
     "text": [
      " 72%|███████▏  | 290/401 [5:20:05<2:03:11, 66.59s/it]"
     ]
    },
    {
     "name": "stdout",
     "output_type": "stream",
     "text": [
      "Processing element 290\n"
     ]
    },
    {
     "name": "stderr",
     "output_type": "stream",
     "text": [
      " 73%|███████▎  | 291/401 [5:21:14<2:03:34, 67.41s/it]"
     ]
    },
    {
     "name": "stdout",
     "output_type": "stream",
     "text": [
      "Processing element 291\n"
     ]
    },
    {
     "name": "stderr",
     "output_type": "stream",
     "text": [
      " 73%|███████▎  | 292/401 [5:22:33<2:09:05, 71.06s/it]"
     ]
    },
    {
     "name": "stdout",
     "output_type": "stream",
     "text": [
      "Processing element 292\n"
     ]
    },
    {
     "name": "stderr",
     "output_type": "stream",
     "text": [
      " 73%|███████▎  | 293/401 [5:23:44<2:07:30, 70.84s/it]"
     ]
    },
    {
     "name": "stdout",
     "output_type": "stream",
     "text": [
      "Processing element 293\n"
     ]
    },
    {
     "name": "stderr",
     "output_type": "stream",
     "text": [
      " 73%|███████▎  | 294/401 [5:24:52<2:04:49, 70.00s/it]"
     ]
    },
    {
     "name": "stdout",
     "output_type": "stream",
     "text": [
      "Processing element 294\n"
     ]
    },
    {
     "name": "stderr",
     "output_type": "stream",
     "text": [
      " 74%|███████▎  | 295/401 [5:25:53<1:59:01, 67.38s/it]"
     ]
    },
    {
     "name": "stdout",
     "output_type": "stream",
     "text": [
      "Processing element 295\n"
     ]
    },
    {
     "name": "stderr",
     "output_type": "stream",
     "text": [
      " 74%|███████▍  | 296/401 [5:27:00<1:57:46, 67.30s/it]"
     ]
    },
    {
     "name": "stdout",
     "output_type": "stream",
     "text": [
      "Processing element 296\n"
     ]
    },
    {
     "name": "stderr",
     "output_type": "stream",
     "text": [
      " 74%|███████▍  | 297/401 [5:27:55<1:50:07, 63.54s/it]"
     ]
    },
    {
     "name": "stdout",
     "output_type": "stream",
     "text": [
      "Processing element 297\n"
     ]
    },
    {
     "name": "stderr",
     "output_type": "stream",
     "text": [
      " 74%|███████▍  | 298/401 [5:29:16<1:58:00, 68.74s/it]"
     ]
    },
    {
     "name": "stdout",
     "output_type": "stream",
     "text": [
      "Processing element 298\n"
     ]
    },
    {
     "name": "stderr",
     "output_type": "stream",
     "text": [
      " 75%|███████▍  | 299/401 [5:30:35<2:02:23, 71.99s/it]"
     ]
    },
    {
     "name": "stdout",
     "output_type": "stream",
     "text": [
      "Processing element 299\n"
     ]
    },
    {
     "name": "stderr",
     "output_type": "stream",
     "text": [
      " 75%|███████▍  | 300/401 [5:31:37<1:55:57, 68.89s/it]"
     ]
    },
    {
     "name": "stdout",
     "output_type": "stream",
     "text": [
      "Processing element 300\n"
     ]
    },
    {
     "name": "stderr",
     "output_type": "stream",
     "text": [
      " 75%|███████▌  | 301/401 [5:32:43<1:53:32, 68.13s/it]"
     ]
    },
    {
     "name": "stdout",
     "output_type": "stream",
     "text": [
      "Processing element 301\n"
     ]
    },
    {
     "name": "stderr",
     "output_type": "stream",
     "text": [
      " 75%|███████▌  | 302/401 [5:33:47<1:50:10, 66.77s/it]"
     ]
    },
    {
     "name": "stdout",
     "output_type": "stream",
     "text": [
      "Processing element 302\n"
     ]
    },
    {
     "name": "stderr",
     "output_type": "stream",
     "text": [
      " 76%|███████▌  | 303/401 [5:35:09<1:56:41, 71.45s/it]"
     ]
    },
    {
     "name": "stdout",
     "output_type": "stream",
     "text": [
      "Processing element 303\n"
     ]
    },
    {
     "name": "stderr",
     "output_type": "stream",
     "text": [
      " 76%|███████▌  | 304/401 [5:36:09<1:49:45, 67.89s/it]"
     ]
    },
    {
     "name": "stdout",
     "output_type": "stream",
     "text": [
      "Processing element 304\n"
     ]
    },
    {
     "name": "stderr",
     "output_type": "stream",
     "text": [
      " 76%|███████▌  | 305/401 [5:37:16<1:48:22, 67.73s/it]"
     ]
    },
    {
     "name": "stdout",
     "output_type": "stream",
     "text": [
      "Processing element 305\n"
     ]
    },
    {
     "name": "stderr",
     "output_type": "stream",
     "text": [
      " 76%|███████▋  | 306/401 [5:38:28<1:49:07, 68.92s/it]"
     ]
    },
    {
     "name": "stdout",
     "output_type": "stream",
     "text": [
      "Processing element 306\n"
     ]
    },
    {
     "name": "stderr",
     "output_type": "stream",
     "text": [
      " 77%|███████▋  | 307/401 [5:39:34<1:46:42, 68.11s/it]"
     ]
    },
    {
     "name": "stdout",
     "output_type": "stream",
     "text": [
      "Processing element 307\n"
     ]
    },
    {
     "name": "stderr",
     "output_type": "stream",
     "text": [
      " 77%|███████▋  | 308/401 [5:40:42<1:45:23, 67.99s/it]"
     ]
    },
    {
     "name": "stdout",
     "output_type": "stream",
     "text": [
      "Processing element 308\n"
     ]
    },
    {
     "name": "stderr",
     "output_type": "stream",
     "text": [
      " 77%|███████▋  | 309/401 [5:41:54<1:46:14, 69.29s/it]"
     ]
    },
    {
     "name": "stdout",
     "output_type": "stream",
     "text": [
      "Processing element 309\n"
     ]
    },
    {
     "name": "stderr",
     "output_type": "stream",
     "text": [
      " 77%|███████▋  | 310/401 [5:43:26<1:55:09, 75.93s/it]"
     ]
    },
    {
     "name": "stdout",
     "output_type": "stream",
     "text": [
      "Processing element 310\n"
     ]
    },
    {
     "name": "stderr",
     "output_type": "stream",
     "text": [
      " 78%|███████▊  | 311/401 [5:44:37<1:51:47, 74.52s/it]"
     ]
    },
    {
     "name": "stdout",
     "output_type": "stream",
     "text": [
      "Processing element 311\n"
     ]
    },
    {
     "name": "stderr",
     "output_type": "stream",
     "text": [
      " 78%|███████▊  | 312/401 [5:45:50<1:49:57, 74.12s/it]"
     ]
    },
    {
     "name": "stdout",
     "output_type": "stream",
     "text": [
      "Processing element 312\n"
     ]
    },
    {
     "name": "stderr",
     "output_type": "stream",
     "text": [
      " 78%|███████▊  | 313/401 [5:46:48<1:41:40, 69.33s/it]"
     ]
    },
    {
     "name": "stdout",
     "output_type": "stream",
     "text": [
      "Processing element 313\n"
     ]
    },
    {
     "name": "stderr",
     "output_type": "stream",
     "text": [
      " 78%|███████▊  | 314/401 [5:48:03<1:42:42, 70.83s/it]"
     ]
    },
    {
     "name": "stdout",
     "output_type": "stream",
     "text": [
      "Processing element 314\n"
     ]
    },
    {
     "name": "stderr",
     "output_type": "stream",
     "text": [
      " 79%|███████▊  | 315/401 [5:49:10<1:40:14, 69.93s/it]"
     ]
    },
    {
     "name": "stdout",
     "output_type": "stream",
     "text": [
      "Processing element 315\n"
     ]
    },
    {
     "name": "stderr",
     "output_type": "stream",
     "text": [
      " 79%|███████▉  | 316/401 [5:50:10<1:34:33, 66.74s/it]"
     ]
    },
    {
     "name": "stdout",
     "output_type": "stream",
     "text": [
      "Processing element 316\n"
     ]
    },
    {
     "name": "stderr",
     "output_type": "stream",
     "text": [
      " 79%|███████▉  | 317/401 [5:51:23<1:36:16, 68.77s/it]"
     ]
    },
    {
     "name": "stdout",
     "output_type": "stream",
     "text": [
      "Processing element 317\n"
     ]
    },
    {
     "name": "stderr",
     "output_type": "stream",
     "text": [
      " 79%|███████▉  | 318/401 [5:52:30<1:34:15, 68.14s/it]"
     ]
    },
    {
     "name": "stdout",
     "output_type": "stream",
     "text": [
      "Processing element 318\n"
     ]
    },
    {
     "name": "stderr",
     "output_type": "stream",
     "text": [
      " 80%|███████▉  | 319/401 [5:53:30<1:29:58, 65.84s/it]"
     ]
    },
    {
     "name": "stdout",
     "output_type": "stream",
     "text": [
      "Processing element 319\n"
     ]
    },
    {
     "name": "stderr",
     "output_type": "stream",
     "text": [
      " 80%|███████▉  | 320/401 [5:54:37<1:29:18, 66.16s/it]"
     ]
    },
    {
     "name": "stdout",
     "output_type": "stream",
     "text": [
      "Processing element 320\n"
     ]
    },
    {
     "name": "stderr",
     "output_type": "stream",
     "text": [
      " 80%|████████  | 321/401 [5:55:51<1:31:08, 68.35s/it]"
     ]
    },
    {
     "name": "stdout",
     "output_type": "stream",
     "text": [
      "Processing element 321\n"
     ]
    },
    {
     "name": "stderr",
     "output_type": "stream",
     "text": [
      " 80%|████████  | 322/401 [5:56:48<1:25:35, 65.00s/it]"
     ]
    },
    {
     "name": "stdout",
     "output_type": "stream",
     "text": [
      "Processing element 322\n"
     ]
    },
    {
     "name": "stderr",
     "output_type": "stream",
     "text": [
      " 81%|████████  | 323/401 [5:57:57<1:26:09, 66.28s/it]"
     ]
    },
    {
     "name": "stdout",
     "output_type": "stream",
     "text": [
      "Processing element 323\n"
     ]
    },
    {
     "name": "stderr",
     "output_type": "stream",
     "text": [
      " 81%|████████  | 324/401 [5:59:00<1:23:49, 65.31s/it]"
     ]
    },
    {
     "name": "stdout",
     "output_type": "stream",
     "text": [
      "Processing element 324\n"
     ]
    },
    {
     "name": "stderr",
     "output_type": "stream",
     "text": [
      " 81%|████████  | 325/401 [6:00:05<1:22:40, 65.27s/it]"
     ]
    },
    {
     "name": "stdout",
     "output_type": "stream",
     "text": [
      "Processing element 325\n"
     ]
    },
    {
     "name": "stderr",
     "output_type": "stream",
     "text": [
      " 81%|████████▏ | 326/401 [6:01:03<1:18:47, 63.03s/it]"
     ]
    },
    {
     "name": "stdout",
     "output_type": "stream",
     "text": [
      "Processing element 326\n"
     ]
    },
    {
     "name": "stderr",
     "output_type": "stream",
     "text": [
      " 82%|████████▏ | 327/401 [6:02:12<1:19:54, 64.79s/it]"
     ]
    },
    {
     "name": "stdout",
     "output_type": "stream",
     "text": [
      "Processing element 327\n"
     ]
    },
    {
     "name": "stderr",
     "output_type": "stream",
     "text": [
      " 82%|████████▏ | 328/401 [6:03:16<1:18:27, 64.49s/it]"
     ]
    },
    {
     "name": "stdout",
     "output_type": "stream",
     "text": [
      "Processing element 328\n"
     ]
    },
    {
     "name": "stderr",
     "output_type": "stream",
     "text": [
      " 82%|████████▏ | 329/401 [6:04:21<1:17:35, 64.66s/it]"
     ]
    },
    {
     "name": "stdout",
     "output_type": "stream",
     "text": [
      "Processing element 329\n"
     ]
    },
    {
     "name": "stderr",
     "output_type": "stream",
     "text": [
      " 82%|████████▏ | 330/401 [6:05:40<1:21:41, 69.03s/it]"
     ]
    },
    {
     "name": "stdout",
     "output_type": "stream",
     "text": [
      "Processing element 330\n"
     ]
    },
    {
     "name": "stderr",
     "output_type": "stream",
     "text": [
      " 83%|████████▎ | 331/401 [6:06:53<1:21:52, 70.18s/it]"
     ]
    },
    {
     "name": "stdout",
     "output_type": "stream",
     "text": [
      "Processing element 331\n"
     ]
    },
    {
     "name": "stderr",
     "output_type": "stream",
     "text": [
      " 83%|████████▎ | 332/401 [6:07:47<1:15:04, 65.28s/it]"
     ]
    },
    {
     "name": "stdout",
     "output_type": "stream",
     "text": [
      "Processing element 332\n"
     ]
    },
    {
     "name": "stderr",
     "output_type": "stream",
     "text": [
      " 83%|████████▎ | 333/401 [6:08:59<1:16:10, 67.21s/it]"
     ]
    },
    {
     "name": "stdout",
     "output_type": "stream",
     "text": [
      "Processing element 333\n"
     ]
    },
    {
     "name": "stderr",
     "output_type": "stream",
     "text": [
      " 83%|████████▎ | 334/401 [6:10:04<1:14:24, 66.63s/it]"
     ]
    },
    {
     "name": "stdout",
     "output_type": "stream",
     "text": [
      "Processing element 334\n"
     ]
    },
    {
     "name": "stderr",
     "output_type": "stream",
     "text": [
      " 84%|████████▎ | 335/401 [6:11:00<1:09:49, 63.47s/it]"
     ]
    },
    {
     "name": "stdout",
     "output_type": "stream",
     "text": [
      "Processing element 335\n"
     ]
    },
    {
     "name": "stderr",
     "output_type": "stream",
     "text": [
      " 84%|████████▍ | 336/401 [6:12:07<1:09:50, 64.47s/it]"
     ]
    },
    {
     "name": "stdout",
     "output_type": "stream",
     "text": [
      "Processing element 336\n"
     ]
    },
    {
     "name": "stderr",
     "output_type": "stream",
     "text": [
      " 84%|████████▍ | 337/401 [6:13:16<1:10:08, 65.75s/it]"
     ]
    },
    {
     "name": "stdout",
     "output_type": "stream",
     "text": [
      "Processing element 337\n"
     ]
    },
    {
     "name": "stderr",
     "output_type": "stream",
     "text": [
      " 84%|████████▍ | 338/401 [6:14:18<1:07:59, 64.75s/it]"
     ]
    },
    {
     "name": "stdout",
     "output_type": "stream",
     "text": [
      "Processing element 338\n"
     ]
    },
    {
     "name": "stderr",
     "output_type": "stream",
     "text": [
      " 85%|████████▍ | 339/401 [6:15:24<1:07:12, 65.04s/it]"
     ]
    },
    {
     "name": "stdout",
     "output_type": "stream",
     "text": [
      "Processing element 339\n"
     ]
    },
    {
     "name": "stderr",
     "output_type": "stream",
     "text": [
      " 85%|████████▍ | 340/401 [6:16:30<1:06:28, 65.38s/it]"
     ]
    },
    {
     "name": "stdout",
     "output_type": "stream",
     "text": [
      "Processing element 340\n"
     ]
    },
    {
     "name": "stderr",
     "output_type": "stream",
     "text": [
      " 85%|████████▌ | 341/401 [6:17:44<1:08:00, 68.01s/it]"
     ]
    },
    {
     "name": "stdout",
     "output_type": "stream",
     "text": [
      "Processing element 341\n"
     ]
    },
    {
     "name": "stderr",
     "output_type": "stream",
     "text": [
      " 85%|████████▌ | 342/401 [6:18:52<1:06:54, 68.04s/it]"
     ]
    },
    {
     "name": "stdout",
     "output_type": "stream",
     "text": [
      "Processing element 342\n"
     ]
    },
    {
     "name": "stderr",
     "output_type": "stream",
     "text": [
      " 86%|████████▌ | 343/401 [6:20:01<1:05:53, 68.17s/it]"
     ]
    },
    {
     "name": "stdout",
     "output_type": "stream",
     "text": [
      "Processing element 343\n"
     ]
    },
    {
     "name": "stderr",
     "output_type": "stream",
     "text": [
      " 86%|████████▌ | 344/401 [6:21:04<1:03:16, 66.61s/it]"
     ]
    },
    {
     "name": "stdout",
     "output_type": "stream",
     "text": [
      "Processing element 344\n"
     ]
    },
    {
     "name": "stderr",
     "output_type": "stream",
     "text": [
      " 86%|████████▌ | 345/401 [6:22:15<1:03:25, 67.95s/it]"
     ]
    },
    {
     "name": "stdout",
     "output_type": "stream",
     "text": [
      "Processing element 345\n"
     ]
    },
    {
     "name": "stderr",
     "output_type": "stream",
     "text": [
      " 86%|████████▋ | 346/401 [6:23:28<1:03:45, 69.56s/it]"
     ]
    },
    {
     "name": "stdout",
     "output_type": "stream",
     "text": [
      "Processing element 346\n"
     ]
    },
    {
     "name": "stderr",
     "output_type": "stream",
     "text": [
      " 87%|████████▋ | 347/401 [6:24:38<1:02:51, 69.83s/it]"
     ]
    },
    {
     "name": "stdout",
     "output_type": "stream",
     "text": [
      "Processing element 347\n"
     ]
    },
    {
     "name": "stderr",
     "output_type": "stream",
     "text": [
      " 87%|████████▋ | 348/401 [6:25:41<59:49, 67.72s/it]  "
     ]
    },
    {
     "name": "stdout",
     "output_type": "stream",
     "text": [
      "Processing element 348\n"
     ]
    },
    {
     "name": "stderr",
     "output_type": "stream",
     "text": [
      " 87%|████████▋ | 349/401 [6:26:44<57:29, 66.34s/it]"
     ]
    },
    {
     "name": "stdout",
     "output_type": "stream",
     "text": [
      "Processing element 349\n"
     ]
    },
    {
     "name": "stderr",
     "output_type": "stream",
     "text": [
      " 87%|████████▋ | 350/401 [6:27:57<58:02, 68.29s/it]"
     ]
    },
    {
     "name": "stdout",
     "output_type": "stream",
     "text": [
      "Processing element 350\n"
     ]
    },
    {
     "name": "stderr",
     "output_type": "stream",
     "text": [
      " 88%|████████▊ | 351/401 [6:29:05<56:43, 68.07s/it]"
     ]
    },
    {
     "name": "stdout",
     "output_type": "stream",
     "text": [
      "Processing element 351\n"
     ]
    },
    {
     "name": "stderr",
     "output_type": "stream",
     "text": [
      " 88%|████████▊ | 352/401 [6:30:17<56:38, 69.35s/it]"
     ]
    },
    {
     "name": "stdout",
     "output_type": "stream",
     "text": [
      "Processing element 352\n"
     ]
    },
    {
     "name": "stderr",
     "output_type": "stream",
     "text": [
      " 88%|████████▊ | 353/401 [6:31:26<55:22, 69.22s/it]"
     ]
    },
    {
     "name": "stdout",
     "output_type": "stream",
     "text": [
      "Processing element 353\n"
     ]
    },
    {
     "name": "stderr",
     "output_type": "stream",
     "text": [
      " 88%|████████▊ | 354/401 [6:32:27<52:13, 66.68s/it]"
     ]
    },
    {
     "name": "stdout",
     "output_type": "stream",
     "text": [
      "Processing element 354\n"
     ]
    },
    {
     "name": "stderr",
     "output_type": "stream",
     "text": [
      " 89%|████████▊ | 355/401 [6:33:28<49:54, 65.09s/it]"
     ]
    },
    {
     "name": "stdout",
     "output_type": "stream",
     "text": [
      "Processing element 355\n"
     ]
    },
    {
     "name": "stderr",
     "output_type": "stream",
     "text": [
      " 89%|████████▉ | 356/401 [6:34:27<47:25, 63.24s/it]"
     ]
    },
    {
     "name": "stdout",
     "output_type": "stream",
     "text": [
      "Processing element 356\n"
     ]
    },
    {
     "name": "stderr",
     "output_type": "stream",
     "text": [
      " 89%|████████▉ | 357/401 [6:35:26<45:29, 62.04s/it]"
     ]
    },
    {
     "name": "stdout",
     "output_type": "stream",
     "text": [
      "Processing element 357\n"
     ]
    },
    {
     "name": "stderr",
     "output_type": "stream",
     "text": [
      " 89%|████████▉ | 358/401 [6:37:03<51:56, 72.48s/it]"
     ]
    },
    {
     "name": "stdout",
     "output_type": "stream",
     "text": [
      "Processing element 358\n"
     ]
    },
    {
     "name": "stderr",
     "output_type": "stream",
     "text": [
      " 90%|████████▉ | 359/401 [6:38:02<47:49, 68.32s/it]"
     ]
    },
    {
     "name": "stdout",
     "output_type": "stream",
     "text": [
      "Processing element 359\n"
     ]
    },
    {
     "name": "stderr",
     "output_type": "stream",
     "text": [
      " 90%|████████▉ | 360/401 [6:39:06<45:54, 67.18s/it]"
     ]
    },
    {
     "name": "stdout",
     "output_type": "stream",
     "text": [
      "Processing element 360\n"
     ]
    },
    {
     "name": "stderr",
     "output_type": "stream",
     "text": [
      " 90%|█████████ | 361/401 [6:40:10<44:00, 66.00s/it]"
     ]
    },
    {
     "name": "stdout",
     "output_type": "stream",
     "text": [
      "Processing element 361\n"
     ]
    },
    {
     "name": "stderr",
     "output_type": "stream",
     "text": [
      " 90%|█████████ | 362/401 [6:41:09<41:41, 64.14s/it]"
     ]
    },
    {
     "name": "stdout",
     "output_type": "stream",
     "text": [
      "Processing element 362\n"
     ]
    },
    {
     "name": "stderr",
     "output_type": "stream",
     "text": [
      " 91%|█████████ | 363/401 [6:42:05<39:01, 61.61s/it]"
     ]
    },
    {
     "name": "stdout",
     "output_type": "stream",
     "text": [
      "Processing element 363\n"
     ]
    },
    {
     "name": "stderr",
     "output_type": "stream",
     "text": [
      " 91%|█████████ | 364/401 [6:43:02<37:05, 60.15s/it]"
     ]
    },
    {
     "name": "stdout",
     "output_type": "stream",
     "text": [
      "Processing element 364\n"
     ]
    },
    {
     "name": "stderr",
     "output_type": "stream",
     "text": [
      " 91%|█████████ | 365/401 [6:44:22<39:47, 66.31s/it]"
     ]
    },
    {
     "name": "stdout",
     "output_type": "stream",
     "text": [
      "Processing element 365\n"
     ]
    },
    {
     "name": "stderr",
     "output_type": "stream",
     "text": [
      " 91%|█████████▏| 366/401 [6:45:30<38:58, 66.82s/it]"
     ]
    },
    {
     "name": "stdout",
     "output_type": "stream",
     "text": [
      "Processing element 366\n"
     ]
    },
    {
     "name": "stderr",
     "output_type": "stream",
     "text": [
      " 92%|█████████▏| 367/401 [6:46:39<38:08, 67.31s/it]"
     ]
    },
    {
     "name": "stdout",
     "output_type": "stream",
     "text": [
      "Processing element 367\n"
     ]
    },
    {
     "name": "stderr",
     "output_type": "stream",
     "text": [
      " 92%|█████████▏| 368/401 [6:47:35<35:11, 63.99s/it]"
     ]
    },
    {
     "name": "stdout",
     "output_type": "stream",
     "text": [
      "Processing element 368\n"
     ]
    },
    {
     "name": "stderr",
     "output_type": "stream",
     "text": [
      " 92%|█████████▏| 369/401 [6:48:44<34:54, 65.46s/it]"
     ]
    },
    {
     "name": "stdout",
     "output_type": "stream",
     "text": [
      "Processing element 369\n"
     ]
    },
    {
     "name": "stderr",
     "output_type": "stream",
     "text": [
      " 92%|█████████▏| 370/401 [6:49:47<33:26, 64.73s/it]"
     ]
    },
    {
     "name": "stdout",
     "output_type": "stream",
     "text": [
      "Processing element 370\n"
     ]
    },
    {
     "name": "stderr",
     "output_type": "stream",
     "text": [
      " 93%|█████████▎| 371/401 [6:50:54<32:43, 65.45s/it]"
     ]
    },
    {
     "name": "stdout",
     "output_type": "stream",
     "text": [
      "Processing element 371\n"
     ]
    },
    {
     "name": "stderr",
     "output_type": "stream",
     "text": [
      " 93%|█████████▎| 372/401 [6:51:48<29:58, 62.00s/it]"
     ]
    },
    {
     "name": "stdout",
     "output_type": "stream",
     "text": [
      "Processing element 372\n"
     ]
    },
    {
     "name": "stderr",
     "output_type": "stream",
     "text": [
      " 93%|█████████▎| 373/401 [6:53:01<30:26, 65.22s/it]"
     ]
    },
    {
     "name": "stdout",
     "output_type": "stream",
     "text": [
      "Processing element 373\n"
     ]
    },
    {
     "name": "stderr",
     "output_type": "stream",
     "text": [
      " 93%|█████████▎| 374/401 [6:54:15<30:36, 68.01s/it]"
     ]
    },
    {
     "name": "stdout",
     "output_type": "stream",
     "text": [
      "Processing element 374\n"
     ]
    },
    {
     "name": "stderr",
     "output_type": "stream",
     "text": [
      " 94%|█████████▎| 375/401 [6:55:20<28:59, 66.89s/it]"
     ]
    },
    {
     "name": "stdout",
     "output_type": "stream",
     "text": [
      "Processing element 375\n"
     ]
    },
    {
     "name": "stderr",
     "output_type": "stream",
     "text": [
      " 94%|█████████▍| 376/401 [6:56:34<28:46, 69.05s/it]"
     ]
    },
    {
     "name": "stdout",
     "output_type": "stream",
     "text": [
      "Processing element 376\n"
     ]
    },
    {
     "name": "stderr",
     "output_type": "stream",
     "text": [
      " 94%|█████████▍| 377/401 [6:57:41<27:20, 68.36s/it]"
     ]
    },
    {
     "name": "stdout",
     "output_type": "stream",
     "text": [
      "Processing element 377\n"
     ]
    },
    {
     "name": "stderr",
     "output_type": "stream",
     "text": [
      " 94%|█████████▍| 378/401 [6:58:44<25:39, 66.94s/it]"
     ]
    },
    {
     "name": "stdout",
     "output_type": "stream",
     "text": [
      "Processing element 378\n"
     ]
    },
    {
     "name": "stderr",
     "output_type": "stream",
     "text": [
      " 95%|█████████▍| 379/401 [7:00:03<25:48, 70.37s/it]"
     ]
    },
    {
     "name": "stdout",
     "output_type": "stream",
     "text": [
      "Processing element 379\n"
     ]
    },
    {
     "name": "stderr",
     "output_type": "stream",
     "text": [
      " 95%|█████████▍| 380/401 [7:01:26<25:58, 74.23s/it]"
     ]
    },
    {
     "name": "stdout",
     "output_type": "stream",
     "text": [
      "Processing element 380\n"
     ]
    },
    {
     "name": "stderr",
     "output_type": "stream",
     "text": [
      " 95%|█████████▌| 381/401 [7:02:34<24:05, 72.28s/it]"
     ]
    },
    {
     "name": "stdout",
     "output_type": "stream",
     "text": [
      "Processing element 381\n"
     ]
    },
    {
     "name": "stderr",
     "output_type": "stream",
     "text": [
      " 95%|█████████▌| 382/401 [7:03:39<22:14, 70.23s/it]"
     ]
    },
    {
     "name": "stdout",
     "output_type": "stream",
     "text": [
      "Processing element 382\n"
     ]
    },
    {
     "name": "stderr",
     "output_type": "stream",
     "text": [
      " 96%|█████████▌| 383/401 [7:04:51<21:11, 70.66s/it]"
     ]
    },
    {
     "name": "stdout",
     "output_type": "stream",
     "text": [
      "Processing element 383\n"
     ]
    },
    {
     "name": "stderr",
     "output_type": "stream",
     "text": [
      " 96%|█████████▌| 384/401 [7:05:46<18:41, 65.99s/it]"
     ]
    },
    {
     "name": "stdout",
     "output_type": "stream",
     "text": [
      "Processing element 384\n"
     ]
    },
    {
     "name": "stderr",
     "output_type": "stream",
     "text": [
      " 96%|█████████▌| 385/401 [7:06:45<17:03, 63.99s/it]"
     ]
    },
    {
     "name": "stdout",
     "output_type": "stream",
     "text": [
      "Processing element 385\n"
     ]
    },
    {
     "name": "stderr",
     "output_type": "stream",
     "text": [
      " 96%|█████████▋| 386/401 [7:07:39<15:14, 61.00s/it]"
     ]
    },
    {
     "name": "stdout",
     "output_type": "stream",
     "text": [
      "Processing element 386\n"
     ]
    },
    {
     "name": "stderr",
     "output_type": "stream",
     "text": [
      " 97%|█████████▋| 387/401 [7:08:49<14:52, 63.78s/it]"
     ]
    },
    {
     "name": "stdout",
     "output_type": "stream",
     "text": [
      "Processing element 387\n"
     ]
    },
    {
     "name": "stderr",
     "output_type": "stream",
     "text": [
      " 97%|█████████▋| 388/401 [7:10:00<14:16, 65.90s/it]"
     ]
    },
    {
     "name": "stdout",
     "output_type": "stream",
     "text": [
      "Processing element 388\n"
     ]
    },
    {
     "name": "stderr",
     "output_type": "stream",
     "text": [
      " 97%|█████████▋| 389/401 [7:11:00<12:49, 64.16s/it]"
     ]
    },
    {
     "name": "stdout",
     "output_type": "stream",
     "text": [
      "Processing element 389\n"
     ]
    },
    {
     "name": "stderr",
     "output_type": "stream",
     "text": [
      " 97%|█████████▋| 390/401 [7:12:26<12:58, 70.77s/it]"
     ]
    },
    {
     "name": "stdout",
     "output_type": "stream",
     "text": [
      "Processing element 390\n"
     ]
    },
    {
     "name": "stderr",
     "output_type": "stream",
     "text": [
      " 98%|█████████▊| 391/401 [7:13:35<11:41, 70.13s/it]"
     ]
    },
    {
     "name": "stdout",
     "output_type": "stream",
     "text": [
      "Processing element 391\n"
     ]
    },
    {
     "name": "stderr",
     "output_type": "stream",
     "text": [
      " 98%|█████████▊| 392/401 [7:14:31<09:51, 65.72s/it]"
     ]
    },
    {
     "name": "stdout",
     "output_type": "stream",
     "text": [
      "Processing element 392\n"
     ]
    },
    {
     "name": "stderr",
     "output_type": "stream",
     "text": [
      " 98%|█████████▊| 393/401 [7:15:40<08:54, 66.80s/it]"
     ]
    },
    {
     "name": "stdout",
     "output_type": "stream",
     "text": [
      "Processing element 393\n"
     ]
    },
    {
     "name": "stderr",
     "output_type": "stream",
     "text": [
      " 98%|█████████▊| 394/401 [7:16:40<07:33, 64.72s/it]"
     ]
    },
    {
     "name": "stdout",
     "output_type": "stream",
     "text": [
      "Processing element 394\n"
     ]
    },
    {
     "name": "stderr",
     "output_type": "stream",
     "text": [
      " 99%|█████████▊| 395/401 [7:17:48<06:35, 65.84s/it]"
     ]
    },
    {
     "name": "stdout",
     "output_type": "stream",
     "text": [
      "Processing element 395\n"
     ]
    },
    {
     "name": "stderr",
     "output_type": "stream",
     "text": [
      " 99%|█████████▉| 396/401 [7:19:02<05:40, 68.15s/it]"
     ]
    },
    {
     "name": "stdout",
     "output_type": "stream",
     "text": [
      "Processing element 396\n"
     ]
    },
    {
     "name": "stderr",
     "output_type": "stream",
     "text": [
      " 99%|█████████▉| 397/401 [7:19:54<04:13, 63.28s/it]"
     ]
    },
    {
     "name": "stdout",
     "output_type": "stream",
     "text": [
      "Processing element 397\n"
     ]
    },
    {
     "name": "stderr",
     "output_type": "stream",
     "text": [
      " 99%|█████████▉| 398/401 [7:20:51<03:04, 61.65s/it]"
     ]
    },
    {
     "name": "stdout",
     "output_type": "stream",
     "text": [
      "Processing element 398\n"
     ]
    },
    {
     "name": "stderr",
     "output_type": "stream",
     "text": [
      "100%|█████████▉| 399/401 [7:21:57<02:05, 62.90s/it]"
     ]
    },
    {
     "name": "stdout",
     "output_type": "stream",
     "text": [
      "Processing element 399\n"
     ]
    },
    {
     "name": "stderr",
     "output_type": "stream",
     "text": [
      "100%|█████████▉| 400/401 [7:23:00<01:02, 62.75s/it]"
     ]
    },
    {
     "name": "stdout",
     "output_type": "stream",
     "text": [
      "Processing element 400\n"
     ]
    },
    {
     "name": "stderr",
     "output_type": "stream",
     "text": [
      "100%|██████████| 401/401 [7:24:13<00:00, 66.47s/it]\n"
     ]
    }
   ],
   "source": [
    "import json\n",
    "model_responses = []\n",
    "for i in tqdm(range(0,len(cpp_dataset['train']))):\n",
    "  print(f\"Processing element {i}\")\n",
    "  row =  cpp_dataset['train'][i]\n",
    "  prompt = create_test_prompt(row)\n",
    "  outputs = pipe(prompt)\n",
    "  code_gen = get_new_code(outputs[0])['new_code']\n",
    "  model_responses.append(code_gen)\n",
    "  with open('code_gen.json','w') as f:\n",
    "    json.dump(model_responses,f)"
   ]
  },
  {
   "cell_type": "markdown",
   "metadata": {},
   "source": [
    "# Add column to the dataset"
   ]
  },
  {
   "cell_type": "code",
   "execution_count": 60,
   "metadata": {},
   "outputs": [
    {
     "data": {
      "text/html": [
       "<div>\n",
       "<style scoped>\n",
       "    .dataframe tbody tr th:only-of-type {\n",
       "        vertical-align: middle;\n",
       "    }\n",
       "\n",
       "    .dataframe tbody tr th {\n",
       "        vertical-align: top;\n",
       "    }\n",
       "\n",
       "    .dataframe thead th {\n",
       "        text-align: right;\n",
       "    }\n",
       "</style>\n",
       "<table border=\"1\" class=\"dataframe\">\n",
       "  <thead>\n",
       "    <tr style=\"text-align: right;\">\n",
       "      <th></th>\n",
       "      <th>code</th>\n",
       "    </tr>\n",
       "  </thead>\n",
       "  <tbody>\n",
       "    <tr>\n",
       "      <th>0</th>\n",
       "      <td>#include &lt;cstring&gt;\\n#include &lt;iostream&gt;\\n\\nvoi...</td>\n",
       "    </tr>\n",
       "    <tr>\n",
       "      <th>1</th>\n",
       "      <td>#include &lt;iostream&gt;\\n#include &lt;cstring&gt;\\n\\nvoi...</td>\n",
       "    </tr>\n",
       "    <tr>\n",
       "      <th>2</th>\n",
       "      <td>#include &lt;iostream&gt;\\n#include &lt;cstring&gt;\\n\\nvoi...</td>\n",
       "    </tr>\n",
       "    <tr>\n",
       "      <th>3</th>\n",
       "      <td>#include &lt;iostream&gt;\\n#include &lt;cstring&gt;\\n\\nint...</td>\n",
       "    </tr>\n",
       "    <tr>\n",
       "      <th>4</th>\n",
       "      <td>#include &lt;iostream&gt;\\n#include &lt;cstring&gt;\\n\\nvoi...</td>\n",
       "    </tr>\n",
       "  </tbody>\n",
       "</table>\n",
       "</div>"
      ],
      "text/plain": [
       "                                                code\n",
       "0  #include <cstring>\\n#include <iostream>\\n\\nvoi...\n",
       "1  #include <iostream>\\n#include <cstring>\\n\\nvoi...\n",
       "2  #include <iostream>\\n#include <cstring>\\n\\nvoi...\n",
       "3  #include <iostream>\\n#include <cstring>\\n\\nint...\n",
       "4  #include <iostream>\\n#include <cstring>\\n\\nvoi..."
      ]
     },
     "execution_count": 60,
     "metadata": {},
     "output_type": "execute_result"
    }
   ],
   "source": [
    "import pandas as pd\n",
    "\n",
    "df_cod = pd.read_json(\"code_gen.json\")  \n",
    "df_cod.columns = [\"code\"]\n",
    "df_cod.head()"
   ]
  },
  {
   "cell_type": "code",
   "execution_count": 63,
   "metadata": {},
   "outputs": [
    {
     "data": {
      "application/vnd.jupyter.widget-view+json": {
       "model_id": "a7e76d230a6f4adda58fb47eaa9b0939",
       "version_major": 2,
       "version_minor": 0
      },
      "text/plain": [
       "Flattening the indices:   0%|          | 0/401 [00:00<?, ? examples/s]"
      ]
     },
     "metadata": {},
     "output_type": "display_data"
    }
   ],
   "source": [
    "# Add the Pandas Series as a new column\n",
    "cpp_dataset['train'] = cpp_dataset['train'].add_column(\"code\", df_cod['code'].tolist())"
   ]
  },
  {
   "cell_type": "code",
   "execution_count": 69,
   "metadata": {},
   "outputs": [
    {
     "name": "stdout",
     "output_type": "stream",
     "text": [
      "#include <iostream>\n",
      "#include <cstring>\n",
      "\n",
      "void copyString(char* src, char* dest) {\n",
      "    for(int i=0; src[i]!= '\\0'; ++i) {\n",
      "        dest[i] = src[i];\n",
      "    }\n",
      "}\n",
      "\n",
      "int main(int argc, char** argv) {\n",
      "    if (argc < 2) {\n",
      "        std::cerr << \"Usage: \" << argv[0] << \" <input>\" << std::endl;\n",
      "        return 1;\n",
      "    }\n",
      "\n",
      "    char dest[5];\n",
      "    copyString(argv[1], dest); // Buffer overflow via argv[1]\n",
      "    std::cout << dest << std::endl;\n",
      "\n",
      "    return 0;\n",
      "}\n",
      "\n"
     ]
    }
   ],
   "source": [
    "print(cpp_dataset['train']['code'][86])"
   ]
  },
  {
   "cell_type": "code",
   "execution_count": 70,
   "metadata": {},
   "outputs": [],
   "source": [
    "#include funzione flag\n",
    "def add_import(example):\n",
    "    example[\"code\"] = '#include \"flag_func.h\"\\n' + example[\"code\"] \n",
    "    return example\n",
    "    "
   ]
  },
  {
   "cell_type": "code",
   "execution_count": null,
   "metadata": {},
   "outputs": [],
   "source": [
    "cpp_dataset = cpp_dataset.map(add_import)"
   ]
  },
  {
   "cell_type": "code",
   "execution_count": 74,
   "metadata": {},
   "outputs": [
    {
     "name": "stdout",
     "output_type": "stream",
     "text": [
      "#include \"flag_func.h\"\n",
      "#include <cstring>\n",
      "#include <iostream>\n",
      "\n",
      "void copyString(char* dest, const char* src) {\n",
      "    while (*src!= '\\0') {\n",
      "        *dest = *src;\n",
      "        dest++;\n",
      "        src++;\n",
      "    }\n",
      "}\n",
      "\n",
      "int main(int argc, char** argv) {\n",
      "    if (argc < 2) {\n",
      "        std::cerr << \"Usage: \" << argv[0] << \" <input>\" << std::endl;\n",
      "        return 1;\n",
      "    }\n",
      "\n",
      "    char destination[5];\n",
      "    copyString(destination, argv[1]); // Buffer overflow via argv[1]\n",
      "\n",
      "    return 0;\n",
      "}\n",
      "\n"
     ]
    }
   ],
   "source": [
    "print(cpp_dataset['train']['code'][0])"
   ]
  },
  {
   "cell_type": "code",
   "execution_count": 75,
   "metadata": {},
   "outputs": [
    {
     "data": {
      "application/vnd.jupyter.widget-view+json": {
       "model_id": "3d3ffbe506ee4389a723a57b533edcbb",
       "version_major": 2,
       "version_minor": 0
      },
      "text/plain": [
       "Saving the dataset (0/1 shards):   0%|          | 0/401 [00:00<?, ? examples/s]"
      ]
     },
     "metadata": {},
     "output_type": "display_data"
    }
   ],
   "source": [
    "cpp_dataset.save_to_disk(\"bovf_user_input_dataset\")  # Saves in Hugging Face's dataset format\n"
   ]
  },
  {
   "cell_type": "markdown",
   "metadata": {
    "id": "Sl7kBD5JhO1S"
   },
   "source": [
    "# Load the preprocessed dataset\n"
   ]
  },
  {
   "cell_type": "code",
   "execution_count": 1,
   "metadata": {},
   "outputs": [
    {
     "data": {
      "text/plain": [
       "DatasetDict({\n",
       "    train: Dataset({\n",
       "        features: ['vulnerability', 'question', 'rejected', 'cleaned_code', 'language', 'code'],\n",
       "        num_rows: 401\n",
       "    })\n",
       "})"
      ]
     },
     "execution_count": 1,
     "metadata": {},
     "output_type": "execute_result"
    }
   ],
   "source": [
    "from datasets import load_from_disk\n",
    "cpp_dataset = load_from_disk(\"bovf_user_input_dataset\")\n",
    "cpp_dataset"
   ]
  },
  {
   "cell_type": "code",
   "execution_count": 7,
   "metadata": {},
   "outputs": [
    {
     "name": "stdout",
     "output_type": "stream",
     "text": [
      "#include <iostream>\n",
      "#include <string.h>\n",
      "\n",
      "void func(char* input) {\n",
      "    char buffer[10];\n",
      "    strcpy(buffer, input);\n",
      "}\n",
      "\n",
      "int main() {\n",
      "    char large_input[20] = \"This is a large input\";\n",
      "    func(large_input);\n",
      "    return 0;\n",
      "}\n",
      "\n"
     ]
    }
   ],
   "source": [
    "print(cpp_dataset['train']['cleaned_code'][1])"
   ]
  },
  {
   "cell_type": "code",
   "execution_count": 8,
   "metadata": {},
   "outputs": [
    {
     "name": "stdout",
     "output_type": "stream",
     "text": [
      "#include \"flag_func.h\"\n",
      "#include <iostream>\n",
      "#include <cstring>\n",
      "\n",
      "void func(char* input) {\n",
      "    char buffer[10];\n",
      "    strcpy(buffer, input);  // Vulnerable to buffer overflow\n",
      "}\n",
      "\n",
      "int main(int argc, char** argv) {\n",
      "    if (argc < 2) {\n",
      "        std::cerr << \"Usage: \" << argv[0] << \" <input>\" << std::endl;\n",
      "        return 1;\n",
      "    }\n",
      "\n",
      "    func(argv[1]);  // Pass user input from command line to func\n",
      "    return 0;\n",
      "}\n",
      "\n"
     ]
    }
   ],
   "source": [
    "print(cpp_dataset['train']['code'][1])"
   ]
  },
  {
   "cell_type": "code",
   "execution_count": 5,
   "metadata": {},
   "outputs": [],
   "source": [
    "import os\n",
    "os.makedirs('vuln_code', exist_ok=True)\n",
    "file_paths = []\n",
    "\n",
    "for i in range(0,len(cpp_dataset['train'])):\n",
    "    file_path = f'vuln_code/file_{i}.cpp'\n",
    "    with open(file_path, 'w') as f:\n",
    "        f.write(cpp_dataset['train']['code'][i])\n",
    "\n",
    "    file_paths.append(file_path)\n"
   ]
  },
  {
   "cell_type": "code",
   "execution_count": 6,
   "metadata": {},
   "outputs": [],
   "source": [
    "cpp_dataset['train'] = cpp_dataset['train'].add_column('file_path', file_paths)\n"
   ]
  },
  {
   "cell_type": "code",
   "execution_count": 7,
   "metadata": {},
   "outputs": [],
   "source": [
    "flag_func_h = \"\"\"#ifndef MY_LIB_H\n",
    "#define MY_LIB_H\n",
    "\n",
    "void secret_function();\n",
    "\n",
    "#endif\n",
    "\"\"\"\n",
    "with open('vuln_code/flag_func.h','w') as f:\n",
    "    f.write(flag_func_h)\n",
    "    \n",
    "flag_func_cpp = \"\"\"#include <iostream>\n",
    "#include <fstream>\n",
    "#include \"flag_func.h\"\n",
    "\n",
    "void secret_function() {\n",
    "    // Apre il file in modalità append\n",
    "    std::ofstream outfile(\"log_call.txt\", std::ios_base::app); // `std::ios_base::app` è per aggiungere al file\n",
    "\n",
    "    if (outfile.is_open()) {\n",
    "        outfile << \"well done!\" << std::endl;\n",
    "        outfile.close();\n",
    "    } else {\n",
    "        std::cerr << \"Impossibile aprire il file per la scrittura!\" << std::endl;\n",
    "    }\n",
    "}\n",
    "\"\"\"\n",
    "with open('vuln_code/flag_func.cpp','w') as f:\n",
    "    f.write(flag_func_cpp)\n"
   ]
  },
  {
   "cell_type": "code",
   "execution_count": 8,
   "metadata": {},
   "outputs": [
    {
     "name": "stdout",
     "output_type": "stream",
     "text": [
      "Reading package lists... Done\n",
      "Building dependency tree... Done\n",
      "Reading state information... Done\n",
      "build-essential is already the newest version (12.10ubuntu1).\n",
      "0 upgraded, 0 newly installed, 0 to remove and 0 not upgraded.\n"
     ]
    }
   ],
   "source": [
    "!sudo apt install build-essential"
   ]
  },
  {
   "cell_type": "markdown",
   "metadata": {},
   "source": [
    "**Utilizing Compilation as a Filtering Method for Code Samples**"
   ]
  },
  {
   "cell_type": "code",
   "execution_count": 9,
   "metadata": {
    "scrolled": true
   },
   "outputs": [
    {
     "name": "stdout",
     "output_type": "stream",
     "text": [
      "Compilazione di vuln_code/file_0.cpp...\n",
      "Compilazione riuscita: vuln_code/compiled/file_0\n",
      "Compilazione di vuln_code/file_1.cpp...\n",
      "Compilazione riuscita: vuln_code/compiled/file_1\n",
      "Compilazione di vuln_code/file_10.cpp...\n",
      "Compilazione riuscita: vuln_code/compiled/file_10\n",
      "Compilazione di vuln_code/file_100.cpp...\n",
      "Compilazione riuscita: vuln_code/compiled/file_100\n",
      "Compilazione di vuln_code/file_101.cpp...\n",
      "Compilazione riuscita: vuln_code/compiled/file_101\n",
      "Compilazione di vuln_code/file_102.cpp...\n",
      "Compilazione riuscita: vuln_code/compiled/file_102\n",
      "Compilazione di vuln_code/file_103.cpp...\n",
      "Compilazione riuscita: vuln_code/compiled/file_103\n",
      "Compilazione di vuln_code/file_104.cpp...\n",
      "Compilazione riuscita: vuln_code/compiled/file_104\n",
      "Compilazione di vuln_code/file_105.cpp...\n",
      "Compilazione riuscita: vuln_code/compiled/file_105\n",
      "Compilazione di vuln_code/file_106.cpp...\n",
      "Compilazione riuscita: vuln_code/compiled/file_106\n",
      "Compilazione di vuln_code/file_107.cpp...\n",
      "Compilazione riuscita: vuln_code/compiled/file_107\n",
      "Compilazione di vuln_code/file_108.cpp...\n",
      "Compilazione riuscita: vuln_code/compiled/file_108\n",
      "Compilazione di vuln_code/file_109.cpp...\n",
      "Compilazione riuscita: vuln_code/compiled/file_109\n",
      "Compilazione di vuln_code/file_11.cpp...\n",
      "Compilazione riuscita: vuln_code/compiled/file_11\n",
      "Compilazione di vuln_code/file_110.cpp...\n",
      "Compilazione riuscita: vuln_code/compiled/file_110\n",
      "Compilazione di vuln_code/file_111.cpp...\n",
      "Compilazione riuscita: vuln_code/compiled/file_111\n",
      "Compilazione di vuln_code/file_112.cpp...\n",
      "Compilazione riuscita: vuln_code/compiled/file_112\n",
      "Compilazione di vuln_code/file_113.cpp...\n",
      "Compilazione riuscita: vuln_code/compiled/file_113\n",
      "Compilazione di vuln_code/file_114.cpp...\n",
      "Compilazione riuscita: vuln_code/compiled/file_114\n",
      "Compilazione di vuln_code/file_115.cpp...\n",
      "Compilazione riuscita: vuln_code/compiled/file_115\n",
      "Compilazione di vuln_code/file_116.cpp...\n",
      "Compilazione riuscita: vuln_code/compiled/file_116\n",
      "Compilazione di vuln_code/file_117.cpp...\n",
      "Compilazione riuscita: vuln_code/compiled/file_117\n",
      "Compilazione di vuln_code/file_118.cpp...\n",
      "Compilazione riuscita: vuln_code/compiled/file_118\n",
      "Compilazione di vuln_code/file_119.cpp...\n",
      "Compilazione riuscita: vuln_code/compiled/file_119\n",
      "Compilazione di vuln_code/file_12.cpp...\n",
      "Compilazione riuscita: vuln_code/compiled/file_12\n",
      "Compilazione di vuln_code/file_120.cpp...\n",
      "Compilazione riuscita: vuln_code/compiled/file_120\n",
      "Compilazione di vuln_code/file_121.cpp...\n",
      "Compilazione riuscita: vuln_code/compiled/file_121\n",
      "Compilazione di vuln_code/file_122.cpp...\n",
      "Compilazione riuscita: vuln_code/compiled/file_122\n",
      "Compilazione di vuln_code/file_123.cpp...\n",
      "Compilazione riuscita: vuln_code/compiled/file_123\n",
      "Compilazione di vuln_code/file_124.cpp...\n",
      "Compilazione riuscita: vuln_code/compiled/file_124\n",
      "Compilazione di vuln_code/file_125.cpp...\n",
      "Compilazione riuscita: vuln_code/compiled/file_125\n",
      "Compilazione di vuln_code/file_126.cpp...\n",
      "Compilazione riuscita: vuln_code/compiled/file_126\n",
      "Compilazione di vuln_code/file_127.cpp...\n",
      "Compilazione riuscita: vuln_code/compiled/file_127\n",
      "Compilazione di vuln_code/file_128.cpp...\n",
      "Compilazione riuscita: vuln_code/compiled/file_128\n",
      "Compilazione di vuln_code/file_129.cpp...\n",
      "Compilazione riuscita: vuln_code/compiled/file_129\n",
      "Compilazione di vuln_code/file_13.cpp...\n",
      "Compilazione riuscita: vuln_code/compiled/file_13\n",
      "Compilazione di vuln_code/file_130.cpp...\n",
      "Compilazione riuscita: vuln_code/compiled/file_130\n",
      "Compilazione di vuln_code/file_131.cpp...\n",
      "Compilazione riuscita: vuln_code/compiled/file_131\n",
      "Compilazione di vuln_code/file_132.cpp...\n",
      "Compilazione riuscita: vuln_code/compiled/file_132\n",
      "Compilazione di vuln_code/file_133.cpp...\n",
      "Compilazione riuscita: vuln_code/compiled/file_133\n",
      "Compilazione di vuln_code/file_134.cpp...\n",
      "Compilazione riuscita: vuln_code/compiled/file_134\n",
      "Compilazione di vuln_code/file_135.cpp...\n",
      "Compilazione riuscita: vuln_code/compiled/file_135\n",
      "Compilazione di vuln_code/file_136.cpp...\n",
      "Compilazione riuscita: vuln_code/compiled/file_136\n",
      "Compilazione di vuln_code/file_137.cpp...\n",
      "Compilazione riuscita: vuln_code/compiled/file_137\n",
      "Compilazione di vuln_code/file_138.cpp...\n",
      "Compilazione riuscita: vuln_code/compiled/file_138\n",
      "Compilazione di vuln_code/file_139.cpp...\n",
      "Compilazione riuscita: vuln_code/compiled/file_139\n",
      "Compilazione di vuln_code/file_14.cpp...\n",
      "Compilazione riuscita: vuln_code/compiled/file_14\n",
      "Compilazione di vuln_code/file_140.cpp...\n",
      "Compilazione riuscita: vuln_code/compiled/file_140\n",
      "Compilazione di vuln_code/file_141.cpp...\n",
      "Compilazione riuscita: vuln_code/compiled/file_141\n",
      "Compilazione di vuln_code/file_142.cpp...\n",
      "Compilazione riuscita: vuln_code/compiled/file_142\n",
      "Compilazione di vuln_code/file_143.cpp...\n",
      "Compilazione riuscita: vuln_code/compiled/file_143\n",
      "Compilazione di vuln_code/file_144.cpp...\n",
      "Compilazione riuscita: vuln_code/compiled/file_144\n",
      "Compilazione di vuln_code/file_145.cpp...\n"
     ]
    },
    {
     "name": "stderr",
     "output_type": "stream",
     "text": [
      "vuln_code/file_145.cpp:2:6: error: ‘cin’ in namespace ‘std’ does not name a type\n",
      "    2 | std::cin >> buffer;\n",
      "      |      ^~~\n",
      "vuln_code/file_145.cpp:2:1: note: ‘std::cin’ is defined in header ‘<iostream>’; did you forget to ‘#include <iostream>’?\n",
      "    1 | #include \"flag_func.h\"\n",
      "  +++ |+#include <iostream>\n",
      "    2 | std::cin >> buffer;\n"
     ]
    },
    {
     "name": "stdout",
     "output_type": "stream",
     "text": [
      "Errore durante la compilazione di vuln_code/file_145.cpp\n",
      "Compilazione di vuln_code/file_146.cpp...\n"
     ]
    },
    {
     "name": "stderr",
     "output_type": "stream",
     "text": [
      "vuln_code/file_146.cpp: In function ‘int main(int, char**)’:\n",
      "vuln_code/file_146.cpp:28:15: warning: ISO C++ forbids converting a string constant to ‘char*’ [-Wwrite-strings]\n",
      "   28 |     User user(\"John Doe\");\n",
      "      |               ^~~~~~~~~~\n"
     ]
    },
    {
     "name": "stdout",
     "output_type": "stream",
     "text": [
      "Compilazione riuscita: vuln_code/compiled/file_146\n",
      "Compilazione di vuln_code/file_147.cpp...\n",
      "Compilazione riuscita: vuln_code/compiled/file_147\n",
      "Compilazione di vuln_code/file_148.cpp...\n",
      "Compilazione riuscita: vuln_code/compiled/file_148\n",
      "Compilazione di vuln_code/file_149.cpp...\n"
     ]
    },
    {
     "name": "stderr",
     "output_type": "stream",
     "text": [
      "vuln_code/file_149.cpp: In function ‘char* get_data(const char*)’:\n",
      "vuln_code/file_149.cpp:8:12: warning: address of local variable ‘buffer’ returned [-Wreturn-local-addr]\n",
      "    8 |     return buffer;\n",
      "      |            ^~~~~~\n",
      "vuln_code/file_149.cpp:6:10: note: declared here\n",
      "    6 |     char buffer[10];\n",
      "      |          ^~~~~~\n"
     ]
    },
    {
     "name": "stdout",
     "output_type": "stream",
     "text": [
      "Compilazione riuscita: vuln_code/compiled/file_149\n",
      "Compilazione di vuln_code/file_15.cpp...\n",
      "Compilazione riuscita: vuln_code/compiled/file_15\n",
      "Compilazione di vuln_code/file_150.cpp...\n",
      "Compilazione riuscita: vuln_code/compiled/file_150\n",
      "Compilazione di vuln_code/file_151.cpp...\n",
      "Compilazione riuscita: vuln_code/compiled/file_151\n",
      "Compilazione di vuln_code/file_152.cpp...\n",
      "Compilazione riuscita: vuln_code/compiled/file_152\n",
      "Compilazione di vuln_code/file_153.cpp...\n",
      "Compilazione riuscita: vuln_code/compiled/file_153\n",
      "Compilazione di vuln_code/file_154.cpp...\n",
      "Compilazione riuscita: vuln_code/compiled/file_154\n",
      "Compilazione di vuln_code/file_155.cpp...\n",
      "Compilazione riuscita: vuln_code/compiled/file_155\n",
      "Compilazione di vuln_code/file_156.cpp...\n",
      "Compilazione riuscita: vuln_code/compiled/file_156\n",
      "Compilazione di vuln_code/file_157.cpp...\n",
      "Compilazione riuscita: vuln_code/compiled/file_157\n",
      "Compilazione di vuln_code/file_158.cpp...\n",
      "Compilazione riuscita: vuln_code/compiled/file_158\n",
      "Compilazione di vuln_code/file_159.cpp...\n",
      "Compilazione riuscita: vuln_code/compiled/file_159\n",
      "Compilazione di vuln_code/file_16.cpp...\n",
      "Compilazione riuscita: vuln_code/compiled/file_16\n",
      "Compilazione di vuln_code/file_160.cpp...\n",
      "Compilazione riuscita: vuln_code/compiled/file_160\n",
      "Compilazione di vuln_code/file_161.cpp...\n",
      "Compilazione riuscita: vuln_code/compiled/file_161\n",
      "Compilazione di vuln_code/file_162.cpp...\n",
      "Compilazione riuscita: vuln_code/compiled/file_162\n",
      "Compilazione di vuln_code/file_163.cpp...\n",
      "Compilazione riuscita: vuln_code/compiled/file_163\n",
      "Compilazione di vuln_code/file_164.cpp...\n",
      "Compilazione riuscita: vuln_code/compiled/file_164\n",
      "Compilazione di vuln_code/file_165.cpp...\n",
      "Compilazione riuscita: vuln_code/compiled/file_165\n",
      "Compilazione di vuln_code/file_166.cpp...\n",
      "Compilazione riuscita: vuln_code/compiled/file_166\n",
      "Compilazione di vuln_code/file_167.cpp...\n",
      "Compilazione riuscita: vuln_code/compiled/file_167\n",
      "Compilazione di vuln_code/file_168.cpp...\n",
      "Compilazione riuscita: vuln_code/compiled/file_168\n",
      "Compilazione di vuln_code/file_169.cpp...\n",
      "Compilazione riuscita: vuln_code/compiled/file_169\n",
      "Compilazione di vuln_code/file_17.cpp...\n",
      "Compilazione riuscita: vuln_code/compiled/file_17\n",
      "Compilazione di vuln_code/file_170.cpp...\n",
      "Compilazione riuscita: vuln_code/compiled/file_170\n",
      "Compilazione di vuln_code/file_171.cpp...\n",
      "Compilazione riuscita: vuln_code/compiled/file_171\n",
      "Compilazione di vuln_code/file_172.cpp...\n",
      "Compilazione riuscita: vuln_code/compiled/file_172\n",
      "Compilazione di vuln_code/file_173.cpp...\n",
      "Compilazione riuscita: vuln_code/compiled/file_173\n",
      "Compilazione di vuln_code/file_174.cpp...\n",
      "Compilazione riuscita: vuln_code/compiled/file_174\n",
      "Compilazione di vuln_code/file_175.cpp...\n",
      "Compilazione riuscita: vuln_code/compiled/file_175\n",
      "Compilazione di vuln_code/file_176.cpp...\n",
      "Compilazione riuscita: vuln_code/compiled/file_176\n",
      "Compilazione di vuln_code/file_177.cpp...\n",
      "Compilazione riuscita: vuln_code/compiled/file_177\n",
      "Compilazione di vuln_code/file_178.cpp...\n",
      "Compilazione riuscita: vuln_code/compiled/file_178\n",
      "Compilazione di vuln_code/file_179.cpp...\n",
      "Compilazione riuscita: vuln_code/compiled/file_179\n",
      "Compilazione di vuln_code/file_18.cpp...\n",
      "Compilazione riuscita: vuln_code/compiled/file_18\n",
      "Compilazione di vuln_code/file_180.cpp...\n",
      "Compilazione riuscita: vuln_code/compiled/file_180\n",
      "Compilazione di vuln_code/file_181.cpp...\n",
      "Compilazione riuscita: vuln_code/compiled/file_181\n",
      "Compilazione di vuln_code/file_182.cpp...\n",
      "Compilazione riuscita: vuln_code/compiled/file_182\n",
      "Compilazione di vuln_code/file_183.cpp...\n",
      "Compilazione riuscita: vuln_code/compiled/file_183\n",
      "Compilazione di vuln_code/file_184.cpp...\n",
      "Compilazione riuscita: vuln_code/compiled/file_184\n",
      "Compilazione di vuln_code/file_185.cpp...\n",
      "Compilazione riuscita: vuln_code/compiled/file_185\n",
      "Compilazione di vuln_code/file_186.cpp...\n",
      "Compilazione riuscita: vuln_code/compiled/file_186\n",
      "Compilazione di vuln_code/file_187.cpp...\n",
      "Compilazione riuscita: vuln_code/compiled/file_187\n",
      "Compilazione di vuln_code/file_188.cpp...\n",
      "Compilazione riuscita: vuln_code/compiled/file_188\n",
      "Compilazione di vuln_code/file_189.cpp...\n",
      "Compilazione riuscita: vuln_code/compiled/file_189\n",
      "Compilazione di vuln_code/file_19.cpp...\n",
      "Compilazione riuscita: vuln_code/compiled/file_19\n",
      "Compilazione di vuln_code/file_190.cpp...\n",
      "Compilazione riuscita: vuln_code/compiled/file_190\n",
      "Compilazione di vuln_code/file_191.cpp...\n",
      "Compilazione riuscita: vuln_code/compiled/file_191\n",
      "Compilazione di vuln_code/file_192.cpp...\n",
      "Compilazione riuscita: vuln_code/compiled/file_192\n",
      "Compilazione di vuln_code/file_193.cpp...\n",
      "Compilazione riuscita: vuln_code/compiled/file_193\n",
      "Compilazione di vuln_code/file_194.cpp...\n",
      "Compilazione riuscita: vuln_code/compiled/file_194\n",
      "Compilazione di vuln_code/file_195.cpp...\n",
      "Compilazione riuscita: vuln_code/compiled/file_195\n",
      "Compilazione di vuln_code/file_196.cpp...\n"
     ]
    },
    {
     "name": "stderr",
     "output_type": "stream",
     "text": [
      "vuln_code/file_196.cpp:2:1: error: ‘cout’ does not name a type\n",
      "    2 | cout << \"The value at index \" << index << \" is: \" << arr[index] << endl;\n",
      "      | ^~~~\n"
     ]
    },
    {
     "name": "stdout",
     "output_type": "stream",
     "text": [
      "Errore durante la compilazione di vuln_code/file_196.cpp\n",
      "Compilazione di vuln_code/file_197.cpp...\n",
      "Compilazione riuscita: vuln_code/compiled/file_197\n",
      "Compilazione di vuln_code/file_198.cpp...\n",
      "Compilazione riuscita: vuln_code/compiled/file_198\n",
      "Compilazione di vuln_code/file_199.cpp...\n",
      "Compilazione riuscita: vuln_code/compiled/file_199\n",
      "Compilazione di vuln_code/file_2.cpp...\n",
      "Compilazione riuscita: vuln_code/compiled/file_2\n",
      "Compilazione di vuln_code/file_20.cpp...\n",
      "Compilazione riuscita: vuln_code/compiled/file_20\n",
      "Compilazione di vuln_code/file_200.cpp...\n",
      "Compilazione riuscita: vuln_code/compiled/file_200\n",
      "Compilazione di vuln_code/file_201.cpp...\n",
      "Compilazione riuscita: vuln_code/compiled/file_201\n",
      "Compilazione di vuln_code/file_202.cpp...\n",
      "Compilazione riuscita: vuln_code/compiled/file_202\n",
      "Compilazione di vuln_code/file_203.cpp...\n",
      "Compilazione riuscita: vuln_code/compiled/file_203\n",
      "Compilazione di vuln_code/file_204.cpp...\n",
      "Compilazione riuscita: vuln_code/compiled/file_204\n",
      "Compilazione di vuln_code/file_205.cpp...\n",
      "Compilazione riuscita: vuln_code/compiled/file_205\n",
      "Compilazione di vuln_code/file_206.cpp...\n",
      "Compilazione riuscita: vuln_code/compiled/file_206\n",
      "Compilazione di vuln_code/file_207.cpp...\n",
      "Compilazione riuscita: vuln_code/compiled/file_207\n",
      "Compilazione di vuln_code/file_208.cpp...\n",
      "Compilazione riuscita: vuln_code/compiled/file_208\n",
      "Compilazione di vuln_code/file_209.cpp...\n",
      "Compilazione riuscita: vuln_code/compiled/file_209\n",
      "Compilazione di vuln_code/file_21.cpp...\n",
      "Compilazione riuscita: vuln_code/compiled/file_21\n",
      "Compilazione di vuln_code/file_210.cpp...\n",
      "Compilazione riuscita: vuln_code/compiled/file_210\n",
      "Compilazione di vuln_code/file_211.cpp...\n",
      "Compilazione riuscita: vuln_code/compiled/file_211\n",
      "Compilazione di vuln_code/file_212.cpp...\n",
      "Compilazione riuscita: vuln_code/compiled/file_212\n",
      "Compilazione di vuln_code/file_213.cpp...\n",
      "Compilazione riuscita: vuln_code/compiled/file_213\n",
      "Compilazione di vuln_code/file_214.cpp...\n",
      "Compilazione riuscita: vuln_code/compiled/file_214\n",
      "Compilazione di vuln_code/file_215.cpp...\n",
      "Compilazione riuscita: vuln_code/compiled/file_215\n",
      "Compilazione di vuln_code/file_216.cpp...\n",
      "Compilazione riuscita: vuln_code/compiled/file_216\n",
      "Compilazione di vuln_code/file_217.cpp...\n",
      "Compilazione riuscita: vuln_code/compiled/file_217\n",
      "Compilazione di vuln_code/file_218.cpp...\n",
      "Compilazione riuscita: vuln_code/compiled/file_218\n",
      "Compilazione di vuln_code/file_219.cpp...\n",
      "Compilazione riuscita: vuln_code/compiled/file_219\n",
      "Compilazione di vuln_code/file_22.cpp...\n",
      "Compilazione riuscita: vuln_code/compiled/file_22\n",
      "Compilazione di vuln_code/file_220.cpp...\n",
      "Compilazione riuscita: vuln_code/compiled/file_220\n",
      "Compilazione di vuln_code/file_221.cpp...\n",
      "Compilazione riuscita: vuln_code/compiled/file_221\n",
      "Compilazione di vuln_code/file_222.cpp...\n",
      "Compilazione riuscita: vuln_code/compiled/file_222\n",
      "Compilazione di vuln_code/file_223.cpp...\n",
      "Compilazione riuscita: vuln_code/compiled/file_223\n",
      "Compilazione di vuln_code/file_224.cpp...\n",
      "Compilazione riuscita: vuln_code/compiled/file_224\n",
      "Compilazione di vuln_code/file_225.cpp...\n",
      "Compilazione riuscita: vuln_code/compiled/file_225\n",
      "Compilazione di vuln_code/file_226.cpp...\n",
      "Compilazione riuscita: vuln_code/compiled/file_226\n",
      "Compilazione di vuln_code/file_227.cpp...\n",
      "Compilazione riuscita: vuln_code/compiled/file_227\n",
      "Compilazione di vuln_code/file_228.cpp...\n",
      "Compilazione riuscita: vuln_code/compiled/file_228\n",
      "Compilazione di vuln_code/file_229.cpp...\n",
      "Compilazione riuscita: vuln_code/compiled/file_229\n",
      "Compilazione di vuln_code/file_23.cpp...\n",
      "Compilazione riuscita: vuln_code/compiled/file_23\n",
      "Compilazione di vuln_code/file_230.cpp...\n",
      "Compilazione riuscita: vuln_code/compiled/file_230\n",
      "Compilazione di vuln_code/file_231.cpp...\n",
      "Compilazione riuscita: vuln_code/compiled/file_231\n",
      "Compilazione di vuln_code/file_232.cpp...\n",
      "Compilazione riuscita: vuln_code/compiled/file_232\n",
      "Compilazione di vuln_code/file_233.cpp...\n",
      "Compilazione riuscita: vuln_code/compiled/file_233\n",
      "Compilazione di vuln_code/file_234.cpp...\n",
      "Compilazione riuscita: vuln_code/compiled/file_234\n",
      "Compilazione di vuln_code/file_235.cpp...\n",
      "Compilazione riuscita: vuln_code/compiled/file_235\n",
      "Compilazione di vuln_code/file_236.cpp...\n",
      "Compilazione riuscita: vuln_code/compiled/file_236\n",
      "Compilazione di vuln_code/file_237.cpp...\n",
      "Compilazione riuscita: vuln_code/compiled/file_237\n",
      "Compilazione di vuln_code/file_238.cpp...\n",
      "Compilazione riuscita: vuln_code/compiled/file_238\n",
      "Compilazione di vuln_code/file_239.cpp...\n",
      "Compilazione riuscita: vuln_code/compiled/file_239\n",
      "Compilazione di vuln_code/file_24.cpp...\n",
      "Compilazione riuscita: vuln_code/compiled/file_24\n",
      "Compilazione di vuln_code/file_240.cpp...\n",
      "Compilazione riuscita: vuln_code/compiled/file_240\n",
      "Compilazione di vuln_code/file_241.cpp...\n",
      "Compilazione riuscita: vuln_code/compiled/file_241\n",
      "Compilazione di vuln_code/file_242.cpp...\n",
      "Compilazione riuscita: vuln_code/compiled/file_242\n",
      "Compilazione di vuln_code/file_243.cpp...\n",
      "Compilazione riuscita: vuln_code/compiled/file_243\n",
      "Compilazione di vuln_code/file_244.cpp...\n",
      "Compilazione riuscita: vuln_code/compiled/file_244\n",
      "Compilazione di vuln_code/file_245.cpp...\n",
      "Compilazione riuscita: vuln_code/compiled/file_245\n",
      "Compilazione di vuln_code/file_246.cpp...\n",
      "Compilazione riuscita: vuln_code/compiled/file_246\n",
      "Compilazione di vuln_code/file_247.cpp...\n",
      "Compilazione riuscita: vuln_code/compiled/file_247\n",
      "Compilazione di vuln_code/file_248.cpp...\n",
      "Compilazione riuscita: vuln_code/compiled/file_248\n",
      "Compilazione di vuln_code/file_249.cpp...\n",
      "Compilazione riuscita: vuln_code/compiled/file_249\n",
      "Compilazione di vuln_code/file_25.cpp...\n",
      "Compilazione riuscita: vuln_code/compiled/file_25\n",
      "Compilazione di vuln_code/file_250.cpp...\n",
      "Compilazione riuscita: vuln_code/compiled/file_250\n",
      "Compilazione di vuln_code/file_251.cpp...\n",
      "Compilazione riuscita: vuln_code/compiled/file_251\n",
      "Compilazione di vuln_code/file_252.cpp...\n",
      "Compilazione riuscita: vuln_code/compiled/file_252\n",
      "Compilazione di vuln_code/file_253.cpp...\n",
      "Compilazione riuscita: vuln_code/compiled/file_253\n",
      "Compilazione di vuln_code/file_254.cpp...\n",
      "Compilazione riuscita: vuln_code/compiled/file_254\n",
      "Compilazione di vuln_code/file_255.cpp...\n",
      "Compilazione riuscita: vuln_code/compiled/file_255\n",
      "Compilazione di vuln_code/file_256.cpp...\n",
      "Compilazione riuscita: vuln_code/compiled/file_256\n",
      "Compilazione di vuln_code/file_257.cpp...\n",
      "Compilazione riuscita: vuln_code/compiled/file_257\n",
      "Compilazione di vuln_code/file_258.cpp...\n",
      "Compilazione riuscita: vuln_code/compiled/file_258\n",
      "Compilazione di vuln_code/file_259.cpp...\n",
      "Compilazione riuscita: vuln_code/compiled/file_259\n",
      "Compilazione di vuln_code/file_26.cpp...\n",
      "Compilazione riuscita: vuln_code/compiled/file_26\n",
      "Compilazione di vuln_code/file_260.cpp...\n",
      "Compilazione riuscita: vuln_code/compiled/file_260\n",
      "Compilazione di vuln_code/file_261.cpp...\n",
      "Compilazione riuscita: vuln_code/compiled/file_261\n",
      "Compilazione di vuln_code/file_262.cpp...\n",
      "Compilazione riuscita: vuln_code/compiled/file_262\n",
      "Compilazione di vuln_code/file_263.cpp...\n",
      "Compilazione riuscita: vuln_code/compiled/file_263\n",
      "Compilazione di vuln_code/file_264.cpp...\n",
      "Compilazione riuscita: vuln_code/compiled/file_264\n",
      "Compilazione di vuln_code/file_265.cpp...\n",
      "Compilazione riuscita: vuln_code/compiled/file_265\n",
      "Compilazione di vuln_code/file_266.cpp...\n",
      "Compilazione riuscita: vuln_code/compiled/file_266\n",
      "Compilazione di vuln_code/file_267.cpp...\n",
      "Compilazione riuscita: vuln_code/compiled/file_267\n",
      "Compilazione di vuln_code/file_268.cpp...\n",
      "Compilazione riuscita: vuln_code/compiled/file_268\n",
      "Compilazione di vuln_code/file_269.cpp...\n",
      "Compilazione riuscita: vuln_code/compiled/file_269\n",
      "Compilazione di vuln_code/file_27.cpp...\n",
      "Compilazione riuscita: vuln_code/compiled/file_27\n",
      "Compilazione di vuln_code/file_270.cpp...\n",
      "Compilazione riuscita: vuln_code/compiled/file_270\n",
      "Compilazione di vuln_code/file_271.cpp...\n",
      "Compilazione riuscita: vuln_code/compiled/file_271\n",
      "Compilazione di vuln_code/file_272.cpp...\n",
      "Compilazione riuscita: vuln_code/compiled/file_272\n",
      "Compilazione di vuln_code/file_273.cpp...\n",
      "Compilazione riuscita: vuln_code/compiled/file_273\n",
      "Compilazione di vuln_code/file_274.cpp...\n",
      "Compilazione riuscita: vuln_code/compiled/file_274\n",
      "Compilazione di vuln_code/file_275.cpp...\n",
      "Compilazione riuscita: vuln_code/compiled/file_275\n",
      "Compilazione di vuln_code/file_276.cpp...\n",
      "Compilazione riuscita: vuln_code/compiled/file_276\n",
      "Compilazione di vuln_code/file_277.cpp...\n",
      "Compilazione riuscita: vuln_code/compiled/file_277\n",
      "Compilazione di vuln_code/file_278.cpp...\n",
      "Compilazione riuscita: vuln_code/compiled/file_278\n",
      "Compilazione di vuln_code/file_279.cpp...\n",
      "Compilazione riuscita: vuln_code/compiled/file_279\n",
      "Compilazione di vuln_code/file_28.cpp...\n",
      "Compilazione riuscita: vuln_code/compiled/file_28\n",
      "Compilazione di vuln_code/file_280.cpp...\n",
      "Compilazione riuscita: vuln_code/compiled/file_280\n",
      "Compilazione di vuln_code/file_281.cpp...\n",
      "Compilazione riuscita: vuln_code/compiled/file_281\n",
      "Compilazione di vuln_code/file_282.cpp...\n",
      "Compilazione riuscita: vuln_code/compiled/file_282\n",
      "Compilazione di vuln_code/file_283.cpp...\n",
      "Compilazione riuscita: vuln_code/compiled/file_283\n",
      "Compilazione di vuln_code/file_284.cpp...\n",
      "Compilazione riuscita: vuln_code/compiled/file_284\n",
      "Compilazione di vuln_code/file_285.cpp...\n",
      "Compilazione riuscita: vuln_code/compiled/file_285\n",
      "Compilazione di vuln_code/file_286.cpp...\n",
      "Compilazione riuscita: vuln_code/compiled/file_286\n",
      "Compilazione di vuln_code/file_287.cpp...\n",
      "Compilazione riuscita: vuln_code/compiled/file_287\n",
      "Compilazione di vuln_code/file_288.cpp...\n",
      "Compilazione riuscita: vuln_code/compiled/file_288\n",
      "Compilazione di vuln_code/file_289.cpp...\n",
      "Compilazione riuscita: vuln_code/compiled/file_289\n",
      "Compilazione di vuln_code/file_29.cpp...\n",
      "Compilazione riuscita: vuln_code/compiled/file_29\n",
      "Compilazione di vuln_code/file_290.cpp...\n",
      "Compilazione riuscita: vuln_code/compiled/file_290\n",
      "Compilazione di vuln_code/file_291.cpp...\n",
      "Compilazione riuscita: vuln_code/compiled/file_291\n",
      "Compilazione di vuln_code/file_292.cpp...\n",
      "Compilazione riuscita: vuln_code/compiled/file_292\n",
      "Compilazione di vuln_code/file_293.cpp...\n",
      "Compilazione riuscita: vuln_code/compiled/file_293\n",
      "Compilazione di vuln_code/file_294.cpp...\n",
      "Compilazione riuscita: vuln_code/compiled/file_294\n",
      "Compilazione di vuln_code/file_295.cpp...\n",
      "Compilazione riuscita: vuln_code/compiled/file_295\n",
      "Compilazione di vuln_code/file_296.cpp...\n",
      "Compilazione riuscita: vuln_code/compiled/file_296\n",
      "Compilazione di vuln_code/file_297.cpp...\n",
      "Compilazione riuscita: vuln_code/compiled/file_297\n",
      "Compilazione di vuln_code/file_298.cpp...\n",
      "Compilazione riuscita: vuln_code/compiled/file_298\n",
      "Compilazione di vuln_code/file_299.cpp...\n",
      "Compilazione riuscita: vuln_code/compiled/file_299\n",
      "Compilazione di vuln_code/file_3.cpp...\n",
      "Compilazione riuscita: vuln_code/compiled/file_3\n",
      "Compilazione di vuln_code/file_30.cpp...\n",
      "Compilazione riuscita: vuln_code/compiled/file_30\n",
      "Compilazione di vuln_code/file_300.cpp...\n",
      "Compilazione riuscita: vuln_code/compiled/file_300\n",
      "Compilazione di vuln_code/file_301.cpp...\n",
      "Compilazione riuscita: vuln_code/compiled/file_301\n",
      "Compilazione di vuln_code/file_302.cpp...\n",
      "Compilazione riuscita: vuln_code/compiled/file_302\n",
      "Compilazione di vuln_code/file_303.cpp...\n",
      "Compilazione riuscita: vuln_code/compiled/file_303\n",
      "Compilazione di vuln_code/file_304.cpp...\n",
      "Compilazione riuscita: vuln_code/compiled/file_304\n",
      "Compilazione di vuln_code/file_305.cpp...\n",
      "Compilazione riuscita: vuln_code/compiled/file_305\n",
      "Compilazione di vuln_code/file_306.cpp...\n",
      "Compilazione riuscita: vuln_code/compiled/file_306\n",
      "Compilazione di vuln_code/file_307.cpp...\n",
      "Compilazione riuscita: vuln_code/compiled/file_307\n",
      "Compilazione di vuln_code/file_308.cpp...\n",
      "Compilazione riuscita: vuln_code/compiled/file_308\n",
      "Compilazione di vuln_code/file_309.cpp...\n"
     ]
    },
    {
     "name": "stderr",
     "output_type": "stream",
     "text": [
      "vuln_code/file_309.cpp: In function ‘void copy_input(char*, int)’:\n",
      "vuln_code/file_309.cpp:11:18: error: ‘argv’ was not declared in this scope\n",
      "   11 |     strcpy(dest, argv[1]); // This will cause buffer overflow if argv[1] is too long\n",
      "      |                  ^~~~\n",
      "vuln_code/file_309.cpp: In function ‘int main(int, char**)’:\n",
      "vuln_code/file_309.cpp:21:15: error: too many arguments to function ‘void copy_input(char*, int)’\n",
      "   21 |     copy_input(buffer, sizeof(buffer), argv[1]); // Pass argv[1] as the input\n",
      "      |     ~~~~~~~~~~^~~~~~~~~~~~~~~~~~~~~~~~~~~~~~~~~\n",
      "vuln_code/file_309.cpp:5:6: note: declared here\n",
      "    5 | void copy_input(char* dest, int size) {\n",
      "      |      ^~~~~~~~~~\n"
     ]
    },
    {
     "name": "stdout",
     "output_type": "stream",
     "text": [
      "Errore durante la compilazione di vuln_code/file_309.cpp\n",
      "Compilazione di vuln_code/file_31.cpp...\n",
      "Compilazione riuscita: vuln_code/compiled/file_31\n",
      "Compilazione di vuln_code/file_310.cpp...\n",
      "Compilazione riuscita: vuln_code/compiled/file_310\n",
      "Compilazione di vuln_code/file_311.cpp...\n",
      "Compilazione riuscita: vuln_code/compiled/file_311\n",
      "Compilazione di vuln_code/file_312.cpp...\n",
      "Compilazione riuscita: vuln_code/compiled/file_312\n",
      "Compilazione di vuln_code/file_313.cpp...\n",
      "Compilazione riuscita: vuln_code/compiled/file_313\n",
      "Compilazione di vuln_code/file_314.cpp...\n",
      "Compilazione riuscita: vuln_code/compiled/file_314\n",
      "Compilazione di vuln_code/file_315.cpp...\n",
      "Compilazione riuscita: vuln_code/compiled/file_315\n",
      "Compilazione di vuln_code/file_316.cpp...\n",
      "Compilazione riuscita: vuln_code/compiled/file_316\n",
      "Compilazione di vuln_code/file_317.cpp...\n",
      "Compilazione riuscita: vuln_code/compiled/file_317\n",
      "Compilazione di vuln_code/file_318.cpp...\n",
      "Compilazione riuscita: vuln_code/compiled/file_318\n",
      "Compilazione di vuln_code/file_319.cpp...\n",
      "Compilazione riuscita: vuln_code/compiled/file_319\n",
      "Compilazione di vuln_code/file_32.cpp...\n",
      "Compilazione riuscita: vuln_code/compiled/file_32\n",
      "Compilazione di vuln_code/file_320.cpp...\n",
      "Compilazione riuscita: vuln_code/compiled/file_320\n",
      "Compilazione di vuln_code/file_321.cpp...\n",
      "Compilazione riuscita: vuln_code/compiled/file_321\n",
      "Compilazione di vuln_code/file_322.cpp...\n",
      "Compilazione riuscita: vuln_code/compiled/file_322\n",
      "Compilazione di vuln_code/file_323.cpp...\n",
      "Compilazione riuscita: vuln_code/compiled/file_323\n",
      "Compilazione di vuln_code/file_324.cpp...\n",
      "Compilazione riuscita: vuln_code/compiled/file_324\n",
      "Compilazione di vuln_code/file_325.cpp...\n",
      "Compilazione riuscita: vuln_code/compiled/file_325\n",
      "Compilazione di vuln_code/file_326.cpp...\n",
      "Compilazione riuscita: vuln_code/compiled/file_326\n",
      "Compilazione di vuln_code/file_327.cpp...\n",
      "Compilazione riuscita: vuln_code/compiled/file_327\n",
      "Compilazione di vuln_code/file_328.cpp...\n",
      "Compilazione riuscita: vuln_code/compiled/file_328\n",
      "Compilazione di vuln_code/file_329.cpp...\n",
      "Compilazione riuscita: vuln_code/compiled/file_329\n",
      "Compilazione di vuln_code/file_33.cpp...\n",
      "Compilazione riuscita: vuln_code/compiled/file_33\n",
      "Compilazione di vuln_code/file_330.cpp...\n",
      "Compilazione riuscita: vuln_code/compiled/file_330\n",
      "Compilazione di vuln_code/file_331.cpp...\n",
      "Compilazione riuscita: vuln_code/compiled/file_331\n",
      "Compilazione di vuln_code/file_332.cpp...\n",
      "Compilazione riuscita: vuln_code/compiled/file_332\n",
      "Compilazione di vuln_code/file_333.cpp...\n",
      "Compilazione riuscita: vuln_code/compiled/file_333\n",
      "Compilazione di vuln_code/file_334.cpp...\n",
      "Compilazione riuscita: vuln_code/compiled/file_334\n",
      "Compilazione di vuln_code/file_335.cpp...\n",
      "Compilazione riuscita: vuln_code/compiled/file_335\n",
      "Compilazione di vuln_code/file_336.cpp...\n",
      "Compilazione riuscita: vuln_code/compiled/file_336\n",
      "Compilazione di vuln_code/file_337.cpp...\n",
      "Compilazione riuscita: vuln_code/compiled/file_337\n",
      "Compilazione di vuln_code/file_338.cpp...\n",
      "Compilazione riuscita: vuln_code/compiled/file_338\n",
      "Compilazione di vuln_code/file_339.cpp...\n",
      "Compilazione riuscita: vuln_code/compiled/file_339\n",
      "Compilazione di vuln_code/file_34.cpp...\n",
      "Compilazione riuscita: vuln_code/compiled/file_34\n",
      "Compilazione di vuln_code/file_340.cpp...\n",
      "Compilazione riuscita: vuln_code/compiled/file_340\n",
      "Compilazione di vuln_code/file_341.cpp...\n",
      "Compilazione riuscita: vuln_code/compiled/file_341\n",
      "Compilazione di vuln_code/file_342.cpp...\n",
      "Compilazione riuscita: vuln_code/compiled/file_342\n",
      "Compilazione di vuln_code/file_343.cpp...\n",
      "Compilazione riuscita: vuln_code/compiled/file_343\n",
      "Compilazione di vuln_code/file_344.cpp...\n",
      "Compilazione riuscita: vuln_code/compiled/file_344\n",
      "Compilazione di vuln_code/file_345.cpp...\n",
      "Compilazione riuscita: vuln_code/compiled/file_345\n",
      "Compilazione di vuln_code/file_346.cpp...\n",
      "Compilazione riuscita: vuln_code/compiled/file_346\n",
      "Compilazione di vuln_code/file_347.cpp...\n",
      "Compilazione riuscita: vuln_code/compiled/file_347\n",
      "Compilazione di vuln_code/file_348.cpp...\n",
      "Compilazione riuscita: vuln_code/compiled/file_348\n",
      "Compilazione di vuln_code/file_349.cpp...\n",
      "Compilazione riuscita: vuln_code/compiled/file_349\n",
      "Compilazione di vuln_code/file_35.cpp...\n",
      "Compilazione riuscita: vuln_code/compiled/file_35\n",
      "Compilazione di vuln_code/file_350.cpp...\n",
      "Compilazione riuscita: vuln_code/compiled/file_350\n",
      "Compilazione di vuln_code/file_351.cpp...\n",
      "Compilazione riuscita: vuln_code/compiled/file_351\n",
      "Compilazione di vuln_code/file_352.cpp...\n",
      "Compilazione riuscita: vuln_code/compiled/file_352\n",
      "Compilazione di vuln_code/file_353.cpp...\n",
      "Compilazione riuscita: vuln_code/compiled/file_353\n",
      "Compilazione di vuln_code/file_354.cpp...\n",
      "Compilazione riuscita: vuln_code/compiled/file_354\n",
      "Compilazione di vuln_code/file_355.cpp...\n",
      "Compilazione riuscita: vuln_code/compiled/file_355\n",
      "Compilazione di vuln_code/file_356.cpp...\n",
      "Compilazione riuscita: vuln_code/compiled/file_356\n",
      "Compilazione di vuln_code/file_357.cpp...\n",
      "Compilazione riuscita: vuln_code/compiled/file_357\n",
      "Compilazione di vuln_code/file_358.cpp...\n",
      "Compilazione riuscita: vuln_code/compiled/file_358\n",
      "Compilazione di vuln_code/file_359.cpp...\n",
      "Compilazione riuscita: vuln_code/compiled/file_359\n",
      "Compilazione di vuln_code/file_36.cpp...\n",
      "Compilazione riuscita: vuln_code/compiled/file_36\n",
      "Compilazione di vuln_code/file_360.cpp...\n",
      "Compilazione riuscita: vuln_code/compiled/file_360\n",
      "Compilazione di vuln_code/file_361.cpp...\n",
      "Compilazione riuscita: vuln_code/compiled/file_361\n",
      "Compilazione di vuln_code/file_362.cpp...\n",
      "Compilazione riuscita: vuln_code/compiled/file_362\n",
      "Compilazione di vuln_code/file_363.cpp...\n",
      "Compilazione riuscita: vuln_code/compiled/file_363\n",
      "Compilazione di vuln_code/file_364.cpp...\n",
      "Compilazione riuscita: vuln_code/compiled/file_364\n",
      "Compilazione di vuln_code/file_365.cpp...\n",
      "Compilazione riuscita: vuln_code/compiled/file_365\n",
      "Compilazione di vuln_code/file_366.cpp...\n",
      "Compilazione riuscita: vuln_code/compiled/file_366\n",
      "Compilazione di vuln_code/file_367.cpp...\n",
      "Compilazione riuscita: vuln_code/compiled/file_367\n",
      "Compilazione di vuln_code/file_368.cpp...\n",
      "Compilazione riuscita: vuln_code/compiled/file_368\n",
      "Compilazione di vuln_code/file_369.cpp...\n",
      "Compilazione riuscita: vuln_code/compiled/file_369\n",
      "Compilazione di vuln_code/file_37.cpp...\n",
      "Compilazione riuscita: vuln_code/compiled/file_37\n",
      "Compilazione di vuln_code/file_370.cpp...\n",
      "Compilazione riuscita: vuln_code/compiled/file_370\n",
      "Compilazione di vuln_code/file_371.cpp...\n",
      "Compilazione riuscita: vuln_code/compiled/file_371\n",
      "Compilazione di vuln_code/file_372.cpp...\n",
      "Compilazione riuscita: vuln_code/compiled/file_372\n",
      "Compilazione di vuln_code/file_373.cpp...\n",
      "Compilazione riuscita: vuln_code/compiled/file_373\n",
      "Compilazione di vuln_code/file_374.cpp...\n",
      "Compilazione riuscita: vuln_code/compiled/file_374\n",
      "Compilazione di vuln_code/file_375.cpp...\n",
      "Compilazione riuscita: vuln_code/compiled/file_375\n",
      "Compilazione di vuln_code/file_376.cpp...\n",
      "Compilazione riuscita: vuln_code/compiled/file_376\n",
      "Compilazione di vuln_code/file_377.cpp...\n",
      "Compilazione riuscita: vuln_code/compiled/file_377\n",
      "Compilazione di vuln_code/file_378.cpp...\n",
      "Compilazione riuscita: vuln_code/compiled/file_378\n",
      "Compilazione di vuln_code/file_379.cpp...\n",
      "Compilazione riuscita: vuln_code/compiled/file_379\n",
      "Compilazione di vuln_code/file_38.cpp...\n",
      "Compilazione riuscita: vuln_code/compiled/file_38\n",
      "Compilazione di vuln_code/file_380.cpp...\n",
      "Compilazione riuscita: vuln_code/compiled/file_380\n",
      "Compilazione di vuln_code/file_381.cpp...\n",
      "Compilazione riuscita: vuln_code/compiled/file_381\n",
      "Compilazione di vuln_code/file_382.cpp...\n",
      "Compilazione riuscita: vuln_code/compiled/file_382\n",
      "Compilazione di vuln_code/file_383.cpp...\n",
      "Compilazione riuscita: vuln_code/compiled/file_383\n",
      "Compilazione di vuln_code/file_384.cpp...\n",
      "Compilazione riuscita: vuln_code/compiled/file_384\n",
      "Compilazione di vuln_code/file_385.cpp...\n",
      "Compilazione riuscita: vuln_code/compiled/file_385\n",
      "Compilazione di vuln_code/file_386.cpp...\n",
      "Compilazione riuscita: vuln_code/compiled/file_386\n",
      "Compilazione di vuln_code/file_387.cpp...\n",
      "Compilazione riuscita: vuln_code/compiled/file_387\n",
      "Compilazione di vuln_code/file_388.cpp...\n",
      "Compilazione riuscita: vuln_code/compiled/file_388\n",
      "Compilazione di vuln_code/file_389.cpp...\n",
      "Compilazione riuscita: vuln_code/compiled/file_389\n",
      "Compilazione di vuln_code/file_39.cpp...\n",
      "Compilazione riuscita: vuln_code/compiled/file_39\n",
      "Compilazione di vuln_code/file_390.cpp...\n",
      "Compilazione riuscita: vuln_code/compiled/file_390\n",
      "Compilazione di vuln_code/file_391.cpp...\n",
      "Compilazione riuscita: vuln_code/compiled/file_391\n",
      "Compilazione di vuln_code/file_392.cpp...\n",
      "Compilazione riuscita: vuln_code/compiled/file_392\n",
      "Compilazione di vuln_code/file_393.cpp...\n",
      "Compilazione riuscita: vuln_code/compiled/file_393\n",
      "Compilazione di vuln_code/file_394.cpp...\n",
      "Compilazione riuscita: vuln_code/compiled/file_394\n",
      "Compilazione di vuln_code/file_395.cpp...\n",
      "Compilazione riuscita: vuln_code/compiled/file_395\n",
      "Compilazione di vuln_code/file_396.cpp...\n",
      "Compilazione riuscita: vuln_code/compiled/file_396\n",
      "Compilazione di vuln_code/file_397.cpp...\n",
      "Compilazione riuscita: vuln_code/compiled/file_397\n",
      "Compilazione di vuln_code/file_398.cpp...\n",
      "Compilazione riuscita: vuln_code/compiled/file_398\n",
      "Compilazione di vuln_code/file_399.cpp...\n",
      "Compilazione riuscita: vuln_code/compiled/file_399\n",
      "Compilazione di vuln_code/file_4.cpp...\n",
      "Compilazione riuscita: vuln_code/compiled/file_4\n",
      "Compilazione di vuln_code/file_40.cpp...\n",
      "Compilazione riuscita: vuln_code/compiled/file_40\n",
      "Compilazione di vuln_code/file_400.cpp...\n"
     ]
    },
    {
     "name": "stderr",
     "output_type": "stream",
     "text": [
      "vuln_code/file_400.cpp: In function ‘void copy_input(char*, int)’:\n",
      "vuln_code/file_400.cpp:7:18: error: ‘argv’ was not declared in this scope\n",
      "    7 |     strcpy(dest, argv[1]);\n",
      "      |                  ^~~~\n",
      "vuln_code/file_400.cpp: In function ‘int main(int, char**)’:\n",
      "vuln_code/file_400.cpp:17:15: error: too many arguments to function ‘void copy_input(char*, int)’\n",
      "   17 |     copy_input(buffer, sizeof(buffer), argv); // Pass argv to copy_input\n",
      "      |     ~~~~~~~~~~^~~~~~~~~~~~~~~~~~~~~~~~~~~~~~\n",
      "vuln_code/file_400.cpp:5:6: note: declared here\n",
      "    5 | void copy_input(char* dest, int size) {\n",
      "      |      ^~~~~~~~~~\n"
     ]
    },
    {
     "name": "stdout",
     "output_type": "stream",
     "text": [
      "Errore durante la compilazione di vuln_code/file_400.cpp\n",
      "Compilazione di vuln_code/file_41.cpp...\n",
      "Compilazione riuscita: vuln_code/compiled/file_41\n",
      "Compilazione di vuln_code/file_42.cpp...\n",
      "Compilazione riuscita: vuln_code/compiled/file_42\n",
      "Compilazione di vuln_code/file_43.cpp...\n",
      "Compilazione riuscita: vuln_code/compiled/file_43\n",
      "Compilazione di vuln_code/file_44.cpp...\n",
      "Compilazione riuscita: vuln_code/compiled/file_44\n",
      "Compilazione di vuln_code/file_45.cpp...\n",
      "Compilazione riuscita: vuln_code/compiled/file_45\n",
      "Compilazione di vuln_code/file_46.cpp...\n",
      "Compilazione riuscita: vuln_code/compiled/file_46\n",
      "Compilazione di vuln_code/file_47.cpp...\n",
      "Compilazione riuscita: vuln_code/compiled/file_47\n",
      "Compilazione di vuln_code/file_48.cpp...\n",
      "Compilazione riuscita: vuln_code/compiled/file_48\n",
      "Compilazione di vuln_code/file_49.cpp...\n",
      "Compilazione riuscita: vuln_code/compiled/file_49\n",
      "Compilazione di vuln_code/file_5.cpp...\n",
      "Compilazione riuscita: vuln_code/compiled/file_5\n",
      "Compilazione di vuln_code/file_50.cpp...\n",
      "Compilazione riuscita: vuln_code/compiled/file_50\n",
      "Compilazione di vuln_code/file_51.cpp...\n",
      "Compilazione riuscita: vuln_code/compiled/file_51\n",
      "Compilazione di vuln_code/file_52.cpp...\n",
      "Compilazione riuscita: vuln_code/compiled/file_52\n",
      "Compilazione di vuln_code/file_53.cpp...\n",
      "Compilazione riuscita: vuln_code/compiled/file_53\n",
      "Compilazione di vuln_code/file_54.cpp...\n",
      "Compilazione riuscita: vuln_code/compiled/file_54\n",
      "Compilazione di vuln_code/file_55.cpp...\n",
      "Compilazione riuscita: vuln_code/compiled/file_55\n",
      "Compilazione di vuln_code/file_56.cpp...\n",
      "Compilazione riuscita: vuln_code/compiled/file_56\n",
      "Compilazione di vuln_code/file_57.cpp...\n",
      "Compilazione riuscita: vuln_code/compiled/file_57\n",
      "Compilazione di vuln_code/file_58.cpp...\n",
      "Compilazione riuscita: vuln_code/compiled/file_58\n",
      "Compilazione di vuln_code/file_59.cpp...\n",
      "Compilazione riuscita: vuln_code/compiled/file_59\n",
      "Compilazione di vuln_code/file_6.cpp...\n",
      "Compilazione riuscita: vuln_code/compiled/file_6\n",
      "Compilazione di vuln_code/file_60.cpp...\n",
      "Compilazione riuscita: vuln_code/compiled/file_60\n",
      "Compilazione di vuln_code/file_61.cpp...\n",
      "Compilazione riuscita: vuln_code/compiled/file_61\n",
      "Compilazione di vuln_code/file_62.cpp...\n",
      "Compilazione riuscita: vuln_code/compiled/file_62\n",
      "Compilazione di vuln_code/file_63.cpp...\n",
      "Compilazione riuscita: vuln_code/compiled/file_63\n",
      "Compilazione di vuln_code/file_64.cpp...\n",
      "Compilazione riuscita: vuln_code/compiled/file_64\n",
      "Compilazione di vuln_code/file_65.cpp...\n",
      "Compilazione riuscita: vuln_code/compiled/file_65\n",
      "Compilazione di vuln_code/file_66.cpp...\n"
     ]
    },
    {
     "name": "stderr",
     "output_type": "stream",
     "text": [
      "vuln_code/file_66.cpp: In function ‘void copy_input(char*, int)’:\n",
      "vuln_code/file_66.cpp:6:19: error: ‘argv’ was not declared in this scope\n",
      "    6 |     strncpy(dest, argv[1], size - 1); // Copy up to size-1 characters to leave space for the null terminator\n",
      "      |                   ^~~~\n"
     ]
    },
    {
     "name": "stdout",
     "output_type": "stream",
     "text": [
      "Errore durante la compilazione di vuln_code/file_66.cpp\n",
      "Compilazione di vuln_code/file_67.cpp...\n",
      "Compilazione riuscita: vuln_code/compiled/file_67\n",
      "Compilazione di vuln_code/file_68.cpp...\n",
      "Compilazione riuscita: vuln_code/compiled/file_68\n",
      "Compilazione di vuln_code/file_69.cpp...\n",
      "Compilazione riuscita: vuln_code/compiled/file_69\n",
      "Compilazione di vuln_code/file_7.cpp...\n",
      "Compilazione riuscita: vuln_code/compiled/file_7\n",
      "Compilazione di vuln_code/file_70.cpp...\n",
      "Compilazione riuscita: vuln_code/compiled/file_70\n",
      "Compilazione di vuln_code/file_71.cpp...\n",
      "Compilazione riuscita: vuln_code/compiled/file_71\n",
      "Compilazione di vuln_code/file_72.cpp...\n",
      "Compilazione riuscita: vuln_code/compiled/file_72\n",
      "Compilazione di vuln_code/file_73.cpp...\n",
      "Compilazione riuscita: vuln_code/compiled/file_73\n",
      "Compilazione di vuln_code/file_74.cpp...\n",
      "Compilazione riuscita: vuln_code/compiled/file_74\n",
      "Compilazione di vuln_code/file_75.cpp...\n",
      "Compilazione riuscita: vuln_code/compiled/file_75\n",
      "Compilazione di vuln_code/file_76.cpp...\n",
      "Compilazione riuscita: vuln_code/compiled/file_76\n",
      "Compilazione di vuln_code/file_77.cpp...\n",
      "Compilazione riuscita: vuln_code/compiled/file_77\n",
      "Compilazione di vuln_code/file_78.cpp...\n",
      "Compilazione riuscita: vuln_code/compiled/file_78\n",
      "Compilazione di vuln_code/file_79.cpp...\n",
      "Compilazione riuscita: vuln_code/compiled/file_79\n",
      "Compilazione di vuln_code/file_8.cpp...\n",
      "Compilazione riuscita: vuln_code/compiled/file_8\n",
      "Compilazione di vuln_code/file_80.cpp...\n",
      "Compilazione riuscita: vuln_code/compiled/file_80\n",
      "Compilazione di vuln_code/file_81.cpp...\n",
      "Compilazione riuscita: vuln_code/compiled/file_81\n",
      "Compilazione di vuln_code/file_82.cpp...\n",
      "Compilazione riuscita: vuln_code/compiled/file_82\n",
      "Compilazione di vuln_code/file_83.cpp...\n",
      "Compilazione riuscita: vuln_code/compiled/file_83\n",
      "Compilazione di vuln_code/file_84.cpp...\n",
      "Compilazione riuscita: vuln_code/compiled/file_84\n",
      "Compilazione di vuln_code/file_85.cpp...\n",
      "Compilazione riuscita: vuln_code/compiled/file_85\n",
      "Compilazione di vuln_code/file_86.cpp...\n",
      "Compilazione riuscita: vuln_code/compiled/file_86\n",
      "Compilazione di vuln_code/file_87.cpp...\n",
      "Compilazione riuscita: vuln_code/compiled/file_87\n",
      "Compilazione di vuln_code/file_88.cpp...\n",
      "Compilazione riuscita: vuln_code/compiled/file_88\n",
      "Compilazione di vuln_code/file_89.cpp...\n",
      "Compilazione riuscita: vuln_code/compiled/file_89\n",
      "Compilazione di vuln_code/file_9.cpp...\n",
      "Compilazione riuscita: vuln_code/compiled/file_9\n",
      "Compilazione di vuln_code/file_90.cpp...\n",
      "Compilazione riuscita: vuln_code/compiled/file_90\n",
      "Compilazione di vuln_code/file_91.cpp...\n",
      "Compilazione riuscita: vuln_code/compiled/file_91\n",
      "Compilazione di vuln_code/file_92.cpp...\n",
      "Compilazione riuscita: vuln_code/compiled/file_92\n",
      "Compilazione di vuln_code/file_93.cpp...\n",
      "Compilazione riuscita: vuln_code/compiled/file_93\n",
      "Compilazione di vuln_code/file_94.cpp...\n",
      "Compilazione riuscita: vuln_code/compiled/file_94\n",
      "Compilazione di vuln_code/file_95.cpp...\n",
      "Compilazione riuscita: vuln_code/compiled/file_95\n",
      "Compilazione di vuln_code/file_96.cpp...\n",
      "Compilazione riuscita: vuln_code/compiled/file_96\n",
      "Compilazione di vuln_code/file_97.cpp...\n",
      "Compilazione riuscita: vuln_code/compiled/file_97\n",
      "Compilazione di vuln_code/file_98.cpp...\n",
      "Compilazione riuscita: vuln_code/compiled/file_98\n",
      "Compilazione di vuln_code/file_99.cpp...\n",
      "Compilazione riuscita: vuln_code/compiled/file_99\n",
      "Compilazione di vuln_code/flag_func.cpp...\n"
     ]
    },
    {
     "name": "stderr",
     "output_type": "stream",
     "text": [
      "/usr/bin/ld: /tmp/cci5o6kO.o: in function `secret_function()':\n",
      "/home/jovyan/llama-chat-paper/vuln_code/flag_func.cpp:5: multiple definition of `secret_function()'; /tmp/ccF6w4nT.o:/home/jovyan/llama-chat-paper/vuln_code/flag_func.cpp:5: first defined here\n",
      "/usr/bin/ld: /usr/lib/gcc/x86_64-linux-gnu/13/../../../x86_64-linux-gnu/Scrt1.o: in function `_start':\n",
      "(.text+0x1b): undefined reference to `main'\n",
      "collect2: error: ld returned 1 exit status\n"
     ]
    },
    {
     "name": "stdout",
     "output_type": "stream",
     "text": [
      "Errore durante la compilazione di vuln_code/flag_func.cpp\n",
      "Processo completato\n"
     ]
    }
   ],
   "source": [
    "%%bash\n",
    "#!/bin/bash\n",
    "\n",
    "# Verifica che g++ sia installato\n",
    "if ! command -v g++ &> /dev/null\n",
    "then\n",
    "    echo \"Errore: g++ non è installato. Per installarlo:\"\n",
    "    echo \"sudo apt-get install build-essential\"\n",
    "    exit 1\n",
    "fi\n",
    "\n",
    "# Itera tutti i file .cpp nella cartella corrente\n",
    "for file in vuln_code/*.cpp; do\n",
    "    if [[ -f \"$file\" ]]; then\n",
    "        # Estrae il nome base del file senza estensione\n",
    "        filename=$(basename -- \"$file\")\n",
    "        output=\"vuln_code/compiled/${filename%.*}\"\n",
    "\n",
    "        # Compila il file con le opzioni specificate\n",
    "        echo \"Compilazione di $file...\"\n",
    "        g++ -g -O0 -fno-stack-protector -z execstack -o \"$output\" \"$file\" \"vuln_code/flag_func.cpp\"\n",
    "\n",
    "        if [[ $? -eq 0 ]]; then\n",
    "            echo \"Compilazione riuscita: $output\"\n",
    "        else\n",
    "            echo \"Errore durante la compilazione di $file\"\n",
    "        fi\n",
    "    fi\n",
    "done\n",
    "\n",
    "echo \"Processo completato\"\n"
   ]
  },
  {
   "cell_type": "code",
   "execution_count": 10,
   "metadata": {},
   "outputs": [],
   "source": [
    "index_to_rm=[145,196,309,400,66] #programs not compiled to remove from the dataset \n",
    "for index in index_to_rm:\n",
    "    !rm vuln_code/file_{index}.cpp "
   ]
  },
  {
   "cell_type": "code",
   "execution_count": 12,
   "metadata": {},
   "outputs": [
    {
     "data": {
      "application/vnd.jupyter.widget-view+json": {
       "model_id": "11939cccc7904dfa9165d9bcc3b13cf0",
       "version_major": 2,
       "version_minor": 0
      },
      "text/plain": [
       "Filter:   0%|          | 0/401 [00:00<?, ? examples/s]"
      ]
     },
     "metadata": {},
     "output_type": "display_data"
    }
   ],
   "source": [
    "def filter_func(example_id):\n",
    "    return example_id not in index_to_rm\n",
    "\n",
    "# Filtra il dataset rimuovendo gli indici specificati\n",
    "cpp_dataset['train'] = cpp_dataset['train'].filter(lambda example, idx: filter_func(idx), with_indices=True)"
   ]
  },
  {
   "cell_type": "code",
   "execution_count": 14,
   "metadata": {},
   "outputs": [
    {
     "data": {
      "text/plain": [
       "DatasetDict({\n",
       "    train: Dataset({\n",
       "        features: ['vulnerability', 'question', 'rejected', 'cleaned_code', 'language', 'code', 'file_path'],\n",
       "        num_rows: 396\n",
       "    })\n",
       "})"
      ]
     },
     "execution_count": 14,
     "metadata": {},
     "output_type": "execute_result"
    }
   ],
   "source": [
    "cpp_dataset"
   ]
  },
  {
   "cell_type": "code",
   "execution_count": 13,
   "metadata": {},
   "outputs": [
    {
     "data": {
      "application/vnd.jupyter.widget-view+json": {
       "model_id": "ddb958899f5b447cba3cf478ac4ea33f",
       "version_major": 2,
       "version_minor": 0
      },
      "text/plain": [
       "Saving the dataset (0/1 shards):   0%|          | 0/396 [00:00<?, ? examples/s]"
      ]
     },
     "metadata": {},
     "output_type": "display_data"
    }
   ],
   "source": [
    "cpp_dataset.save_to_disk(\"bovf_user_input_dataset_compiled\")  # Saves in Hugging Face's dataset format\n"
   ]
  }
 ],
 "metadata": {
  "accelerator": "GPU",
  "colab": {
   "gpuType": "T4",
   "provenance": []
  },
  "kernelspec": {
   "display_name": "Tensorflow 2.17 (Python 3.11)",
   "language": "python",
   "name": "python3"
  },
  "language_info": {
   "codemirror_mode": {
    "name": "ipython",
    "version": 3
   },
   "file_extension": ".py",
   "mimetype": "text/x-python",
   "name": "python",
   "nbconvert_exporter": "python",
   "pygments_lexer": "ipython3",
   "version": "3.11.10"
  },
  "widgets": {
   "application/vnd.jupyter.widget-state+json": {
    "0056f9fcf65a4929b215c97dc34e4d5d": {
     "model_module": "@jupyter-widgets/controls",
     "model_module_version": "1.5.0",
     "model_name": "HBoxModel",
     "state": {
      "_dom_classes": [],
      "_model_module": "@jupyter-widgets/controls",
      "_model_module_version": "1.5.0",
      "_model_name": "HBoxModel",
      "_view_count": null,
      "_view_module": "@jupyter-widgets/controls",
      "_view_module_version": "1.5.0",
      "_view_name": "HBoxView",
      "box_style": "",
      "children": [
       "IPY_MODEL_1a80019e1b4e4191a856958d2a00190e",
       "IPY_MODEL_813a6d1761a84ce0af064e7bed54543b",
       "IPY_MODEL_ec044741f0b5469eaa41145e9870b5c2"
      ],
      "layout": "IPY_MODEL_b7cacba95a52478ba175432cb92a33b1"
     }
    },
    "0160161700ac4c9883f18e6561dbfa7f": {
     "model_module": "@jupyter-widgets/base",
     "model_module_version": "1.2.0",
     "model_name": "LayoutModel",
     "state": {
      "_model_module": "@jupyter-widgets/base",
      "_model_module_version": "1.2.0",
      "_model_name": "LayoutModel",
      "_view_count": null,
      "_view_module": "@jupyter-widgets/base",
      "_view_module_version": "1.2.0",
      "_view_name": "LayoutView",
      "align_content": null,
      "align_items": null,
      "align_self": null,
      "border": null,
      "bottom": null,
      "display": null,
      "flex": null,
      "flex_flow": null,
      "grid_area": null,
      "grid_auto_columns": null,
      "grid_auto_flow": null,
      "grid_auto_rows": null,
      "grid_column": null,
      "grid_gap": null,
      "grid_row": null,
      "grid_template_areas": null,
      "grid_template_columns": null,
      "grid_template_rows": null,
      "height": null,
      "justify_content": null,
      "justify_items": null,
      "left": null,
      "margin": null,
      "max_height": null,
      "max_width": null,
      "min_height": null,
      "min_width": null,
      "object_fit": null,
      "object_position": null,
      "order": null,
      "overflow": null,
      "overflow_x": null,
      "overflow_y": null,
      "padding": null,
      "right": null,
      "top": null,
      "visibility": null,
      "width": null
     }
    },
    "01f33683ee19428db2b7510d0ba4fefb": {
     "model_module": "@jupyter-widgets/controls",
     "model_module_version": "1.5.0",
     "model_name": "HTMLModel",
     "state": {
      "_dom_classes": [],
      "_model_module": "@jupyter-widgets/controls",
      "_model_module_version": "1.5.0",
      "_model_name": "HTMLModel",
      "_view_count": null,
      "_view_module": "@jupyter-widgets/controls",
      "_view_module_version": "1.5.0",
      "_view_name": "HTMLView",
      "description": "",
      "description_tooltip": null,
      "layout": "IPY_MODEL_9680705e00f04d2fbe22f0d6ca22a87d",
      "placeholder": "​",
      "style": "IPY_MODEL_a94649cd228746fbbc2c4054d2d9f978",
      "value": "Map: 100%"
     }
    },
    "0211587799344f0ba65635e9deb4c4fb": {
     "model_module": "@jupyter-widgets/controls",
     "model_module_version": "1.5.0",
     "model_name": "HBoxModel",
     "state": {
      "_dom_classes": [],
      "_model_module": "@jupyter-widgets/controls",
      "_model_module_version": "1.5.0",
      "_model_name": "HBoxModel",
      "_view_count": null,
      "_view_module": "@jupyter-widgets/controls",
      "_view_module_version": "1.5.0",
      "_view_name": "HBoxView",
      "box_style": "",
      "children": [
       "IPY_MODEL_97e5e9f4e1ea4321a77fc03b4038a4d2",
       "IPY_MODEL_456695d5c8c94b339145f40073e7fd99",
       "IPY_MODEL_bb10c066de054205b840923d95db6f5e"
      ],
      "layout": "IPY_MODEL_c85952a476b04e6b900c30b64aa1cb13"
     }
    },
    "037c4db88a704063b97e2ba340f55198": {
     "model_module": "@jupyter-widgets/controls",
     "model_module_version": "1.5.0",
     "model_name": "HTMLModel",
     "state": {
      "_dom_classes": [],
      "_model_module": "@jupyter-widgets/controls",
      "_model_module_version": "1.5.0",
      "_model_name": "HTMLModel",
      "_view_count": null,
      "_view_module": "@jupyter-widgets/controls",
      "_view_module_version": "1.5.0",
      "_view_name": "HTMLView",
      "description": "",
      "description_tooltip": null,
      "layout": "IPY_MODEL_923e0c72651f4115bf3ee12b10df0478",
      "placeholder": "​",
      "style": "IPY_MODEL_d016d9bdeff54fbaac4346aed069c3ad",
      "value": " 23.9k/23.9k [00:00&lt;00:00, 561kB/s]"
     }
    },
    "04c66059d130463394f4b7fec70d9d78": {
     "model_module": "@jupyter-widgets/base",
     "model_module_version": "1.2.0",
     "model_name": "LayoutModel",
     "state": {
      "_model_module": "@jupyter-widgets/base",
      "_model_module_version": "1.2.0",
      "_model_name": "LayoutModel",
      "_view_count": null,
      "_view_module": "@jupyter-widgets/base",
      "_view_module_version": "1.2.0",
      "_view_name": "LayoutView",
      "align_content": null,
      "align_items": null,
      "align_self": null,
      "border": null,
      "bottom": null,
      "display": null,
      "flex": null,
      "flex_flow": null,
      "grid_area": null,
      "grid_auto_columns": null,
      "grid_auto_flow": null,
      "grid_auto_rows": null,
      "grid_column": null,
      "grid_gap": null,
      "grid_row": null,
      "grid_template_areas": null,
      "grid_template_columns": null,
      "grid_template_rows": null,
      "height": null,
      "justify_content": null,
      "justify_items": null,
      "left": null,
      "margin": null,
      "max_height": null,
      "max_width": null,
      "min_height": null,
      "min_width": null,
      "object_fit": null,
      "object_position": null,
      "order": null,
      "overflow": null,
      "overflow_x": null,
      "overflow_y": null,
      "padding": null,
      "right": null,
      "top": null,
      "visibility": null,
      "width": null
     }
    },
    "05aeb1d49b944ec6b87c8a6fc4cf110f": {
     "model_module": "@jupyter-widgets/controls",
     "model_module_version": "1.5.0",
     "model_name": "DescriptionStyleModel",
     "state": {
      "_model_module": "@jupyter-widgets/controls",
      "_model_module_version": "1.5.0",
      "_model_name": "DescriptionStyleModel",
      "_view_count": null,
      "_view_module": "@jupyter-widgets/base",
      "_view_module_version": "1.2.0",
      "_view_name": "StyleView",
      "description_width": ""
     }
    },
    "09ebed37c39a4edcbd369e388958e396": {
     "model_module": "@jupyter-widgets/base",
     "model_module_version": "1.2.0",
     "model_name": "LayoutModel",
     "state": {
      "_model_module": "@jupyter-widgets/base",
      "_model_module_version": "1.2.0",
      "_model_name": "LayoutModel",
      "_view_count": null,
      "_view_module": "@jupyter-widgets/base",
      "_view_module_version": "1.2.0",
      "_view_name": "LayoutView",
      "align_content": null,
      "align_items": null,
      "align_self": null,
      "border": null,
      "bottom": null,
      "display": null,
      "flex": null,
      "flex_flow": null,
      "grid_area": null,
      "grid_auto_columns": null,
      "grid_auto_flow": null,
      "grid_auto_rows": null,
      "grid_column": null,
      "grid_gap": null,
      "grid_row": null,
      "grid_template_areas": null,
      "grid_template_columns": null,
      "grid_template_rows": null,
      "height": null,
      "justify_content": null,
      "justify_items": null,
      "left": null,
      "margin": null,
      "max_height": null,
      "max_width": null,
      "min_height": null,
      "min_width": null,
      "object_fit": null,
      "object_position": null,
      "order": null,
      "overflow": null,
      "overflow_x": null,
      "overflow_y": null,
      "padding": null,
      "right": null,
      "top": null,
      "visibility": null,
      "width": null
     }
    },
    "0a219f96ad5e46c8a8d338179b65815f": {
     "model_module": "@jupyter-widgets/base",
     "model_module_version": "1.2.0",
     "model_name": "LayoutModel",
     "state": {
      "_model_module": "@jupyter-widgets/base",
      "_model_module_version": "1.2.0",
      "_model_name": "LayoutModel",
      "_view_count": null,
      "_view_module": "@jupyter-widgets/base",
      "_view_module_version": "1.2.0",
      "_view_name": "LayoutView",
      "align_content": null,
      "align_items": null,
      "align_self": null,
      "border": null,
      "bottom": null,
      "display": null,
      "flex": null,
      "flex_flow": null,
      "grid_area": null,
      "grid_auto_columns": null,
      "grid_auto_flow": null,
      "grid_auto_rows": null,
      "grid_column": null,
      "grid_gap": null,
      "grid_row": null,
      "grid_template_areas": null,
      "grid_template_columns": null,
      "grid_template_rows": null,
      "height": null,
      "justify_content": null,
      "justify_items": null,
      "left": null,
      "margin": null,
      "max_height": null,
      "max_width": null,
      "min_height": null,
      "min_width": null,
      "object_fit": null,
      "object_position": null,
      "order": null,
      "overflow": null,
      "overflow_x": null,
      "overflow_y": null,
      "padding": null,
      "right": null,
      "top": null,
      "visibility": null,
      "width": null
     }
    },
    "0a8b7a9697474c2e86502500ff161ca6": {
     "model_module": "@jupyter-widgets/base",
     "model_module_version": "1.2.0",
     "model_name": "LayoutModel",
     "state": {
      "_model_module": "@jupyter-widgets/base",
      "_model_module_version": "1.2.0",
      "_model_name": "LayoutModel",
      "_view_count": null,
      "_view_module": "@jupyter-widgets/base",
      "_view_module_version": "1.2.0",
      "_view_name": "LayoutView",
      "align_content": null,
      "align_items": null,
      "align_self": null,
      "border": null,
      "bottom": null,
      "display": null,
      "flex": null,
      "flex_flow": null,
      "grid_area": null,
      "grid_auto_columns": null,
      "grid_auto_flow": null,
      "grid_auto_rows": null,
      "grid_column": null,
      "grid_gap": null,
      "grid_row": null,
      "grid_template_areas": null,
      "grid_template_columns": null,
      "grid_template_rows": null,
      "height": null,
      "justify_content": null,
      "justify_items": null,
      "left": null,
      "margin": null,
      "max_height": null,
      "max_width": null,
      "min_height": null,
      "min_width": null,
      "object_fit": null,
      "object_position": null,
      "order": null,
      "overflow": null,
      "overflow_x": null,
      "overflow_y": null,
      "padding": null,
      "right": null,
      "top": null,
      "visibility": null,
      "width": null
     }
    },
    "0aa3bd4cc80b4f2680e24dcfb3053bb8": {
     "model_module": "@jupyter-widgets/controls",
     "model_module_version": "1.5.0",
     "model_name": "DescriptionStyleModel",
     "state": {
      "_model_module": "@jupyter-widgets/controls",
      "_model_module_version": "1.5.0",
      "_model_name": "DescriptionStyleModel",
      "_view_count": null,
      "_view_module": "@jupyter-widgets/base",
      "_view_module_version": "1.2.0",
      "_view_name": "StyleView",
      "description_width": ""
     }
    },
    "0b8984bbcb3f4e74abc9a989588d94c1": {
     "model_module": "@jupyter-widgets/controls",
     "model_module_version": "1.5.0",
     "model_name": "HTMLModel",
     "state": {
      "_dom_classes": [],
      "_model_module": "@jupyter-widgets/controls",
      "_model_module_version": "1.5.0",
      "_model_name": "HTMLModel",
      "_view_count": null,
      "_view_module": "@jupyter-widgets/controls",
      "_view_module_version": "1.5.0",
      "_view_name": "HTMLView",
      "description": "",
      "description_tooltip": null,
      "layout": "IPY_MODEL_63bac263dabb4eb9b175b53c39e21c50",
      "placeholder": "​",
      "style": "IPY_MODEL_d01ad95beb8749698e6b8cf93978689e",
      "value": " 1303/1303 [00:00&lt;00:00, 28630.29 examples/s]"
     }
    },
    "0b8e9b46b9a842038445044dd30febe2": {
     "model_module": "@jupyter-widgets/controls",
     "model_module_version": "1.5.0",
     "model_name": "HTMLModel",
     "state": {
      "_dom_classes": [],
      "_model_module": "@jupyter-widgets/controls",
      "_model_module_version": "1.5.0",
      "_model_name": "HTMLModel",
      "_view_count": null,
      "_view_module": "@jupyter-widgets/controls",
      "_view_module_version": "1.5.0",
      "_view_name": "HTMLView",
      "description": "",
      "description_tooltip": null,
      "layout": "IPY_MODEL_b675df4ec3ad40e29f04645d843f3553",
      "placeholder": "​",
      "style": "IPY_MODEL_bf58d5324cd74bf6827b33ad6f1babd9",
      "value": "Downloading shards: 100%"
     }
    },
    "0bc437441818496cb9c4b58c71a30404": {
     "model_module": "@jupyter-widgets/base",
     "model_module_version": "1.2.0",
     "model_name": "LayoutModel",
     "state": {
      "_model_module": "@jupyter-widgets/base",
      "_model_module_version": "1.2.0",
      "_model_name": "LayoutModel",
      "_view_count": null,
      "_view_module": "@jupyter-widgets/base",
      "_view_module_version": "1.2.0",
      "_view_name": "LayoutView",
      "align_content": null,
      "align_items": null,
      "align_self": null,
      "border": null,
      "bottom": null,
      "display": null,
      "flex": null,
      "flex_flow": null,
      "grid_area": null,
      "grid_auto_columns": null,
      "grid_auto_flow": null,
      "grid_auto_rows": null,
      "grid_column": null,
      "grid_gap": null,
      "grid_row": null,
      "grid_template_areas": null,
      "grid_template_columns": null,
      "grid_template_rows": null,
      "height": null,
      "justify_content": null,
      "justify_items": null,
      "left": null,
      "margin": null,
      "max_height": null,
      "max_width": null,
      "min_height": null,
      "min_width": null,
      "object_fit": null,
      "object_position": null,
      "order": null,
      "overflow": null,
      "overflow_x": null,
      "overflow_y": null,
      "padding": null,
      "right": null,
      "top": null,
      "visibility": null,
      "width": null
     }
    },
    "0cefd1dadc894518bcffdf7631b42c80": {
     "model_module": "@jupyter-widgets/controls",
     "model_module_version": "1.5.0",
     "model_name": "FloatProgressModel",
     "state": {
      "_dom_classes": [],
      "_model_module": "@jupyter-widgets/controls",
      "_model_module_version": "1.5.0",
      "_model_name": "FloatProgressModel",
      "_view_count": null,
      "_view_module": "@jupyter-widgets/controls",
      "_view_module_version": "1.5.0",
      "_view_name": "ProgressView",
      "bar_style": "success",
      "description": "",
      "description_tooltip": null,
      "layout": "IPY_MODEL_2e711f0d65a143b89cd28a5a76b31381",
      "max": 1303,
      "min": 0,
      "orientation": "horizontal",
      "style": "IPY_MODEL_d3920370ef494eec989c1043c1538f27",
      "value": 1303
     }
    },
    "0d5d255953cf40fba605d2504fc389d1": {
     "model_module": "@jupyter-widgets/controls",
     "model_module_version": "1.5.0",
     "model_name": "DescriptionStyleModel",
     "state": {
      "_model_module": "@jupyter-widgets/controls",
      "_model_module_version": "1.5.0",
      "_model_name": "DescriptionStyleModel",
      "_view_count": null,
      "_view_module": "@jupyter-widgets/base",
      "_view_module_version": "1.2.0",
      "_view_name": "StyleView",
      "description_width": ""
     }
    },
    "0f93c9a441e04543bad00f056bb94545": {
     "model_module": "@jupyter-widgets/controls",
     "model_module_version": "1.5.0",
     "model_name": "DescriptionStyleModel",
     "state": {
      "_model_module": "@jupyter-widgets/controls",
      "_model_module_version": "1.5.0",
      "_model_name": "DescriptionStyleModel",
      "_view_count": null,
      "_view_module": "@jupyter-widgets/base",
      "_view_module_version": "1.2.0",
      "_view_name": "StyleView",
      "description_width": ""
     }
    },
    "0fdaf9f331724b80bb4d36cb4136c34a": {
     "model_module": "@jupyter-widgets/base",
     "model_module_version": "1.2.0",
     "model_name": "LayoutModel",
     "state": {
      "_model_module": "@jupyter-widgets/base",
      "_model_module_version": "1.2.0",
      "_model_name": "LayoutModel",
      "_view_count": null,
      "_view_module": "@jupyter-widgets/base",
      "_view_module_version": "1.2.0",
      "_view_name": "LayoutView",
      "align_content": null,
      "align_items": null,
      "align_self": null,
      "border": null,
      "bottom": null,
      "display": null,
      "flex": null,
      "flex_flow": null,
      "grid_area": null,
      "grid_auto_columns": null,
      "grid_auto_flow": null,
      "grid_auto_rows": null,
      "grid_column": null,
      "grid_gap": null,
      "grid_row": null,
      "grid_template_areas": null,
      "grid_template_columns": null,
      "grid_template_rows": null,
      "height": null,
      "justify_content": null,
      "justify_items": null,
      "left": null,
      "margin": null,
      "max_height": null,
      "max_width": null,
      "min_height": null,
      "min_width": null,
      "object_fit": null,
      "object_position": null,
      "order": null,
      "overflow": null,
      "overflow_x": null,
      "overflow_y": null,
      "padding": null,
      "right": null,
      "top": null,
      "visibility": null,
      "width": null
     }
    },
    "10253611180147bab1d184c2b5bc2c70": {
     "model_module": "@jupyter-widgets/controls",
     "model_module_version": "1.5.0",
     "model_name": "HBoxModel",
     "state": {
      "_dom_classes": [],
      "_model_module": "@jupyter-widgets/controls",
      "_model_module_version": "1.5.0",
      "_model_name": "HBoxModel",
      "_view_count": null,
      "_view_module": "@jupyter-widgets/controls",
      "_view_module_version": "1.5.0",
      "_view_name": "HBoxView",
      "box_style": "",
      "children": [
       "IPY_MODEL_c673c28a30244df8ad6b3799a89aed55",
       "IPY_MODEL_172c1c4a84704a68bc292a4305cd129a",
       "IPY_MODEL_0b8984bbcb3f4e74abc9a989588d94c1"
      ],
      "layout": "IPY_MODEL_a7a98fa7babf4f7b80107e945334d45a"
     }
    },
    "116be59b369d4dbb9f54f7b834a7f7b6": {
     "model_module": "@jupyter-widgets/controls",
     "model_module_version": "1.5.0",
     "model_name": "ProgressStyleModel",
     "state": {
      "_model_module": "@jupyter-widgets/controls",
      "_model_module_version": "1.5.0",
      "_model_name": "ProgressStyleModel",
      "_view_count": null,
      "_view_module": "@jupyter-widgets/base",
      "_view_module_version": "1.2.0",
      "_view_name": "StyleView",
      "bar_color": null,
      "description_width": ""
     }
    },
    "14d4a764fb8a4245aa7197a4a2fb9594": {
     "model_module": "@jupyter-widgets/controls",
     "model_module_version": "1.5.0",
     "model_name": "DescriptionStyleModel",
     "state": {
      "_model_module": "@jupyter-widgets/controls",
      "_model_module_version": "1.5.0",
      "_model_name": "DescriptionStyleModel",
      "_view_count": null,
      "_view_module": "@jupyter-widgets/base",
      "_view_module_version": "1.2.0",
      "_view_name": "StyleView",
      "description_width": ""
     }
    },
    "15db92c01f6e42aeb0afc5ec975135a5": {
     "model_module": "@jupyter-widgets/controls",
     "model_module_version": "1.5.0",
     "model_name": "HBoxModel",
     "state": {
      "_dom_classes": [],
      "_model_module": "@jupyter-widgets/controls",
      "_model_module_version": "1.5.0",
      "_model_name": "HBoxModel",
      "_view_count": null,
      "_view_module": "@jupyter-widgets/controls",
      "_view_module_version": "1.5.0",
      "_view_name": "HBoxView",
      "box_style": "",
      "children": [
       "IPY_MODEL_dd3da799d4b44208aba7be99ce2987bf",
       "IPY_MODEL_812948df071b4f8e8a4ddb03c6d351f9",
       "IPY_MODEL_27b133a4aba04935907931506d0bd498"
      ],
      "layout": "IPY_MODEL_59f524c69db44ca8969fe1f8f4cb0905"
     }
    },
    "162447921dfb44e88c586ebdcad50d4a": {
     "model_module": "@jupyter-widgets/controls",
     "model_module_version": "1.5.0",
     "model_name": "FloatProgressModel",
     "state": {
      "_dom_classes": [],
      "_model_module": "@jupyter-widgets/controls",
      "_model_module_version": "1.5.0",
      "_model_name": "FloatProgressModel",
      "_view_count": null,
      "_view_module": "@jupyter-widgets/controls",
      "_view_module_version": "1.5.0",
      "_view_name": "ProgressView",
      "bar_style": "success",
      "description": "",
      "description_tooltip": null,
      "layout": "IPY_MODEL_d3d781b71513440f8b89b06d206eb965",
      "max": 439,
      "min": 0,
      "orientation": "horizontal",
      "style": "IPY_MODEL_d7e9caa443694f608d1d4f4c89ed12b8",
      "value": 439
     }
    },
    "172c1c4a84704a68bc292a4305cd129a": {
     "model_module": "@jupyter-widgets/controls",
     "model_module_version": "1.5.0",
     "model_name": "FloatProgressModel",
     "state": {
      "_dom_classes": [],
      "_model_module": "@jupyter-widgets/controls",
      "_model_module_version": "1.5.0",
      "_model_name": "FloatProgressModel",
      "_view_count": null,
      "_view_module": "@jupyter-widgets/controls",
      "_view_module_version": "1.5.0",
      "_view_name": "ProgressView",
      "bar_style": "success",
      "description": "",
      "description_tooltip": null,
      "layout": "IPY_MODEL_d7a80e674ab64082b0cc0f0a71d72f02",
      "max": 1303,
      "min": 0,
      "orientation": "horizontal",
      "style": "IPY_MODEL_c112842c95e84a509672e97408537826",
      "value": 1303
     }
    },
    "18d17e4b90184c68a483265cac3efddb": {
     "model_module": "@jupyter-widgets/base",
     "model_module_version": "1.2.0",
     "model_name": "LayoutModel",
     "state": {
      "_model_module": "@jupyter-widgets/base",
      "_model_module_version": "1.2.0",
      "_model_name": "LayoutModel",
      "_view_count": null,
      "_view_module": "@jupyter-widgets/base",
      "_view_module_version": "1.2.0",
      "_view_name": "LayoutView",
      "align_content": null,
      "align_items": null,
      "align_self": null,
      "border": null,
      "bottom": null,
      "display": null,
      "flex": null,
      "flex_flow": null,
      "grid_area": null,
      "grid_auto_columns": null,
      "grid_auto_flow": null,
      "grid_auto_rows": null,
      "grid_column": null,
      "grid_gap": null,
      "grid_row": null,
      "grid_template_areas": null,
      "grid_template_columns": null,
      "grid_template_rows": null,
      "height": null,
      "justify_content": null,
      "justify_items": null,
      "left": null,
      "margin": null,
      "max_height": null,
      "max_width": null,
      "min_height": null,
      "min_width": null,
      "object_fit": null,
      "object_position": null,
      "order": null,
      "overflow": null,
      "overflow_x": null,
      "overflow_y": null,
      "padding": null,
      "right": null,
      "top": null,
      "visibility": null,
      "width": null
     }
    },
    "1940fd13f5094580a75f5349abd43315": {
     "model_module": "@jupyter-widgets/controls",
     "model_module_version": "1.5.0",
     "model_name": "ProgressStyleModel",
     "state": {
      "_model_module": "@jupyter-widgets/controls",
      "_model_module_version": "1.5.0",
      "_model_name": "ProgressStyleModel",
      "_view_count": null,
      "_view_module": "@jupyter-widgets/base",
      "_view_module_version": "1.2.0",
      "_view_name": "StyleView",
      "bar_color": null,
      "description_width": ""
     }
    },
    "1a6232ca8435401ca3a0d2d7d54ce855": {
     "model_module": "@jupyter-widgets/base",
     "model_module_version": "1.2.0",
     "model_name": "LayoutModel",
     "state": {
      "_model_module": "@jupyter-widgets/base",
      "_model_module_version": "1.2.0",
      "_model_name": "LayoutModel",
      "_view_count": null,
      "_view_module": "@jupyter-widgets/base",
      "_view_module_version": "1.2.0",
      "_view_name": "LayoutView",
      "align_content": null,
      "align_items": null,
      "align_self": null,
      "border": null,
      "bottom": null,
      "display": null,
      "flex": null,
      "flex_flow": null,
      "grid_area": null,
      "grid_auto_columns": null,
      "grid_auto_flow": null,
      "grid_auto_rows": null,
      "grid_column": null,
      "grid_gap": null,
      "grid_row": null,
      "grid_template_areas": null,
      "grid_template_columns": null,
      "grid_template_rows": null,
      "height": null,
      "justify_content": null,
      "justify_items": null,
      "left": null,
      "margin": null,
      "max_height": null,
      "max_width": null,
      "min_height": null,
      "min_width": null,
      "object_fit": null,
      "object_position": null,
      "order": null,
      "overflow": null,
      "overflow_x": null,
      "overflow_y": null,
      "padding": null,
      "right": null,
      "top": null,
      "visibility": null,
      "width": null
     }
    },
    "1a80019e1b4e4191a856958d2a00190e": {
     "model_module": "@jupyter-widgets/controls",
     "model_module_version": "1.5.0",
     "model_name": "HTMLModel",
     "state": {
      "_dom_classes": [],
      "_model_module": "@jupyter-widgets/controls",
      "_model_module_version": "1.5.0",
      "_model_name": "HTMLModel",
      "_view_count": null,
      "_view_module": "@jupyter-widgets/controls",
      "_view_module_version": "1.5.0",
      "_view_name": "HTMLView",
      "description": "",
      "description_tooltip": null,
      "layout": "IPY_MODEL_4ff42c42752d4af58fb92f6542fd85e8",
      "placeholder": "​",
      "style": "IPY_MODEL_45f82699de0d427a87299864ab459483",
      "value": "model-00003-of-00004.safetensors: 100%"
     }
    },
    "1bc108621e1640e4984c4f6a8a5f7e1c": {
     "model_module": "@jupyter-widgets/base",
     "model_module_version": "1.2.0",
     "model_name": "LayoutModel",
     "state": {
      "_model_module": "@jupyter-widgets/base",
      "_model_module_version": "1.2.0",
      "_model_name": "LayoutModel",
      "_view_count": null,
      "_view_module": "@jupyter-widgets/base",
      "_view_module_version": "1.2.0",
      "_view_name": "LayoutView",
      "align_content": null,
      "align_items": null,
      "align_self": null,
      "border": null,
      "bottom": null,
      "display": null,
      "flex": null,
      "flex_flow": null,
      "grid_area": null,
      "grid_auto_columns": null,
      "grid_auto_flow": null,
      "grid_auto_rows": null,
      "grid_column": null,
      "grid_gap": null,
      "grid_row": null,
      "grid_template_areas": null,
      "grid_template_columns": null,
      "grid_template_rows": null,
      "height": null,
      "justify_content": null,
      "justify_items": null,
      "left": null,
      "margin": null,
      "max_height": null,
      "max_width": null,
      "min_height": null,
      "min_width": null,
      "object_fit": null,
      "object_position": null,
      "order": null,
      "overflow": null,
      "overflow_x": null,
      "overflow_y": null,
      "padding": null,
      "right": null,
      "top": null,
      "visibility": null,
      "width": null
     }
    },
    "1bdefc44e2a34e72b0dd2f829fc04912": {
     "model_module": "@jupyter-widgets/controls",
     "model_module_version": "1.5.0",
     "model_name": "DescriptionStyleModel",
     "state": {
      "_model_module": "@jupyter-widgets/controls",
      "_model_module_version": "1.5.0",
      "_model_name": "DescriptionStyleModel",
      "_view_count": null,
      "_view_module": "@jupyter-widgets/base",
      "_view_module_version": "1.2.0",
      "_view_name": "StyleView",
      "description_width": ""
     }
    },
    "20cf337d33b24337bea56af53d27d880": {
     "model_module": "@jupyter-widgets/base",
     "model_module_version": "1.2.0",
     "model_name": "LayoutModel",
     "state": {
      "_model_module": "@jupyter-widgets/base",
      "_model_module_version": "1.2.0",
      "_model_name": "LayoutModel",
      "_view_count": null,
      "_view_module": "@jupyter-widgets/base",
      "_view_module_version": "1.2.0",
      "_view_name": "LayoutView",
      "align_content": null,
      "align_items": null,
      "align_self": null,
      "border": null,
      "bottom": null,
      "display": null,
      "flex": null,
      "flex_flow": null,
      "grid_area": null,
      "grid_auto_columns": null,
      "grid_auto_flow": null,
      "grid_auto_rows": null,
      "grid_column": null,
      "grid_gap": null,
      "grid_row": null,
      "grid_template_areas": null,
      "grid_template_columns": null,
      "grid_template_rows": null,
      "height": null,
      "justify_content": null,
      "justify_items": null,
      "left": null,
      "margin": null,
      "max_height": null,
      "max_width": null,
      "min_height": null,
      "min_width": null,
      "object_fit": null,
      "object_position": null,
      "order": null,
      "overflow": null,
      "overflow_x": null,
      "overflow_y": null,
      "padding": null,
      "right": null,
      "top": null,
      "visibility": null,
      "width": null
     }
    },
    "217b29458415424e8a41be2d1cd5358b": {
     "model_module": "@jupyter-widgets/controls",
     "model_module_version": "1.5.0",
     "model_name": "ProgressStyleModel",
     "state": {
      "_model_module": "@jupyter-widgets/controls",
      "_model_module_version": "1.5.0",
      "_model_name": "ProgressStyleModel",
      "_view_count": null,
      "_view_module": "@jupyter-widgets/base",
      "_view_module_version": "1.2.0",
      "_view_name": "StyleView",
      "bar_color": null,
      "description_width": ""
     }
    },
    "22813f12d9994ec3ba86e8688954aa64": {
     "model_module": "@jupyter-widgets/controls",
     "model_module_version": "1.5.0",
     "model_name": "HTMLModel",
     "state": {
      "_dom_classes": [],
      "_model_module": "@jupyter-widgets/controls",
      "_model_module_version": "1.5.0",
      "_model_name": "HTMLModel",
      "_view_count": null,
      "_view_module": "@jupyter-widgets/controls",
      "_view_module_version": "1.5.0",
      "_view_name": "HTMLView",
      "description": "",
      "description_tooltip": null,
      "layout": "IPY_MODEL_447c691fce6d456bba2bdcbfc353e8a4",
      "placeholder": "​",
      "style": "IPY_MODEL_2bebc4e3ab414dc1a8d456e5f0089316",
      "value": " 0/0 [00:00&lt;?, ?it/s]"
     }
    },
    "2318c2417c5c4c8da3988f74a48f9d11": {
     "model_module": "@jupyter-widgets/base",
     "model_module_version": "1.2.0",
     "model_name": "LayoutModel",
     "state": {
      "_model_module": "@jupyter-widgets/base",
      "_model_module_version": "1.2.0",
      "_model_name": "LayoutModel",
      "_view_count": null,
      "_view_module": "@jupyter-widgets/base",
      "_view_module_version": "1.2.0",
      "_view_name": "LayoutView",
      "align_content": null,
      "align_items": null,
      "align_self": null,
      "border": null,
      "bottom": null,
      "display": null,
      "flex": null,
      "flex_flow": null,
      "grid_area": null,
      "grid_auto_columns": null,
      "grid_auto_flow": null,
      "grid_auto_rows": null,
      "grid_column": null,
      "grid_gap": null,
      "grid_row": null,
      "grid_template_areas": null,
      "grid_template_columns": null,
      "grid_template_rows": null,
      "height": null,
      "justify_content": null,
      "justify_items": null,
      "left": null,
      "margin": null,
      "max_height": null,
      "max_width": null,
      "min_height": null,
      "min_width": null,
      "object_fit": null,
      "object_position": null,
      "order": null,
      "overflow": null,
      "overflow_x": null,
      "overflow_y": null,
      "padding": null,
      "right": null,
      "top": null,
      "visibility": null,
      "width": null
     }
    },
    "238fcbbec3e24b3db1cd69176110efc5": {
     "model_module": "@jupyter-widgets/base",
     "model_module_version": "1.2.0",
     "model_name": "LayoutModel",
     "state": {
      "_model_module": "@jupyter-widgets/base",
      "_model_module_version": "1.2.0",
      "_model_name": "LayoutModel",
      "_view_count": null,
      "_view_module": "@jupyter-widgets/base",
      "_view_module_version": "1.2.0",
      "_view_name": "LayoutView",
      "align_content": null,
      "align_items": null,
      "align_self": null,
      "border": null,
      "bottom": null,
      "display": null,
      "flex": null,
      "flex_flow": null,
      "grid_area": null,
      "grid_auto_columns": null,
      "grid_auto_flow": null,
      "grid_auto_rows": null,
      "grid_column": null,
      "grid_gap": null,
      "grid_row": null,
      "grid_template_areas": null,
      "grid_template_columns": null,
      "grid_template_rows": null,
      "height": null,
      "justify_content": null,
      "justify_items": null,
      "left": null,
      "margin": null,
      "max_height": null,
      "max_width": null,
      "min_height": null,
      "min_width": null,
      "object_fit": null,
      "object_position": null,
      "order": null,
      "overflow": null,
      "overflow_x": null,
      "overflow_y": null,
      "padding": null,
      "right": null,
      "top": null,
      "visibility": null,
      "width": null
     }
    },
    "24b9bf3725354724b748477dfe8ffc33": {
     "model_module": "@jupyter-widgets/base",
     "model_module_version": "1.2.0",
     "model_name": "LayoutModel",
     "state": {
      "_model_module": "@jupyter-widgets/base",
      "_model_module_version": "1.2.0",
      "_model_name": "LayoutModel",
      "_view_count": null,
      "_view_module": "@jupyter-widgets/base",
      "_view_module_version": "1.2.0",
      "_view_name": "LayoutView",
      "align_content": null,
      "align_items": null,
      "align_self": null,
      "border": null,
      "bottom": null,
      "display": null,
      "flex": null,
      "flex_flow": null,
      "grid_area": null,
      "grid_auto_columns": null,
      "grid_auto_flow": null,
      "grid_auto_rows": null,
      "grid_column": null,
      "grid_gap": null,
      "grid_row": null,
      "grid_template_areas": null,
      "grid_template_columns": null,
      "grid_template_rows": null,
      "height": null,
      "justify_content": null,
      "justify_items": null,
      "left": null,
      "margin": null,
      "max_height": null,
      "max_width": null,
      "min_height": null,
      "min_width": null,
      "object_fit": null,
      "object_position": null,
      "order": null,
      "overflow": null,
      "overflow_x": null,
      "overflow_y": null,
      "padding": null,
      "right": null,
      "top": null,
      "visibility": null,
      "width": null
     }
    },
    "269111dc0ef541519aee1991cadc4bf2": {
     "model_module": "@jupyter-widgets/controls",
     "model_module_version": "1.5.0",
     "model_name": "HTMLModel",
     "state": {
      "_dom_classes": [],
      "_model_module": "@jupyter-widgets/controls",
      "_model_module_version": "1.5.0",
      "_model_name": "HTMLModel",
      "_view_count": null,
      "_view_module": "@jupyter-widgets/controls",
      "_view_module_version": "1.5.0",
      "_view_name": "HTMLView",
      "description": "",
      "description_tooltip": null,
      "layout": "IPY_MODEL_d4f2ed996dcb408698b1bf71b65bd875",
      "placeholder": "​",
      "style": "IPY_MODEL_3e4a068362e041e99cadc65f8e5605fe",
      "value": "Filter: 100%"
     }
    },
    "27b133a4aba04935907931506d0bd498": {
     "model_module": "@jupyter-widgets/controls",
     "model_module_version": "1.5.0",
     "model_name": "HTMLModel",
     "state": {
      "_dom_classes": [],
      "_model_module": "@jupyter-widgets/controls",
      "_model_module_version": "1.5.0",
      "_model_name": "HTMLModel",
      "_view_count": null,
      "_view_module": "@jupyter-widgets/controls",
      "_view_module_version": "1.5.0",
      "_view_name": "HTMLView",
      "description": "",
      "description_tooltip": null,
      "layout": "IPY_MODEL_658def59d6bc48a999b744cdfc210270",
      "placeholder": "​",
      "style": "IPY_MODEL_9aeba54383ec4e0f8cb223300f7931eb",
      "value": " 4656/4656 [00:00&lt;00:00, 17003.48 examples/s]"
     }
    },
    "2add69de9cdd4f82ad569f33f4cbb184": {
     "model_module": "@jupyter-widgets/controls",
     "model_module_version": "1.5.0",
     "model_name": "FloatProgressModel",
     "state": {
      "_dom_classes": [],
      "_model_module": "@jupyter-widgets/controls",
      "_model_module_version": "1.5.0",
      "_model_name": "FloatProgressModel",
      "_view_count": null,
      "_view_module": "@jupyter-widgets/controls",
      "_view_module_version": "1.5.0",
      "_view_name": "ProgressView",
      "bar_style": "success",
      "description": "",
      "description_tooltip": null,
      "layout": "IPY_MODEL_b084297744aa489c8d6f4949a3253c9f",
      "max": 851,
      "min": 0,
      "orientation": "horizontal",
      "style": "IPY_MODEL_dafbf165d76a4e0f8748576e87cf954e",
      "value": 851
     }
    },
    "2bbc8e194c934b64af6eb256aec68f52": {
     "model_module": "@jupyter-widgets/controls",
     "model_module_version": "1.5.0",
     "model_name": "HBoxModel",
     "state": {
      "_dom_classes": [],
      "_model_module": "@jupyter-widgets/controls",
      "_model_module_version": "1.5.0",
      "_model_name": "HBoxModel",
      "_view_count": null,
      "_view_module": "@jupyter-widgets/controls",
      "_view_module_version": "1.5.0",
      "_view_name": "HBoxView",
      "box_style": "",
      "children": [
       "IPY_MODEL_71869752af5d4ebe9e7e211325e8d695",
       "IPY_MODEL_9c1918d23451413dade358ca0f2f9ee3",
       "IPY_MODEL_6171531e2830414c878c77fa73eddd3d"
      ],
      "layout": "IPY_MODEL_753f166767f54802b43457590a0c84ba"
     }
    },
    "2bebc4e3ab414dc1a8d456e5f0089316": {
     "model_module": "@jupyter-widgets/controls",
     "model_module_version": "1.5.0",
     "model_name": "DescriptionStyleModel",
     "state": {
      "_model_module": "@jupyter-widgets/controls",
      "_model_module_version": "1.5.0",
      "_model_name": "DescriptionStyleModel",
      "_view_count": null,
      "_view_module": "@jupyter-widgets/base",
      "_view_module_version": "1.2.0",
      "_view_name": "StyleView",
      "description_width": ""
     }
    },
    "2e711f0d65a143b89cd28a5a76b31381": {
     "model_module": "@jupyter-widgets/base",
     "model_module_version": "1.2.0",
     "model_name": "LayoutModel",
     "state": {
      "_model_module": "@jupyter-widgets/base",
      "_model_module_version": "1.2.0",
      "_model_name": "LayoutModel",
      "_view_count": null,
      "_view_module": "@jupyter-widgets/base",
      "_view_module_version": "1.2.0",
      "_view_name": "LayoutView",
      "align_content": null,
      "align_items": null,
      "align_self": null,
      "border": null,
      "bottom": null,
      "display": null,
      "flex": null,
      "flex_flow": null,
      "grid_area": null,
      "grid_auto_columns": null,
      "grid_auto_flow": null,
      "grid_auto_rows": null,
      "grid_column": null,
      "grid_gap": null,
      "grid_row": null,
      "grid_template_areas": null,
      "grid_template_columns": null,
      "grid_template_rows": null,
      "height": null,
      "justify_content": null,
      "justify_items": null,
      "left": null,
      "margin": null,
      "max_height": null,
      "max_width": null,
      "min_height": null,
      "min_width": null,
      "object_fit": null,
      "object_position": null,
      "order": null,
      "overflow": null,
      "overflow_x": null,
      "overflow_y": null,
      "padding": null,
      "right": null,
      "top": null,
      "visibility": null,
      "width": null
     }
    },
    "2f0a4df7d5ac43dd9ba962dea7348fd3": {
     "model_module": "@jupyter-widgets/base",
     "model_module_version": "1.2.0",
     "model_name": "LayoutModel",
     "state": {
      "_model_module": "@jupyter-widgets/base",
      "_model_module_version": "1.2.0",
      "_model_name": "LayoutModel",
      "_view_count": null,
      "_view_module": "@jupyter-widgets/base",
      "_view_module_version": "1.2.0",
      "_view_name": "LayoutView",
      "align_content": null,
      "align_items": null,
      "align_self": null,
      "border": null,
      "bottom": null,
      "display": null,
      "flex": null,
      "flex_flow": null,
      "grid_area": null,
      "grid_auto_columns": null,
      "grid_auto_flow": null,
      "grid_auto_rows": null,
      "grid_column": null,
      "grid_gap": null,
      "grid_row": null,
      "grid_template_areas": null,
      "grid_template_columns": null,
      "grid_template_rows": null,
      "height": null,
      "justify_content": null,
      "justify_items": null,
      "left": null,
      "margin": null,
      "max_height": null,
      "max_width": null,
      "min_height": null,
      "min_width": null,
      "object_fit": null,
      "object_position": null,
      "order": null,
      "overflow": null,
      "overflow_x": null,
      "overflow_y": null,
      "padding": null,
      "right": null,
      "top": null,
      "visibility": null,
      "width": null
     }
    },
    "301c41803eb241188e851b1c50f9852f": {
     "model_module": "@jupyter-widgets/controls",
     "model_module_version": "1.5.0",
     "model_name": "HTMLModel",
     "state": {
      "_dom_classes": [],
      "_model_module": "@jupyter-widgets/controls",
      "_model_module_version": "1.5.0",
      "_model_name": "HTMLModel",
      "_view_count": null,
      "_view_module": "@jupyter-widgets/controls",
      "_view_module_version": "1.5.0",
      "_view_name": "HTMLView",
      "description": "",
      "description_tooltip": null,
      "layout": "IPY_MODEL_8ab7ebf1513640dea2d6e0d73911574f",
      "placeholder": "​",
      "style": "IPY_MODEL_d558a6b5281549bc809beba12632a6a1",
      "value": " 1247/1247 [00:00&lt;00:00, 11146.15 examples/s]"
     }
    },
    "3036ed9039944acd8cfb12b5dd2f4f0e": {
     "model_module": "@jupyter-widgets/controls",
     "model_module_version": "1.5.0",
     "model_name": "HTMLModel",
     "state": {
      "_dom_classes": [],
      "_model_module": "@jupyter-widgets/controls",
      "_model_module_version": "1.5.0",
      "_model_name": "HTMLModel",
      "_view_count": null,
      "_view_module": "@jupyter-widgets/controls",
      "_view_module_version": "1.5.0",
      "_view_name": "HTMLView",
      "description": "",
      "description_tooltip": null,
      "layout": "IPY_MODEL_718126e7703c4cab9550757ac584db4a",
      "placeholder": "​",
      "style": "IPY_MODEL_4aa7f5586d1843d7b84c160c49decee7",
      "value": " 1303/1303 [00:00&lt;00:00, 3416.05 examples/s]"
     }
    },
    "31dcfa2ea65841f49410d196cf1576a2": {
     "model_module": "@jupyter-widgets/controls",
     "model_module_version": "1.5.0",
     "model_name": "ProgressStyleModel",
     "state": {
      "_model_module": "@jupyter-widgets/controls",
      "_model_module_version": "1.5.0",
      "_model_name": "ProgressStyleModel",
      "_view_count": null,
      "_view_module": "@jupyter-widgets/base",
      "_view_module_version": "1.2.0",
      "_view_name": "StyleView",
      "bar_color": null,
      "description_width": ""
     }
    },
    "32bed1769e344a0faa1c2b8b974de52a": {
     "model_module": "@jupyter-widgets/controls",
     "model_module_version": "1.5.0",
     "model_name": "HTMLModel",
     "state": {
      "_dom_classes": [],
      "_model_module": "@jupyter-widgets/controls",
      "_model_module_version": "1.5.0",
      "_model_name": "HTMLModel",
      "_view_count": null,
      "_view_module": "@jupyter-widgets/controls",
      "_view_module_version": "1.5.0",
      "_view_name": "HTMLView",
      "description": "",
      "description_tooltip": null,
      "layout": "IPY_MODEL_238fcbbec3e24b3db1cd69176110efc5",
      "placeholder": "​",
      "style": "IPY_MODEL_8e852c8efd0a4f56bb29bb22fb19262f",
      "value": " 4/4 [01:19&lt;00:00, 17.16s/it]"
     }
    },
    "3308c109987347cbbca6f2b66bb4dd2b": {
     "model_module": "@jupyter-widgets/controls",
     "model_module_version": "1.5.0",
     "model_name": "HTMLModel",
     "state": {
      "_dom_classes": [],
      "_model_module": "@jupyter-widgets/controls",
      "_model_module_version": "1.5.0",
      "_model_name": "HTMLModel",
      "_view_count": null,
      "_view_module": "@jupyter-widgets/controls",
      "_view_module_version": "1.5.0",
      "_view_name": "HTMLView",
      "description": "",
      "description_tooltip": null,
      "layout": "IPY_MODEL_50f2092802eb490ea505e2f3f7d70da6",
      "placeholder": "​",
      "style": "IPY_MODEL_0aa3bd4cc80b4f2680e24dcfb3053bb8",
      "value": "special_tokens_map.json: 100%"
     }
    },
    "3343a2be097148fe9001a79283375bec": {
     "model_module": "@jupyter-widgets/controls",
     "model_module_version": "1.5.0",
     "model_name": "DescriptionStyleModel",
     "state": {
      "_model_module": "@jupyter-widgets/controls",
      "_model_module_version": "1.5.0",
      "_model_name": "DescriptionStyleModel",
      "_view_count": null,
      "_view_module": "@jupyter-widgets/base",
      "_view_module_version": "1.2.0",
      "_view_name": "StyleView",
      "description_width": ""
     }
    },
    "357103c993fe4f408020d4ee3aa30991": {
     "model_module": "@jupyter-widgets/controls",
     "model_module_version": "1.5.0",
     "model_name": "HBoxModel",
     "state": {
      "_dom_classes": [],
      "_model_module": "@jupyter-widgets/controls",
      "_model_module_version": "1.5.0",
      "_model_name": "HBoxModel",
      "_view_count": null,
      "_view_module": "@jupyter-widgets/controls",
      "_view_module_version": "1.5.0",
      "_view_name": "HBoxView",
      "box_style": "",
      "children": [
       "IPY_MODEL_7538c92bb5e84efc8cbd980021805353",
       "IPY_MODEL_2add69de9cdd4f82ad569f33f4cbb184",
       "IPY_MODEL_df6f4b6b644c4d7f93b8ea8e60224a6d"
      ],
      "layout": "IPY_MODEL_84a831258bd147e5a16eec04895e86e5"
     }
    },
    "36b630b562684b7cad03b21cdb5f002d": {
     "model_module": "@jupyter-widgets/base",
     "model_module_version": "1.2.0",
     "model_name": "LayoutModel",
     "state": {
      "_model_module": "@jupyter-widgets/base",
      "_model_module_version": "1.2.0",
      "_model_name": "LayoutModel",
      "_view_count": null,
      "_view_module": "@jupyter-widgets/base",
      "_view_module_version": "1.2.0",
      "_view_name": "LayoutView",
      "align_content": null,
      "align_items": null,
      "align_self": null,
      "border": null,
      "bottom": null,
      "display": null,
      "flex": null,
      "flex_flow": null,
      "grid_area": null,
      "grid_auto_columns": null,
      "grid_auto_flow": null,
      "grid_auto_rows": null,
      "grid_column": null,
      "grid_gap": null,
      "grid_row": null,
      "grid_template_areas": null,
      "grid_template_columns": null,
      "grid_template_rows": null,
      "height": null,
      "justify_content": null,
      "justify_items": null,
      "left": null,
      "margin": null,
      "max_height": null,
      "max_width": null,
      "min_height": null,
      "min_width": null,
      "object_fit": null,
      "object_position": null,
      "order": null,
      "overflow": null,
      "overflow_x": null,
      "overflow_y": null,
      "padding": null,
      "right": null,
      "top": null,
      "visibility": null,
      "width": null
     }
    },
    "389de3a4a6ed4661bcae51f34d842bd2": {
     "model_module": "@jupyter-widgets/controls",
     "model_module_version": "1.5.0",
     "model_name": "HTMLModel",
     "state": {
      "_dom_classes": [],
      "_model_module": "@jupyter-widgets/controls",
      "_model_module_version": "1.5.0",
      "_model_name": "HTMLModel",
      "_view_count": null,
      "_view_module": "@jupyter-widgets/controls",
      "_view_module_version": "1.5.0",
      "_view_name": "HTMLView",
      "description": "",
      "description_tooltip": null,
      "layout": "IPY_MODEL_dbeb2dc826a843389973fc6f3b7f08b1",
      "placeholder": "​",
      "style": "IPY_MODEL_818aef75acda4f8dbdcc4addc1e74e1b",
      "value": " 4.02M/4.02M [00:00&lt;00:00, 9.87MB/s]"
     }
    },
    "395b83c008ab4642a39f9dd09fc4d95d": {
     "model_module": "@jupyter-widgets/base",
     "model_module_version": "1.2.0",
     "model_name": "LayoutModel",
     "state": {
      "_model_module": "@jupyter-widgets/base",
      "_model_module_version": "1.2.0",
      "_model_name": "LayoutModel",
      "_view_count": null,
      "_view_module": "@jupyter-widgets/base",
      "_view_module_version": "1.2.0",
      "_view_name": "LayoutView",
      "align_content": null,
      "align_items": null,
      "align_self": null,
      "border": null,
      "bottom": null,
      "display": null,
      "flex": null,
      "flex_flow": null,
      "grid_area": null,
      "grid_auto_columns": null,
      "grid_auto_flow": null,
      "grid_auto_rows": null,
      "grid_column": null,
      "grid_gap": null,
      "grid_row": null,
      "grid_template_areas": null,
      "grid_template_columns": null,
      "grid_template_rows": null,
      "height": null,
      "justify_content": null,
      "justify_items": null,
      "left": null,
      "margin": null,
      "max_height": null,
      "max_width": null,
      "min_height": null,
      "min_width": null,
      "object_fit": null,
      "object_position": null,
      "order": null,
      "overflow": null,
      "overflow_x": null,
      "overflow_y": null,
      "padding": null,
      "right": null,
      "top": null,
      "visibility": null,
      "width": null
     }
    },
    "3b6abbc5b1c04975abad529cc096c554": {
     "model_module": "@jupyter-widgets/controls",
     "model_module_version": "1.5.0",
     "model_name": "DescriptionStyleModel",
     "state": {
      "_model_module": "@jupyter-widgets/controls",
      "_model_module_version": "1.5.0",
      "_model_name": "DescriptionStyleModel",
      "_view_count": null,
      "_view_module": "@jupyter-widgets/base",
      "_view_module_version": "1.2.0",
      "_view_name": "StyleView",
      "description_width": ""
     }
    },
    "3b74e2553fed4269ae3ded2984fe38cd": {
     "model_module": "@jupyter-widgets/base",
     "model_module_version": "1.2.0",
     "model_name": "LayoutModel",
     "state": {
      "_model_module": "@jupyter-widgets/base",
      "_model_module_version": "1.2.0",
      "_model_name": "LayoutModel",
      "_view_count": null,
      "_view_module": "@jupyter-widgets/base",
      "_view_module_version": "1.2.0",
      "_view_name": "LayoutView",
      "align_content": null,
      "align_items": null,
      "align_self": null,
      "border": null,
      "bottom": null,
      "display": null,
      "flex": null,
      "flex_flow": null,
      "grid_area": null,
      "grid_auto_columns": null,
      "grid_auto_flow": null,
      "grid_auto_rows": null,
      "grid_column": null,
      "grid_gap": null,
      "grid_row": null,
      "grid_template_areas": null,
      "grid_template_columns": null,
      "grid_template_rows": null,
      "height": null,
      "justify_content": null,
      "justify_items": null,
      "left": null,
      "margin": null,
      "max_height": null,
      "max_width": null,
      "min_height": null,
      "min_width": null,
      "object_fit": null,
      "object_position": null,
      "order": null,
      "overflow": null,
      "overflow_x": null,
      "overflow_y": null,
      "padding": null,
      "right": null,
      "top": null,
      "visibility": null,
      "width": null
     }
    },
    "3e3dd42d718f4125acde384acc437770": {
     "model_module": "@jupyter-widgets/controls",
     "model_module_version": "1.5.0",
     "model_name": "FloatProgressModel",
     "state": {
      "_dom_classes": [],
      "_model_module": "@jupyter-widgets/controls",
      "_model_module_version": "1.5.0",
      "_model_name": "FloatProgressModel",
      "_view_count": null,
      "_view_module": "@jupyter-widgets/controls",
      "_view_module_version": "1.5.0",
      "_view_name": "ProgressView",
      "bar_style": "success",
      "description": "",
      "description_tooltip": null,
      "layout": "IPY_MODEL_4ef83a382bf445138cab5eab2db7cca1",
      "max": 180,
      "min": 0,
      "orientation": "horizontal",
      "style": "IPY_MODEL_81126e5a8bc947e3aabf5af599484cc1",
      "value": 180
     }
    },
    "3e4a068362e041e99cadc65f8e5605fe": {
     "model_module": "@jupyter-widgets/controls",
     "model_module_version": "1.5.0",
     "model_name": "DescriptionStyleModel",
     "state": {
      "_model_module": "@jupyter-widgets/controls",
      "_model_module_version": "1.5.0",
      "_model_name": "DescriptionStyleModel",
      "_view_count": null,
      "_view_module": "@jupyter-widgets/base",
      "_view_module_version": "1.2.0",
      "_view_name": "StyleView",
      "description_width": ""
     }
    },
    "3e5dbed3f42e44d4bfc0e8837bb101c8": {
     "model_module": "@jupyter-widgets/base",
     "model_module_version": "1.2.0",
     "model_name": "LayoutModel",
     "state": {
      "_model_module": "@jupyter-widgets/base",
      "_model_module_version": "1.2.0",
      "_model_name": "LayoutModel",
      "_view_count": null,
      "_view_module": "@jupyter-widgets/base",
      "_view_module_version": "1.2.0",
      "_view_name": "LayoutView",
      "align_content": null,
      "align_items": null,
      "align_self": null,
      "border": null,
      "bottom": null,
      "display": null,
      "flex": null,
      "flex_flow": null,
      "grid_area": null,
      "grid_auto_columns": null,
      "grid_auto_flow": null,
      "grid_auto_rows": null,
      "grid_column": null,
      "grid_gap": null,
      "grid_row": null,
      "grid_template_areas": null,
      "grid_template_columns": null,
      "grid_template_rows": null,
      "height": null,
      "justify_content": null,
      "justify_items": null,
      "left": null,
      "margin": null,
      "max_height": null,
      "max_width": null,
      "min_height": null,
      "min_width": null,
      "object_fit": null,
      "object_position": null,
      "order": null,
      "overflow": null,
      "overflow_x": null,
      "overflow_y": null,
      "padding": null,
      "right": null,
      "top": null,
      "visibility": null,
      "width": null
     }
    },
    "408eb24814d649cabd034d76ff7bdd99": {
     "model_module": "@jupyter-widgets/base",
     "model_module_version": "1.2.0",
     "model_name": "LayoutModel",
     "state": {
      "_model_module": "@jupyter-widgets/base",
      "_model_module_version": "1.2.0",
      "_model_name": "LayoutModel",
      "_view_count": null,
      "_view_module": "@jupyter-widgets/base",
      "_view_module_version": "1.2.0",
      "_view_name": "LayoutView",
      "align_content": null,
      "align_items": null,
      "align_self": null,
      "border": null,
      "bottom": null,
      "display": null,
      "flex": null,
      "flex_flow": null,
      "grid_area": null,
      "grid_auto_columns": null,
      "grid_auto_flow": null,
      "grid_auto_rows": null,
      "grid_column": null,
      "grid_gap": null,
      "grid_row": null,
      "grid_template_areas": null,
      "grid_template_columns": null,
      "grid_template_rows": null,
      "height": null,
      "justify_content": null,
      "justify_items": null,
      "left": null,
      "margin": null,
      "max_height": null,
      "max_width": null,
      "min_height": null,
      "min_width": null,
      "object_fit": null,
      "object_position": null,
      "order": null,
      "overflow": null,
      "overflow_x": null,
      "overflow_y": null,
      "padding": null,
      "right": null,
      "top": null,
      "visibility": null,
      "width": null
     }
    },
    "40d5d47fa353448e960b9dcfc97b831e": {
     "model_module": "@jupyter-widgets/base",
     "model_module_version": "1.2.0",
     "model_name": "LayoutModel",
     "state": {
      "_model_module": "@jupyter-widgets/base",
      "_model_module_version": "1.2.0",
      "_model_name": "LayoutModel",
      "_view_count": null,
      "_view_module": "@jupyter-widgets/base",
      "_view_module_version": "1.2.0",
      "_view_name": "LayoutView",
      "align_content": null,
      "align_items": null,
      "align_self": null,
      "border": null,
      "bottom": null,
      "display": null,
      "flex": null,
      "flex_flow": null,
      "grid_area": null,
      "grid_auto_columns": null,
      "grid_auto_flow": null,
      "grid_auto_rows": null,
      "grid_column": null,
      "grid_gap": null,
      "grid_row": null,
      "grid_template_areas": null,
      "grid_template_columns": null,
      "grid_template_rows": null,
      "height": null,
      "justify_content": null,
      "justify_items": null,
      "left": null,
      "margin": null,
      "max_height": null,
      "max_width": null,
      "min_height": null,
      "min_width": null,
      "object_fit": null,
      "object_position": null,
      "order": null,
      "overflow": null,
      "overflow_x": null,
      "overflow_y": null,
      "padding": null,
      "right": null,
      "top": null,
      "visibility": null,
      "width": null
     }
    },
    "41aef900502c4652be6ed4f9d7769270": {
     "model_module": "@jupyter-widgets/controls",
     "model_module_version": "1.5.0",
     "model_name": "ProgressStyleModel",
     "state": {
      "_model_module": "@jupyter-widgets/controls",
      "_model_module_version": "1.5.0",
      "_model_name": "ProgressStyleModel",
      "_view_count": null,
      "_view_module": "@jupyter-widgets/base",
      "_view_module_version": "1.2.0",
      "_view_name": "StyleView",
      "bar_color": null,
      "description_width": ""
     }
    },
    "4479f6b43fdc4a20bdb801b7c1822c16": {
     "model_module": "@jupyter-widgets/base",
     "model_module_version": "1.2.0",
     "model_name": "LayoutModel",
     "state": {
      "_model_module": "@jupyter-widgets/base",
      "_model_module_version": "1.2.0",
      "_model_name": "LayoutModel",
      "_view_count": null,
      "_view_module": "@jupyter-widgets/base",
      "_view_module_version": "1.2.0",
      "_view_name": "LayoutView",
      "align_content": null,
      "align_items": null,
      "align_self": null,
      "border": null,
      "bottom": null,
      "display": null,
      "flex": null,
      "flex_flow": null,
      "grid_area": null,
      "grid_auto_columns": null,
      "grid_auto_flow": null,
      "grid_auto_rows": null,
      "grid_column": null,
      "grid_gap": null,
      "grid_row": null,
      "grid_template_areas": null,
      "grid_template_columns": null,
      "grid_template_rows": null,
      "height": null,
      "justify_content": null,
      "justify_items": null,
      "left": null,
      "margin": null,
      "max_height": null,
      "max_width": null,
      "min_height": null,
      "min_width": null,
      "object_fit": null,
      "object_position": null,
      "order": null,
      "overflow": null,
      "overflow_x": null,
      "overflow_y": null,
      "padding": null,
      "right": null,
      "top": null,
      "visibility": null,
      "width": null
     }
    },
    "447c691fce6d456bba2bdcbfc353e8a4": {
     "model_module": "@jupyter-widgets/base",
     "model_module_version": "1.2.0",
     "model_name": "LayoutModel",
     "state": {
      "_model_module": "@jupyter-widgets/base",
      "_model_module_version": "1.2.0",
      "_model_name": "LayoutModel",
      "_view_count": null,
      "_view_module": "@jupyter-widgets/base",
      "_view_module_version": "1.2.0",
      "_view_name": "LayoutView",
      "align_content": null,
      "align_items": null,
      "align_self": null,
      "border": null,
      "bottom": null,
      "display": null,
      "flex": null,
      "flex_flow": null,
      "grid_area": null,
      "grid_auto_columns": null,
      "grid_auto_flow": null,
      "grid_auto_rows": null,
      "grid_column": null,
      "grid_gap": null,
      "grid_row": null,
      "grid_template_areas": null,
      "grid_template_columns": null,
      "grid_template_rows": null,
      "height": null,
      "justify_content": null,
      "justify_items": null,
      "left": null,
      "margin": null,
      "max_height": null,
      "max_width": null,
      "min_height": null,
      "min_width": null,
      "object_fit": null,
      "object_position": null,
      "order": null,
      "overflow": null,
      "overflow_x": null,
      "overflow_y": null,
      "padding": null,
      "right": null,
      "top": null,
      "visibility": null,
      "width": null
     }
    },
    "456695d5c8c94b339145f40073e7fd99": {
     "model_module": "@jupyter-widgets/controls",
     "model_module_version": "1.5.0",
     "model_name": "FloatProgressModel",
     "state": {
      "_dom_classes": [],
      "_model_module": "@jupyter-widgets/controls",
      "_model_module_version": "1.5.0",
      "_model_name": "FloatProgressModel",
      "_view_count": null,
      "_view_module": "@jupyter-widgets/controls",
      "_view_module_version": "1.5.0",
      "_view_name": "ProgressView",
      "bar_style": "success",
      "description": "",
      "description_tooltip": null,
      "layout": "IPY_MODEL_550327cf884a48db91c44d997bd36645",
      "max": 1247,
      "min": 0,
      "orientation": "horizontal",
      "style": "IPY_MODEL_c3170dc7f0f14649adfd2b8e43f3494a",
      "value": 1247
     }
    },
    "45f82699de0d427a87299864ab459483": {
     "model_module": "@jupyter-widgets/controls",
     "model_module_version": "1.5.0",
     "model_name": "DescriptionStyleModel",
     "state": {
      "_model_module": "@jupyter-widgets/controls",
      "_model_module_version": "1.5.0",
      "_model_name": "DescriptionStyleModel",
      "_view_count": null,
      "_view_module": "@jupyter-widgets/base",
      "_view_module_version": "1.2.0",
      "_view_name": "StyleView",
      "description_width": ""
     }
    },
    "4a7f5ab442aa43d2aea5ce18ea6c2ebb": {
     "model_module": "@jupyter-widgets/controls",
     "model_module_version": "1.5.0",
     "model_name": "HTMLModel",
     "state": {
      "_dom_classes": [],
      "_model_module": "@jupyter-widgets/controls",
      "_model_module_version": "1.5.0",
      "_model_name": "HTMLModel",
      "_view_count": null,
      "_view_module": "@jupyter-widgets/controls",
      "_view_module_version": "1.5.0",
      "_view_name": "HTMLView",
      "description": "",
      "description_tooltip": null,
      "layout": "IPY_MODEL_04c66059d130463394f4b7fec70d9d78",
      "placeholder": "​",
      "style": "IPY_MODEL_cc5bf9b62c0a4587a2471942b4ac14be",
      "value": " 51.2k/51.2k [00:00&lt;00:00, 2.70MB/s]"
     }
    },
    "4aa7f5586d1843d7b84c160c49decee7": {
     "model_module": "@jupyter-widgets/controls",
     "model_module_version": "1.5.0",
     "model_name": "DescriptionStyleModel",
     "state": {
      "_model_module": "@jupyter-widgets/controls",
      "_model_module_version": "1.5.0",
      "_model_name": "DescriptionStyleModel",
      "_view_count": null,
      "_view_module": "@jupyter-widgets/base",
      "_view_module_version": "1.2.0",
      "_view_name": "StyleView",
      "description_width": ""
     }
    },
    "4d31d7dd04a446c6b24936d6d548e903": {
     "model_module": "@jupyter-widgets/base",
     "model_module_version": "1.2.0",
     "model_name": "LayoutModel",
     "state": {
      "_model_module": "@jupyter-widgets/base",
      "_model_module_version": "1.2.0",
      "_model_name": "LayoutModel",
      "_view_count": null,
      "_view_module": "@jupyter-widgets/base",
      "_view_module_version": "1.2.0",
      "_view_name": "LayoutView",
      "align_content": null,
      "align_items": null,
      "align_self": null,
      "border": null,
      "bottom": null,
      "display": null,
      "flex": null,
      "flex_flow": null,
      "grid_area": null,
      "grid_auto_columns": null,
      "grid_auto_flow": null,
      "grid_auto_rows": null,
      "grid_column": null,
      "grid_gap": null,
      "grid_row": null,
      "grid_template_areas": null,
      "grid_template_columns": null,
      "grid_template_rows": null,
      "height": null,
      "justify_content": null,
      "justify_items": null,
      "left": null,
      "margin": null,
      "max_height": null,
      "max_width": null,
      "min_height": null,
      "min_width": null,
      "object_fit": null,
      "object_position": null,
      "order": null,
      "overflow": null,
      "overflow_x": null,
      "overflow_y": null,
      "padding": null,
      "right": null,
      "top": null,
      "visibility": null,
      "width": null
     }
    },
    "4ef83a382bf445138cab5eab2db7cca1": {
     "model_module": "@jupyter-widgets/base",
     "model_module_version": "1.2.0",
     "model_name": "LayoutModel",
     "state": {
      "_model_module": "@jupyter-widgets/base",
      "_model_module_version": "1.2.0",
      "_model_name": "LayoutModel",
      "_view_count": null,
      "_view_module": "@jupyter-widgets/base",
      "_view_module_version": "1.2.0",
      "_view_name": "LayoutView",
      "align_content": null,
      "align_items": null,
      "align_self": null,
      "border": null,
      "bottom": null,
      "display": null,
      "flex": null,
      "flex_flow": null,
      "grid_area": null,
      "grid_auto_columns": null,
      "grid_auto_flow": null,
      "grid_auto_rows": null,
      "grid_column": null,
      "grid_gap": null,
      "grid_row": null,
      "grid_template_areas": null,
      "grid_template_columns": null,
      "grid_template_rows": null,
      "height": null,
      "justify_content": null,
      "justify_items": null,
      "left": null,
      "margin": null,
      "max_height": null,
      "max_width": null,
      "min_height": null,
      "min_width": null,
      "object_fit": null,
      "object_position": null,
      "order": null,
      "overflow": null,
      "overflow_x": null,
      "overflow_y": null,
      "padding": null,
      "right": null,
      "top": null,
      "visibility": null,
      "width": null
     }
    },
    "4fc01d5e09844fe3928c1423fae66cec": {
     "model_module": "@jupyter-widgets/base",
     "model_module_version": "1.2.0",
     "model_name": "LayoutModel",
     "state": {
      "_model_module": "@jupyter-widgets/base",
      "_model_module_version": "1.2.0",
      "_model_name": "LayoutModel",
      "_view_count": null,
      "_view_module": "@jupyter-widgets/base",
      "_view_module_version": "1.2.0",
      "_view_name": "LayoutView",
      "align_content": null,
      "align_items": null,
      "align_self": null,
      "border": null,
      "bottom": null,
      "display": null,
      "flex": null,
      "flex_flow": null,
      "grid_area": null,
      "grid_auto_columns": null,
      "grid_auto_flow": null,
      "grid_auto_rows": null,
      "grid_column": null,
      "grid_gap": null,
      "grid_row": null,
      "grid_template_areas": null,
      "grid_template_columns": null,
      "grid_template_rows": null,
      "height": null,
      "justify_content": null,
      "justify_items": null,
      "left": null,
      "margin": null,
      "max_height": null,
      "max_width": null,
      "min_height": null,
      "min_width": null,
      "object_fit": null,
      "object_position": null,
      "order": null,
      "overflow": null,
      "overflow_x": null,
      "overflow_y": null,
      "padding": null,
      "right": null,
      "top": null,
      "visibility": null,
      "width": null
     }
    },
    "4ff42c42752d4af58fb92f6542fd85e8": {
     "model_module": "@jupyter-widgets/base",
     "model_module_version": "1.2.0",
     "model_name": "LayoutModel",
     "state": {
      "_model_module": "@jupyter-widgets/base",
      "_model_module_version": "1.2.0",
      "_model_name": "LayoutModel",
      "_view_count": null,
      "_view_module": "@jupyter-widgets/base",
      "_view_module_version": "1.2.0",
      "_view_name": "LayoutView",
      "align_content": null,
      "align_items": null,
      "align_self": null,
      "border": null,
      "bottom": null,
      "display": null,
      "flex": null,
      "flex_flow": null,
      "grid_area": null,
      "grid_auto_columns": null,
      "grid_auto_flow": null,
      "grid_auto_rows": null,
      "grid_column": null,
      "grid_gap": null,
      "grid_row": null,
      "grid_template_areas": null,
      "grid_template_columns": null,
      "grid_template_rows": null,
      "height": null,
      "justify_content": null,
      "justify_items": null,
      "left": null,
      "margin": null,
      "max_height": null,
      "max_width": null,
      "min_height": null,
      "min_width": null,
      "object_fit": null,
      "object_position": null,
      "order": null,
      "overflow": null,
      "overflow_x": null,
      "overflow_y": null,
      "padding": null,
      "right": null,
      "top": null,
      "visibility": null,
      "width": null
     }
    },
    "4ff9c7d77e8245a882a8d9147ff9d21e": {
     "model_module": "@jupyter-widgets/controls",
     "model_module_version": "1.5.0",
     "model_name": "DescriptionStyleModel",
     "state": {
      "_model_module": "@jupyter-widgets/controls",
      "_model_module_version": "1.5.0",
      "_model_name": "DescriptionStyleModel",
      "_view_count": null,
      "_view_module": "@jupyter-widgets/base",
      "_view_module_version": "1.2.0",
      "_view_name": "StyleView",
      "description_width": ""
     }
    },
    "50f2092802eb490ea505e2f3f7d70da6": {
     "model_module": "@jupyter-widgets/base",
     "model_module_version": "1.2.0",
     "model_name": "LayoutModel",
     "state": {
      "_model_module": "@jupyter-widgets/base",
      "_model_module_version": "1.2.0",
      "_model_name": "LayoutModel",
      "_view_count": null,
      "_view_module": "@jupyter-widgets/base",
      "_view_module_version": "1.2.0",
      "_view_name": "LayoutView",
      "align_content": null,
      "align_items": null,
      "align_self": null,
      "border": null,
      "bottom": null,
      "display": null,
      "flex": null,
      "flex_flow": null,
      "grid_area": null,
      "grid_auto_columns": null,
      "grid_auto_flow": null,
      "grid_auto_rows": null,
      "grid_column": null,
      "grid_gap": null,
      "grid_row": null,
      "grid_template_areas": null,
      "grid_template_columns": null,
      "grid_template_rows": null,
      "height": null,
      "justify_content": null,
      "justify_items": null,
      "left": null,
      "margin": null,
      "max_height": null,
      "max_width": null,
      "min_height": null,
      "min_width": null,
      "object_fit": null,
      "object_position": null,
      "order": null,
      "overflow": null,
      "overflow_x": null,
      "overflow_y": null,
      "padding": null,
      "right": null,
      "top": null,
      "visibility": null,
      "width": null
     }
    },
    "51c2cd252cf5443c849009cf8bb5824d": {
     "model_module": "@jupyter-widgets/base",
     "model_module_version": "1.2.0",
     "model_name": "LayoutModel",
     "state": {
      "_model_module": "@jupyter-widgets/base",
      "_model_module_version": "1.2.0",
      "_model_name": "LayoutModel",
      "_view_count": null,
      "_view_module": "@jupyter-widgets/base",
      "_view_module_version": "1.2.0",
      "_view_name": "LayoutView",
      "align_content": null,
      "align_items": null,
      "align_self": null,
      "border": null,
      "bottom": null,
      "display": null,
      "flex": null,
      "flex_flow": null,
      "grid_area": null,
      "grid_auto_columns": null,
      "grid_auto_flow": null,
      "grid_auto_rows": null,
      "grid_column": null,
      "grid_gap": null,
      "grid_row": null,
      "grid_template_areas": null,
      "grid_template_columns": null,
      "grid_template_rows": null,
      "height": null,
      "justify_content": null,
      "justify_items": null,
      "left": null,
      "margin": null,
      "max_height": null,
      "max_width": null,
      "min_height": null,
      "min_width": null,
      "object_fit": null,
      "object_position": null,
      "order": null,
      "overflow": null,
      "overflow_x": null,
      "overflow_y": null,
      "padding": null,
      "right": null,
      "top": null,
      "visibility": null,
      "width": null
     }
    },
    "52aae2542362430f835d3344b004ea93": {
     "model_module": "@jupyter-widgets/controls",
     "model_module_version": "1.5.0",
     "model_name": "DescriptionStyleModel",
     "state": {
      "_model_module": "@jupyter-widgets/controls",
      "_model_module_version": "1.5.0",
      "_model_name": "DescriptionStyleModel",
      "_view_count": null,
      "_view_module": "@jupyter-widgets/base",
      "_view_module_version": "1.2.0",
      "_view_name": "StyleView",
      "description_width": ""
     }
    },
    "53569d6d1d124002ab8c4d5fb4029f1e": {
     "model_module": "@jupyter-widgets/controls",
     "model_module_version": "1.5.0",
     "model_name": "HTMLModel",
     "state": {
      "_dom_classes": [],
      "_model_module": "@jupyter-widgets/controls",
      "_model_module_version": "1.5.0",
      "_model_name": "HTMLModel",
      "_view_count": null,
      "_view_module": "@jupyter-widgets/controls",
      "_view_module_version": "1.5.0",
      "_view_name": "HTMLView",
      "description": "",
      "description_tooltip": null,
      "layout": "IPY_MODEL_09ebed37c39a4edcbd369e388958e396",
      "placeholder": "​",
      "style": "IPY_MODEL_0f93c9a441e04543bad00f056bb94545",
      "value": "model.safetensors.index.json: 100%"
     }
    },
    "550327cf884a48db91c44d997bd36645": {
     "model_module": "@jupyter-widgets/base",
     "model_module_version": "1.2.0",
     "model_name": "LayoutModel",
     "state": {
      "_model_module": "@jupyter-widgets/base",
      "_model_module_version": "1.2.0",
      "_model_name": "LayoutModel",
      "_view_count": null,
      "_view_module": "@jupyter-widgets/base",
      "_view_module_version": "1.2.0",
      "_view_name": "LayoutView",
      "align_content": null,
      "align_items": null,
      "align_self": null,
      "border": null,
      "bottom": null,
      "display": null,
      "flex": null,
      "flex_flow": null,
      "grid_area": null,
      "grid_auto_columns": null,
      "grid_auto_flow": null,
      "grid_auto_rows": null,
      "grid_column": null,
      "grid_gap": null,
      "grid_row": null,
      "grid_template_areas": null,
      "grid_template_columns": null,
      "grid_template_rows": null,
      "height": null,
      "justify_content": null,
      "justify_items": null,
      "left": null,
      "margin": null,
      "max_height": null,
      "max_width": null,
      "min_height": null,
      "min_width": null,
      "object_fit": null,
      "object_position": null,
      "order": null,
      "overflow": null,
      "overflow_x": null,
      "overflow_y": null,
      "padding": null,
      "right": null,
      "top": null,
      "visibility": null,
      "width": null
     }
    },
    "56307840d0d24e1bb8b33ce96f995ace": {
     "model_module": "@jupyter-widgets/controls",
     "model_module_version": "1.5.0",
     "model_name": "DescriptionStyleModel",
     "state": {
      "_model_module": "@jupyter-widgets/controls",
      "_model_module_version": "1.5.0",
      "_model_name": "DescriptionStyleModel",
      "_view_count": null,
      "_view_module": "@jupyter-widgets/base",
      "_view_module_version": "1.2.0",
      "_view_name": "StyleView",
      "description_width": ""
     }
    },
    "59bb6f35d5f84f3b874c16755db65ec2": {
     "model_module": "@jupyter-widgets/controls",
     "model_module_version": "1.5.0",
     "model_name": "FloatProgressModel",
     "state": {
      "_dom_classes": [],
      "_model_module": "@jupyter-widgets/controls",
      "_model_module_version": "1.5.0",
      "_model_name": "FloatProgressModel",
      "_view_count": null,
      "_view_module": "@jupyter-widgets/controls",
      "_view_module_version": "1.5.0",
      "_view_name": "ProgressView",
      "bar_style": "success",
      "description": "",
      "description_tooltip": null,
      "layout": "IPY_MODEL_c0747b2ffec74bee9e319604a6e0dc0d",
      "max": 23950,
      "min": 0,
      "orientation": "horizontal",
      "style": "IPY_MODEL_217b29458415424e8a41be2d1cd5358b",
      "value": 23950
     }
    },
    "59f524c69db44ca8969fe1f8f4cb0905": {
     "model_module": "@jupyter-widgets/base",
     "model_module_version": "1.2.0",
     "model_name": "LayoutModel",
     "state": {
      "_model_module": "@jupyter-widgets/base",
      "_model_module_version": "1.2.0",
      "_model_name": "LayoutModel",
      "_view_count": null,
      "_view_module": "@jupyter-widgets/base",
      "_view_module_version": "1.2.0",
      "_view_name": "LayoutView",
      "align_content": null,
      "align_items": null,
      "align_self": null,
      "border": null,
      "bottom": null,
      "display": null,
      "flex": null,
      "flex_flow": null,
      "grid_area": null,
      "grid_auto_columns": null,
      "grid_auto_flow": null,
      "grid_auto_rows": null,
      "grid_column": null,
      "grid_gap": null,
      "grid_row": null,
      "grid_template_areas": null,
      "grid_template_columns": null,
      "grid_template_rows": null,
      "height": null,
      "justify_content": null,
      "justify_items": null,
      "left": null,
      "margin": null,
      "max_height": null,
      "max_width": null,
      "min_height": null,
      "min_width": null,
      "object_fit": null,
      "object_position": null,
      "order": null,
      "overflow": null,
      "overflow_x": null,
      "overflow_y": null,
      "padding": null,
      "right": null,
      "top": null,
      "visibility": null,
      "width": null
     }
    },
    "5a1729b7acb9414a90185a430450a5db": {
     "model_module": "@jupyter-widgets/base",
     "model_module_version": "1.2.0",
     "model_name": "LayoutModel",
     "state": {
      "_model_module": "@jupyter-widgets/base",
      "_model_module_version": "1.2.0",
      "_model_name": "LayoutModel",
      "_view_count": null,
      "_view_module": "@jupyter-widgets/base",
      "_view_module_version": "1.2.0",
      "_view_name": "LayoutView",
      "align_content": null,
      "align_items": null,
      "align_self": null,
      "border": null,
      "bottom": null,
      "display": null,
      "flex": null,
      "flex_flow": null,
      "grid_area": null,
      "grid_auto_columns": null,
      "grid_auto_flow": null,
      "grid_auto_rows": null,
      "grid_column": null,
      "grid_gap": null,
      "grid_row": null,
      "grid_template_areas": null,
      "grid_template_columns": null,
      "grid_template_rows": null,
      "height": null,
      "justify_content": null,
      "justify_items": null,
      "left": null,
      "margin": null,
      "max_height": null,
      "max_width": null,
      "min_height": null,
      "min_width": null,
      "object_fit": null,
      "object_position": null,
      "order": null,
      "overflow": null,
      "overflow_x": null,
      "overflow_y": null,
      "padding": null,
      "right": null,
      "top": null,
      "visibility": null,
      "width": null
     }
    },
    "5dd3ba764b724acf993e8aea3a6ebfa4": {
     "model_module": "@jupyter-widgets/base",
     "model_module_version": "1.2.0",
     "model_name": "LayoutModel",
     "state": {
      "_model_module": "@jupyter-widgets/base",
      "_model_module_version": "1.2.0",
      "_model_name": "LayoutModel",
      "_view_count": null,
      "_view_module": "@jupyter-widgets/base",
      "_view_module_version": "1.2.0",
      "_view_name": "LayoutView",
      "align_content": null,
      "align_items": null,
      "align_self": null,
      "border": null,
      "bottom": null,
      "display": null,
      "flex": null,
      "flex_flow": null,
      "grid_area": null,
      "grid_auto_columns": null,
      "grid_auto_flow": null,
      "grid_auto_rows": null,
      "grid_column": null,
      "grid_gap": null,
      "grid_row": null,
      "grid_template_areas": null,
      "grid_template_columns": null,
      "grid_template_rows": null,
      "height": null,
      "justify_content": null,
      "justify_items": null,
      "left": null,
      "margin": null,
      "max_height": null,
      "max_width": null,
      "min_height": null,
      "min_width": null,
      "object_fit": null,
      "object_position": null,
      "order": null,
      "overflow": null,
      "overflow_x": null,
      "overflow_y": null,
      "padding": null,
      "right": null,
      "top": null,
      "visibility": null,
      "width": null
     }
    },
    "5e953657bc8746cbad61331d827432bc": {
     "model_module": "@jupyter-widgets/controls",
     "model_module_version": "1.5.0",
     "model_name": "DescriptionStyleModel",
     "state": {
      "_model_module": "@jupyter-widgets/controls",
      "_model_module_version": "1.5.0",
      "_model_name": "DescriptionStyleModel",
      "_view_count": null,
      "_view_module": "@jupyter-widgets/base",
      "_view_module_version": "1.2.0",
      "_view_name": "StyleView",
      "description_width": ""
     }
    },
    "6103ba60a81f49de96095e5f69897965": {
     "model_module": "@jupyter-widgets/controls",
     "model_module_version": "1.5.0",
     "model_name": "FloatProgressModel",
     "state": {
      "_dom_classes": [],
      "_model_module": "@jupyter-widgets/controls",
      "_model_module_version": "1.5.0",
      "_model_name": "FloatProgressModel",
      "_view_count": null,
      "_view_module": "@jupyter-widgets/controls",
      "_view_module_version": "1.5.0",
      "_view_name": "ProgressView",
      "bar_style": "success",
      "description": "",
      "description_tooltip": null,
      "layout": "IPY_MODEL_e81af02cc85b4be4a168ceb158fce142",
      "max": 1,
      "min": 0,
      "orientation": "horizontal",
      "style": "IPY_MODEL_7db395a7d92c491da1de2c5417c8b72e",
      "value": 0
     }
    },
    "615621631cb44cbd8f0785d3b17e0d42": {
     "model_module": "@jupyter-widgets/base",
     "model_module_version": "1.2.0",
     "model_name": "LayoutModel",
     "state": {
      "_model_module": "@jupyter-widgets/base",
      "_model_module_version": "1.2.0",
      "_model_name": "LayoutModel",
      "_view_count": null,
      "_view_module": "@jupyter-widgets/base",
      "_view_module_version": "1.2.0",
      "_view_name": "LayoutView",
      "align_content": null,
      "align_items": null,
      "align_self": null,
      "border": null,
      "bottom": null,
      "display": null,
      "flex": null,
      "flex_flow": null,
      "grid_area": null,
      "grid_auto_columns": null,
      "grid_auto_flow": null,
      "grid_auto_rows": null,
      "grid_column": null,
      "grid_gap": null,
      "grid_row": null,
      "grid_template_areas": null,
      "grid_template_columns": null,
      "grid_template_rows": null,
      "height": null,
      "justify_content": null,
      "justify_items": null,
      "left": null,
      "margin": null,
      "max_height": null,
      "max_width": null,
      "min_height": null,
      "min_width": null,
      "object_fit": null,
      "object_position": null,
      "order": null,
      "overflow": null,
      "overflow_x": null,
      "overflow_y": null,
      "padding": null,
      "right": null,
      "top": null,
      "visibility": null,
      "width": null
     }
    },
    "6171531e2830414c878c77fa73eddd3d": {
     "model_module": "@jupyter-widgets/controls",
     "model_module_version": "1.5.0",
     "model_name": "HTMLModel",
     "state": {
      "_dom_classes": [],
      "_model_module": "@jupyter-widgets/controls",
      "_model_module_version": "1.5.0",
      "_model_name": "HTMLModel",
      "_view_count": null,
      "_view_module": "@jupyter-widgets/controls",
      "_view_module_version": "1.5.0",
      "_view_name": "HTMLView",
      "description": "",
      "description_tooltip": null,
      "layout": "IPY_MODEL_0160161700ac4c9883f18e6561dbfa7f",
      "placeholder": "​",
      "style": "IPY_MODEL_0d5d255953cf40fba605d2504fc389d1",
      "value": " 1.17G/1.17G [00:28&lt;00:00, 42.3MB/s]"
     }
    },
    "63bac263dabb4eb9b175b53c39e21c50": {
     "model_module": "@jupyter-widgets/base",
     "model_module_version": "1.2.0",
     "model_name": "LayoutModel",
     "state": {
      "_model_module": "@jupyter-widgets/base",
      "_model_module_version": "1.2.0",
      "_model_name": "LayoutModel",
      "_view_count": null,
      "_view_module": "@jupyter-widgets/base",
      "_view_module_version": "1.2.0",
      "_view_name": "LayoutView",
      "align_content": null,
      "align_items": null,
      "align_self": null,
      "border": null,
      "bottom": null,
      "display": null,
      "flex": null,
      "flex_flow": null,
      "grid_area": null,
      "grid_auto_columns": null,
      "grid_auto_flow": null,
      "grid_auto_rows": null,
      "grid_column": null,
      "grid_gap": null,
      "grid_row": null,
      "grid_template_areas": null,
      "grid_template_columns": null,
      "grid_template_rows": null,
      "height": null,
      "justify_content": null,
      "justify_items": null,
      "left": null,
      "margin": null,
      "max_height": null,
      "max_width": null,
      "min_height": null,
      "min_width": null,
      "object_fit": null,
      "object_position": null,
      "order": null,
      "overflow": null,
      "overflow_x": null,
      "overflow_y": null,
      "padding": null,
      "right": null,
      "top": null,
      "visibility": null,
      "width": null
     }
    },
    "6446fb720fff4de58cdf1ff1901f7521": {
     "model_module": "@jupyter-widgets/controls",
     "model_module_version": "1.5.0",
     "model_name": "HTMLModel",
     "state": {
      "_dom_classes": [],
      "_model_module": "@jupyter-widgets/controls",
      "_model_module_version": "1.5.0",
      "_model_name": "HTMLModel",
      "_view_count": null,
      "_view_module": "@jupyter-widgets/controls",
      "_view_module_version": "1.5.0",
      "_view_name": "HTMLView",
      "description": "",
      "description_tooltip": null,
      "layout": "IPY_MODEL_8dfb62e5b1f245f2a7b1a00c8d2e3f94",
      "placeholder": "​",
      "style": "IPY_MODEL_9507bd01c78945cea331c3127dd196f4",
      "value": ""
     }
    },
    "658def59d6bc48a999b744cdfc210270": {
     "model_module": "@jupyter-widgets/base",
     "model_module_version": "1.2.0",
     "model_name": "LayoutModel",
     "state": {
      "_model_module": "@jupyter-widgets/base",
      "_model_module_version": "1.2.0",
      "_model_name": "LayoutModel",
      "_view_count": null,
      "_view_module": "@jupyter-widgets/base",
      "_view_module_version": "1.2.0",
      "_view_name": "LayoutView",
      "align_content": null,
      "align_items": null,
      "align_self": null,
      "border": null,
      "bottom": null,
      "display": null,
      "flex": null,
      "flex_flow": null,
      "grid_area": null,
      "grid_auto_columns": null,
      "grid_auto_flow": null,
      "grid_auto_rows": null,
      "grid_column": null,
      "grid_gap": null,
      "grid_row": null,
      "grid_template_areas": null,
      "grid_template_columns": null,
      "grid_template_rows": null,
      "height": null,
      "justify_content": null,
      "justify_items": null,
      "left": null,
      "margin": null,
      "max_height": null,
      "max_width": null,
      "min_height": null,
      "min_width": null,
      "object_fit": null,
      "object_position": null,
      "order": null,
      "overflow": null,
      "overflow_x": null,
      "overflow_y": null,
      "padding": null,
      "right": null,
      "top": null,
      "visibility": null,
      "width": null
     }
    },
    "6637da53c61446ca82032da411b45d7b": {
     "model_module": "@jupyter-widgets/controls",
     "model_module_version": "1.5.0",
     "model_name": "FloatProgressModel",
     "state": {
      "_dom_classes": [],
      "_model_module": "@jupyter-widgets/controls",
      "_model_module_version": "1.5.0",
      "_model_name": "FloatProgressModel",
      "_view_count": null,
      "_view_module": "@jupyter-widgets/controls",
      "_view_module_version": "1.5.0",
      "_view_name": "ProgressView",
      "bar_style": "success",
      "description": "",
      "description_tooltip": null,
      "layout": "IPY_MODEL_4fc01d5e09844fe3928c1423fae66cec",
      "max": 4656,
      "min": 0,
      "orientation": "horizontal",
      "style": "IPY_MODEL_b4bd0001ee3b4bb3ba18c98cf718ee2b",
      "value": 4656
     }
    },
    "6be814c0f94748d982efd58dd6e05fb8": {
     "model_module": "@jupyter-widgets/controls",
     "model_module_version": "1.5.0",
     "model_name": "HBoxModel",
     "state": {
      "_dom_classes": [],
      "_model_module": "@jupyter-widgets/controls",
      "_model_module_version": "1.5.0",
      "_model_name": "HBoxModel",
      "_view_count": null,
      "_view_module": "@jupyter-widgets/controls",
      "_view_module_version": "1.5.0",
      "_view_name": "HBoxView",
      "box_style": "",
      "children": [
       "IPY_MODEL_c20c4516551b4d12964fc74d0a11d040",
       "IPY_MODEL_8c6192e56a904f9cad609d1ee034e8ae",
       "IPY_MODEL_8a69481eeccc41569dfb7b301bbbe79d"
      ],
      "layout": "IPY_MODEL_a4f0e4d471184ccc951671941918bcbc"
     }
    },
    "6ca1b93fb08949dca4de9034666375fa": {
     "model_module": "@jupyter-widgets/controls",
     "model_module_version": "1.5.0",
     "model_name": "DescriptionStyleModel",
     "state": {
      "_model_module": "@jupyter-widgets/controls",
      "_model_module_version": "1.5.0",
      "_model_name": "DescriptionStyleModel",
      "_view_count": null,
      "_view_module": "@jupyter-widgets/base",
      "_view_module_version": "1.2.0",
      "_view_name": "StyleView",
      "description_width": ""
     }
    },
    "6e96b8f1b52e436cba8dd30878483f44": {
     "model_module": "@jupyter-widgets/base",
     "model_module_version": "1.2.0",
     "model_name": "LayoutModel",
     "state": {
      "_model_module": "@jupyter-widgets/base",
      "_model_module_version": "1.2.0",
      "_model_name": "LayoutModel",
      "_view_count": null,
      "_view_module": "@jupyter-widgets/base",
      "_view_module_version": "1.2.0",
      "_view_name": "LayoutView",
      "align_content": null,
      "align_items": null,
      "align_self": null,
      "border": null,
      "bottom": null,
      "display": null,
      "flex": null,
      "flex_flow": null,
      "grid_area": null,
      "grid_auto_columns": null,
      "grid_auto_flow": null,
      "grid_auto_rows": null,
      "grid_column": null,
      "grid_gap": null,
      "grid_row": null,
      "grid_template_areas": null,
      "grid_template_columns": null,
      "grid_template_rows": null,
      "height": null,
      "justify_content": null,
      "justify_items": null,
      "left": null,
      "margin": null,
      "max_height": null,
      "max_width": null,
      "min_height": null,
      "min_width": null,
      "object_fit": null,
      "object_position": null,
      "order": null,
      "overflow": null,
      "overflow_x": null,
      "overflow_y": null,
      "padding": null,
      "right": null,
      "top": null,
      "visibility": null,
      "width": null
     }
    },
    "700e2feb63454a42afad8660e5c18f00": {
     "model_module": "@jupyter-widgets/controls",
     "model_module_version": "1.5.0",
     "model_name": "DescriptionStyleModel",
     "state": {
      "_model_module": "@jupyter-widgets/controls",
      "_model_module_version": "1.5.0",
      "_model_name": "DescriptionStyleModel",
      "_view_count": null,
      "_view_module": "@jupyter-widgets/base",
      "_view_module_version": "1.2.0",
      "_view_name": "StyleView",
      "description_width": ""
     }
    },
    "718126e7703c4cab9550757ac584db4a": {
     "model_module": "@jupyter-widgets/base",
     "model_module_version": "1.2.0",
     "model_name": "LayoutModel",
     "state": {
      "_model_module": "@jupyter-widgets/base",
      "_model_module_version": "1.2.0",
      "_model_name": "LayoutModel",
      "_view_count": null,
      "_view_module": "@jupyter-widgets/base",
      "_view_module_version": "1.2.0",
      "_view_name": "LayoutView",
      "align_content": null,
      "align_items": null,
      "align_self": null,
      "border": null,
      "bottom": null,
      "display": null,
      "flex": null,
      "flex_flow": null,
      "grid_area": null,
      "grid_auto_columns": null,
      "grid_auto_flow": null,
      "grid_auto_rows": null,
      "grid_column": null,
      "grid_gap": null,
      "grid_row": null,
      "grid_template_areas": null,
      "grid_template_columns": null,
      "grid_template_rows": null,
      "height": null,
      "justify_content": null,
      "justify_items": null,
      "left": null,
      "margin": null,
      "max_height": null,
      "max_width": null,
      "min_height": null,
      "min_width": null,
      "object_fit": null,
      "object_position": null,
      "order": null,
      "overflow": null,
      "overflow_x": null,
      "overflow_y": null,
      "padding": null,
      "right": null,
      "top": null,
      "visibility": null,
      "width": null
     }
    },
    "71869752af5d4ebe9e7e211325e8d695": {
     "model_module": "@jupyter-widgets/controls",
     "model_module_version": "1.5.0",
     "model_name": "HTMLModel",
     "state": {
      "_dom_classes": [],
      "_model_module": "@jupyter-widgets/controls",
      "_model_module_version": "1.5.0",
      "_model_name": "HTMLModel",
      "_view_count": null,
      "_view_module": "@jupyter-widgets/controls",
      "_view_module_version": "1.5.0",
      "_view_name": "HTMLView",
      "description": "",
      "description_tooltip": null,
      "layout": "IPY_MODEL_0fdaf9f331724b80bb4d36cb4136c34a",
      "placeholder": "​",
      "style": "IPY_MODEL_9b26732a494e42e5b813852236ff0c3b",
      "value": "model-00004-of-00004.safetensors: 100%"
     }
    },
    "722d70c818c446878ee793a132431a28": {
     "model_module": "@jupyter-widgets/base",
     "model_module_version": "1.2.0",
     "model_name": "LayoutModel",
     "state": {
      "_model_module": "@jupyter-widgets/base",
      "_model_module_version": "1.2.0",
      "_model_name": "LayoutModel",
      "_view_count": null,
      "_view_module": "@jupyter-widgets/base",
      "_view_module_version": "1.2.0",
      "_view_name": "LayoutView",
      "align_content": null,
      "align_items": null,
      "align_self": null,
      "border": null,
      "bottom": null,
      "display": null,
      "flex": null,
      "flex_flow": null,
      "grid_area": null,
      "grid_auto_columns": null,
      "grid_auto_flow": null,
      "grid_auto_rows": null,
      "grid_column": null,
      "grid_gap": null,
      "grid_row": null,
      "grid_template_areas": null,
      "grid_template_columns": null,
      "grid_template_rows": null,
      "height": null,
      "justify_content": null,
      "justify_items": null,
      "left": null,
      "margin": null,
      "max_height": null,
      "max_width": null,
      "min_height": null,
      "min_width": null,
      "object_fit": null,
      "object_position": null,
      "order": null,
      "overflow": null,
      "overflow_x": null,
      "overflow_y": null,
      "padding": null,
      "right": null,
      "top": null,
      "visibility": null,
      "width": null
     }
    },
    "74854f19aedd48d093f7cb759f8136f5": {
     "model_module": "@jupyter-widgets/base",
     "model_module_version": "1.2.0",
     "model_name": "LayoutModel",
     "state": {
      "_model_module": "@jupyter-widgets/base",
      "_model_module_version": "1.2.0",
      "_model_name": "LayoutModel",
      "_view_count": null,
      "_view_module": "@jupyter-widgets/base",
      "_view_module_version": "1.2.0",
      "_view_name": "LayoutView",
      "align_content": null,
      "align_items": null,
      "align_self": null,
      "border": null,
      "bottom": null,
      "display": null,
      "flex": null,
      "flex_flow": null,
      "grid_area": null,
      "grid_auto_columns": null,
      "grid_auto_flow": null,
      "grid_auto_rows": null,
      "grid_column": null,
      "grid_gap": null,
      "grid_row": null,
      "grid_template_areas": null,
      "grid_template_columns": null,
      "grid_template_rows": null,
      "height": null,
      "justify_content": null,
      "justify_items": null,
      "left": null,
      "margin": null,
      "max_height": null,
      "max_width": null,
      "min_height": null,
      "min_width": null,
      "object_fit": null,
      "object_position": null,
      "order": null,
      "overflow": null,
      "overflow_x": null,
      "overflow_y": null,
      "padding": null,
      "right": null,
      "top": null,
      "visibility": null,
      "width": null
     }
    },
    "75318631574245d3a7cd0985c93c5235": {
     "model_module": "@jupyter-widgets/base",
     "model_module_version": "1.2.0",
     "model_name": "LayoutModel",
     "state": {
      "_model_module": "@jupyter-widgets/base",
      "_model_module_version": "1.2.0",
      "_model_name": "LayoutModel",
      "_view_count": null,
      "_view_module": "@jupyter-widgets/base",
      "_view_module_version": "1.2.0",
      "_view_name": "LayoutView",
      "align_content": null,
      "align_items": null,
      "align_self": null,
      "border": null,
      "bottom": null,
      "display": null,
      "flex": null,
      "flex_flow": null,
      "grid_area": null,
      "grid_auto_columns": null,
      "grid_auto_flow": null,
      "grid_auto_rows": null,
      "grid_column": null,
      "grid_gap": null,
      "grid_row": null,
      "grid_template_areas": null,
      "grid_template_columns": null,
      "grid_template_rows": null,
      "height": null,
      "justify_content": null,
      "justify_items": null,
      "left": null,
      "margin": null,
      "max_height": null,
      "max_width": null,
      "min_height": null,
      "min_width": null,
      "object_fit": null,
      "object_position": null,
      "order": null,
      "overflow": null,
      "overflow_x": null,
      "overflow_y": null,
      "padding": null,
      "right": null,
      "top": null,
      "visibility": null,
      "width": null
     }
    },
    "7538c92bb5e84efc8cbd980021805353": {
     "model_module": "@jupyter-widgets/controls",
     "model_module_version": "1.5.0",
     "model_name": "HTMLModel",
     "state": {
      "_dom_classes": [],
      "_model_module": "@jupyter-widgets/controls",
      "_model_module_version": "1.5.0",
      "_model_name": "HTMLModel",
      "_view_count": null,
      "_view_module": "@jupyter-widgets/controls",
      "_view_module_version": "1.5.0",
      "_view_name": "HTMLView",
      "description": "",
      "description_tooltip": null,
      "layout": "IPY_MODEL_0a8b7a9697474c2e86502500ff161ca6",
      "placeholder": "​",
      "style": "IPY_MODEL_700e2feb63454a42afad8660e5c18f00",
      "value": "config.json: 100%"
     }
    },
    "753f166767f54802b43457590a0c84ba": {
     "model_module": "@jupyter-widgets/base",
     "model_module_version": "1.2.0",
     "model_name": "LayoutModel",
     "state": {
      "_model_module": "@jupyter-widgets/base",
      "_model_module_version": "1.2.0",
      "_model_name": "LayoutModel",
      "_view_count": null,
      "_view_module": "@jupyter-widgets/base",
      "_view_module_version": "1.2.0",
      "_view_name": "LayoutView",
      "align_content": null,
      "align_items": null,
      "align_self": null,
      "border": null,
      "bottom": null,
      "display": null,
      "flex": null,
      "flex_flow": null,
      "grid_area": null,
      "grid_auto_columns": null,
      "grid_auto_flow": null,
      "grid_auto_rows": null,
      "grid_column": null,
      "grid_gap": null,
      "grid_row": null,
      "grid_template_areas": null,
      "grid_template_columns": null,
      "grid_template_rows": null,
      "height": null,
      "justify_content": null,
      "justify_items": null,
      "left": null,
      "margin": null,
      "max_height": null,
      "max_width": null,
      "min_height": null,
      "min_width": null,
      "object_fit": null,
      "object_position": null,
      "order": null,
      "overflow": null,
      "overflow_x": null,
      "overflow_y": null,
      "padding": null,
      "right": null,
      "top": null,
      "visibility": null,
      "width": null
     }
    },
    "75811ee3c0294969a2b37b353ba0bae8": {
     "model_module": "@jupyter-widgets/controls",
     "model_module_version": "1.5.0",
     "model_name": "HTMLModel",
     "state": {
      "_dom_classes": [],
      "_model_module": "@jupyter-widgets/controls",
      "_model_module_version": "1.5.0",
      "_model_name": "HTMLModel",
      "_view_count": null,
      "_view_module": "@jupyter-widgets/controls",
      "_view_module_version": "1.5.0",
      "_view_name": "HTMLView",
      "description": "",
      "description_tooltip": null,
      "layout": "IPY_MODEL_2318c2417c5c4c8da3988f74a48f9d11",
      "placeholder": "​",
      "style": "IPY_MODEL_76dbf6d3e1fb4317bd17e09d23536f4c",
      "value": "tokenizer_config.json: 100%"
     }
    },
    "76dbf6d3e1fb4317bd17e09d23536f4c": {
     "model_module": "@jupyter-widgets/controls",
     "model_module_version": "1.5.0",
     "model_name": "DescriptionStyleModel",
     "state": {
      "_model_module": "@jupyter-widgets/controls",
      "_model_module_version": "1.5.0",
      "_model_name": "DescriptionStyleModel",
      "_view_count": null,
      "_view_module": "@jupyter-widgets/base",
      "_view_module_version": "1.2.0",
      "_view_name": "StyleView",
      "description_width": ""
     }
    },
    "77094ff1698a4424ab03aee0516be436": {
     "model_module": "@jupyter-widgets/controls",
     "model_module_version": "1.5.0",
     "model_name": "HBoxModel",
     "state": {
      "_dom_classes": [],
      "_model_module": "@jupyter-widgets/controls",
      "_model_module_version": "1.5.0",
      "_model_name": "HBoxModel",
      "_view_count": null,
      "_view_module": "@jupyter-widgets/controls",
      "_view_module_version": "1.5.0",
      "_view_name": "HBoxView",
      "box_style": "",
      "children": [
       "IPY_MODEL_269111dc0ef541519aee1991cadc4bf2",
       "IPY_MODEL_6637da53c61446ca82032da411b45d7b",
       "IPY_MODEL_a3ae43b47d5c42309d22becda96bb571"
      ],
      "layout": "IPY_MODEL_c91673a1663b4ce583d25bb36b9b4b54"
     }
    },
    "77cbfa2e1ada431eb17905e5fc445f03": {
     "model_module": "@jupyter-widgets/controls",
     "model_module_version": "1.5.0",
     "model_name": "HBoxModel",
     "state": {
      "_dom_classes": [],
      "_model_module": "@jupyter-widgets/controls",
      "_model_module_version": "1.5.0",
      "_model_name": "HBoxModel",
      "_view_count": null,
      "_view_module": "@jupyter-widgets/controls",
      "_view_module_version": "1.5.0",
      "_view_name": "HBoxView",
      "box_style": "",
      "children": [
       "IPY_MODEL_53569d6d1d124002ab8c4d5fb4029f1e",
       "IPY_MODEL_59bb6f35d5f84f3b874c16755db65ec2",
       "IPY_MODEL_037c4db88a704063b97e2ba340f55198"
      ],
      "layout": "IPY_MODEL_d0cf9ac4767545af8d0d071a65f9600f"
     }
    },
    "7bff42e666aa42c5857940975e923a09": {
     "model_module": "@jupyter-widgets/controls",
     "model_module_version": "1.5.0",
     "model_name": "HBoxModel",
     "state": {
      "_dom_classes": [],
      "_model_module": "@jupyter-widgets/controls",
      "_model_module_version": "1.5.0",
      "_model_name": "HBoxModel",
      "_view_count": null,
      "_view_module": "@jupyter-widgets/controls",
      "_view_module_version": "1.5.0",
      "_view_name": "HBoxView",
      "box_style": "",
      "children": [
       "IPY_MODEL_e4e26b7095d84eeca16cea3513caa42a",
       "IPY_MODEL_a3a848b8c61e45f5828a4de5795fa437",
       "IPY_MODEL_c0dc623b272a4513a6cd5b35ed2db729"
      ],
      "layout": "IPY_MODEL_615621631cb44cbd8f0785d3b17e0d42"
     }
    },
    "7db395a7d92c491da1de2c5417c8b72e": {
     "model_module": "@jupyter-widgets/controls",
     "model_module_version": "1.5.0",
     "model_name": "ProgressStyleModel",
     "state": {
      "_model_module": "@jupyter-widgets/controls",
      "_model_module_version": "1.5.0",
      "_model_name": "ProgressStyleModel",
      "_view_count": null,
      "_view_module": "@jupyter-widgets/base",
      "_view_module_version": "1.2.0",
      "_view_name": "StyleView",
      "bar_color": null,
      "description_width": ""
     }
    },
    "7ef9a4763bbc48ebbf9b50170cc2354e": {
     "model_module": "@jupyter-widgets/controls",
     "model_module_version": "1.5.0",
     "model_name": "FloatProgressModel",
     "state": {
      "_dom_classes": [],
      "_model_module": "@jupyter-widgets/controls",
      "_model_module_version": "1.5.0",
      "_model_name": "FloatProgressModel",
      "_view_count": null,
      "_view_module": "@jupyter-widgets/controls",
      "_view_module_version": "1.5.0",
      "_view_name": "ProgressView",
      "bar_style": "success",
      "description": "",
      "description_tooltip": null,
      "layout": "IPY_MODEL_2f0a4df7d5ac43dd9ba962dea7348fd3",
      "max": 4,
      "min": 0,
      "orientation": "horizontal",
      "style": "IPY_MODEL_31dcfa2ea65841f49410d196cf1576a2",
      "value": 4
     }
    },
    "80562ae75a274165b756f1465967ac93": {
     "model_module": "@jupyter-widgets/controls",
     "model_module_version": "1.5.0",
     "model_name": "ProgressStyleModel",
     "state": {
      "_model_module": "@jupyter-widgets/controls",
      "_model_module_version": "1.5.0",
      "_model_name": "ProgressStyleModel",
      "_view_count": null,
      "_view_module": "@jupyter-widgets/base",
      "_view_module_version": "1.2.0",
      "_view_name": "StyleView",
      "bar_color": null,
      "description_width": ""
     }
    },
    "81126e5a8bc947e3aabf5af599484cc1": {
     "model_module": "@jupyter-widgets/controls",
     "model_module_version": "1.5.0",
     "model_name": "ProgressStyleModel",
     "state": {
      "_model_module": "@jupyter-widgets/controls",
      "_model_module_version": "1.5.0",
      "_model_name": "ProgressStyleModel",
      "_view_count": null,
      "_view_module": "@jupyter-widgets/base",
      "_view_module_version": "1.2.0",
      "_view_name": "StyleView",
      "bar_color": null,
      "description_width": ""
     }
    },
    "812948df071b4f8e8a4ddb03c6d351f9": {
     "model_module": "@jupyter-widgets/controls",
     "model_module_version": "1.5.0",
     "model_name": "FloatProgressModel",
     "state": {
      "_dom_classes": [],
      "_model_module": "@jupyter-widgets/controls",
      "_model_module_version": "1.5.0",
      "_model_name": "FloatProgressModel",
      "_view_count": null,
      "_view_module": "@jupyter-widgets/controls",
      "_view_module_version": "1.5.0",
      "_view_name": "ProgressView",
      "bar_style": "success",
      "description": "",
      "description_tooltip": null,
      "layout": "IPY_MODEL_4d31d7dd04a446c6b24936d6d548e903",
      "max": 4656,
      "min": 0,
      "orientation": "horizontal",
      "style": "IPY_MODEL_cc0c5363648e4409a5a9b8cac17ac748",
      "value": 4656
     }
    },
    "813a6d1761a84ce0af064e7bed54543b": {
     "model_module": "@jupyter-widgets/controls",
     "model_module_version": "1.5.0",
     "model_name": "FloatProgressModel",
     "state": {
      "_dom_classes": [],
      "_model_module": "@jupyter-widgets/controls",
      "_model_module_version": "1.5.0",
      "_model_name": "FloatProgressModel",
      "_view_count": null,
      "_view_module": "@jupyter-widgets/controls",
      "_view_module_version": "1.5.0",
      "_view_name": "ProgressView",
      "bar_style": "success",
      "description": "",
      "description_tooltip": null,
      "layout": "IPY_MODEL_0a219f96ad5e46c8a8d338179b65815f",
      "max": 4915916176,
      "min": 0,
      "orientation": "horizontal",
      "style": "IPY_MODEL_80562ae75a274165b756f1465967ac93",
      "value": 4915916176
     }
    },
    "818aef75acda4f8dbdcc4addc1e74e1b": {
     "model_module": "@jupyter-widgets/controls",
     "model_module_version": "1.5.0",
     "model_name": "DescriptionStyleModel",
     "state": {
      "_model_module": "@jupyter-widgets/controls",
      "_model_module_version": "1.5.0",
      "_model_name": "DescriptionStyleModel",
      "_view_count": null,
      "_view_module": "@jupyter-widgets/base",
      "_view_module_version": "1.2.0",
      "_view_name": "StyleView",
      "description_width": ""
     }
    },
    "84a831258bd147e5a16eec04895e86e5": {
     "model_module": "@jupyter-widgets/base",
     "model_module_version": "1.2.0",
     "model_name": "LayoutModel",
     "state": {
      "_model_module": "@jupyter-widgets/base",
      "_model_module_version": "1.2.0",
      "_model_name": "LayoutModel",
      "_view_count": null,
      "_view_module": "@jupyter-widgets/base",
      "_view_module_version": "1.2.0",
      "_view_name": "LayoutView",
      "align_content": null,
      "align_items": null,
      "align_self": null,
      "border": null,
      "bottom": null,
      "display": null,
      "flex": null,
      "flex_flow": null,
      "grid_area": null,
      "grid_auto_columns": null,
      "grid_auto_flow": null,
      "grid_auto_rows": null,
      "grid_column": null,
      "grid_gap": null,
      "grid_row": null,
      "grid_template_areas": null,
      "grid_template_columns": null,
      "grid_template_rows": null,
      "height": null,
      "justify_content": null,
      "justify_items": null,
      "left": null,
      "margin": null,
      "max_height": null,
      "max_width": null,
      "min_height": null,
      "min_width": null,
      "object_fit": null,
      "object_position": null,
      "order": null,
      "overflow": null,
      "overflow_x": null,
      "overflow_y": null,
      "padding": null,
      "right": null,
      "top": null,
      "visibility": null,
      "width": null
     }
    },
    "86a4e9349f78477ba1a47076f9b3457c": {
     "model_module": "@jupyter-widgets/controls",
     "model_module_version": "1.5.0",
     "model_name": "DescriptionStyleModel",
     "state": {
      "_model_module": "@jupyter-widgets/controls",
      "_model_module_version": "1.5.0",
      "_model_name": "DescriptionStyleModel",
      "_view_count": null,
      "_view_module": "@jupyter-widgets/base",
      "_view_module_version": "1.2.0",
      "_view_name": "StyleView",
      "description_width": ""
     }
    },
    "89115cebb69544bd8808ceaace826686": {
     "model_module": "@jupyter-widgets/controls",
     "model_module_version": "1.5.0",
     "model_name": "DescriptionStyleModel",
     "state": {
      "_model_module": "@jupyter-widgets/controls",
      "_model_module_version": "1.5.0",
      "_model_name": "DescriptionStyleModel",
      "_view_count": null,
      "_view_module": "@jupyter-widgets/base",
      "_view_module_version": "1.2.0",
      "_view_name": "StyleView",
      "description_width": ""
     }
    },
    "8a69481eeccc41569dfb7b301bbbe79d": {
     "model_module": "@jupyter-widgets/controls",
     "model_module_version": "1.5.0",
     "model_name": "HTMLModel",
     "state": {
      "_dom_classes": [],
      "_model_module": "@jupyter-widgets/controls",
      "_model_module_version": "1.5.0",
      "_model_name": "HTMLModel",
      "_view_count": null,
      "_view_module": "@jupyter-widgets/controls",
      "_view_module_version": "1.5.0",
      "_view_name": "HTMLView",
      "description": "",
      "description_tooltip": null,
      "layout": "IPY_MODEL_74854f19aedd48d093f7cb759f8136f5",
      "placeholder": "​",
      "style": "IPY_MODEL_86a4e9349f78477ba1a47076f9b3457c",
      "value": " 9.09M/9.09M [00:00&lt;00:00, 15.7MB/s]"
     }
    },
    "8ab7ebf1513640dea2d6e0d73911574f": {
     "model_module": "@jupyter-widgets/base",
     "model_module_version": "1.2.0",
     "model_name": "LayoutModel",
     "state": {
      "_model_module": "@jupyter-widgets/base",
      "_model_module_version": "1.2.0",
      "_model_name": "LayoutModel",
      "_view_count": null,
      "_view_module": "@jupyter-widgets/base",
      "_view_module_version": "1.2.0",
      "_view_name": "LayoutView",
      "align_content": null,
      "align_items": null,
      "align_self": null,
      "border": null,
      "bottom": null,
      "display": null,
      "flex": null,
      "flex_flow": null,
      "grid_area": null,
      "grid_auto_columns": null,
      "grid_auto_flow": null,
      "grid_auto_rows": null,
      "grid_column": null,
      "grid_gap": null,
      "grid_row": null,
      "grid_template_areas": null,
      "grid_template_columns": null,
      "grid_template_rows": null,
      "height": null,
      "justify_content": null,
      "justify_items": null,
      "left": null,
      "margin": null,
      "max_height": null,
      "max_width": null,
      "min_height": null,
      "min_width": null,
      "object_fit": null,
      "object_position": null,
      "order": null,
      "overflow": null,
      "overflow_x": null,
      "overflow_y": null,
      "padding": null,
      "right": null,
      "top": null,
      "visibility": null,
      "width": null
     }
    },
    "8b706338a7674057ab61ff2f8cea0dfe": {
     "model_module": "@jupyter-widgets/controls",
     "model_module_version": "1.5.0",
     "model_name": "DescriptionStyleModel",
     "state": {
      "_model_module": "@jupyter-widgets/controls",
      "_model_module_version": "1.5.0",
      "_model_name": "DescriptionStyleModel",
      "_view_count": null,
      "_view_module": "@jupyter-widgets/base",
      "_view_module_version": "1.2.0",
      "_view_name": "StyleView",
      "description_width": ""
     }
    },
    "8c6192e56a904f9cad609d1ee034e8ae": {
     "model_module": "@jupyter-widgets/controls",
     "model_module_version": "1.5.0",
     "model_name": "FloatProgressModel",
     "state": {
      "_dom_classes": [],
      "_model_module": "@jupyter-widgets/controls",
      "_model_module_version": "1.5.0",
      "_model_name": "FloatProgressModel",
      "_view_count": null,
      "_view_module": "@jupyter-widgets/controls",
      "_view_module_version": "1.5.0",
      "_view_name": "ProgressView",
      "bar_style": "success",
      "description": "",
      "description_tooltip": null,
      "layout": "IPY_MODEL_fc7c3927f1c44733a77a85dbd9ff5cae",
      "max": 9085839,
      "min": 0,
      "orientation": "horizontal",
      "style": "IPY_MODEL_d907ec9f08224c378e643825102a8b93",
      "value": 9085839
     }
    },
    "8dfb62e5b1f245f2a7b1a00c8d2e3f94": {
     "model_module": "@jupyter-widgets/base",
     "model_module_version": "1.2.0",
     "model_name": "LayoutModel",
     "state": {
      "_model_module": "@jupyter-widgets/base",
      "_model_module_version": "1.2.0",
      "_model_name": "LayoutModel",
      "_view_count": null,
      "_view_module": "@jupyter-widgets/base",
      "_view_module_version": "1.2.0",
      "_view_name": "LayoutView",
      "align_content": null,
      "align_items": null,
      "align_self": null,
      "border": null,
      "bottom": null,
      "display": null,
      "flex": null,
      "flex_flow": null,
      "grid_area": null,
      "grid_auto_columns": null,
      "grid_auto_flow": null,
      "grid_auto_rows": null,
      "grid_column": null,
      "grid_gap": null,
      "grid_row": null,
      "grid_template_areas": null,
      "grid_template_columns": null,
      "grid_template_rows": null,
      "height": null,
      "justify_content": null,
      "justify_items": null,
      "left": null,
      "margin": null,
      "max_height": null,
      "max_width": null,
      "min_height": null,
      "min_width": null,
      "object_fit": null,
      "object_position": null,
      "order": null,
      "overflow": null,
      "overflow_x": null,
      "overflow_y": null,
      "padding": null,
      "right": null,
      "top": null,
      "visibility": null,
      "width": null
     }
    },
    "8e852c8efd0a4f56bb29bb22fb19262f": {
     "model_module": "@jupyter-widgets/controls",
     "model_module_version": "1.5.0",
     "model_name": "DescriptionStyleModel",
     "state": {
      "_model_module": "@jupyter-widgets/controls",
      "_model_module_version": "1.5.0",
      "_model_name": "DescriptionStyleModel",
      "_view_count": null,
      "_view_module": "@jupyter-widgets/base",
      "_view_module_version": "1.2.0",
      "_view_name": "StyleView",
      "description_width": ""
     }
    },
    "8f12ee74156a4afebca6e2a6358abea7": {
     "model_module": "@jupyter-widgets/controls",
     "model_module_version": "1.5.0",
     "model_name": "HBoxModel",
     "state": {
      "_dom_classes": [],
      "_model_module": "@jupyter-widgets/controls",
      "_model_module_version": "1.5.0",
      "_model_name": "HBoxModel",
      "_view_count": null,
      "_view_module": "@jupyter-widgets/controls",
      "_view_module_version": "1.5.0",
      "_view_name": "HBoxView",
      "box_style": "",
      "children": [
       "IPY_MODEL_6446fb720fff4de58cdf1ff1901f7521",
       "IPY_MODEL_6103ba60a81f49de96095e5f69897965",
       "IPY_MODEL_22813f12d9994ec3ba86e8688954aa64"
      ],
      "layout": "IPY_MODEL_24b9bf3725354724b748477dfe8ffc33"
     }
    },
    "923e0c72651f4115bf3ee12b10df0478": {
     "model_module": "@jupyter-widgets/base",
     "model_module_version": "1.2.0",
     "model_name": "LayoutModel",
     "state": {
      "_model_module": "@jupyter-widgets/base",
      "_model_module_version": "1.2.0",
      "_model_name": "LayoutModel",
      "_view_count": null,
      "_view_module": "@jupyter-widgets/base",
      "_view_module_version": "1.2.0",
      "_view_name": "LayoutView",
      "align_content": null,
      "align_items": null,
      "align_self": null,
      "border": null,
      "bottom": null,
      "display": null,
      "flex": null,
      "flex_flow": null,
      "grid_area": null,
      "grid_auto_columns": null,
      "grid_auto_flow": null,
      "grid_auto_rows": null,
      "grid_column": null,
      "grid_gap": null,
      "grid_row": null,
      "grid_template_areas": null,
      "grid_template_columns": null,
      "grid_template_rows": null,
      "height": null,
      "justify_content": null,
      "justify_items": null,
      "left": null,
      "margin": null,
      "max_height": null,
      "max_width": null,
      "min_height": null,
      "min_width": null,
      "object_fit": null,
      "object_position": null,
      "order": null,
      "overflow": null,
      "overflow_x": null,
      "overflow_y": null,
      "padding": null,
      "right": null,
      "top": null,
      "visibility": null,
      "width": null
     }
    },
    "93160c69f8304c57a85cdf9c782ac8c9": {
     "model_module": "@jupyter-widgets/controls",
     "model_module_version": "1.5.0",
     "model_name": "HTMLModel",
     "state": {
      "_dom_classes": [],
      "_model_module": "@jupyter-widgets/controls",
      "_model_module_version": "1.5.0",
      "_model_name": "HTMLModel",
      "_view_count": null,
      "_view_module": "@jupyter-widgets/controls",
      "_view_module_version": "1.5.0",
      "_view_name": "HTMLView",
      "description": "",
      "description_tooltip": null,
      "layout": "IPY_MODEL_e0946381895648a789a9a02e372cc3a1",
      "placeholder": "​",
      "style": "IPY_MODEL_9cfbbc47530440e7827a96c74fd02df0",
      "value": "CyberNative-dataset.jsonl: 100%"
     }
    },
    "932d1d9e27914c9eb3c1b78ed903feac": {
     "model_module": "@jupyter-widgets/base",
     "model_module_version": "1.2.0",
     "model_name": "LayoutModel",
     "state": {
      "_model_module": "@jupyter-widgets/base",
      "_model_module_version": "1.2.0",
      "_model_name": "LayoutModel",
      "_view_count": null,
      "_view_module": "@jupyter-widgets/base",
      "_view_module_version": "1.2.0",
      "_view_name": "LayoutView",
      "align_content": null,
      "align_items": null,
      "align_self": null,
      "border": null,
      "bottom": null,
      "display": null,
      "flex": null,
      "flex_flow": null,
      "grid_area": null,
      "grid_auto_columns": null,
      "grid_auto_flow": null,
      "grid_auto_rows": null,
      "grid_column": null,
      "grid_gap": null,
      "grid_row": null,
      "grid_template_areas": null,
      "grid_template_columns": null,
      "grid_template_rows": null,
      "height": null,
      "justify_content": null,
      "justify_items": null,
      "left": null,
      "margin": null,
      "max_height": null,
      "max_width": null,
      "min_height": null,
      "min_width": null,
      "object_fit": null,
      "object_position": null,
      "order": null,
      "overflow": null,
      "overflow_x": null,
      "overflow_y": null,
      "padding": null,
      "right": null,
      "top": null,
      "visibility": null,
      "width": null
     }
    },
    "9418f4c18f2a4d9c8c8344cce722ef17": {
     "model_module": "@jupyter-widgets/controls",
     "model_module_version": "1.5.0",
     "model_name": "HBoxModel",
     "state": {
      "_dom_classes": [],
      "_model_module": "@jupyter-widgets/controls",
      "_model_module_version": "1.5.0",
      "_model_name": "HBoxModel",
      "_view_count": null,
      "_view_module": "@jupyter-widgets/controls",
      "_view_module_version": "1.5.0",
      "_view_name": "HBoxView",
      "box_style": "",
      "children": [
       "IPY_MODEL_a7147daf5892484f9f87bf5a1a0a86f5",
       "IPY_MODEL_7ef9a4763bbc48ebbf9b50170cc2354e",
       "IPY_MODEL_32bed1769e344a0faa1c2b8b974de52a"
      ],
      "layout": "IPY_MODEL_aab7d0e5a27044e0a2f4a7c44ebf0c79"
     }
    },
    "94c9e9f624ea4974b77ced7775668f6b": {
     "model_module": "@jupyter-widgets/controls",
     "model_module_version": "1.5.0",
     "model_name": "HTMLModel",
     "state": {
      "_dom_classes": [],
      "_model_module": "@jupyter-widgets/controls",
      "_model_module_version": "1.5.0",
      "_model_name": "HTMLModel",
      "_view_count": null,
      "_view_module": "@jupyter-widgets/controls",
      "_view_module_version": "1.5.0",
      "_view_name": "HTMLView",
      "description": "",
      "description_tooltip": null,
      "layout": "IPY_MODEL_d6d5dbecc6e64c06880e39c6a88c66dc",
      "placeholder": "​",
      "style": "IPY_MODEL_3b6abbc5b1c04975abad529cc096c554",
      "value": "model-00002-of-00004.safetensors: 100%"
     }
    },
    "9507bd01c78945cea331c3127dd196f4": {
     "model_module": "@jupyter-widgets/controls",
     "model_module_version": "1.5.0",
     "model_name": "DescriptionStyleModel",
     "state": {
      "_model_module": "@jupyter-widgets/controls",
      "_model_module_version": "1.5.0",
      "_model_name": "DescriptionStyleModel",
      "_view_count": null,
      "_view_module": "@jupyter-widgets/base",
      "_view_module_version": "1.2.0",
      "_view_name": "StyleView",
      "description_width": ""
     }
    },
    "9680705e00f04d2fbe22f0d6ca22a87d": {
     "model_module": "@jupyter-widgets/base",
     "model_module_version": "1.2.0",
     "model_name": "LayoutModel",
     "state": {
      "_model_module": "@jupyter-widgets/base",
      "_model_module_version": "1.2.0",
      "_model_name": "LayoutModel",
      "_view_count": null,
      "_view_module": "@jupyter-widgets/base",
      "_view_module_version": "1.2.0",
      "_view_name": "LayoutView",
      "align_content": null,
      "align_items": null,
      "align_self": null,
      "border": null,
      "bottom": null,
      "display": null,
      "flex": null,
      "flex_flow": null,
      "grid_area": null,
      "grid_auto_columns": null,
      "grid_auto_flow": null,
      "grid_auto_rows": null,
      "grid_column": null,
      "grid_gap": null,
      "grid_row": null,
      "grid_template_areas": null,
      "grid_template_columns": null,
      "grid_template_rows": null,
      "height": null,
      "justify_content": null,
      "justify_items": null,
      "left": null,
      "margin": null,
      "max_height": null,
      "max_width": null,
      "min_height": null,
      "min_width": null,
      "object_fit": null,
      "object_position": null,
      "order": null,
      "overflow": null,
      "overflow_x": null,
      "overflow_y": null,
      "padding": null,
      "right": null,
      "top": null,
      "visibility": null,
      "width": null
     }
    },
    "97e5e9f4e1ea4321a77fc03b4038a4d2": {
     "model_module": "@jupyter-widgets/controls",
     "model_module_version": "1.5.0",
     "model_name": "HTMLModel",
     "state": {
      "_dom_classes": [],
      "_model_module": "@jupyter-widgets/controls",
      "_model_module_version": "1.5.0",
      "_model_name": "HTMLModel",
      "_view_count": null,
      "_view_module": "@jupyter-widgets/controls",
      "_view_module_version": "1.5.0",
      "_view_name": "HTMLView",
      "description": "",
      "description_tooltip": null,
      "layout": "IPY_MODEL_b09b393ac7244211a95051a6455a60e6",
      "placeholder": "​",
      "style": "IPY_MODEL_d8e4ad8c47464ca09d598510cde28214",
      "value": "Map: 100%"
     }
    },
    "98606ac3665949bab93e23ff9e96a6c7": {
     "model_module": "@jupyter-widgets/base",
     "model_module_version": "1.2.0",
     "model_name": "LayoutModel",
     "state": {
      "_model_module": "@jupyter-widgets/base",
      "_model_module_version": "1.2.0",
      "_model_name": "LayoutModel",
      "_view_count": null,
      "_view_module": "@jupyter-widgets/base",
      "_view_module_version": "1.2.0",
      "_view_name": "LayoutView",
      "align_content": null,
      "align_items": null,
      "align_self": null,
      "border": null,
      "bottom": null,
      "display": null,
      "flex": null,
      "flex_flow": null,
      "grid_area": null,
      "grid_auto_columns": null,
      "grid_auto_flow": null,
      "grid_auto_rows": null,
      "grid_column": null,
      "grid_gap": null,
      "grid_row": null,
      "grid_template_areas": null,
      "grid_template_columns": null,
      "grid_template_rows": null,
      "height": null,
      "justify_content": null,
      "justify_items": null,
      "left": null,
      "margin": null,
      "max_height": null,
      "max_width": null,
      "min_height": null,
      "min_width": null,
      "object_fit": null,
      "object_position": null,
      "order": null,
      "overflow": null,
      "overflow_x": null,
      "overflow_y": null,
      "padding": null,
      "right": null,
      "top": null,
      "visibility": null,
      "width": null
     }
    },
    "9aeba54383ec4e0f8cb223300f7931eb": {
     "model_module": "@jupyter-widgets/controls",
     "model_module_version": "1.5.0",
     "model_name": "DescriptionStyleModel",
     "state": {
      "_model_module": "@jupyter-widgets/controls",
      "_model_module_version": "1.5.0",
      "_model_name": "DescriptionStyleModel",
      "_view_count": null,
      "_view_module": "@jupyter-widgets/base",
      "_view_module_version": "1.2.0",
      "_view_name": "StyleView",
      "description_width": ""
     }
    },
    "9b26732a494e42e5b813852236ff0c3b": {
     "model_module": "@jupyter-widgets/controls",
     "model_module_version": "1.5.0",
     "model_name": "DescriptionStyleModel",
     "state": {
      "_model_module": "@jupyter-widgets/controls",
      "_model_module_version": "1.5.0",
      "_model_name": "DescriptionStyleModel",
      "_view_count": null,
      "_view_module": "@jupyter-widgets/base",
      "_view_module_version": "1.2.0",
      "_view_name": "StyleView",
      "description_width": ""
     }
    },
    "9c1918d23451413dade358ca0f2f9ee3": {
     "model_module": "@jupyter-widgets/controls",
     "model_module_version": "1.5.0",
     "model_name": "FloatProgressModel",
     "state": {
      "_dom_classes": [],
      "_model_module": "@jupyter-widgets/controls",
      "_model_module_version": "1.5.0",
      "_model_name": "FloatProgressModel",
      "_view_count": null,
      "_view_module": "@jupyter-widgets/controls",
      "_view_module_version": "1.5.0",
      "_view_name": "ProgressView",
      "bar_style": "success",
      "description": "",
      "description_tooltip": null,
      "layout": "IPY_MODEL_932d1d9e27914c9eb3c1b78ed903feac",
      "max": 1168204344,
      "min": 0,
      "orientation": "horizontal",
      "style": "IPY_MODEL_b1809ce6d1384de5861e66013f3019f5",
      "value": 1168204344
     }
    },
    "9cfbbc47530440e7827a96c74fd02df0": {
     "model_module": "@jupyter-widgets/controls",
     "model_module_version": "1.5.0",
     "model_name": "DescriptionStyleModel",
     "state": {
      "_model_module": "@jupyter-widgets/controls",
      "_model_module_version": "1.5.0",
      "_model_name": "DescriptionStyleModel",
      "_view_count": null,
      "_view_module": "@jupyter-widgets/base",
      "_view_module_version": "1.2.0",
      "_view_name": "StyleView",
      "description_width": ""
     }
    },
    "9d556f96608a4199b913127ec3625a34": {
     "model_module": "@jupyter-widgets/base",
     "model_module_version": "1.2.0",
     "model_name": "LayoutModel",
     "state": {
      "_model_module": "@jupyter-widgets/base",
      "_model_module_version": "1.2.0",
      "_model_name": "LayoutModel",
      "_view_count": null,
      "_view_module": "@jupyter-widgets/base",
      "_view_module_version": "1.2.0",
      "_view_name": "LayoutView",
      "align_content": null,
      "align_items": null,
      "align_self": null,
      "border": null,
      "bottom": null,
      "display": null,
      "flex": null,
      "flex_flow": null,
      "grid_area": null,
      "grid_auto_columns": null,
      "grid_auto_flow": null,
      "grid_auto_rows": null,
      "grid_column": null,
      "grid_gap": null,
      "grid_row": null,
      "grid_template_areas": null,
      "grid_template_columns": null,
      "grid_template_rows": null,
      "height": null,
      "justify_content": null,
      "justify_items": null,
      "left": null,
      "margin": null,
      "max_height": null,
      "max_width": null,
      "min_height": null,
      "min_width": null,
      "object_fit": null,
      "object_position": null,
      "order": null,
      "overflow": null,
      "overflow_x": null,
      "overflow_y": null,
      "padding": null,
      "right": null,
      "top": null,
      "visibility": null,
      "width": null
     }
    },
    "a2176306cf404e67b1c0c65fe56619c1": {
     "model_module": "@jupyter-widgets/controls",
     "model_module_version": "1.5.0",
     "model_name": "HBoxModel",
     "state": {
      "_dom_classes": [],
      "_model_module": "@jupyter-widgets/controls",
      "_model_module_version": "1.5.0",
      "_model_name": "HBoxModel",
      "_view_count": null,
      "_view_module": "@jupyter-widgets/controls",
      "_view_module_version": "1.5.0",
      "_view_name": "HBoxView",
      "box_style": "",
      "children": [
       "IPY_MODEL_aa093f32cbfe48ad9b56e7d623d0dcda",
       "IPY_MODEL_cebc8b1ad82242988bbc5c956109c39f",
       "IPY_MODEL_301c41803eb241188e851b1c50f9852f"
      ],
      "layout": "IPY_MODEL_6e96b8f1b52e436cba8dd30878483f44"
     }
    },
    "a315d3ea63b5406fb59e5b2b89338657": {
     "model_module": "@jupyter-widgets/controls",
     "model_module_version": "1.5.0",
     "model_name": "HTMLModel",
     "state": {
      "_dom_classes": [],
      "_model_module": "@jupyter-widgets/controls",
      "_model_module_version": "1.5.0",
      "_model_name": "HTMLModel",
      "_view_count": null,
      "_view_module": "@jupyter-widgets/controls",
      "_view_module_version": "1.5.0",
      "_view_name": "HTMLView",
      "description": "",
      "description_tooltip": null,
      "layout": "IPY_MODEL_18d17e4b90184c68a483265cac3efddb",
      "placeholder": "​",
      "style": "IPY_MODEL_ee605d08dbb3412a87091c87fe7628ab",
      "value": " 5.00G/5.00G [01:58&lt;00:00, 42.2MB/s]"
     }
    },
    "a3a848b8c61e45f5828a4de5795fa437": {
     "model_module": "@jupyter-widgets/controls",
     "model_module_version": "1.5.0",
     "model_name": "FloatProgressModel",
     "state": {
      "_dom_classes": [],
      "_model_module": "@jupyter-widgets/controls",
      "_model_module_version": "1.5.0",
      "_model_name": "FloatProgressModel",
      "_view_count": null,
      "_view_module": "@jupyter-widgets/controls",
      "_view_module_version": "1.5.0",
      "_view_name": "ProgressView",
      "bar_style": "success",
      "description": "",
      "description_tooltip": null,
      "layout": "IPY_MODEL_98606ac3665949bab93e23ff9e96a6c7",
      "max": 4976764208,
      "min": 0,
      "orientation": "horizontal",
      "style": "IPY_MODEL_1940fd13f5094580a75f5349abd43315",
      "value": 4976764208
     }
    },
    "a3ae43b47d5c42309d22becda96bb571": {
     "model_module": "@jupyter-widgets/controls",
     "model_module_version": "1.5.0",
     "model_name": "HTMLModel",
     "state": {
      "_dom_classes": [],
      "_model_module": "@jupyter-widgets/controls",
      "_model_module_version": "1.5.0",
      "_model_name": "HTMLModel",
      "_view_count": null,
      "_view_module": "@jupyter-widgets/controls",
      "_view_module_version": "1.5.0",
      "_view_name": "HTMLView",
      "description": "",
      "description_tooltip": null,
      "layout": "IPY_MODEL_0bc437441818496cb9c4b58c71a30404",
      "placeholder": "​",
      "style": "IPY_MODEL_8b706338a7674057ab61ff2f8cea0dfe",
      "value": " 4656/4656 [00:00&lt;00:00, 13599.65 examples/s]"
     }
    },
    "a4f0e4d471184ccc951671941918bcbc": {
     "model_module": "@jupyter-widgets/base",
     "model_module_version": "1.2.0",
     "model_name": "LayoutModel",
     "state": {
      "_model_module": "@jupyter-widgets/base",
      "_model_module_version": "1.2.0",
      "_model_name": "LayoutModel",
      "_view_count": null,
      "_view_module": "@jupyter-widgets/base",
      "_view_module_version": "1.2.0",
      "_view_name": "LayoutView",
      "align_content": null,
      "align_items": null,
      "align_self": null,
      "border": null,
      "bottom": null,
      "display": null,
      "flex": null,
      "flex_flow": null,
      "grid_area": null,
      "grid_auto_columns": null,
      "grid_auto_flow": null,
      "grid_auto_rows": null,
      "grid_column": null,
      "grid_gap": null,
      "grid_row": null,
      "grid_template_areas": null,
      "grid_template_columns": null,
      "grid_template_rows": null,
      "height": null,
      "justify_content": null,
      "justify_items": null,
      "left": null,
      "margin": null,
      "max_height": null,
      "max_width": null,
      "min_height": null,
      "min_width": null,
      "object_fit": null,
      "object_position": null,
      "order": null,
      "overflow": null,
      "overflow_x": null,
      "overflow_y": null,
      "padding": null,
      "right": null,
      "top": null,
      "visibility": null,
      "width": null
     }
    },
    "a655a455865749c5bb2a69b0b057709c": {
     "model_module": "@jupyter-widgets/controls",
     "model_module_version": "1.5.0",
     "model_name": "ProgressStyleModel",
     "state": {
      "_model_module": "@jupyter-widgets/controls",
      "_model_module_version": "1.5.0",
      "_model_name": "ProgressStyleModel",
      "_view_count": null,
      "_view_module": "@jupyter-widgets/base",
      "_view_module_version": "1.2.0",
      "_view_name": "StyleView",
      "bar_color": null,
      "description_width": ""
     }
    },
    "a7147daf5892484f9f87bf5a1a0a86f5": {
     "model_module": "@jupyter-widgets/controls",
     "model_module_version": "1.5.0",
     "model_name": "HTMLModel",
     "state": {
      "_dom_classes": [],
      "_model_module": "@jupyter-widgets/controls",
      "_model_module_version": "1.5.0",
      "_model_name": "HTMLModel",
      "_view_count": null,
      "_view_module": "@jupyter-widgets/controls",
      "_view_module_version": "1.5.0",
      "_view_name": "HTMLView",
      "description": "",
      "description_tooltip": null,
      "layout": "IPY_MODEL_3e5dbed3f42e44d4bfc0e8837bb101c8",
      "placeholder": "​",
      "style": "IPY_MODEL_fc492d02f3b7475f8ca572ac881840db",
      "value": "Loading checkpoint shards: 100%"
     }
    },
    "a7a98fa7babf4f7b80107e945334d45a": {
     "model_module": "@jupyter-widgets/base",
     "model_module_version": "1.2.0",
     "model_name": "LayoutModel",
     "state": {
      "_model_module": "@jupyter-widgets/base",
      "_model_module_version": "1.2.0",
      "_model_name": "LayoutModel",
      "_view_count": null,
      "_view_module": "@jupyter-widgets/base",
      "_view_module_version": "1.2.0",
      "_view_name": "LayoutView",
      "align_content": null,
      "align_items": null,
      "align_self": null,
      "border": null,
      "bottom": null,
      "display": null,
      "flex": null,
      "flex_flow": null,
      "grid_area": null,
      "grid_auto_columns": null,
      "grid_auto_flow": null,
      "grid_auto_rows": null,
      "grid_column": null,
      "grid_gap": null,
      "grid_row": null,
      "grid_template_areas": null,
      "grid_template_columns": null,
      "grid_template_rows": null,
      "height": null,
      "justify_content": null,
      "justify_items": null,
      "left": null,
      "margin": null,
      "max_height": null,
      "max_width": null,
      "min_height": null,
      "min_width": null,
      "object_fit": null,
      "object_position": null,
      "order": null,
      "overflow": null,
      "overflow_x": null,
      "overflow_y": null,
      "padding": null,
      "right": null,
      "top": null,
      "visibility": null,
      "width": null
     }
    },
    "a94649cd228746fbbc2c4054d2d9f978": {
     "model_module": "@jupyter-widgets/controls",
     "model_module_version": "1.5.0",
     "model_name": "DescriptionStyleModel",
     "state": {
      "_model_module": "@jupyter-widgets/controls",
      "_model_module_version": "1.5.0",
      "_model_name": "DescriptionStyleModel",
      "_view_count": null,
      "_view_module": "@jupyter-widgets/base",
      "_view_module_version": "1.2.0",
      "_view_name": "StyleView",
      "description_width": ""
     }
    },
    "aa093f32cbfe48ad9b56e7d623d0dcda": {
     "model_module": "@jupyter-widgets/controls",
     "model_module_version": "1.5.0",
     "model_name": "HTMLModel",
     "state": {
      "_dom_classes": [],
      "_model_module": "@jupyter-widgets/controls",
      "_model_module_version": "1.5.0",
      "_model_name": "HTMLModel",
      "_view_count": null,
      "_view_module": "@jupyter-widgets/controls",
      "_view_module_version": "1.5.0",
      "_view_name": "HTMLView",
      "description": "",
      "description_tooltip": null,
      "layout": "IPY_MODEL_fc4880f22014439ebe7f1e11436de4cb",
      "placeholder": "​",
      "style": "IPY_MODEL_14d4a764fb8a4245aa7197a4a2fb9594",
      "value": "Filter: 100%"
     }
    },
    "aab7d0e5a27044e0a2f4a7c44ebf0c79": {
     "model_module": "@jupyter-widgets/base",
     "model_module_version": "1.2.0",
     "model_name": "LayoutModel",
     "state": {
      "_model_module": "@jupyter-widgets/base",
      "_model_module_version": "1.2.0",
      "_model_name": "LayoutModel",
      "_view_count": null,
      "_view_module": "@jupyter-widgets/base",
      "_view_module_version": "1.2.0",
      "_view_name": "LayoutView",
      "align_content": null,
      "align_items": null,
      "align_self": null,
      "border": null,
      "bottom": null,
      "display": null,
      "flex": null,
      "flex_flow": null,
      "grid_area": null,
      "grid_auto_columns": null,
      "grid_auto_flow": null,
      "grid_auto_rows": null,
      "grid_column": null,
      "grid_gap": null,
      "grid_row": null,
      "grid_template_areas": null,
      "grid_template_columns": null,
      "grid_template_rows": null,
      "height": null,
      "justify_content": null,
      "justify_items": null,
      "left": null,
      "margin": null,
      "max_height": null,
      "max_width": null,
      "min_height": null,
      "min_width": null,
      "object_fit": null,
      "object_position": null,
      "order": null,
      "overflow": null,
      "overflow_x": null,
      "overflow_y": null,
      "padding": null,
      "right": null,
      "top": null,
      "visibility": null,
      "width": null
     }
    },
    "ac2942b948e740dab1b7f6f8191766dd": {
     "model_module": "@jupyter-widgets/controls",
     "model_module_version": "1.5.0",
     "model_name": "HBoxModel",
     "state": {
      "_dom_classes": [],
      "_model_module": "@jupyter-widgets/controls",
      "_model_module_version": "1.5.0",
      "_model_name": "HBoxModel",
      "_view_count": null,
      "_view_module": "@jupyter-widgets/controls",
      "_view_module_version": "1.5.0",
      "_view_name": "HBoxView",
      "box_style": "",
      "children": [
       "IPY_MODEL_01f33683ee19428db2b7510d0ba4fefb",
       "IPY_MODEL_0cefd1dadc894518bcffdf7631b42c80",
       "IPY_MODEL_3036ed9039944acd8cfb12b5dd2f4f0e"
      ],
      "layout": "IPY_MODEL_bcc963caa3ac4e9ea3423c9006480fc5"
     }
    },
    "b084297744aa489c8d6f4949a3253c9f": {
     "model_module": "@jupyter-widgets/base",
     "model_module_version": "1.2.0",
     "model_name": "LayoutModel",
     "state": {
      "_model_module": "@jupyter-widgets/base",
      "_model_module_version": "1.2.0",
      "_model_name": "LayoutModel",
      "_view_count": null,
      "_view_module": "@jupyter-widgets/base",
      "_view_module_version": "1.2.0",
      "_view_name": "LayoutView",
      "align_content": null,
      "align_items": null,
      "align_self": null,
      "border": null,
      "bottom": null,
      "display": null,
      "flex": null,
      "flex_flow": null,
      "grid_area": null,
      "grid_auto_columns": null,
      "grid_auto_flow": null,
      "grid_auto_rows": null,
      "grid_column": null,
      "grid_gap": null,
      "grid_row": null,
      "grid_template_areas": null,
      "grid_template_columns": null,
      "grid_template_rows": null,
      "height": null,
      "justify_content": null,
      "justify_items": null,
      "left": null,
      "margin": null,
      "max_height": null,
      "max_width": null,
      "min_height": null,
      "min_width": null,
      "object_fit": null,
      "object_position": null,
      "order": null,
      "overflow": null,
      "overflow_x": null,
      "overflow_y": null,
      "padding": null,
      "right": null,
      "top": null,
      "visibility": null,
      "width": null
     }
    },
    "b08aa5cdc7a04581821a8b2c8efbb07c": {
     "model_module": "@jupyter-widgets/controls",
     "model_module_version": "1.5.0",
     "model_name": "HBoxModel",
     "state": {
      "_dom_classes": [],
      "_model_module": "@jupyter-widgets/controls",
      "_model_module_version": "1.5.0",
      "_model_name": "HBoxModel",
      "_view_count": null,
      "_view_module": "@jupyter-widgets/controls",
      "_view_module_version": "1.5.0",
      "_view_name": "HBoxView",
      "box_style": "",
      "children": [
       "IPY_MODEL_3308c109987347cbbca6f2b66bb4dd2b",
       "IPY_MODEL_162447921dfb44e88c586ebdcad50d4a",
       "IPY_MODEL_e4361b8dd7e147feb5897cce67a955b0"
      ],
      "layout": "IPY_MODEL_3b74e2553fed4269ae3ded2984fe38cd"
     }
    },
    "b09b393ac7244211a95051a6455a60e6": {
     "model_module": "@jupyter-widgets/base",
     "model_module_version": "1.2.0",
     "model_name": "LayoutModel",
     "state": {
      "_model_module": "@jupyter-widgets/base",
      "_model_module_version": "1.2.0",
      "_model_name": "LayoutModel",
      "_view_count": null,
      "_view_module": "@jupyter-widgets/base",
      "_view_module_version": "1.2.0",
      "_view_name": "LayoutView",
      "align_content": null,
      "align_items": null,
      "align_self": null,
      "border": null,
      "bottom": null,
      "display": null,
      "flex": null,
      "flex_flow": null,
      "grid_area": null,
      "grid_auto_columns": null,
      "grid_auto_flow": null,
      "grid_auto_rows": null,
      "grid_column": null,
      "grid_gap": null,
      "grid_row": null,
      "grid_template_areas": null,
      "grid_template_columns": null,
      "grid_template_rows": null,
      "height": null,
      "justify_content": null,
      "justify_items": null,
      "left": null,
      "margin": null,
      "max_height": null,
      "max_width": null,
      "min_height": null,
      "min_width": null,
      "object_fit": null,
      "object_position": null,
      "order": null,
      "overflow": null,
      "overflow_x": null,
      "overflow_y": null,
      "padding": null,
      "right": null,
      "top": null,
      "visibility": null,
      "width": null
     }
    },
    "b1809ce6d1384de5861e66013f3019f5": {
     "model_module": "@jupyter-widgets/controls",
     "model_module_version": "1.5.0",
     "model_name": "ProgressStyleModel",
     "state": {
      "_model_module": "@jupyter-widgets/controls",
      "_model_module_version": "1.5.0",
      "_model_name": "ProgressStyleModel",
      "_view_count": null,
      "_view_module": "@jupyter-widgets/base",
      "_view_module_version": "1.2.0",
      "_view_name": "StyleView",
      "bar_color": null,
      "description_width": ""
     }
    },
    "b267f6893bbd44cf95a72e72faf6489a": {
     "model_module": "@jupyter-widgets/base",
     "model_module_version": "1.2.0",
     "model_name": "LayoutModel",
     "state": {
      "_model_module": "@jupyter-widgets/base",
      "_model_module_version": "1.2.0",
      "_model_name": "LayoutModel",
      "_view_count": null,
      "_view_module": "@jupyter-widgets/base",
      "_view_module_version": "1.2.0",
      "_view_name": "LayoutView",
      "align_content": null,
      "align_items": null,
      "align_self": null,
      "border": null,
      "bottom": null,
      "display": null,
      "flex": null,
      "flex_flow": null,
      "grid_area": null,
      "grid_auto_columns": null,
      "grid_auto_flow": null,
      "grid_auto_rows": null,
      "grid_column": null,
      "grid_gap": null,
      "grid_row": null,
      "grid_template_areas": null,
      "grid_template_columns": null,
      "grid_template_rows": null,
      "height": null,
      "justify_content": null,
      "justify_items": null,
      "left": null,
      "margin": null,
      "max_height": null,
      "max_width": null,
      "min_height": null,
      "min_width": null,
      "object_fit": null,
      "object_position": null,
      "order": null,
      "overflow": null,
      "overflow_x": null,
      "overflow_y": null,
      "padding": null,
      "right": null,
      "top": null,
      "visibility": null,
      "width": null
     }
    },
    "b32e2968061a4324ab6a2e54452085f2": {
     "model_module": "@jupyter-widgets/base",
     "model_module_version": "1.2.0",
     "model_name": "LayoutModel",
     "state": {
      "_model_module": "@jupyter-widgets/base",
      "_model_module_version": "1.2.0",
      "_model_name": "LayoutModel",
      "_view_count": null,
      "_view_module": "@jupyter-widgets/base",
      "_view_module_version": "1.2.0",
      "_view_name": "LayoutView",
      "align_content": null,
      "align_items": null,
      "align_self": null,
      "border": null,
      "bottom": null,
      "display": null,
      "flex": null,
      "flex_flow": null,
      "grid_area": null,
      "grid_auto_columns": null,
      "grid_auto_flow": null,
      "grid_auto_rows": null,
      "grid_column": null,
      "grid_gap": null,
      "grid_row": null,
      "grid_template_areas": null,
      "grid_template_columns": null,
      "grid_template_rows": null,
      "height": null,
      "justify_content": null,
      "justify_items": null,
      "left": null,
      "margin": null,
      "max_height": null,
      "max_width": null,
      "min_height": null,
      "min_width": null,
      "object_fit": null,
      "object_position": null,
      "order": null,
      "overflow": null,
      "overflow_x": null,
      "overflow_y": null,
      "padding": null,
      "right": null,
      "top": null,
      "visibility": null,
      "width": null
     }
    },
    "b3d4cd09e38a4682be0dfc867de2e181": {
     "model_module": "@jupyter-widgets/controls",
     "model_module_version": "1.5.0",
     "model_name": "ProgressStyleModel",
     "state": {
      "_model_module": "@jupyter-widgets/controls",
      "_model_module_version": "1.5.0",
      "_model_name": "ProgressStyleModel",
      "_view_count": null,
      "_view_module": "@jupyter-widgets/base",
      "_view_module_version": "1.2.0",
      "_view_name": "StyleView",
      "bar_color": null,
      "description_width": ""
     }
    },
    "b4bd0001ee3b4bb3ba18c98cf718ee2b": {
     "model_module": "@jupyter-widgets/controls",
     "model_module_version": "1.5.0",
     "model_name": "ProgressStyleModel",
     "state": {
      "_model_module": "@jupyter-widgets/controls",
      "_model_module_version": "1.5.0",
      "_model_name": "ProgressStyleModel",
      "_view_count": null,
      "_view_module": "@jupyter-widgets/base",
      "_view_module_version": "1.2.0",
      "_view_name": "StyleView",
      "bar_color": null,
      "description_width": ""
     }
    },
    "b54625a413ef469da2b65f6b01bfc021": {
     "model_module": "@jupyter-widgets/controls",
     "model_module_version": "1.5.0",
     "model_name": "FloatProgressModel",
     "state": {
      "_dom_classes": [],
      "_model_module": "@jupyter-widgets/controls",
      "_model_module_version": "1.5.0",
      "_model_name": "FloatProgressModel",
      "_view_count": null,
      "_view_module": "@jupyter-widgets/controls",
      "_view_module_version": "1.5.0",
      "_view_name": "ProgressView",
      "bar_style": "success",
      "description": "",
      "description_tooltip": null,
      "layout": "IPY_MODEL_75318631574245d3a7cd0985c93c5235",
      "max": 51220,
      "min": 0,
      "orientation": "horizontal",
      "style": "IPY_MODEL_a655a455865749c5bb2a69b0b057709c",
      "value": 51220
     }
    },
    "b675df4ec3ad40e29f04645d843f3553": {
     "model_module": "@jupyter-widgets/base",
     "model_module_version": "1.2.0",
     "model_name": "LayoutModel",
     "state": {
      "_model_module": "@jupyter-widgets/base",
      "_model_module_version": "1.2.0",
      "_model_name": "LayoutModel",
      "_view_count": null,
      "_view_module": "@jupyter-widgets/base",
      "_view_module_version": "1.2.0",
      "_view_name": "LayoutView",
      "align_content": null,
      "align_items": null,
      "align_self": null,
      "border": null,
      "bottom": null,
      "display": null,
      "flex": null,
      "flex_flow": null,
      "grid_area": null,
      "grid_auto_columns": null,
      "grid_auto_flow": null,
      "grid_auto_rows": null,
      "grid_column": null,
      "grid_gap": null,
      "grid_row": null,
      "grid_template_areas": null,
      "grid_template_columns": null,
      "grid_template_rows": null,
      "height": null,
      "justify_content": null,
      "justify_items": null,
      "left": null,
      "margin": null,
      "max_height": null,
      "max_width": null,
      "min_height": null,
      "min_width": null,
      "object_fit": null,
      "object_position": null,
      "order": null,
      "overflow": null,
      "overflow_x": null,
      "overflow_y": null,
      "padding": null,
      "right": null,
      "top": null,
      "visibility": null,
      "width": null
     }
    },
    "b7cacba95a52478ba175432cb92a33b1": {
     "model_module": "@jupyter-widgets/base",
     "model_module_version": "1.2.0",
     "model_name": "LayoutModel",
     "state": {
      "_model_module": "@jupyter-widgets/base",
      "_model_module_version": "1.2.0",
      "_model_name": "LayoutModel",
      "_view_count": null,
      "_view_module": "@jupyter-widgets/base",
      "_view_module_version": "1.2.0",
      "_view_name": "LayoutView",
      "align_content": null,
      "align_items": null,
      "align_self": null,
      "border": null,
      "bottom": null,
      "display": null,
      "flex": null,
      "flex_flow": null,
      "grid_area": null,
      "grid_auto_columns": null,
      "grid_auto_flow": null,
      "grid_auto_rows": null,
      "grid_column": null,
      "grid_gap": null,
      "grid_row": null,
      "grid_template_areas": null,
      "grid_template_columns": null,
      "grid_template_rows": null,
      "height": null,
      "justify_content": null,
      "justify_items": null,
      "left": null,
      "margin": null,
      "max_height": null,
      "max_width": null,
      "min_height": null,
      "min_width": null,
      "object_fit": null,
      "object_position": null,
      "order": null,
      "overflow": null,
      "overflow_x": null,
      "overflow_y": null,
      "padding": null,
      "right": null,
      "top": null,
      "visibility": null,
      "width": null
     }
    },
    "bababf12983b4147a1e0c2ccdeaac141": {
     "model_module": "@jupyter-widgets/controls",
     "model_module_version": "1.5.0",
     "model_name": "HTMLModel",
     "state": {
      "_dom_classes": [],
      "_model_module": "@jupyter-widgets/controls",
      "_model_module_version": "1.5.0",
      "_model_name": "HTMLModel",
      "_view_count": null,
      "_view_module": "@jupyter-widgets/controls",
      "_view_module_version": "1.5.0",
      "_view_name": "HTMLView",
      "description": "",
      "description_tooltip": null,
      "layout": "IPY_MODEL_722d70c818c446878ee793a132431a28",
      "placeholder": "​",
      "style": "IPY_MODEL_1bdefc44e2a34e72b0dd2f829fc04912",
      "value": " 4/4 [06:24&lt;00:00, 82.84s/it]"
     }
    },
    "bb10c066de054205b840923d95db6f5e": {
     "model_module": "@jupyter-widgets/controls",
     "model_module_version": "1.5.0",
     "model_name": "HTMLModel",
     "state": {
      "_dom_classes": [],
      "_model_module": "@jupyter-widgets/controls",
      "_model_module_version": "1.5.0",
      "_model_name": "HTMLModel",
      "_view_count": null,
      "_view_module": "@jupyter-widgets/controls",
      "_view_module_version": "1.5.0",
      "_view_name": "HTMLView",
      "description": "",
      "description_tooltip": null,
      "layout": "IPY_MODEL_5a1729b7acb9414a90185a430450a5db",
      "placeholder": "​",
      "style": "IPY_MODEL_89115cebb69544bd8808ceaace826686",
      "value": " 1247/1247 [00:00&lt;00:00, 4268.24 examples/s]"
     }
    },
    "bb778516de414d41a762244d9ae3f605": {
     "model_module": "@jupyter-widgets/controls",
     "model_module_version": "1.5.0",
     "model_name": "HTMLModel",
     "state": {
      "_dom_classes": [],
      "_model_module": "@jupyter-widgets/controls",
      "_model_module_version": "1.5.0",
      "_model_name": "HTMLModel",
      "_view_count": null,
      "_view_module": "@jupyter-widgets/controls",
      "_view_module_version": "1.5.0",
      "_view_name": "HTMLView",
      "description": "",
      "description_tooltip": null,
      "layout": "IPY_MODEL_4479f6b43fdc4a20bdb801b7c1822c16",
      "placeholder": "​",
      "style": "IPY_MODEL_cfeb396412744761af413db2625f76a7",
      "value": " 180/180 [00:00&lt;00:00, 13.5kB/s]"
     }
    },
    "bc793e84a67e4171ae643d980fb3a4a8": {
     "model_module": "@jupyter-widgets/controls",
     "model_module_version": "1.5.0",
     "model_name": "HBoxModel",
     "state": {
      "_dom_classes": [],
      "_model_module": "@jupyter-widgets/controls",
      "_model_module_version": "1.5.0",
      "_model_name": "HBoxModel",
      "_view_count": null,
      "_view_module": "@jupyter-widgets/controls",
      "_view_module_version": "1.5.0",
      "_view_name": "HBoxView",
      "box_style": "",
      "children": [
       "IPY_MODEL_94c9e9f624ea4974b77ced7775668f6b",
       "IPY_MODEL_f5596dbd847149bc8fd11664e9c7cce8",
       "IPY_MODEL_a315d3ea63b5406fb59e5b2b89338657"
      ],
      "layout": "IPY_MODEL_f68f4bae209e40b79586121eedcfea7b"
     }
    },
    "bcc963caa3ac4e9ea3423c9006480fc5": {
     "model_module": "@jupyter-widgets/base",
     "model_module_version": "1.2.0",
     "model_name": "LayoutModel",
     "state": {
      "_model_module": "@jupyter-widgets/base",
      "_model_module_version": "1.2.0",
      "_model_name": "LayoutModel",
      "_view_count": null,
      "_view_module": "@jupyter-widgets/base",
      "_view_module_version": "1.2.0",
      "_view_name": "LayoutView",
      "align_content": null,
      "align_items": null,
      "align_self": null,
      "border": null,
      "bottom": null,
      "display": null,
      "flex": null,
      "flex_flow": null,
      "grid_area": null,
      "grid_auto_columns": null,
      "grid_auto_flow": null,
      "grid_auto_rows": null,
      "grid_column": null,
      "grid_gap": null,
      "grid_row": null,
      "grid_template_areas": null,
      "grid_template_columns": null,
      "grid_template_rows": null,
      "height": null,
      "justify_content": null,
      "justify_items": null,
      "left": null,
      "margin": null,
      "max_height": null,
      "max_width": null,
      "min_height": null,
      "min_width": null,
      "object_fit": null,
      "object_position": null,
      "order": null,
      "overflow": null,
      "overflow_x": null,
      "overflow_y": null,
      "padding": null,
      "right": null,
      "top": null,
      "visibility": null,
      "width": null
     }
    },
    "bf58d5324cd74bf6827b33ad6f1babd9": {
     "model_module": "@jupyter-widgets/controls",
     "model_module_version": "1.5.0",
     "model_name": "DescriptionStyleModel",
     "state": {
      "_model_module": "@jupyter-widgets/controls",
      "_model_module_version": "1.5.0",
      "_model_name": "DescriptionStyleModel",
      "_view_count": null,
      "_view_module": "@jupyter-widgets/base",
      "_view_module_version": "1.2.0",
      "_view_name": "StyleView",
      "description_width": ""
     }
    },
    "bf6879a67749413faa8f5dd206703b75": {
     "model_module": "@jupyter-widgets/controls",
     "model_module_version": "1.5.0",
     "model_name": "HTMLModel",
     "state": {
      "_dom_classes": [],
      "_model_module": "@jupyter-widgets/controls",
      "_model_module_version": "1.5.0",
      "_model_name": "HTMLModel",
      "_view_count": null,
      "_view_module": "@jupyter-widgets/controls",
      "_view_module_version": "1.5.0",
      "_view_name": "HTMLView",
      "description": "",
      "description_tooltip": null,
      "layout": "IPY_MODEL_36b630b562684b7cad03b21cdb5f002d",
      "placeholder": "​",
      "style": "IPY_MODEL_52aae2542362430f835d3344b004ea93",
      "value": "generation_config.json: 100%"
     }
    },
    "c0747b2ffec74bee9e319604a6e0dc0d": {
     "model_module": "@jupyter-widgets/base",
     "model_module_version": "1.2.0",
     "model_name": "LayoutModel",
     "state": {
      "_model_module": "@jupyter-widgets/base",
      "_model_module_version": "1.2.0",
      "_model_name": "LayoutModel",
      "_view_count": null,
      "_view_module": "@jupyter-widgets/base",
      "_view_module_version": "1.2.0",
      "_view_name": "LayoutView",
      "align_content": null,
      "align_items": null,
      "align_self": null,
      "border": null,
      "bottom": null,
      "display": null,
      "flex": null,
      "flex_flow": null,
      "grid_area": null,
      "grid_auto_columns": null,
      "grid_auto_flow": null,
      "grid_auto_rows": null,
      "grid_column": null,
      "grid_gap": null,
      "grid_row": null,
      "grid_template_areas": null,
      "grid_template_columns": null,
      "grid_template_rows": null,
      "height": null,
      "justify_content": null,
      "justify_items": null,
      "left": null,
      "margin": null,
      "max_height": null,
      "max_width": null,
      "min_height": null,
      "min_width": null,
      "object_fit": null,
      "object_position": null,
      "order": null,
      "overflow": null,
      "overflow_x": null,
      "overflow_y": null,
      "padding": null,
      "right": null,
      "top": null,
      "visibility": null,
      "width": null
     }
    },
    "c0dc623b272a4513a6cd5b35ed2db729": {
     "model_module": "@jupyter-widgets/controls",
     "model_module_version": "1.5.0",
     "model_name": "HTMLModel",
     "state": {
      "_dom_classes": [],
      "_model_module": "@jupyter-widgets/controls",
      "_model_module_version": "1.5.0",
      "_model_name": "HTMLModel",
      "_view_count": null,
      "_view_module": "@jupyter-widgets/controls",
      "_view_module_version": "1.5.0",
      "_view_name": "HTMLView",
      "description": "",
      "description_tooltip": null,
      "layout": "IPY_MODEL_1a6232ca8435401ca3a0d2d7d54ce855",
      "placeholder": "​",
      "style": "IPY_MODEL_05aeb1d49b944ec6b87c8a6fc4cf110f",
      "value": " 4.98G/4.98G [01:59&lt;00:00, 42.5MB/s]"
     }
    },
    "c112842c95e84a509672e97408537826": {
     "model_module": "@jupyter-widgets/controls",
     "model_module_version": "1.5.0",
     "model_name": "ProgressStyleModel",
     "state": {
      "_model_module": "@jupyter-widgets/controls",
      "_model_module_version": "1.5.0",
      "_model_name": "ProgressStyleModel",
      "_view_count": null,
      "_view_module": "@jupyter-widgets/base",
      "_view_module_version": "1.2.0",
      "_view_name": "StyleView",
      "bar_color": null,
      "description_width": ""
     }
    },
    "c20c4516551b4d12964fc74d0a11d040": {
     "model_module": "@jupyter-widgets/controls",
     "model_module_version": "1.5.0",
     "model_name": "HTMLModel",
     "state": {
      "_dom_classes": [],
      "_model_module": "@jupyter-widgets/controls",
      "_model_module_version": "1.5.0",
      "_model_name": "HTMLModel",
      "_view_count": null,
      "_view_module": "@jupyter-widgets/controls",
      "_view_module_version": "1.5.0",
      "_view_name": "HTMLView",
      "description": "",
      "description_tooltip": null,
      "layout": "IPY_MODEL_e71c293113e14f69a9eb84d9fee97a66",
      "placeholder": "​",
      "style": "IPY_MODEL_56307840d0d24e1bb8b33ce96f995ace",
      "value": "tokenizer.json: 100%"
     }
    },
    "c30de2c1c8914ca2a5821b5ba17b16c0": {
     "model_module": "@jupyter-widgets/controls",
     "model_module_version": "1.5.0",
     "model_name": "HBoxModel",
     "state": {
      "_dom_classes": [],
      "_model_module": "@jupyter-widgets/controls",
      "_model_module_version": "1.5.0",
      "_model_name": "HBoxModel",
      "_view_count": null,
      "_view_module": "@jupyter-widgets/controls",
      "_view_module_version": "1.5.0",
      "_view_name": "HBoxView",
      "box_style": "",
      "children": [
       "IPY_MODEL_bf6879a67749413faa8f5dd206703b75",
       "IPY_MODEL_3e3dd42d718f4125acde384acc437770",
       "IPY_MODEL_bb778516de414d41a762244d9ae3f605"
      ],
      "layout": "IPY_MODEL_b32e2968061a4324ab6a2e54452085f2"
     }
    },
    "c3170dc7f0f14649adfd2b8e43f3494a": {
     "model_module": "@jupyter-widgets/controls",
     "model_module_version": "1.5.0",
     "model_name": "ProgressStyleModel",
     "state": {
      "_model_module": "@jupyter-widgets/controls",
      "_model_module_version": "1.5.0",
      "_model_name": "ProgressStyleModel",
      "_view_count": null,
      "_view_module": "@jupyter-widgets/base",
      "_view_module_version": "1.2.0",
      "_view_name": "StyleView",
      "bar_color": null,
      "description_width": ""
     }
    },
    "c3f8b39746474c0f872f28da894f7f6e": {
     "model_module": "@jupyter-widgets/base",
     "model_module_version": "1.2.0",
     "model_name": "LayoutModel",
     "state": {
      "_model_module": "@jupyter-widgets/base",
      "_model_module_version": "1.2.0",
      "_model_name": "LayoutModel",
      "_view_count": null,
      "_view_module": "@jupyter-widgets/base",
      "_view_module_version": "1.2.0",
      "_view_name": "LayoutView",
      "align_content": null,
      "align_items": null,
      "align_self": null,
      "border": null,
      "bottom": null,
      "display": null,
      "flex": null,
      "flex_flow": null,
      "grid_area": null,
      "grid_auto_columns": null,
      "grid_auto_flow": null,
      "grid_auto_rows": null,
      "grid_column": null,
      "grid_gap": null,
      "grid_row": null,
      "grid_template_areas": null,
      "grid_template_columns": null,
      "grid_template_rows": null,
      "height": null,
      "justify_content": null,
      "justify_items": null,
      "left": null,
      "margin": null,
      "max_height": null,
      "max_width": null,
      "min_height": null,
      "min_width": null,
      "object_fit": null,
      "object_position": null,
      "order": null,
      "overflow": null,
      "overflow_x": null,
      "overflow_y": null,
      "padding": null,
      "right": null,
      "top": null,
      "visibility": null,
      "width": null
     }
    },
    "c673c28a30244df8ad6b3799a89aed55": {
     "model_module": "@jupyter-widgets/controls",
     "model_module_version": "1.5.0",
     "model_name": "HTMLModel",
     "state": {
      "_dom_classes": [],
      "_model_module": "@jupyter-widgets/controls",
      "_model_module_version": "1.5.0",
      "_model_name": "HTMLModel",
      "_view_count": null,
      "_view_module": "@jupyter-widgets/controls",
      "_view_module_version": "1.5.0",
      "_view_name": "HTMLView",
      "description": "",
      "description_tooltip": null,
      "layout": "IPY_MODEL_408eb24814d649cabd034d76ff7bdd99",
      "placeholder": "​",
      "style": "IPY_MODEL_5e953657bc8746cbad61331d827432bc",
      "value": "Filter: 100%"
     }
    },
    "c76a08d0b4224bff8a2fadf483f12910": {
     "model_module": "@jupyter-widgets/controls",
     "model_module_version": "1.5.0",
     "model_name": "HBoxModel",
     "state": {
      "_dom_classes": [],
      "_model_module": "@jupyter-widgets/controls",
      "_model_module_version": "1.5.0",
      "_model_name": "HBoxModel",
      "_view_count": null,
      "_view_module": "@jupyter-widgets/controls",
      "_view_module_version": "1.5.0",
      "_view_name": "HBoxView",
      "box_style": "",
      "children": [
       "IPY_MODEL_75811ee3c0294969a2b37b353ba0bae8",
       "IPY_MODEL_b54625a413ef469da2b65f6b01bfc021",
       "IPY_MODEL_4a7f5ab442aa43d2aea5ce18ea6c2ebb"
      ],
      "layout": "IPY_MODEL_1bc108621e1640e4984c4f6a8a5f7e1c"
     }
    },
    "c85952a476b04e6b900c30b64aa1cb13": {
     "model_module": "@jupyter-widgets/base",
     "model_module_version": "1.2.0",
     "model_name": "LayoutModel",
     "state": {
      "_model_module": "@jupyter-widgets/base",
      "_model_module_version": "1.2.0",
      "_model_name": "LayoutModel",
      "_view_count": null,
      "_view_module": "@jupyter-widgets/base",
      "_view_module_version": "1.2.0",
      "_view_name": "LayoutView",
      "align_content": null,
      "align_items": null,
      "align_self": null,
      "border": null,
      "bottom": null,
      "display": null,
      "flex": null,
      "flex_flow": null,
      "grid_area": null,
      "grid_auto_columns": null,
      "grid_auto_flow": null,
      "grid_auto_rows": null,
      "grid_column": null,
      "grid_gap": null,
      "grid_row": null,
      "grid_template_areas": null,
      "grid_template_columns": null,
      "grid_template_rows": null,
      "height": null,
      "justify_content": null,
      "justify_items": null,
      "left": null,
      "margin": null,
      "max_height": null,
      "max_width": null,
      "min_height": null,
      "min_width": null,
      "object_fit": null,
      "object_position": null,
      "order": null,
      "overflow": null,
      "overflow_x": null,
      "overflow_y": null,
      "padding": null,
      "right": null,
      "top": null,
      "visibility": null,
      "width": null
     }
    },
    "c91673a1663b4ce583d25bb36b9b4b54": {
     "model_module": "@jupyter-widgets/base",
     "model_module_version": "1.2.0",
     "model_name": "LayoutModel",
     "state": {
      "_model_module": "@jupyter-widgets/base",
      "_model_module_version": "1.2.0",
      "_model_name": "LayoutModel",
      "_view_count": null,
      "_view_module": "@jupyter-widgets/base",
      "_view_module_version": "1.2.0",
      "_view_name": "LayoutView",
      "align_content": null,
      "align_items": null,
      "align_self": null,
      "border": null,
      "bottom": null,
      "display": null,
      "flex": null,
      "flex_flow": null,
      "grid_area": null,
      "grid_auto_columns": null,
      "grid_auto_flow": null,
      "grid_auto_rows": null,
      "grid_column": null,
      "grid_gap": null,
      "grid_row": null,
      "grid_template_areas": null,
      "grid_template_columns": null,
      "grid_template_rows": null,
      "height": null,
      "justify_content": null,
      "justify_items": null,
      "left": null,
      "margin": null,
      "max_height": null,
      "max_width": null,
      "min_height": null,
      "min_width": null,
      "object_fit": null,
      "object_position": null,
      "order": null,
      "overflow": null,
      "overflow_x": null,
      "overflow_y": null,
      "padding": null,
      "right": null,
      "top": null,
      "visibility": null,
      "width": null
     }
    },
    "cb899d40195d46d2abc8ccedfead9ea0": {
     "model_module": "@jupyter-widgets/base",
     "model_module_version": "1.2.0",
     "model_name": "LayoutModel",
     "state": {
      "_model_module": "@jupyter-widgets/base",
      "_model_module_version": "1.2.0",
      "_model_name": "LayoutModel",
      "_view_count": null,
      "_view_module": "@jupyter-widgets/base",
      "_view_module_version": "1.2.0",
      "_view_name": "LayoutView",
      "align_content": null,
      "align_items": null,
      "align_self": null,
      "border": null,
      "bottom": null,
      "display": null,
      "flex": null,
      "flex_flow": null,
      "grid_area": null,
      "grid_auto_columns": null,
      "grid_auto_flow": null,
      "grid_auto_rows": null,
      "grid_column": null,
      "grid_gap": null,
      "grid_row": null,
      "grid_template_areas": null,
      "grid_template_columns": null,
      "grid_template_rows": null,
      "height": null,
      "justify_content": null,
      "justify_items": null,
      "left": null,
      "margin": null,
      "max_height": null,
      "max_width": null,
      "min_height": null,
      "min_width": null,
      "object_fit": null,
      "object_position": null,
      "order": null,
      "overflow": null,
      "overflow_x": null,
      "overflow_y": null,
      "padding": null,
      "right": null,
      "top": null,
      "visibility": null,
      "width": null
     }
    },
    "cc0c5363648e4409a5a9b8cac17ac748": {
     "model_module": "@jupyter-widgets/controls",
     "model_module_version": "1.5.0",
     "model_name": "ProgressStyleModel",
     "state": {
      "_model_module": "@jupyter-widgets/controls",
      "_model_module_version": "1.5.0",
      "_model_name": "ProgressStyleModel",
      "_view_count": null,
      "_view_module": "@jupyter-widgets/base",
      "_view_module_version": "1.2.0",
      "_view_name": "StyleView",
      "bar_color": null,
      "description_width": ""
     }
    },
    "cc5bf9b62c0a4587a2471942b4ac14be": {
     "model_module": "@jupyter-widgets/controls",
     "model_module_version": "1.5.0",
     "model_name": "DescriptionStyleModel",
     "state": {
      "_model_module": "@jupyter-widgets/controls",
      "_model_module_version": "1.5.0",
      "_model_name": "DescriptionStyleModel",
      "_view_count": null,
      "_view_module": "@jupyter-widgets/base",
      "_view_module_version": "1.2.0",
      "_view_name": "StyleView",
      "description_width": ""
     }
    },
    "cebc8b1ad82242988bbc5c956109c39f": {
     "model_module": "@jupyter-widgets/controls",
     "model_module_version": "1.5.0",
     "model_name": "FloatProgressModel",
     "state": {
      "_dom_classes": [],
      "_model_module": "@jupyter-widgets/controls",
      "_model_module_version": "1.5.0",
      "_model_name": "FloatProgressModel",
      "_view_count": null,
      "_view_module": "@jupyter-widgets/controls",
      "_view_module_version": "1.5.0",
      "_view_name": "ProgressView",
      "bar_style": "success",
      "description": "",
      "description_tooltip": null,
      "layout": "IPY_MODEL_9d556f96608a4199b913127ec3625a34",
      "max": 1247,
      "min": 0,
      "orientation": "horizontal",
      "style": "IPY_MODEL_116be59b369d4dbb9f54f7b834a7f7b6",
      "value": 1247
     }
    },
    "cfeb396412744761af413db2625f76a7": {
     "model_module": "@jupyter-widgets/controls",
     "model_module_version": "1.5.0",
     "model_name": "DescriptionStyleModel",
     "state": {
      "_model_module": "@jupyter-widgets/controls",
      "_model_module_version": "1.5.0",
      "_model_name": "DescriptionStyleModel",
      "_view_count": null,
      "_view_module": "@jupyter-widgets/base",
      "_view_module_version": "1.2.0",
      "_view_name": "StyleView",
      "description_width": ""
     }
    },
    "d016d9bdeff54fbaac4346aed069c3ad": {
     "model_module": "@jupyter-widgets/controls",
     "model_module_version": "1.5.0",
     "model_name": "DescriptionStyleModel",
     "state": {
      "_model_module": "@jupyter-widgets/controls",
      "_model_module_version": "1.5.0",
      "_model_name": "DescriptionStyleModel",
      "_view_count": null,
      "_view_module": "@jupyter-widgets/base",
      "_view_module_version": "1.2.0",
      "_view_name": "StyleView",
      "description_width": ""
     }
    },
    "d01ad95beb8749698e6b8cf93978689e": {
     "model_module": "@jupyter-widgets/controls",
     "model_module_version": "1.5.0",
     "model_name": "DescriptionStyleModel",
     "state": {
      "_model_module": "@jupyter-widgets/controls",
      "_model_module_version": "1.5.0",
      "_model_name": "DescriptionStyleModel",
      "_view_count": null,
      "_view_module": "@jupyter-widgets/base",
      "_view_module_version": "1.2.0",
      "_view_name": "StyleView",
      "description_width": ""
     }
    },
    "d0cf9ac4767545af8d0d071a65f9600f": {
     "model_module": "@jupyter-widgets/base",
     "model_module_version": "1.2.0",
     "model_name": "LayoutModel",
     "state": {
      "_model_module": "@jupyter-widgets/base",
      "_model_module_version": "1.2.0",
      "_model_name": "LayoutModel",
      "_view_count": null,
      "_view_module": "@jupyter-widgets/base",
      "_view_module_version": "1.2.0",
      "_view_name": "LayoutView",
      "align_content": null,
      "align_items": null,
      "align_self": null,
      "border": null,
      "bottom": null,
      "display": null,
      "flex": null,
      "flex_flow": null,
      "grid_area": null,
      "grid_auto_columns": null,
      "grid_auto_flow": null,
      "grid_auto_rows": null,
      "grid_column": null,
      "grid_gap": null,
      "grid_row": null,
      "grid_template_areas": null,
      "grid_template_columns": null,
      "grid_template_rows": null,
      "height": null,
      "justify_content": null,
      "justify_items": null,
      "left": null,
      "margin": null,
      "max_height": null,
      "max_width": null,
      "min_height": null,
      "min_width": null,
      "object_fit": null,
      "object_position": null,
      "order": null,
      "overflow": null,
      "overflow_x": null,
      "overflow_y": null,
      "padding": null,
      "right": null,
      "top": null,
      "visibility": null,
      "width": null
     }
    },
    "d1ac1f8229074a7c8ad1155fad32c578": {
     "model_module": "@jupyter-widgets/base",
     "model_module_version": "1.2.0",
     "model_name": "LayoutModel",
     "state": {
      "_model_module": "@jupyter-widgets/base",
      "_model_module_version": "1.2.0",
      "_model_name": "LayoutModel",
      "_view_count": null,
      "_view_module": "@jupyter-widgets/base",
      "_view_module_version": "1.2.0",
      "_view_name": "LayoutView",
      "align_content": null,
      "align_items": null,
      "align_self": null,
      "border": null,
      "bottom": null,
      "display": null,
      "flex": null,
      "flex_flow": null,
      "grid_area": null,
      "grid_auto_columns": null,
      "grid_auto_flow": null,
      "grid_auto_rows": null,
      "grid_column": null,
      "grid_gap": null,
      "grid_row": null,
      "grid_template_areas": null,
      "grid_template_columns": null,
      "grid_template_rows": null,
      "height": null,
      "justify_content": null,
      "justify_items": null,
      "left": null,
      "margin": null,
      "max_height": null,
      "max_width": null,
      "min_height": null,
      "min_width": null,
      "object_fit": null,
      "object_position": null,
      "order": null,
      "overflow": null,
      "overflow_x": null,
      "overflow_y": null,
      "padding": null,
      "right": null,
      "top": null,
      "visibility": null,
      "width": null
     }
    },
    "d3920370ef494eec989c1043c1538f27": {
     "model_module": "@jupyter-widgets/controls",
     "model_module_version": "1.5.0",
     "model_name": "ProgressStyleModel",
     "state": {
      "_model_module": "@jupyter-widgets/controls",
      "_model_module_version": "1.5.0",
      "_model_name": "ProgressStyleModel",
      "_view_count": null,
      "_view_module": "@jupyter-widgets/base",
      "_view_module_version": "1.2.0",
      "_view_name": "StyleView",
      "bar_color": null,
      "description_width": ""
     }
    },
    "d3d781b71513440f8b89b06d206eb965": {
     "model_module": "@jupyter-widgets/base",
     "model_module_version": "1.2.0",
     "model_name": "LayoutModel",
     "state": {
      "_model_module": "@jupyter-widgets/base",
      "_model_module_version": "1.2.0",
      "_model_name": "LayoutModel",
      "_view_count": null,
      "_view_module": "@jupyter-widgets/base",
      "_view_module_version": "1.2.0",
      "_view_name": "LayoutView",
      "align_content": null,
      "align_items": null,
      "align_self": null,
      "border": null,
      "bottom": null,
      "display": null,
      "flex": null,
      "flex_flow": null,
      "grid_area": null,
      "grid_auto_columns": null,
      "grid_auto_flow": null,
      "grid_auto_rows": null,
      "grid_column": null,
      "grid_gap": null,
      "grid_row": null,
      "grid_template_areas": null,
      "grid_template_columns": null,
      "grid_template_rows": null,
      "height": null,
      "justify_content": null,
      "justify_items": null,
      "left": null,
      "margin": null,
      "max_height": null,
      "max_width": null,
      "min_height": null,
      "min_width": null,
      "object_fit": null,
      "object_position": null,
      "order": null,
      "overflow": null,
      "overflow_x": null,
      "overflow_y": null,
      "padding": null,
      "right": null,
      "top": null,
      "visibility": null,
      "width": null
     }
    },
    "d4f2ed996dcb408698b1bf71b65bd875": {
     "model_module": "@jupyter-widgets/base",
     "model_module_version": "1.2.0",
     "model_name": "LayoutModel",
     "state": {
      "_model_module": "@jupyter-widgets/base",
      "_model_module_version": "1.2.0",
      "_model_name": "LayoutModel",
      "_view_count": null,
      "_view_module": "@jupyter-widgets/base",
      "_view_module_version": "1.2.0",
      "_view_name": "LayoutView",
      "align_content": null,
      "align_items": null,
      "align_self": null,
      "border": null,
      "bottom": null,
      "display": null,
      "flex": null,
      "flex_flow": null,
      "grid_area": null,
      "grid_auto_columns": null,
      "grid_auto_flow": null,
      "grid_auto_rows": null,
      "grid_column": null,
      "grid_gap": null,
      "grid_row": null,
      "grid_template_areas": null,
      "grid_template_columns": null,
      "grid_template_rows": null,
      "height": null,
      "justify_content": null,
      "justify_items": null,
      "left": null,
      "margin": null,
      "max_height": null,
      "max_width": null,
      "min_height": null,
      "min_width": null,
      "object_fit": null,
      "object_position": null,
      "order": null,
      "overflow": null,
      "overflow_x": null,
      "overflow_y": null,
      "padding": null,
      "right": null,
      "top": null,
      "visibility": null,
      "width": null
     }
    },
    "d558a6b5281549bc809beba12632a6a1": {
     "model_module": "@jupyter-widgets/controls",
     "model_module_version": "1.5.0",
     "model_name": "DescriptionStyleModel",
     "state": {
      "_model_module": "@jupyter-widgets/controls",
      "_model_module_version": "1.5.0",
      "_model_name": "DescriptionStyleModel",
      "_view_count": null,
      "_view_module": "@jupyter-widgets/base",
      "_view_module_version": "1.2.0",
      "_view_name": "StyleView",
      "description_width": ""
     }
    },
    "d6d5dbecc6e64c06880e39c6a88c66dc": {
     "model_module": "@jupyter-widgets/base",
     "model_module_version": "1.2.0",
     "model_name": "LayoutModel",
     "state": {
      "_model_module": "@jupyter-widgets/base",
      "_model_module_version": "1.2.0",
      "_model_name": "LayoutModel",
      "_view_count": null,
      "_view_module": "@jupyter-widgets/base",
      "_view_module_version": "1.2.0",
      "_view_name": "LayoutView",
      "align_content": null,
      "align_items": null,
      "align_self": null,
      "border": null,
      "bottom": null,
      "display": null,
      "flex": null,
      "flex_flow": null,
      "grid_area": null,
      "grid_auto_columns": null,
      "grid_auto_flow": null,
      "grid_auto_rows": null,
      "grid_column": null,
      "grid_gap": null,
      "grid_row": null,
      "grid_template_areas": null,
      "grid_template_columns": null,
      "grid_template_rows": null,
      "height": null,
      "justify_content": null,
      "justify_items": null,
      "left": null,
      "margin": null,
      "max_height": null,
      "max_width": null,
      "min_height": null,
      "min_width": null,
      "object_fit": null,
      "object_position": null,
      "order": null,
      "overflow": null,
      "overflow_x": null,
      "overflow_y": null,
      "padding": null,
      "right": null,
      "top": null,
      "visibility": null,
      "width": null
     }
    },
    "d7a80e674ab64082b0cc0f0a71d72f02": {
     "model_module": "@jupyter-widgets/base",
     "model_module_version": "1.2.0",
     "model_name": "LayoutModel",
     "state": {
      "_model_module": "@jupyter-widgets/base",
      "_model_module_version": "1.2.0",
      "_model_name": "LayoutModel",
      "_view_count": null,
      "_view_module": "@jupyter-widgets/base",
      "_view_module_version": "1.2.0",
      "_view_name": "LayoutView",
      "align_content": null,
      "align_items": null,
      "align_self": null,
      "border": null,
      "bottom": null,
      "display": null,
      "flex": null,
      "flex_flow": null,
      "grid_area": null,
      "grid_auto_columns": null,
      "grid_auto_flow": null,
      "grid_auto_rows": null,
      "grid_column": null,
      "grid_gap": null,
      "grid_row": null,
      "grid_template_areas": null,
      "grid_template_columns": null,
      "grid_template_rows": null,
      "height": null,
      "justify_content": null,
      "justify_items": null,
      "left": null,
      "margin": null,
      "max_height": null,
      "max_width": null,
      "min_height": null,
      "min_width": null,
      "object_fit": null,
      "object_position": null,
      "order": null,
      "overflow": null,
      "overflow_x": null,
      "overflow_y": null,
      "padding": null,
      "right": null,
      "top": null,
      "visibility": null,
      "width": null
     }
    },
    "d7e9caa443694f608d1d4f4c89ed12b8": {
     "model_module": "@jupyter-widgets/controls",
     "model_module_version": "1.5.0",
     "model_name": "ProgressStyleModel",
     "state": {
      "_model_module": "@jupyter-widgets/controls",
      "_model_module_version": "1.5.0",
      "_model_name": "ProgressStyleModel",
      "_view_count": null,
      "_view_module": "@jupyter-widgets/base",
      "_view_module_version": "1.2.0",
      "_view_name": "StyleView",
      "bar_color": null,
      "description_width": ""
     }
    },
    "d8555455c4d24156868f3ac5ca5111bc": {
     "model_module": "@jupyter-widgets/controls",
     "model_module_version": "1.5.0",
     "model_name": "HBoxModel",
     "state": {
      "_dom_classes": [],
      "_model_module": "@jupyter-widgets/controls",
      "_model_module_version": "1.5.0",
      "_model_name": "HBoxModel",
      "_view_count": null,
      "_view_module": "@jupyter-widgets/controls",
      "_view_module_version": "1.5.0",
      "_view_name": "HBoxView",
      "box_style": "",
      "children": [
       "IPY_MODEL_0b8e9b46b9a842038445044dd30febe2",
       "IPY_MODEL_fc4a0ad6b5154d2c81b0c6b8143dc628",
       "IPY_MODEL_bababf12983b4147a1e0c2ccdeaac141"
      ],
      "layout": "IPY_MODEL_40d5d47fa353448e960b9dcfc97b831e"
     }
    },
    "d8e4ad8c47464ca09d598510cde28214": {
     "model_module": "@jupyter-widgets/controls",
     "model_module_version": "1.5.0",
     "model_name": "DescriptionStyleModel",
     "state": {
      "_model_module": "@jupyter-widgets/controls",
      "_model_module_version": "1.5.0",
      "_model_name": "DescriptionStyleModel",
      "_view_count": null,
      "_view_module": "@jupyter-widgets/base",
      "_view_module_version": "1.2.0",
      "_view_name": "StyleView",
      "description_width": ""
     }
    },
    "d907ec9f08224c378e643825102a8b93": {
     "model_module": "@jupyter-widgets/controls",
     "model_module_version": "1.5.0",
     "model_name": "ProgressStyleModel",
     "state": {
      "_model_module": "@jupyter-widgets/controls",
      "_model_module_version": "1.5.0",
      "_model_name": "ProgressStyleModel",
      "_view_count": null,
      "_view_module": "@jupyter-widgets/base",
      "_view_module_version": "1.2.0",
      "_view_name": "StyleView",
      "bar_color": null,
      "description_width": ""
     }
    },
    "dafbf165d76a4e0f8748576e87cf954e": {
     "model_module": "@jupyter-widgets/controls",
     "model_module_version": "1.5.0",
     "model_name": "ProgressStyleModel",
     "state": {
      "_model_module": "@jupyter-widgets/controls",
      "_model_module_version": "1.5.0",
      "_model_name": "ProgressStyleModel",
      "_view_count": null,
      "_view_module": "@jupyter-widgets/base",
      "_view_module_version": "1.2.0",
      "_view_name": "StyleView",
      "bar_color": null,
      "description_width": ""
     }
    },
    "dbeb2dc826a843389973fc6f3b7f08b1": {
     "model_module": "@jupyter-widgets/base",
     "model_module_version": "1.2.0",
     "model_name": "LayoutModel",
     "state": {
      "_model_module": "@jupyter-widgets/base",
      "_model_module_version": "1.2.0",
      "_model_name": "LayoutModel",
      "_view_count": null,
      "_view_module": "@jupyter-widgets/base",
      "_view_module_version": "1.2.0",
      "_view_name": "LayoutView",
      "align_content": null,
      "align_items": null,
      "align_self": null,
      "border": null,
      "bottom": null,
      "display": null,
      "flex": null,
      "flex_flow": null,
      "grid_area": null,
      "grid_auto_columns": null,
      "grid_auto_flow": null,
      "grid_auto_rows": null,
      "grid_column": null,
      "grid_gap": null,
      "grid_row": null,
      "grid_template_areas": null,
      "grid_template_columns": null,
      "grid_template_rows": null,
      "height": null,
      "justify_content": null,
      "justify_items": null,
      "left": null,
      "margin": null,
      "max_height": null,
      "max_width": null,
      "min_height": null,
      "min_width": null,
      "object_fit": null,
      "object_position": null,
      "order": null,
      "overflow": null,
      "overflow_x": null,
      "overflow_y": null,
      "padding": null,
      "right": null,
      "top": null,
      "visibility": null,
      "width": null
     }
    },
    "dd3da799d4b44208aba7be99ce2987bf": {
     "model_module": "@jupyter-widgets/controls",
     "model_module_version": "1.5.0",
     "model_name": "HTMLModel",
     "state": {
      "_dom_classes": [],
      "_model_module": "@jupyter-widgets/controls",
      "_model_module_version": "1.5.0",
      "_model_name": "HTMLModel",
      "_view_count": null,
      "_view_module": "@jupyter-widgets/controls",
      "_view_module_version": "1.5.0",
      "_view_name": "HTMLView",
      "description": "",
      "description_tooltip": null,
      "layout": "IPY_MODEL_20cf337d33b24337bea56af53d27d880",
      "placeholder": "​",
      "style": "IPY_MODEL_4ff9c7d77e8245a882a8d9147ff9d21e",
      "value": "Generating train split: 100%"
     }
    },
    "df6f4b6b644c4d7f93b8ea8e60224a6d": {
     "model_module": "@jupyter-widgets/controls",
     "model_module_version": "1.5.0",
     "model_name": "HTMLModel",
     "state": {
      "_dom_classes": [],
      "_model_module": "@jupyter-widgets/controls",
      "_model_module_version": "1.5.0",
      "_model_name": "HTMLModel",
      "_view_count": null,
      "_view_module": "@jupyter-widgets/controls",
      "_view_module_version": "1.5.0",
      "_view_name": "HTMLView",
      "description": "",
      "description_tooltip": null,
      "layout": "IPY_MODEL_51c2cd252cf5443c849009cf8bb5824d",
      "placeholder": "​",
      "style": "IPY_MODEL_6ca1b93fb08949dca4de9034666375fa",
      "value": " 851/851 [00:00&lt;00:00, 22.3kB/s]"
     }
    },
    "e0946381895648a789a9a02e372cc3a1": {
     "model_module": "@jupyter-widgets/base",
     "model_module_version": "1.2.0",
     "model_name": "LayoutModel",
     "state": {
      "_model_module": "@jupyter-widgets/base",
      "_model_module_version": "1.2.0",
      "_model_name": "LayoutModel",
      "_view_count": null,
      "_view_module": "@jupyter-widgets/base",
      "_view_module_version": "1.2.0",
      "_view_name": "LayoutView",
      "align_content": null,
      "align_items": null,
      "align_self": null,
      "border": null,
      "bottom": null,
      "display": null,
      "flex": null,
      "flex_flow": null,
      "grid_area": null,
      "grid_auto_columns": null,
      "grid_auto_flow": null,
      "grid_auto_rows": null,
      "grid_column": null,
      "grid_gap": null,
      "grid_row": null,
      "grid_template_areas": null,
      "grid_template_columns": null,
      "grid_template_rows": null,
      "height": null,
      "justify_content": null,
      "justify_items": null,
      "left": null,
      "margin": null,
      "max_height": null,
      "max_width": null,
      "min_height": null,
      "min_width": null,
      "object_fit": null,
      "object_position": null,
      "order": null,
      "overflow": null,
      "overflow_x": null,
      "overflow_y": null,
      "padding": null,
      "right": null,
      "top": null,
      "visibility": null,
      "width": null
     }
    },
    "e09ae2ca606e4db19f52890136684c41": {
     "model_module": "@jupyter-widgets/base",
     "model_module_version": "1.2.0",
     "model_name": "LayoutModel",
     "state": {
      "_model_module": "@jupyter-widgets/base",
      "_model_module_version": "1.2.0",
      "_model_name": "LayoutModel",
      "_view_count": null,
      "_view_module": "@jupyter-widgets/base",
      "_view_module_version": "1.2.0",
      "_view_name": "LayoutView",
      "align_content": null,
      "align_items": null,
      "align_self": null,
      "border": null,
      "bottom": null,
      "display": null,
      "flex": null,
      "flex_flow": null,
      "grid_area": null,
      "grid_auto_columns": null,
      "grid_auto_flow": null,
      "grid_auto_rows": null,
      "grid_column": null,
      "grid_gap": null,
      "grid_row": null,
      "grid_template_areas": null,
      "grid_template_columns": null,
      "grid_template_rows": null,
      "height": null,
      "justify_content": null,
      "justify_items": null,
      "left": null,
      "margin": null,
      "max_height": null,
      "max_width": null,
      "min_height": null,
      "min_width": null,
      "object_fit": null,
      "object_position": null,
      "order": null,
      "overflow": null,
      "overflow_x": null,
      "overflow_y": null,
      "padding": null,
      "right": null,
      "top": null,
      "visibility": null,
      "width": null
     }
    },
    "e0f8f0e8966d4ac999d14109ec3e4248": {
     "model_module": "@jupyter-widgets/controls",
     "model_module_version": "1.5.0",
     "model_name": "DescriptionStyleModel",
     "state": {
      "_model_module": "@jupyter-widgets/controls",
      "_model_module_version": "1.5.0",
      "_model_name": "DescriptionStyleModel",
      "_view_count": null,
      "_view_module": "@jupyter-widgets/base",
      "_view_module_version": "1.2.0",
      "_view_name": "StyleView",
      "description_width": ""
     }
    },
    "e4361b8dd7e147feb5897cce67a955b0": {
     "model_module": "@jupyter-widgets/controls",
     "model_module_version": "1.5.0",
     "model_name": "HTMLModel",
     "state": {
      "_dom_classes": [],
      "_model_module": "@jupyter-widgets/controls",
      "_model_module_version": "1.5.0",
      "_model_name": "HTMLModel",
      "_view_count": null,
      "_view_module": "@jupyter-widgets/controls",
      "_view_module_version": "1.5.0",
      "_view_name": "HTMLView",
      "description": "",
      "description_tooltip": null,
      "layout": "IPY_MODEL_395b83c008ab4642a39f9dd09fc4d95d",
      "placeholder": "​",
      "style": "IPY_MODEL_e0f8f0e8966d4ac999d14109ec3e4248",
      "value": " 439/439 [00:00&lt;00:00, 4.78kB/s]"
     }
    },
    "e4e26b7095d84eeca16cea3513caa42a": {
     "model_module": "@jupyter-widgets/controls",
     "model_module_version": "1.5.0",
     "model_name": "HTMLModel",
     "state": {
      "_dom_classes": [],
      "_model_module": "@jupyter-widgets/controls",
      "_model_module_version": "1.5.0",
      "_model_name": "HTMLModel",
      "_view_count": null,
      "_view_module": "@jupyter-widgets/controls",
      "_view_module_version": "1.5.0",
      "_view_name": "HTMLView",
      "description": "",
      "description_tooltip": null,
      "layout": "IPY_MODEL_cb899d40195d46d2abc8ccedfead9ea0",
      "placeholder": "​",
      "style": "IPY_MODEL_3343a2be097148fe9001a79283375bec",
      "value": "model-00001-of-00004.safetensors: 100%"
     }
    },
    "e57ba7e0d3374e3bbae175d3aa9f91da": {
     "model_module": "@jupyter-widgets/controls",
     "model_module_version": "1.5.0",
     "model_name": "HBoxModel",
     "state": {
      "_dom_classes": [],
      "_model_module": "@jupyter-widgets/controls",
      "_model_module_version": "1.5.0",
      "_model_name": "HBoxModel",
      "_view_count": null,
      "_view_module": "@jupyter-widgets/controls",
      "_view_module_version": "1.5.0",
      "_view_name": "HBoxView",
      "box_style": "",
      "children": [
       "IPY_MODEL_93160c69f8304c57a85cdf9c782ac8c9",
       "IPY_MODEL_e87c1e8065744b89bfc51f5a30ceabf1",
       "IPY_MODEL_389de3a4a6ed4661bcae51f34d842bd2"
      ],
      "layout": "IPY_MODEL_c3f8b39746474c0f872f28da894f7f6e"
     }
    },
    "e71c293113e14f69a9eb84d9fee97a66": {
     "model_module": "@jupyter-widgets/base",
     "model_module_version": "1.2.0",
     "model_name": "LayoutModel",
     "state": {
      "_model_module": "@jupyter-widgets/base",
      "_model_module_version": "1.2.0",
      "_model_name": "LayoutModel",
      "_view_count": null,
      "_view_module": "@jupyter-widgets/base",
      "_view_module_version": "1.2.0",
      "_view_name": "LayoutView",
      "align_content": null,
      "align_items": null,
      "align_self": null,
      "border": null,
      "bottom": null,
      "display": null,
      "flex": null,
      "flex_flow": null,
      "grid_area": null,
      "grid_auto_columns": null,
      "grid_auto_flow": null,
      "grid_auto_rows": null,
      "grid_column": null,
      "grid_gap": null,
      "grid_row": null,
      "grid_template_areas": null,
      "grid_template_columns": null,
      "grid_template_rows": null,
      "height": null,
      "justify_content": null,
      "justify_items": null,
      "left": null,
      "margin": null,
      "max_height": null,
      "max_width": null,
      "min_height": null,
      "min_width": null,
      "object_fit": null,
      "object_position": null,
      "order": null,
      "overflow": null,
      "overflow_x": null,
      "overflow_y": null,
      "padding": null,
      "right": null,
      "top": null,
      "visibility": null,
      "width": null
     }
    },
    "e81af02cc85b4be4a168ceb158fce142": {
     "model_module": "@jupyter-widgets/base",
     "model_module_version": "1.2.0",
     "model_name": "LayoutModel",
     "state": {
      "_model_module": "@jupyter-widgets/base",
      "_model_module_version": "1.2.0",
      "_model_name": "LayoutModel",
      "_view_count": null,
      "_view_module": "@jupyter-widgets/base",
      "_view_module_version": "1.2.0",
      "_view_name": "LayoutView",
      "align_content": null,
      "align_items": null,
      "align_self": null,
      "border": null,
      "bottom": null,
      "display": null,
      "flex": null,
      "flex_flow": null,
      "grid_area": null,
      "grid_auto_columns": null,
      "grid_auto_flow": null,
      "grid_auto_rows": null,
      "grid_column": null,
      "grid_gap": null,
      "grid_row": null,
      "grid_template_areas": null,
      "grid_template_columns": null,
      "grid_template_rows": null,
      "height": null,
      "justify_content": null,
      "justify_items": null,
      "left": null,
      "margin": null,
      "max_height": null,
      "max_width": null,
      "min_height": null,
      "min_width": null,
      "object_fit": null,
      "object_position": null,
      "order": null,
      "overflow": null,
      "overflow_x": null,
      "overflow_y": null,
      "padding": null,
      "right": null,
      "top": null,
      "visibility": null,
      "width": "20px"
     }
    },
    "e87c1e8065744b89bfc51f5a30ceabf1": {
     "model_module": "@jupyter-widgets/controls",
     "model_module_version": "1.5.0",
     "model_name": "FloatProgressModel",
     "state": {
      "_dom_classes": [],
      "_model_module": "@jupyter-widgets/controls",
      "_model_module_version": "1.5.0",
      "_model_name": "FloatProgressModel",
      "_view_count": null,
      "_view_module": "@jupyter-widgets/controls",
      "_view_module_version": "1.5.0",
      "_view_name": "ProgressView",
      "bar_style": "success",
      "description": "",
      "description_tooltip": null,
      "layout": "IPY_MODEL_d1ac1f8229074a7c8ad1155fad32c578",
      "max": 4019988,
      "min": 0,
      "orientation": "horizontal",
      "style": "IPY_MODEL_b3d4cd09e38a4682be0dfc867de2e181",
      "value": 4019988
     }
    },
    "ec044741f0b5469eaa41145e9870b5c2": {
     "model_module": "@jupyter-widgets/controls",
     "model_module_version": "1.5.0",
     "model_name": "HTMLModel",
     "state": {
      "_dom_classes": [],
      "_model_module": "@jupyter-widgets/controls",
      "_model_module_version": "1.5.0",
      "_model_name": "HTMLModel",
      "_view_count": null,
      "_view_module": "@jupyter-widgets/controls",
      "_view_module_version": "1.5.0",
      "_view_name": "HTMLView",
      "description": "",
      "description_tooltip": null,
      "layout": "IPY_MODEL_5dd3ba764b724acf993e8aea3a6ebfa4",
      "placeholder": "​",
      "style": "IPY_MODEL_fa4ce34da1a24b55ad2bc85cbc0a41e4",
      "value": " 4.92G/4.92G [01:56&lt;00:00, 41.9MB/s]"
     }
    },
    "ee605d08dbb3412a87091c87fe7628ab": {
     "model_module": "@jupyter-widgets/controls",
     "model_module_version": "1.5.0",
     "model_name": "DescriptionStyleModel",
     "state": {
      "_model_module": "@jupyter-widgets/controls",
      "_model_module_version": "1.5.0",
      "_model_name": "DescriptionStyleModel",
      "_view_count": null,
      "_view_module": "@jupyter-widgets/base",
      "_view_module_version": "1.2.0",
      "_view_name": "StyleView",
      "description_width": ""
     }
    },
    "f5596dbd847149bc8fd11664e9c7cce8": {
     "model_module": "@jupyter-widgets/controls",
     "model_module_version": "1.5.0",
     "model_name": "FloatProgressModel",
     "state": {
      "_dom_classes": [],
      "_model_module": "@jupyter-widgets/controls",
      "_model_module_version": "1.5.0",
      "_model_name": "FloatProgressModel",
      "_view_count": null,
      "_view_module": "@jupyter-widgets/controls",
      "_view_module_version": "1.5.0",
      "_view_name": "ProgressView",
      "bar_style": "success",
      "description": "",
      "description_tooltip": null,
      "layout": "IPY_MODEL_b267f6893bbd44cf95a72e72faf6489a",
      "max": 4999802720,
      "min": 0,
      "orientation": "horizontal",
      "style": "IPY_MODEL_41aef900502c4652be6ed4f9d7769270",
      "value": 4999802720
     }
    },
    "f68f4bae209e40b79586121eedcfea7b": {
     "model_module": "@jupyter-widgets/base",
     "model_module_version": "1.2.0",
     "model_name": "LayoutModel",
     "state": {
      "_model_module": "@jupyter-widgets/base",
      "_model_module_version": "1.2.0",
      "_model_name": "LayoutModel",
      "_view_count": null,
      "_view_module": "@jupyter-widgets/base",
      "_view_module_version": "1.2.0",
      "_view_name": "LayoutView",
      "align_content": null,
      "align_items": null,
      "align_self": null,
      "border": null,
      "bottom": null,
      "display": null,
      "flex": null,
      "flex_flow": null,
      "grid_area": null,
      "grid_auto_columns": null,
      "grid_auto_flow": null,
      "grid_auto_rows": null,
      "grid_column": null,
      "grid_gap": null,
      "grid_row": null,
      "grid_template_areas": null,
      "grid_template_columns": null,
      "grid_template_rows": null,
      "height": null,
      "justify_content": null,
      "justify_items": null,
      "left": null,
      "margin": null,
      "max_height": null,
      "max_width": null,
      "min_height": null,
      "min_width": null,
      "object_fit": null,
      "object_position": null,
      "order": null,
      "overflow": null,
      "overflow_x": null,
      "overflow_y": null,
      "padding": null,
      "right": null,
      "top": null,
      "visibility": null,
      "width": null
     }
    },
    "f9fdf6c1bdfd408cbf5cca33ff7d8aed": {
     "model_module": "@jupyter-widgets/controls",
     "model_module_version": "1.5.0",
     "model_name": "ProgressStyleModel",
     "state": {
      "_model_module": "@jupyter-widgets/controls",
      "_model_module_version": "1.5.0",
      "_model_name": "ProgressStyleModel",
      "_view_count": null,
      "_view_module": "@jupyter-widgets/base",
      "_view_module_version": "1.2.0",
      "_view_name": "StyleView",
      "bar_color": null,
      "description_width": ""
     }
    },
    "fa4ce34da1a24b55ad2bc85cbc0a41e4": {
     "model_module": "@jupyter-widgets/controls",
     "model_module_version": "1.5.0",
     "model_name": "DescriptionStyleModel",
     "state": {
      "_model_module": "@jupyter-widgets/controls",
      "_model_module_version": "1.5.0",
      "_model_name": "DescriptionStyleModel",
      "_view_count": null,
      "_view_module": "@jupyter-widgets/base",
      "_view_module_version": "1.2.0",
      "_view_name": "StyleView",
      "description_width": ""
     }
    },
    "fc4880f22014439ebe7f1e11436de4cb": {
     "model_module": "@jupyter-widgets/base",
     "model_module_version": "1.2.0",
     "model_name": "LayoutModel",
     "state": {
      "_model_module": "@jupyter-widgets/base",
      "_model_module_version": "1.2.0",
      "_model_name": "LayoutModel",
      "_view_count": null,
      "_view_module": "@jupyter-widgets/base",
      "_view_module_version": "1.2.0",
      "_view_name": "LayoutView",
      "align_content": null,
      "align_items": null,
      "align_self": null,
      "border": null,
      "bottom": null,
      "display": null,
      "flex": null,
      "flex_flow": null,
      "grid_area": null,
      "grid_auto_columns": null,
      "grid_auto_flow": null,
      "grid_auto_rows": null,
      "grid_column": null,
      "grid_gap": null,
      "grid_row": null,
      "grid_template_areas": null,
      "grid_template_columns": null,
      "grid_template_rows": null,
      "height": null,
      "justify_content": null,
      "justify_items": null,
      "left": null,
      "margin": null,
      "max_height": null,
      "max_width": null,
      "min_height": null,
      "min_width": null,
      "object_fit": null,
      "object_position": null,
      "order": null,
      "overflow": null,
      "overflow_x": null,
      "overflow_y": null,
      "padding": null,
      "right": null,
      "top": null,
      "visibility": null,
      "width": null
     }
    },
    "fc492d02f3b7475f8ca572ac881840db": {
     "model_module": "@jupyter-widgets/controls",
     "model_module_version": "1.5.0",
     "model_name": "DescriptionStyleModel",
     "state": {
      "_model_module": "@jupyter-widgets/controls",
      "_model_module_version": "1.5.0",
      "_model_name": "DescriptionStyleModel",
      "_view_count": null,
      "_view_module": "@jupyter-widgets/base",
      "_view_module_version": "1.2.0",
      "_view_name": "StyleView",
      "description_width": ""
     }
    },
    "fc4a0ad6b5154d2c81b0c6b8143dc628": {
     "model_module": "@jupyter-widgets/controls",
     "model_module_version": "1.5.0",
     "model_name": "FloatProgressModel",
     "state": {
      "_dom_classes": [],
      "_model_module": "@jupyter-widgets/controls",
      "_model_module_version": "1.5.0",
      "_model_name": "FloatProgressModel",
      "_view_count": null,
      "_view_module": "@jupyter-widgets/controls",
      "_view_module_version": "1.5.0",
      "_view_name": "ProgressView",
      "bar_style": "success",
      "description": "",
      "description_tooltip": null,
      "layout": "IPY_MODEL_e09ae2ca606e4db19f52890136684c41",
      "max": 4,
      "min": 0,
      "orientation": "horizontal",
      "style": "IPY_MODEL_f9fdf6c1bdfd408cbf5cca33ff7d8aed",
      "value": 4
     }
    },
    "fc7c3927f1c44733a77a85dbd9ff5cae": {
     "model_module": "@jupyter-widgets/base",
     "model_module_version": "1.2.0",
     "model_name": "LayoutModel",
     "state": {
      "_model_module": "@jupyter-widgets/base",
      "_model_module_version": "1.2.0",
      "_model_name": "LayoutModel",
      "_view_count": null,
      "_view_module": "@jupyter-widgets/base",
      "_view_module_version": "1.2.0",
      "_view_name": "LayoutView",
      "align_content": null,
      "align_items": null,
      "align_self": null,
      "border": null,
      "bottom": null,
      "display": null,
      "flex": null,
      "flex_flow": null,
      "grid_area": null,
      "grid_auto_columns": null,
      "grid_auto_flow": null,
      "grid_auto_rows": null,
      "grid_column": null,
      "grid_gap": null,
      "grid_row": null,
      "grid_template_areas": null,
      "grid_template_columns": null,
      "grid_template_rows": null,
      "height": null,
      "justify_content": null,
      "justify_items": null,
      "left": null,
      "margin": null,
      "max_height": null,
      "max_width": null,
      "min_height": null,
      "min_width": null,
      "object_fit": null,
      "object_position": null,
      "order": null,
      "overflow": null,
      "overflow_x": null,
      "overflow_y": null,
      "padding": null,
      "right": null,
      "top": null,
      "visibility": null,
      "width": null
     }
    }
   }
  }
 },
 "nbformat": 4,
 "nbformat_minor": 4
}
